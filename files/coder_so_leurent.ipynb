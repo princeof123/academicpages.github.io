{
 "cells": [
  {
   "cell_type": "code",
   "execution_count": 1,
   "metadata": {},
   "outputs": [
    {
     "data": {
      "text/html": [
       "<style>.container{width:auto!important;}\n",
       " .output_area img{width:auto!important;}\n",
       " .rendered_html img{width:auto!important;}</style>"
      ],
      "text/plain": [
       "<IPython.core.display.HTML object>"
      ]
     },
     "metadata": {},
     "output_type": "display_data"
    }
   ],
   "source": [
    "from IPython.display import display, Markdown, HTML\n",
    "display(HTML(r\"\"\"<style>.container{width:auto!important;}\n",
    " .output_area img{width:auto!important;}\n",
    " .rendered_html img{width:auto!important;}</style>\"\"\"))"
   ]
  },
  {
   "cell_type": "code",
   "execution_count": 2,
   "metadata": {
    "scrolled": true
   },
   "outputs": [],
   "source": [
    "%load_ext autoreload\n",
    "%autoreload 2"
   ]
  },
  {
   "cell_type": "code",
   "execution_count": 3,
   "metadata": {},
   "outputs": [],
   "source": [
    "import coder_so\n",
    "from coder_so import formal, g"
   ]
  },
  {
   "cell_type": "markdown",
   "metadata": {},
   "source": [
    "## Leading order"
   ]
  },
  {
   "cell_type": "markdown",
   "metadata": {},
   "source": [
    "UIse equations (8.15), (8.29), (7.5), (5.17) of [2008.04336](http://localhost:8888/files/git/darak_leurent/biblio/QQ-system%20and%20Weyl-type%20transfer%20matrices%20in%20integrable%20SO(2r)%20spin%20chains.pdf)"
   ]
  },
  {
   "cell_type": "markdown",
   "metadata": {},
   "source": [
    "As seen below, for antisym, the leading order of T-operators is given by a generating series which is the inverse of the generating series of symmetric so characters ie $$\\frac 1 {1-z^2}\\prod_{i=1}^r\\left((1-z\\,x_i)(1-z\\,x_{-i})\\right)$$"
   ]
  },
  {
   "cell_type": "code",
   "execution_count": null,
   "metadata": {},
   "outputs": [],
   "source": [
    "r=5;a=5\n",
    "A=(coder_so.LeadingT(a=a,s=1,r=r,random=\"Q\")-sum(coder_so.chi(a=k,s=1,r=r) for k in range(a%2,a+1,2)))\n",
    "coder_so.formal.randsubs(A,dtype=\"Q\")"
   ]
  },
  {
   "cell_type": "markdown",
   "metadata": {},
   "source": [
    "## Tmp for Yangian"
   ]
  },
  {
   "cell_type": "code",
   "execution_count": 6,
   "metadata": {},
   "outputs": [
    {
     "data": {
      "text/plain": [
       "[u**2 - 1, u**2 + 2*u + 1, u**2 - 2*u + 1, u**2 - 1]"
      ]
     },
     "execution_count": 6,
     "metadata": {},
     "output_type": "execute_result"
    }
   ],
   "source": [
    "coder_so.symweights(s=2,r=2)#,check214=True)"
   ]
  },
  {
   "cell_type": "markdown",
   "metadata": {},
   "source": [
    "How the function `Lprod.sort` works at the moment:\n",
    "* only commutations of $H$ with $H$ can be complicated\n",
    "* $[H_{a,b},H_{c,d}]$ is easy if $a+c\\neq0$ and $b+d\\neq0$\n",
    "* $[H_{a,b},H_{-a,d}]$ and $[H_{a,b},H_{c,-b}]$ are done via a matrix. Out of the two ways to write the matrix (from either $[H_{a,b},H_{-a,d}]$ or $-[H_{-a,d},H_{a,b}]$), it seems that one of them is invertible\n",
    "* for $[H_{a,b},H_{-a,-b}]$, I have no idea of how to produce an invertible matrix. Thus the program writes all possible commutation relations (leading to an overdetermined system), and finds a solution by using a left inverse of the matrix of the linear system (works provided the linear system is indeed overdetermined). The left inverse of `M` that it uses is `(M.T*M).inv()*(M.T)`."
   ]
  },
  {
   "cell_type": "code",
   "execution_count": 4,
   "metadata": {},
   "outputs": [],
   "source": [
    "%run Data_For_a2s1r3.py"
   ]
  },
  {
   "cell_type": "code",
   "execution_count": 5,
   "metadata": {},
   "outputs": [],
   "source": [
    "%run remember.py"
   ]
  },
  {
   "cell_type": "code",
   "execution_count": 4,
   "metadata": {},
   "outputs": [
    {
     "name": "stdout",
     "output_type": "stream",
     "text": [
      "computing coordinates of  G₋₃,₁|0>\n",
      "  computed coordinates matrix for  G₋₃,₁|0>\n",
      "  linearly independent\n",
      "  ->   [|0>, G₋₃,₁|0>]\n",
      "  flushed  Yangian_irrep.kept_free\n",
      "G₋₃,₁|0>  done in 0.0089 s\n",
      "computing coordinates of  G₋₃,₂|0>\n",
      "  computed coordinates matrix for  G₋₃,₂|0>\n",
      "  linearly independent\n",
      "  ->   [|0>, G₋₃,₁|0>, G₋₃,₂|0>]\n",
      "  flushed  Yangian_irrep.kept_free\n",
      "G₋₃,₂|0>  done in 0.0085 s\n",
      "computing coordinates of  G₋₂,₁|0>\n",
      "   G₋₂,₁|0> =0\n",
      "G₋₂,₁|0>  done in 0.0078 s\n",
      "computing coordinates of  G₁,₋₃|0>\n",
      "  computed coordinates matrix for  G₁,₋₃|0>\n",
      "G₁,₋₃|0>  done in 0.0093 s\n",
      "computing coordinates of  G₁,₋₂|0>\n",
      "   G₁,₋₂|0> =0\n",
      "G₁,₋₂|0>  done in 0.0078 s\n",
      "computing coordinates of  G₁,₁|0>\n",
      "   G₁,₁|0> =0\n",
      "G₁,₁|0>  done in 0.0078 s\n",
      "computing coordinates of  G₁,₂|0>\n",
      "  computed coordinates matrix for  G₁,₂|0>\n",
      "  linearly independent\n",
      "  ->   [|0>, G₋₃,₁|0>, G₋₃,₂|0>, G₁,₂|0>]\n",
      "  flushed  Yangian_irrep.kept_free\n",
      "G₁,₂|0>  done in 0.0084 s\n",
      "computing coordinates of  G₁,₃|0>\n",
      "  computed coordinates matrix for  G₁,₃|0>\n",
      "  linearly independent\n",
      "  ->   [|0>, G₋₃,₁|0>, G₋₃,₂|0>, G₁,₂|0>, G₁,₃|0>]\n",
      "  flushed  Yangian_irrep.kept_free\n",
      "G₁,₃|0>  done in 0.0084 s\n",
      "computing coordinates of  G₂,₋₃|0>\n",
      "  computed coordinates matrix for  G₂,₋₃|0>\n",
      "G₂,₋₃|0>  done in 0.0095 s\n",
      "computing coordinates of  G₂,₁|0>\n",
      "  computed coordinates matrix for  G₂,₁|0>\n",
      "G₂,₁|0>  done in 0.0094 s\n",
      "computing coordinates of  G₂,₂|0>\n",
      "   G₂,₂|0> =0\n",
      "G₂,₂|0>  done in 0.008 s\n",
      "computing coordinates of  G₂,₃|0>\n",
      "  computed coordinates matrix for  G₂,₃|0>\n",
      "  linearly independent\n",
      "  ->   [|0>, G₋₃,₁|0>, G₋₃,₂|0>, G₁,₂|0>, G₁,₃|0>, G₂,₃|0>]\n",
      "  flushed  Yangian_irrep.kept_free\n",
      "G₂,₃|0>  done in 0.0086 s\n",
      "computing coordinates of  G₃,₁|0>\n",
      "  computed coordinates matrix for  G₃,₁|0>\n",
      "G₃,₁|0>  done in 0.017 s\n",
      "computing coordinates of  G₃,₂|0>\n",
      "  computed coordinates matrix for  G₃,₂|0>\n",
      "G₃,₂|0>  done in 0.0099 s\n",
      "computing coordinates of  G₃,₃|0>\n",
      "   G₃,₃|0> =0\n",
      "G₃,₃|0>  done in 0.0079 s\n",
      "computing coordinates of  G₋₃,₁G₋₃,₁|0>\n",
      "   G₋₃,₁G₋₃,₁|0> =0\n",
      "G₋₃,₁G₋₃,₁|0>  done in 0.0114 s\n",
      "computing coordinates of  G₋₃,₂G₋₃,₁|0>\n",
      "   G₋₃,₂G₋₃,₁|0> =0\n",
      "G₋₃,₂G₋₃,₁|0>  done in 0.0116 s\n",
      "computing coordinates of  G₋₂,₁G₋₃,₁|0>\n",
      "   G₋₂,₁G₋₃,₁|0> =0\n",
      "G₋₂,₁G₋₃,₁|0>  done in 0.0119 s\n",
      "computing coordinates of  G₁,₋₃G₋₃,₁|0>\n",
      "   G₁,₋₃G₋₃,₁|0> =0\n",
      "G₁,₋₃G₋₃,₁|0>  done in 0.0123 s\n",
      "computing coordinates of  G₁,₋₂G₋₃,₁|0>\n",
      "   G₁,₋₂G₋₃,₁|0> =0\n",
      "G₁,₋₂G₋₃,₁|0>  done in 0.0123 s\n",
      "computing coordinates of  G₁,₁G₋₃,₁|0>\n",
      "   G₁,₁G₋₃,₁|0> =0\n",
      "G₁,₁G₋₃,₁|0>  done in 0.0129 s\n",
      "computing coordinates of  G₁,₂G₋₃,₁|0>\n",
      "  computed coordinates matrix for  G₁,₂G₋₃,₁|0>\n",
      "  linearly independent\n",
      "  ->   [|0>, G₋₃,₁|0>, G₋₃,₂|0>, G₁,₂|0>, G₁,₃|0>, G₂,₃|0>, G₁,₂G₋₃,₁|0>]\n",
      "  flushed  Yangian_irrep.kept_free\n",
      "G₁,₂G₋₃,₁|0>  done in 0.0157 s\n",
      "computing coordinates of  G₁,₃G₋₃,₁|0>\n",
      "  computed coordinates matrix for  G₁,₃G₋₃,₁|0>\n",
      "  linearly independent\n",
      "  ->   [|0>, G₋₃,₁|0>, G₋₃,₂|0>, G₁,₂|0>, G₁,₃|0>, G₂,₃|0>, G₁,₂G₋₃,₁|0>, G₁,₃G₋₃,₁|0>]\n",
      "  flushed  Yangian_irrep.kept_free\n",
      "G₁,₃G₋₃,₁|0>  done in 0.016 s\n",
      "computing coordinates of  G₂,₋₃G₋₃,₁|0>\n",
      "   G₂,₋₃G₋₃,₁|0> =0\n",
      "G₂,₋₃G₋₃,₁|0>  done in 0.0127 s\n",
      "computing coordinates of  G₂,₁G₋₃,₁|0>\n",
      "  computed coordinates matrix for  G₂,₁G₋₃,₁|0>\n",
      "G₂,₁G₋₃,₁|0>  done in 0.0147 s\n",
      "computing coordinates of  G₂,₂G₋₃,₁|0>\n",
      "   G₂,₂G₋₃,₁|0> =0\n",
      "G₂,₂G₋₃,₁|0>  done in 0.0184 s\n",
      "computing coordinates of  G₂,₃G₋₃,₁|0>\n",
      "  computed coordinates matrix for  G₂,₃G₋₃,₁|0>\n",
      "  linearly independent\n",
      "  ->   [|0>, G₋₃,₁|0>, G₋₃,₂|0>, G₁,₂|0>, G₁,₃|0>, G₂,₃|0>, G₁,₂G₋₃,₁|0>, G₁,₃G₋₃,₁|0>, G₂,₃G₋₃,₁|0>]\n",
      "  flushed  Yangian_irrep.kept_free\n",
      "G₂,₃G₋₃,₁|0>  done in 0.015 s\n",
      "computing coordinates of  G₃,₁G₋₃,₁|0>\n",
      "  computed coordinates matrix for  G₃,₁G₋₃,₁|0>\n",
      "G₃,₁G₋₃,₁|0>  done in 0.0157 s\n",
      "computing coordinates of  G₃,₂G₋₃,₁|0>\n",
      "  computed coordinates matrix for  G₃,₂G₋₃,₁|0>\n",
      "G₃,₂G₋₃,₁|0>  done in 0.0156 s\n",
      "computing coordinates of  G₃,₃G₋₃,₁|0>\n",
      "   G₃,₃G₋₃,₁|0> =0\n",
      "G₃,₃G₋₃,₁|0>  done in 0.0132 s\n",
      "computing coordinates of  G₋₃,₁G₋₃,₂|0>\n",
      "   G₋₃,₁G₋₃,₂|0> =0\n",
      "G₋₃,₁G₋₃,₂|0>  done in 0.0125 s\n",
      "computing coordinates of  G₋₃,₂G₋₃,₂|0>\n",
      "   G₋₃,₂G₋₃,₂|0> =0\n",
      "G₋₃,₂G₋₃,₂|0>  done in 0.0124 s\n",
      "computing coordinates of  G₋₂,₁G₋₃,₂|0>\n",
      "  computed coordinates matrix for  G₋₂,₁G₋₃,₂|0>\n",
      "G₋₂,₁G₋₃,₂|0>  done in 0.0148 s\n",
      "computing coordinates of  G₁,₋₃G₋₃,₂|0>\n",
      "   G₁,₋₃G₋₃,₂|0> =0\n",
      "G₁,₋₃G₋₃,₂|0>  done in 0.019 s\n",
      "computing coordinates of  G₁,₋₂G₋₃,₂|0>\n",
      "  computed coordinates matrix for  G₁,₋₂G₋₃,₂|0>\n",
      "G₁,₋₂G₋₃,₂|0>  done in 0.0189 s\n",
      "computing coordinates of  G₁,₁G₋₃,₂|0>\n",
      "   G₁,₁G₋₃,₂|0> =0\n",
      "G₁,₁G₋₃,₂|0>  done in 0.0163 s\n",
      "computing coordinates of  G₁,₂G₋₃,₂|0>\n",
      "  computed coordinates matrix for  G₁,₂G₋₃,₂|0>\n",
      "  linearly independent\n",
      "  ->   [|0>, G₋₃,₁|0>, G₋₃,₂|0>, G₁,₂|0>, G₁,₃|0>, G₂,₃|0>, G₁,₂G₋₃,₁|0>, G₁,₃G₋₃,₁|0>, G₂,₃G₋₃,₁|0>, G₁,₂G₋₃,₂|0>]\n",
      "  flushed  Yangian_irrep.kept_free\n",
      "G₁,₂G₋₃,₂|0>  done in 0.0218 s\n",
      "computing coordinates of  G₁,₃G₋₃,₂|0>\n",
      "  computed coordinates matrix for  G₁,₃G₋₃,₂|0>\n",
      "  linearly independent\n",
      "  ->   [|0>, G₋₃,₁|0>, G₋₃,₂|0>, G₁,₂|0>, G₁,₃|0>, G₂,₃|0>, G₁,₂G₋₃,₁|0>, G₁,₃G₋₃,₁|0>, G₂,₃G₋₃,₁|0>, G₁,₂G₋₃,₂|0>, G₁,₃G₋₃,₂|0>]\n",
      "  flushed  Yangian_irrep.kept_free\n",
      "G₁,₃G₋₃,₂|0>  done in 0.014 s\n",
      "computing coordinates of  G₂,₋₃G₋₃,₂|0>\n",
      "   G₂,₋₃G₋₃,₂|0> =0\n",
      "G₂,₋₃G₋₃,₂|0>  done in 0.0117 s\n",
      "computing coordinates of  G₂,₁G₋₃,₂|0>\n",
      "  computed coordinates matrix for  G₂,₁G₋₃,₂|0>\n",
      "G₂,₁G₋₃,₂|0>  done in 0.0152 s\n",
      "computing coordinates of  G₂,₂G₋₃,₂|0>\n",
      "   G₂,₂G₋₃,₂|0> =0\n",
      "G₂,₂G₋₃,₂|0>  done in 0.012 s\n",
      "computing coordinates of  G₂,₃G₋₃,₂|0>\n",
      "  computed coordinates matrix for  G₂,₃G₋₃,₂|0>\n",
      "  linearly independent\n",
      "  ->   [|0>, G₋₃,₁|0>, G₋₃,₂|0>, G₁,₂|0>, G₁,₃|0>, G₂,₃|0>, G₁,₂G₋₃,₁|0>, G₁,₃G₋₃,₁|0>, G₂,₃G₋₃,₁|0>, G₁,₂G₋₃,₂|0>, G₁,₃G₋₃,₂|0>, G₂,₃G₋₃,₂|0>]\n",
      "  flushed  Yangian_irrep.kept_free\n",
      "G₂,₃G₋₃,₂|0>  done in 0.013 s\n",
      "computing coordinates of  G₃,₁G₋₃,₂|0>\n",
      "  computed coordinates matrix for  G₃,₁G₋₃,₂|0>\n",
      "G₃,₁G₋₃,₂|0>  done in 0.0165 s\n",
      "computing coordinates of  G₃,₂G₋₃,₂|0>\n",
      "  computed coordinates matrix for  G₃,₂G₋₃,₂|0>\n",
      "G₃,₂G₋₃,₂|0>  done in 0.0155 s\n",
      "computing coordinates of  G₃,₃G₋₃,₂|0>\n",
      "   G₃,₃G₋₃,₂|0> =0\n",
      "G₃,₃G₋₃,₂|0>  done in 0.0119 s\n",
      "computing coordinates of  G₋₃,₁G₁,₂|0>\n",
      "  computed coordinates matrix for  G₋₃,₁G₁,₂|0>\n",
      "G₋₃,₁G₁,₂|0>  done in 0.0155 s\n",
      "computing coordinates of  G₋₃,₂G₁,₂|0>\n",
      "  computed coordinates matrix for  G₋₃,₂G₁,₂|0>\n",
      "G₋₃,₂G₁,₂|0>  done in 0.0163 s\n",
      "computing coordinates of  G₋₂,₁G₁,₂|0>\n",
      "   G₋₂,₁G₁,₂|0> =0\n",
      "G₋₂,₁G₁,₂|0>  done in 0.0128 s\n",
      "computing coordinates of  G₁,₋₃G₁,₂|0>\n",
      "  computed coordinates matrix for  G₁,₋₃G₁,₂|0>\n",
      "G₁,₋₃G₁,₂|0>  done in 0.0169 s\n",
      "computing coordinates of  G₁,₋₂G₁,₂|0>\n",
      "   G₁,₋₂G₁,₂|0> =0\n",
      "G₁,₋₂G₁,₂|0>  done in 0.0122 s\n",
      "computing coordinates of  G₁,₁G₁,₂|0>\n",
      "   G₁,₁G₁,₂|0> =0\n",
      "G₁,₁G₁,₂|0>  done in 0.0123 s\n",
      "computing coordinates of  G₁,₂G₁,₂|0>\n",
      "  computed coordinates matrix for  G₁,₂G₁,₂|0>\n",
      "  linearly independent\n",
      "  ->   [|0>, G₋₃,₁|0>, G₋₃,₂|0>, G₁,₂|0>, G₁,₃|0>, G₂,₃|0>, G₁,₂G₋₃,₁|0>, G₁,₃G₋₃,₁|0>, G₂,₃G₋₃,₁|0>, G₁,₂G₋₃,₂|0>, G₁,₃G₋₃,₂|0>, G₂,₃G₋₃,₂|0>, G₁,₂G₁,₂|0>]\n",
      "  flushed  Yangian_irrep.kept_free\n",
      "G₁,₂G₁,₂|0>  done in 0.0134 s\n",
      "computing coordinates of  G₁,₃G₁,₂|0>\n",
      "  computed coordinates matrix for  G₁,₃G₁,₂|0>\n",
      "  linearly independent\n",
      "  ->   [|0>, G₋₃,₁|0>, G₋₃,₂|0>, G₁,₂|0>, G₁,₃|0>, G₂,₃|0>, G₁,₂G₋₃,₁|0>, G₁,₃G₋₃,₁|0>, G₂,₃G₋₃,₁|0>, G₁,₂G₋₃,₂|0>, G₁,₃G₋₃,₂|0>, G₂,₃G₋₃,₂|0>, G₁,₂G₁,₂|0>, G₁,₃G₁,₂|0>]\n",
      "  flushed  Yangian_irrep.kept_free\n",
      "G₁,₃G₁,₂|0>  done in 0.0134 s\n",
      "computing coordinates of  G₂,₋₃G₁,₂|0>\n",
      "  computed coordinates matrix for  G₂,₋₃G₁,₂|0>\n",
      "G₂,₋₃G₁,₂|0>  done in 0.0164 s\n",
      "computing coordinates of  G₂,₁G₁,₂|0>\n",
      "  computed coordinates matrix for  G₂,₁G₁,₂|0>\n",
      "G₂,₁G₁,₂|0>  done in 0.0166 s\n",
      "computing coordinates of  G₂,₂G₁,₂|0>\n",
      "   G₂,₂G₁,₂|0> =0\n",
      "G₂,₂G₁,₂|0>  done in 0.0119 s\n",
      "computing coordinates of  G₂,₃G₁,₂|0>\n",
      "  computed coordinates matrix for  G₂,₃G₁,₂|0>\n",
      "  linearly independent\n",
      "  ->   [|0>, G₋₃,₁|0>, G₋₃,₂|0>, G₁,₂|0>, G₁,₃|0>, G₂,₃|0>, G₁,₂G₋₃,₁|0>, G₁,₃G₋₃,₁|0>, G₂,₃G₋₃,₁|0>, G₁,₂G₋₃,₂|0>, G₁,₃G₋₃,₂|0>, G₂,₃G₋₃,₂|0>, G₁,₂G₁,₂|0>, G₁,₃G₁,₂|0>, G₂,₃G₁,₂|0>]\n",
      "  flushed  Yangian_irrep.kept_free\n",
      "G₂,₃G₁,₂|0>  done in 0.0135 s\n",
      "computing coordinates of  G₃,₁G₁,₂|0>\n",
      "  computed coordinates matrix for  G₃,₁G₁,₂|0>\n",
      "G₃,₁G₁,₂|0>  done in 0.0174 s\n",
      "computing coordinates of  G₃,₂G₁,₂|0>\n",
      "  computed coordinates matrix for  G₃,₂G₁,₂|0>\n",
      "G₃,₂G₁,₂|0>  done in 0.0173 s\n",
      "computing coordinates of  G₃,₃G₁,₂|0>\n",
      "   G₃,₃G₁,₂|0> =0\n",
      "G₃,₃G₁,₂|0>  done in 0.012 s\n",
      "computing coordinates of  G₋₃,₁G₁,₃|0>\n",
      "  computed coordinates matrix for  G₋₃,₁G₁,₃|0>\n",
      "G₋₃,₁G₁,₃|0>  done in 0.0174 s\n",
      "computing coordinates of  G₋₃,₂G₁,₃|0>\n"
     ]
    },
    {
     "name": "stdout",
     "output_type": "stream",
     "text": [
      "  computed coordinates matrix for  G₋₃,₂G₁,₃|0>\n",
      "G₋₃,₂G₁,₃|0>  done in 0.0178 s\n",
      "computing coordinates of  G₋₂,₁G₁,₃|0>\n",
      "   G₋₂,₁G₁,₃|0> =0\n",
      "G₋₂,₁G₁,₃|0>  done in 0.0131 s\n",
      "computing coordinates of  G₁,₋₃G₁,₃|0>\n",
      "  computed coordinates matrix for  G₁,₋₃G₁,₃|0>\n",
      "G₁,₋₃G₁,₃|0>  done in 0.0181 s\n",
      "computing coordinates of  G₁,₋₂G₁,₃|0>\n",
      "   G₁,₋₂G₁,₃|0> =0\n",
      "G₁,₋₂G₁,₃|0>  done in 0.0124 s\n",
      "computing coordinates of  G₁,₁G₁,₃|0>\n",
      "   G₁,₁G₁,₃|0> =0\n",
      "G₁,₁G₁,₃|0>  done in 0.012 s\n",
      "computing coordinates of  G₁,₂G₁,₃|0>\n",
      "  computed coordinates matrix for  G₁,₂G₁,₃|0>\n",
      "G₁,₂G₁,₃|0>  done in 0.0198 s\n",
      "computing coordinates of  G₁,₃G₁,₃|0>\n",
      "   G₁,₃G₁,₃|0> =0\n",
      "G₁,₃G₁,₃|0>  done in 0.0121 s\n",
      "computing coordinates of  G₂,₋₃G₁,₃|0>\n",
      "  computed coordinates matrix for  G₂,₋₃G₁,₃|0>\n",
      "G₂,₋₃G₁,₃|0>  done in 0.0176 s\n",
      "computing coordinates of  G₂,₁G₁,₃|0>\n",
      "  computed coordinates matrix for  G₂,₁G₁,₃|0>\n",
      "G₂,₁G₁,₃|0>  done in 0.0173 s\n",
      "computing coordinates of  G₂,₂G₁,₃|0>\n",
      "   G₂,₂G₁,₃|0> =0\n",
      "G₂,₂G₁,₃|0>  done in 0.0121 s\n",
      "computing coordinates of  G₂,₃G₁,₃|0>\n",
      "   G₂,₃G₁,₃|0> =0\n",
      "G₂,₃G₁,₃|0>  done in 0.0124 s\n",
      "computing coordinates of  G₃,₁G₁,₃|0>\n",
      "   G₃,₁G₁,₃|0> =0\n",
      "G₃,₁G₁,₃|0>  done in 0.0123 s\n",
      "computing coordinates of  G₃,₂G₁,₃|0>\n",
      "   G₃,₂G₁,₃|0> =0\n",
      "G₃,₂G₁,₃|0>  done in 0.0126 s\n",
      "computing coordinates of  G₃,₃G₁,₃|0>\n",
      "   G₃,₃G₁,₃|0> =0\n",
      "G₃,₃G₁,₃|0>  done in 0.012 s\n",
      "computing coordinates of  G₋₃,₁G₂,₃|0>\n",
      "  computed coordinates matrix for  G₋₃,₁G₂,₃|0>\n",
      "G₋₃,₁G₂,₃|0>  done in 0.0181 s\n",
      "computing coordinates of  G₋₃,₂G₂,₃|0>\n",
      "  computed coordinates matrix for  G₋₃,₂G₂,₃|0>\n",
      "G₋₃,₂G₂,₃|0>  done in 0.0211 s\n",
      "computing coordinates of  G₋₂,₁G₂,₃|0>\n",
      "  computed coordinates matrix for  G₋₂,₁G₂,₃|0>\n",
      "G₋₂,₁G₂,₃|0>  done in 0.0185 s\n",
      "computing coordinates of  G₁,₋₃G₂,₃|0>\n",
      "  computed coordinates matrix for  G₁,₋₃G₂,₃|0>\n",
      "G₁,₋₃G₂,₃|0>  done in 0.0193 s\n",
      "computing coordinates of  G₁,₋₂G₂,₃|0>\n",
      "  computed coordinates matrix for  G₁,₋₂G₂,₃|0>\n",
      "G₁,₋₂G₂,₃|0>  done in 0.0187 s\n",
      "computing coordinates of  G₁,₁G₂,₃|0>\n",
      "   G₁,₁G₂,₃|0> =0\n",
      "G₁,₁G₂,₃|0>  done in 0.0133 s\n",
      "computing coordinates of  G₁,₂G₂,₃|0>\n",
      "  computed coordinates matrix for  G₁,₂G₂,₃|0>\n",
      "G₁,₂G₂,₃|0>  done in 0.0245 s\n",
      "computing coordinates of  G₁,₃G₂,₃|0>\n",
      "   G₁,₃G₂,₃|0> =0\n",
      "G₁,₃G₂,₃|0>  done in 0.0131 s\n",
      "computing coordinates of  G₂,₋₃G₂,₃|0>\n",
      "  computed coordinates matrix for  G₂,₋₃G₂,₃|0>\n",
      "G₂,₋₃G₂,₃|0>  done in 0.0182 s\n",
      "computing coordinates of  G₂,₁G₂,₃|0>\n",
      "  computed coordinates matrix for  G₂,₁G₂,₃|0>\n",
      "G₂,₁G₂,₃|0>  done in 0.0174 s\n",
      "computing coordinates of  G₂,₂G₂,₃|0>\n",
      "   G₂,₂G₂,₃|0> =0\n",
      "G₂,₂G₂,₃|0>  done in 0.0124 s\n",
      "computing coordinates of  G₂,₃G₂,₃|0>\n",
      "   G₂,₃G₂,₃|0> =0\n",
      "G₂,₃G₂,₃|0>  done in 0.0124 s\n",
      "computing coordinates of  G₃,₁G₂,₃|0>\n",
      "   G₃,₁G₂,₃|0> =0\n",
      "G₃,₁G₂,₃|0>  done in 0.0128 s\n",
      "computing coordinates of  G₃,₂G₂,₃|0>\n",
      "   G₃,₂G₂,₃|0> =0\n",
      "G₃,₂G₂,₃|0>  done in 0.0178 s\n",
      "computing coordinates of  G₃,₃G₂,₃|0>\n",
      "   G₃,₃G₂,₃|0> =0\n",
      "G₃,₃G₂,₃|0>  done in 0.013 s\n",
      "computing coordinates of  G₋₃,₁G₁,₂G₋₃,₁|0>\n",
      "   G₋₃,₁G₁,₂G₋₃,₁|0> =0\n",
      "G₋₃,₁G₁,₂G₋₃,₁|0>  done in 0.0174 s\n",
      "computing coordinates of  G₋₃,₂G₁,₂G₋₃,₁|0>\n",
      "   G₋₃,₂G₁,₂G₋₃,₁|0> =0\n",
      "G₋₃,₂G₁,₂G₋₃,₁|0>  done in 0.0166 s\n",
      "computing coordinates of  G₋₂,₁G₁,₂G₋₃,₁|0>\n",
      "   G₋₂,₁G₁,₂G₋₃,₁|0> =0\n",
      "G₋₂,₁G₁,₂G₋₃,₁|0>  done in 0.0165 s\n",
      "computing coordinates of  G₁,₋₃G₁,₂G₋₃,₁|0>\n",
      "   G₁,₋₃G₁,₂G₋₃,₁|0> =0\n",
      "G₁,₋₃G₁,₂G₋₃,₁|0>  done in 0.0167 s\n",
      "computing coordinates of  G₁,₋₂G₁,₂G₋₃,₁|0>\n",
      "   G₁,₋₂G₁,₂G₋₃,₁|0> =0\n",
      "G₁,₋₂G₁,₂G₋₃,₁|0>  done in 0.0161 s\n",
      "computing coordinates of  G₁,₁G₁,₂G₋₃,₁|0>\n",
      "   G₁,₁G₁,₂G₋₃,₁|0> =0\n",
      "G₁,₁G₁,₂G₋₃,₁|0>  done in 0.0157 s\n",
      "computing coordinates of  G₁,₂G₁,₂G₋₃,₁|0>\n",
      "   G₁,₂G₁,₂G₋₃,₁|0> =0\n",
      "G₁,₂G₁,₂G₋₃,₁|0>  done in 0.0158 s\n",
      "computing coordinates of  G₁,₃G₁,₂G₋₃,₁|0>\n",
      "   G₁,₃G₁,₂G₋₃,₁|0> =0\n",
      "G₁,₃G₁,₂G₋₃,₁|0>  done in 0.0191 s\n",
      "computing coordinates of  G₂,₋₃G₁,₂G₋₃,₁|0>\n",
      "   G₂,₋₃G₁,₂G₋₃,₁|0> =0\n",
      "G₂,₋₃G₁,₂G₋₃,₁|0>  done in 0.016 s\n",
      "computing coordinates of  G₂,₁G₁,₂G₋₃,₁|0>\n",
      "   G₂,₁G₁,₂G₋₃,₁|0> =0\n",
      "G₂,₁G₁,₂G₋₃,₁|0>  done in 0.0191 s\n",
      "computing coordinates of  G₂,₂G₁,₂G₋₃,₁|0>\n",
      "   G₂,₂G₁,₂G₋₃,₁|0> =0\n",
      "G₂,₂G₁,₂G₋₃,₁|0>  done in 0.0223 s\n",
      "computing coordinates of  G₂,₃G₁,₂G₋₃,₁|0>\n",
      "  computed coordinates matrix for  G₂,₃G₁,₂G₋₃,₁|0>\n",
      "G₂,₃G₁,₂G₋₃,₁|0>  done in 0.0242 s\n",
      "computing coordinates of  G₃,₁G₁,₂G₋₃,₁|0>\n",
      "   G₃,₁G₁,₂G₋₃,₁|0> =0\n",
      "G₃,₁G₁,₂G₋₃,₁|0>  done in 0.0169 s\n",
      "computing coordinates of  G₃,₂G₁,₂G₋₃,₁|0>\n",
      "  computed coordinates matrix for  G₃,₂G₁,₂G₋₃,₁|0>\n",
      "G₃,₂G₁,₂G₋₃,₁|0>  done in 0.0239 s\n",
      "computing coordinates of  G₃,₃G₁,₂G₋₃,₁|0>\n",
      "   G₃,₃G₁,₂G₋₃,₁|0> =0\n",
      "G₃,₃G₁,₂G₋₃,₁|0>  done in 0.017 s\n",
      "computing coordinates of  G₋₃,₁G₁,₃G₋₃,₁|0>\n",
      "   G₋₃,₁G₁,₃G₋₃,₁|0> =0\n",
      "G₋₃,₁G₁,₃G₋₃,₁|0>  done in 0.0176 s\n",
      "computing coordinates of  G₋₃,₂G₁,₃G₋₃,₁|0>\n",
      "  computed coordinates matrix for  G₋₃,₂G₁,₃G₋₃,₁|0>\n",
      "G₋₃,₂G₁,₃G₋₃,₁|0>  done in 0.0232 s\n",
      "computing coordinates of  G₋₂,₁G₁,₃G₋₃,₁|0>\n",
      "   G₋₂,₁G₁,₃G₋₃,₁|0> =0\n",
      "G₋₂,₁G₁,₃G₋₃,₁|0>  done in 0.0187 s\n",
      "computing coordinates of  G₁,₋₃G₁,₃G₋₃,₁|0>\n",
      "   G₁,₋₃G₁,₃G₋₃,₁|0> =0\n",
      "G₁,₋₃G₁,₃G₋₃,₁|0>  done in 0.0178 s\n",
      "computing coordinates of  G₁,₋₂G₁,₃G₋₃,₁|0>\n",
      "   G₁,₋₂G₁,₃G₋₃,₁|0> =0\n",
      "G₁,₋₂G₁,₃G₋₃,₁|0>  done in 0.0315 s\n",
      "computing coordinates of  G₁,₁G₁,₃G₋₃,₁|0>\n",
      "   G₁,₁G₁,₃G₋₃,₁|0> =0\n",
      "G₁,₁G₁,₃G₋₃,₁|0>  done in 0.0197 s\n",
      "computing coordinates of  G₁,₂G₁,₃G₋₃,₁|0>\n",
      "   G₁,₂G₁,₃G₋₃,₁|0> =0\n",
      "G₁,₂G₁,₃G₋₃,₁|0>  done in 0.0184 s\n",
      "computing coordinates of  G₁,₃G₁,₃G₋₃,₁|0>\n",
      "   G₁,₃G₁,₃G₋₃,₁|0> =0\n",
      "G₁,₃G₁,₃G₋₃,₁|0>  done in 0.0182 s\n",
      "computing coordinates of  G₂,₋₃G₁,₃G₋₃,₁|0>\n",
      "  computed coordinates matrix for  G₂,₋₃G₁,₃G₋₃,₁|0>\n",
      "G₂,₋₃G₁,₃G₋₃,₁|0>  done in 0.0249 s\n",
      "computing coordinates of  G₂,₁G₁,₃G₋₃,₁|0>\n",
      "   G₂,₁G₁,₃G₋₃,₁|0> =0\n",
      "G₂,₁G₁,₃G₋₃,₁|0>  done in 0.021 s\n",
      "computing coordinates of  G₂,₂G₁,₃G₋₃,₁|0>\n",
      "   G₂,₂G₁,₃G₋₃,₁|0> =0\n",
      "G₂,₂G₁,₃G₋₃,₁|0>  done in 0.0244 s\n",
      "computing coordinates of  G₂,₃G₁,₃G₋₃,₁|0>\n",
      "  computed coordinates matrix for  G₂,₃G₁,₃G₋₃,₁|0>\n",
      "G₂,₃G₁,₃G₋₃,₁|0>  done in 0.0305 s\n",
      "computing coordinates of  G₃,₁G₁,₃G₋₃,₁|0>\n",
      "   G₃,₁G₁,₃G₋₃,₁|0> =0\n",
      "G₃,₁G₁,₃G₋₃,₁|0>  done in 0.02 s\n",
      "computing coordinates of  G₃,₂G₁,₃G₋₃,₁|0>\n",
      "  computed coordinates matrix for  G₃,₂G₁,₃G₋₃,₁|0>\n",
      "G₃,₂G₁,₃G₋₃,₁|0>  done in 0.0308 s\n",
      "computing coordinates of  G₃,₃G₁,₃G₋₃,₁|0>\n",
      "   G₃,₃G₁,₃G₋₃,₁|0> =0\n",
      "G₃,₃G₁,₃G₋₃,₁|0>  done in 0.0185 s\n",
      "computing coordinates of  G₋₃,₁G₂,₃G₋₃,₁|0>\n",
      "  computed coordinates matrix for  G₋₃,₁G₂,₃G₋₃,₁|0>\n",
      "G₋₃,₁G₂,₃G₋₃,₁|0>  done in 0.022 s\n",
      "computing coordinates of  G₋₃,₂G₂,₃G₋₃,₁|0>\n",
      "   G₋₃,₂G₂,₃G₋₃,₁|0> =0\n",
      "G₋₃,₂G₂,₃G₋₃,₁|0>  done in 0.016 s\n",
      "computing coordinates of  G₋₂,₁G₂,₃G₋₃,₁|0>\n",
      "  computed coordinates matrix for  G₋₂,₁G₂,₃G₋₃,₁|0>\n",
      "G₋₂,₁G₂,₃G₋₃,₁|0>  done in 0.0209 s\n",
      "computing coordinates of  G₁,₋₃G₂,₃G₋₃,₁|0>\n",
      "  computed coordinates matrix for  G₁,₋₃G₂,₃G₋₃,₁|0>\n",
      "G₁,₋₃G₂,₃G₋₃,₁|0>  done in 0.021 s\n",
      "computing coordinates of  G₁,₋₂G₂,₃G₋₃,₁|0>\n",
      "  computed coordinates matrix for  G₁,₋₂G₂,₃G₋₃,₁|0>\n",
      "G₁,₋₂G₂,₃G₋₃,₁|0>  done in 0.026 s\n",
      "computing coordinates of  G₁,₁G₂,₃G₋₃,₁|0>\n",
      "   G₁,₁G₂,₃G₋₃,₁|0> =0\n",
      "G₁,₁G₂,₃G₋₃,₁|0>  done in 0.0166 s\n",
      "computing coordinates of  G₁,₂G₂,₃G₋₃,₁|0>\n",
      "  computed coordinates matrix for  G₁,₂G₂,₃G₋₃,₁|0>\n",
      "G₁,₂G₂,₃G₋₃,₁|0>  done in 0.0208 s\n",
      "computing coordinates of  G₁,₃G₂,₃G₋₃,₁|0>\n",
      "  computed coordinates matrix for  G₁,₃G₂,₃G₋₃,₁|0>\n",
      "G₁,₃G₂,₃G₋₃,₁|0>  done in 0.0207 s\n",
      "computing coordinates of  G₂,₋₃G₂,₃G₋₃,₁|0>\n",
      "   G₂,₋₃G₂,₃G₋₃,₁|0> =0\n",
      "G₂,₋₃G₂,₃G₋₃,₁|0>  done in 0.0164 s\n",
      "computing coordinates of  G₂,₁G₂,₃G₋₃,₁|0>\n",
      "  computed coordinates matrix for  G₂,₁G₂,₃G₋₃,₁|0>\n",
      "G₂,₁G₂,₃G₋₃,₁|0>  done in 0.0282 s\n",
      "computing coordinates of  G₂,₂G₂,₃G₋₃,₁|0>\n",
      "   G₂,₂G₂,₃G₋₃,₁|0> =0\n",
      "G₂,₂G₂,₃G₋₃,₁|0>  done in 0.0196 s\n",
      "computing coordinates of  G₂,₃G₂,₃G₋₃,₁|0>\n",
      "  computed coordinates matrix for  G₂,₃G₂,₃G₋₃,₁|0>\n",
      "G₂,₃G₂,₃G₋₃,₁|0>  done in 0.0268 s\n",
      "computing coordinates of  G₃,₁G₂,₃G₋₃,₁|0>\n",
      "  computed coordinates matrix for  G₃,₁G₂,₃G₋₃,₁|0>\n",
      "G₃,₁G₂,₃G₋₃,₁|0>  done in 0.026 s\n",
      "computing coordinates of  G₃,₂G₂,₃G₋₃,₁|0>\n",
      "  computed coordinates matrix for  G₃,₂G₂,₃G₋₃,₁|0>\n",
      "G₃,₂G₂,₃G₋₃,₁|0>  done in 0.0249 s\n",
      "computing coordinates of  G₃,₃G₂,₃G₋₃,₁|0>\n",
      "   G₃,₃G₂,₃G₋₃,₁|0> =0\n",
      "G₃,₃G₂,₃G₋₃,₁|0>  done in 0.0172 s\n",
      "computing coordinates of  G₋₃,₁G₁,₂G₋₃,₂|0>\n",
      "   G₋₃,₁G₁,₂G₋₃,₂|0> =0\n",
      "G₋₃,₁G₁,₂G₋₃,₂|0>  done in 0.0192 s\n",
      "computing coordinates of  G₋₃,₂G₁,₂G₋₃,₂|0>\n",
      "   G₋₃,₂G₁,₂G₋₃,₂|0> =0\n",
      "G₋₃,₂G₁,₂G₋₃,₂|0>  done in 0.0195 s\n",
      "computing coordinates of  G₋₂,₁G₁,₂G₋₃,₂|0>\n",
      "  computed coordinates matrix for  G₋₂,₁G₁,₂G₋₃,₂|0>\n",
      "G₋₂,₁G₁,₂G₋₃,₂|0>  done in 0.0272 s\n",
      "computing coordinates of  G₁,₋₃G₁,₂G₋₃,₂|0>\n",
      "   G₁,₋₃G₁,₂G₋₃,₂|0> =0\n",
      "G₁,₋₃G₁,₂G₋₃,₂|0>  done in 0.0217 s\n",
      "computing coordinates of  G₁,₋₂G₁,₂G₋₃,₂|0>\n",
      "  computed coordinates matrix for  G₁,₋₂G₁,₂G₋₃,₂|0>\n",
      "G₁,₋₂G₁,₂G₋₃,₂|0>  done in 0.0274 s\n",
      "computing coordinates of  G₁,₁G₁,₂G₋₃,₂|0>\n",
      "   G₁,₁G₁,₂G₋₃,₂|0> =0\n",
      "G₁,₁G₁,₂G₋₃,₂|0>  done in 0.0206 s\n",
      "computing coordinates of  G₁,₂G₁,₂G₋₃,₂|0>\n",
      "   G₁,₂G₁,₂G₋₃,₂|0> =0\n",
      "G₁,₂G₁,₂G₋₃,₂|0>  done in 0.0197 s\n",
      "computing coordinates of  G₁,₃G₁,₂G₋₃,₂|0>\n",
      "  computed coordinates matrix for  G₁,₃G₁,₂G₋₃,₂|0>\n",
      "G₁,₃G₁,₂G₋₃,₂|0>  done in 0.0277 s\n",
      "computing coordinates of  G₂,₋₃G₁,₂G₋₃,₂|0>\n",
      "   G₂,₋₃G₁,₂G₋₃,₂|0> =0\n",
      "G₂,₋₃G₁,₂G₋₃,₂|0>  done in 0.0218 s\n",
      "computing coordinates of  G₂,₁G₁,₂G₋₃,₂|0>\n",
      "   G₂,₁G₁,₂G₋₃,₂|0> =0\n",
      "G₂,₁G₁,₂G₋₃,₂|0>  done in 0.0199 s\n",
      "computing coordinates of  G₂,₂G₁,₂G₋₃,₂|0>\n",
      "   G₂,₂G₁,₂G₋₃,₂|0> =0\n",
      "G₂,₂G₁,₂G₋₃,₂|0>  done in 0.0221 s\n",
      "computing coordinates of  G₂,₃G₁,₂G₋₃,₂|0>\n",
      "   G₂,₃G₁,₂G₋₃,₂|0> =0\n"
     ]
    },
    {
     "name": "stdout",
     "output_type": "stream",
     "text": [
      "G₂,₃G₁,₂G₋₃,₂|0>  done in 0.0212 s\n",
      "computing coordinates of  G₃,₁G₁,₂G₋₃,₂|0>\n",
      "  computed coordinates matrix for  G₃,₁G₁,₂G₋₃,₂|0>\n",
      "G₃,₁G₁,₂G₋₃,₂|0>  done in 0.0285 s\n",
      "computing coordinates of  G₃,₂G₁,₂G₋₃,₂|0>\n",
      "   G₃,₂G₁,₂G₋₃,₂|0> =0\n",
      "G₃,₂G₁,₂G₋₃,₂|0>  done in 0.0202 s\n",
      "computing coordinates of  G₃,₃G₁,₂G₋₃,₂|0>\n",
      "   G₃,₃G₁,₂G₋₃,₂|0> =0\n",
      "G₃,₃G₁,₂G₋₃,₂|0>  done in 0.02 s\n",
      "computing coordinates of  G₋₃,₁G₁,₃G₋₃,₂|0>\n",
      "   G₋₃,₁G₁,₃G₋₃,₂|0> =0\n",
      "G₋₃,₁G₁,₃G₋₃,₂|0>  done in 0.0192 s\n",
      "computing coordinates of  G₋₃,₂G₁,₃G₋₃,₂|0>\n",
      "  computed coordinates matrix for  G₋₃,₂G₁,₃G₋₃,₂|0>\n",
      "G₋₃,₂G₁,₃G₋₃,₂|0>  done in 0.0269 s\n",
      "computing coordinates of  G₋₂,₁G₁,₃G₋₃,₂|0>\n",
      "  computed coordinates matrix for  G₋₂,₁G₁,₃G₋₃,₂|0>\n",
      "G₋₂,₁G₁,₃G₋₃,₂|0>  done in 0.0263 s\n",
      "computing coordinates of  G₁,₋₃G₁,₃G₋₃,₂|0>\n",
      "   G₁,₋₃G₁,₃G₋₃,₂|0> =0\n",
      "G₁,₋₃G₁,₃G₋₃,₂|0>  done in 0.0193 s\n",
      "computing coordinates of  G₁,₋₂G₁,₃G₋₃,₂|0>\n",
      "  computed coordinates matrix for  G₁,₋₂G₁,₃G₋₃,₂|0>\n",
      "G₁,₋₂G₁,₃G₋₃,₂|0>  done in 0.0272 s\n",
      "computing coordinates of  G₁,₁G₁,₃G₋₃,₂|0>\n",
      "   G₁,₁G₁,₃G₋₃,₂|0> =0\n",
      "G₁,₁G₁,₃G₋₃,₂|0>  done in 0.0219 s\n",
      "computing coordinates of  G₁,₂G₁,₃G₋₃,₂|0>\n",
      "  computed coordinates matrix for  G₁,₂G₁,₃G₋₃,₂|0>\n",
      "G₁,₂G₁,₃G₋₃,₂|0>  done in 0.0291 s\n",
      "computing coordinates of  G₁,₃G₁,₃G₋₃,₂|0>\n",
      "  computed coordinates matrix for  G₁,₃G₁,₃G₋₃,₂|0>\n",
      "G₁,₃G₁,₃G₋₃,₂|0>  done in 0.0277 s\n",
      "computing coordinates of  G₂,₋₃G₁,₃G₋₃,₂|0>\n",
      "  computed coordinates matrix for  G₂,₋₃G₁,₃G₋₃,₂|0>\n",
      "G₂,₋₃G₁,₃G₋₃,₂|0>  done in 0.0212 s\n",
      "computing coordinates of  G₂,₁G₁,₃G₋₃,₂|0>\n",
      "  computed coordinates matrix for  G₂,₁G₁,₃G₋₃,₂|0>\n",
      "G₂,₁G₁,₃G₋₃,₂|0>  done in 0.0218 s\n",
      "computing coordinates of  G₂,₂G₁,₃G₋₃,₂|0>\n",
      "   G₂,₂G₁,₃G₋₃,₂|0> =0\n",
      "G₂,₂G₁,₃G₋₃,₂|0>  done in 0.0181 s\n",
      "computing coordinates of  G₂,₃G₁,₃G₋₃,₂|0>\n",
      "  computed coordinates matrix for  G₂,₃G₁,₃G₋₃,₂|0>\n",
      "G₂,₃G₁,₃G₋₃,₂|0>  done in 0.0214 s\n",
      "computing coordinates of  G₃,₁G₁,₃G₋₃,₂|0>\n",
      "  computed coordinates matrix for  G₃,₁G₁,₃G₋₃,₂|0>\n",
      "G₃,₁G₁,₃G₋₃,₂|0>  done in 0.0217 s\n",
      "computing coordinates of  G₃,₂G₁,₃G₋₃,₂|0>\n",
      "  computed coordinates matrix for  G₃,₂G₁,₃G₋₃,₂|0>\n",
      "G₃,₂G₁,₃G₋₃,₂|0>  done in 0.0214 s\n",
      "computing coordinates of  G₃,₃G₁,₃G₋₃,₂|0>\n",
      "   G₃,₃G₁,₃G₋₃,₂|0> =0\n",
      "G₃,₃G₁,₃G₋₃,₂|0>  done in 0.017 s\n",
      "computing coordinates of  G₋₃,₁G₂,₃G₋₃,₂|0>\n",
      "  computed coordinates matrix for  G₋₃,₁G₂,₃G₋₃,₂|0>\n",
      "G₋₃,₁G₂,₃G₋₃,₂|0>  done in 0.028 s\n",
      "computing coordinates of  G₋₃,₂G₂,₃G₋₃,₂|0>\n",
      "   G₋₃,₂G₂,₃G₋₃,₂|0> =0\n",
      "G₋₃,₂G₂,₃G₋₃,₂|0>  done in 0.0223 s\n",
      "computing coordinates of  G₋₂,₁G₂,₃G₋₃,₂|0>\n",
      "  computed coordinates matrix for  G₋₂,₁G₂,₃G₋₃,₂|0>\n",
      "G₋₂,₁G₂,₃G₋₃,₂|0>  done in 0.0291 s\n",
      "computing coordinates of  G₁,₋₃G₂,₃G₋₃,₂|0>\n",
      "  computed coordinates matrix for  G₁,₋₃G₂,₃G₋₃,₂|0>\n",
      "G₁,₋₃G₂,₃G₋₃,₂|0>  done in 0.0279 s\n",
      "computing coordinates of  G₁,₋₂G₂,₃G₋₃,₂|0>\n",
      "  computed coordinates matrix for  G₁,₋₂G₂,₃G₋₃,₂|0>\n",
      "G₁,₋₂G₂,₃G₋₃,₂|0>  done in 0.0368 s\n",
      "computing coordinates of  G₁,₁G₂,₃G₋₃,₂|0>\n",
      "   G₁,₁G₂,₃G₋₃,₂|0> =0\n",
      "G₁,₁G₂,₃G₋₃,₂|0>  done in 0.023 s\n",
      "computing coordinates of  G₁,₂G₂,₃G₋₃,₂|0>\n",
      "   G₁,₂G₂,₃G₋₃,₂|0> =0\n",
      "G₁,₂G₂,₃G₋₃,₂|0>  done in 0.0277 s\n",
      "computing coordinates of  G₁,₃G₂,₃G₋₃,₂|0>\n",
      "  computed coordinates matrix for  G₁,₃G₂,₃G₋₃,₂|0>\n",
      "G₁,₃G₂,₃G₋₃,₂|0>  done in 0.0291 s\n",
      "computing coordinates of  G₂,₋₃G₂,₃G₋₃,₂|0>\n",
      "   G₂,₋₃G₂,₃G₋₃,₂|0> =0\n",
      "G₂,₋₃G₂,₃G₋₃,₂|0>  done in 0.0282 s\n",
      "computing coordinates of  G₂,₁G₂,₃G₋₃,₂|0>\n",
      "   G₂,₁G₂,₃G₋₃,₂|0> =0\n",
      "G₂,₁G₂,₃G₋₃,₂|0>  done in 0.0218 s\n",
      "computing coordinates of  G₂,₂G₂,₃G₋₃,₂|0>\n",
      "   G₂,₂G₂,₃G₋₃,₂|0> =0\n",
      "G₂,₂G₂,₃G₋₃,₂|0>  done in 0.0214 s\n",
      "computing coordinates of  G₂,₃G₂,₃G₋₃,₂|0>\n",
      "   G₂,₃G₂,₃G₋₃,₂|0> =0\n",
      "G₂,₃G₂,₃G₋₃,₂|0>  done in 0.0211 s\n",
      "computing coordinates of  G₃,₁G₂,₃G₋₃,₂|0>\n",
      "  computed coordinates matrix for  G₃,₁G₂,₃G₋₃,₂|0>\n",
      "G₃,₁G₂,₃G₋₃,₂|0>  done in 0.0295 s\n",
      "computing coordinates of  G₃,₂G₂,₃G₋₃,₂|0>\n",
      "   G₃,₂G₂,₃G₋₃,₂|0> =0\n",
      "G₃,₂G₂,₃G₋₃,₂|0>  done in 0.0207 s\n",
      "computing coordinates of  G₃,₃G₂,₃G₋₃,₂|0>\n",
      "   G₃,₃G₂,₃G₋₃,₂|0> =0\n",
      "G₃,₃G₂,₃G₋₃,₂|0>  done in 0.0206 s\n",
      "computing coordinates of  G₋₃,₁G₁,₂G₁,₂|0>\n",
      "   G₋₃,₁G₁,₂G₁,₂|0> =0\n",
      "G₋₃,₁G₁,₂G₁,₂|0>  done in 0.0256 s\n",
      "computing coordinates of  G₋₃,₂G₁,₂G₁,₂|0>\n",
      "   G₋₃,₂G₁,₂G₁,₂|0> =0\n",
      "G₋₃,₂G₁,₂G₁,₂|0>  done in 0.0242 s\n",
      "computing coordinates of  G₋₂,₁G₁,₂G₁,₂|0>\n",
      "   G₋₂,₁G₁,₂G₁,₂|0> =0\n",
      "G₋₂,₁G₁,₂G₁,₂|0>  done in 0.0196 s\n",
      "computing coordinates of  G₁,₋₃G₁,₂G₁,₂|0>\n",
      "   G₁,₋₃G₁,₂G₁,₂|0> =0\n",
      "G₁,₋₃G₁,₂G₁,₂|0>  done in 0.0209 s\n",
      "computing coordinates of  G₁,₋₂G₁,₂G₁,₂|0>\n",
      "   G₁,₋₂G₁,₂G₁,₂|0> =0\n",
      "G₁,₋₂G₁,₂G₁,₂|0>  done in 0.0213 s\n",
      "computing coordinates of  G₁,₁G₁,₂G₁,₂|0>\n",
      "   G₁,₁G₁,₂G₁,₂|0> =0\n",
      "G₁,₁G₁,₂G₁,₂|0>  done in 0.0204 s\n",
      "computing coordinates of  G₁,₂G₁,₂G₁,₂|0>\n",
      "   G₁,₂G₁,₂G₁,₂|0> =0\n",
      "G₁,₂G₁,₂G₁,₂|0>  done in 0.0248 s\n",
      "computing coordinates of  G₁,₃G₁,₂G₁,₂|0>\n",
      "   G₁,₃G₁,₂G₁,₂|0> =0\n",
      "G₁,₃G₁,₂G₁,₂|0>  done in 0.0185 s\n",
      "computing coordinates of  G₂,₋₃G₁,₂G₁,₂|0>\n",
      "   G₂,₋₃G₁,₂G₁,₂|0> =0\n",
      "G₂,₋₃G₁,₂G₁,₂|0>  done in 0.0166 s\n",
      "computing coordinates of  G₂,₁G₁,₂G₁,₂|0>\n",
      "   G₂,₁G₁,₂G₁,₂|0> =0\n",
      "G₂,₁G₁,₂G₁,₂|0>  done in 0.0209 s\n",
      "computing coordinates of  G₂,₂G₁,₂G₁,₂|0>\n",
      "   G₂,₂G₁,₂G₁,₂|0> =0\n",
      "G₂,₂G₁,₂G₁,₂|0>  done in 0.0263 s\n",
      "computing coordinates of  G₂,₃G₁,₂G₁,₂|0>\n",
      "   G₂,₃G₁,₂G₁,₂|0> =0\n",
      "G₂,₃G₁,₂G₁,₂|0>  done in 0.0213 s\n",
      "computing coordinates of  G₃,₁G₁,₂G₁,₂|0>\n",
      "   G₃,₁G₁,₂G₁,₂|0> =0\n",
      "G₃,₁G₁,₂G₁,₂|0>  done in 0.0199 s\n",
      "computing coordinates of  G₃,₂G₁,₂G₁,₂|0>\n",
      "   G₃,₂G₁,₂G₁,₂|0> =0\n",
      "G₃,₂G₁,₂G₁,₂|0>  done in 0.0202 s\n",
      "computing coordinates of  G₃,₃G₁,₂G₁,₂|0>\n",
      "   G₃,₃G₁,₂G₁,₂|0> =0\n",
      "G₃,₃G₁,₂G₁,₂|0>  done in 0.0196 s\n",
      "computing coordinates of  G₋₃,₁G₁,₃G₁,₂|0>\n",
      "   G₋₃,₁G₁,₃G₁,₂|0> =0\n",
      "G₋₃,₁G₁,₃G₁,₂|0>  done in 0.0199 s\n",
      "computing coordinates of  G₋₃,₂G₁,₃G₁,₂|0>\n",
      "  computed coordinates matrix for  G₋₃,₂G₁,₃G₁,₂|0>\n",
      "G₋₃,₂G₁,₃G₁,₂|0>  done in 0.0287 s\n",
      "computing coordinates of  G₋₂,₁G₁,₃G₁,₂|0>\n",
      "   G₋₂,₁G₁,₃G₁,₂|0> =0\n",
      "G₋₂,₁G₁,₃G₁,₂|0>  done in 0.0198 s\n",
      "computing coordinates of  G₁,₋₃G₁,₃G₁,₂|0>\n",
      "   G₁,₋₃G₁,₃G₁,₂|0> =0\n",
      "G₁,₋₃G₁,₃G₁,₂|0>  done in 0.0201 s\n",
      "computing coordinates of  G₁,₋₂G₁,₃G₁,₂|0>\n",
      "   G₁,₋₂G₁,₃G₁,₂|0> =0\n",
      "G₁,₋₂G₁,₃G₁,₂|0>  done in 0.0199 s\n",
      "computing coordinates of  G₁,₁G₁,₃G₁,₂|0>\n",
      "   G₁,₁G₁,₃G₁,₂|0> =0\n",
      "G₁,₁G₁,₃G₁,₂|0>  done in 0.0287 s\n",
      "computing coordinates of  G₁,₂G₁,₃G₁,₂|0>\n",
      "   G₁,₂G₁,₃G₁,₂|0> =0\n",
      "G₁,₂G₁,₃G₁,₂|0>  done in 0.0214 s\n",
      "computing coordinates of  G₁,₃G₁,₃G₁,₂|0>\n",
      "   G₁,₃G₁,₃G₁,₂|0> =0\n",
      "G₁,₃G₁,₃G₁,₂|0>  done in 0.0175 s\n",
      "computing coordinates of  G₂,₋₃G₁,₃G₁,₂|0>\n",
      "  computed coordinates matrix for  G₂,₋₃G₁,₃G₁,₂|0>\n",
      "G₂,₋₃G₁,₃G₁,₂|0>  done in 0.0309 s\n",
      "computing coordinates of  G₂,₁G₁,₃G₁,₂|0>\n",
      "   G₂,₁G₁,₃G₁,₂|0> =0\n",
      "G₂,₁G₁,₃G₁,₂|0>  done in 0.0196 s\n",
      "computing coordinates of  G₂,₂G₁,₃G₁,₂|0>\n",
      "   G₂,₂G₁,₃G₁,₂|0> =0\n",
      "G₂,₂G₁,₃G₁,₂|0>  done in 0.0217 s\n",
      "computing coordinates of  G₂,₃G₁,₃G₁,₂|0>\n",
      "   G₂,₃G₁,₃G₁,₂|0> =0\n",
      "G₂,₃G₁,₃G₁,₂|0>  done in 0.0198 s\n",
      "computing coordinates of  G₃,₁G₁,₃G₁,₂|0>\n",
      "   G₃,₁G₁,₃G₁,₂|0> =0\n",
      "G₃,₁G₁,₃G₁,₂|0>  done in 0.0208 s\n",
      "computing coordinates of  G₃,₂G₁,₃G₁,₂|0>\n",
      "   G₃,₂G₁,₃G₁,₂|0> =0\n",
      "G₃,₂G₁,₃G₁,₂|0>  done in 0.02 s\n",
      "computing coordinates of  G₃,₃G₁,₃G₁,₂|0>\n",
      "   G₃,₃G₁,₃G₁,₂|0> =0\n",
      "G₃,₃G₁,₃G₁,₂|0>  done in 0.0229 s\n",
      "computing coordinates of  G₋₃,₁G₂,₃G₁,₂|0>\n",
      "  computed coordinates matrix for  G₋₃,₁G₂,₃G₁,₂|0>\n",
      "G₋₃,₁G₂,₃G₁,₂|0>  done in 0.0308 s\n",
      "computing coordinates of  G₋₃,₂G₂,₃G₁,₂|0>\n",
      "   G₋₃,₂G₂,₃G₁,₂|0> =0\n",
      "G₋₃,₂G₂,₃G₁,₂|0>  done in 0.0172 s\n",
      "computing coordinates of  G₋₂,₁G₂,₃G₁,₂|0>\n",
      "  computed coordinates matrix for  G₋₂,₁G₂,₃G₁,₂|0>\n",
      "G₋₂,₁G₂,₃G₁,₂|0>  done in 0.0223 s\n",
      "computing coordinates of  G₁,₋₃G₂,₃G₁,₂|0>\n",
      "  computed coordinates matrix for  G₁,₋₃G₂,₃G₁,₂|0>\n",
      "G₁,₋₃G₂,₃G₁,₂|0>  done in 0.023 s\n",
      "computing coordinates of  G₁,₋₂G₂,₃G₁,₂|0>\n",
      "  computed coordinates matrix for  G₁,₋₂G₂,₃G₁,₂|0>\n",
      "G₁,₋₂G₂,₃G₁,₂|0>  done in 0.0222 s\n",
      "computing coordinates of  G₁,₁G₂,₃G₁,₂|0>\n",
      "   G₁,₁G₂,₃G₁,₂|0> =0\n",
      "G₁,₁G₂,₃G₁,₂|0>  done in 0.0186 s\n",
      "computing coordinates of  G₁,₂G₂,₃G₁,₂|0>\n",
      "   G₁,₂G₂,₃G₁,₂|0> =0\n",
      "G₁,₂G₂,₃G₁,₂|0>  done in 0.0192 s\n",
      "computing coordinates of  G₁,₃G₂,₃G₁,₂|0>\n",
      "   G₁,₃G₂,₃G₁,₂|0> =0\n",
      "G₁,₃G₂,₃G₁,₂|0>  done in 0.0164 s\n",
      "computing coordinates of  G₂,₋₃G₂,₃G₁,₂|0>\n",
      "   G₂,₋₃G₂,₃G₁,₂|0> =0\n",
      "G₂,₋₃G₂,₃G₁,₂|0>  done in 0.0169 s\n",
      "computing coordinates of  G₂,₁G₂,₃G₁,₂|0>\n",
      "   G₂,₁G₂,₃G₁,₂|0> =0\n",
      "G₂,₁G₂,₃G₁,₂|0>  done in 0.0194 s\n",
      "computing coordinates of  G₂,₂G₂,₃G₁,₂|0>\n",
      "   G₂,₂G₂,₃G₁,₂|0> =0\n",
      "G₂,₂G₂,₃G₁,₂|0>  done in 0.0188 s\n",
      "computing coordinates of  G₂,₃G₂,₃G₁,₂|0>\n",
      "   G₂,₃G₂,₃G₁,₂|0> =0\n",
      "G₂,₃G₂,₃G₁,₂|0>  done in 0.0167 s\n",
      "computing coordinates of  G₃,₁G₂,₃G₁,₂|0>\n",
      "   G₃,₁G₂,₃G₁,₂|0> =0\n",
      "G₃,₁G₂,₃G₁,₂|0>  done in 0.017 s\n",
      "computing coordinates of  G₃,₂G₂,₃G₁,₂|0>\n",
      "   G₃,₂G₂,₃G₁,₂|0> =0\n",
      "G₃,₂G₂,₃G₁,₂|0>  done in 0.0171 s\n",
      "computing coordinates of  G₃,₃G₂,₃G₁,₂|0>\n",
      "   G₃,₃G₂,₃G₁,₂|0> =0\n",
      "G₃,₃G₂,₃G₁,₂|0>  done in 0.0172 s\n",
      "computing coordinates of  |0>\n",
      "done in 0.0003 s\n",
      "computing coordinates of  G₋₃,₁|0>\n",
      "coordinates(G₋₃,₁|0>,replacements={G₋₃,₋₃|0>: 0, H₋₃,₋₃|0>: 0, G₋₃,₋₂|0>: 0, H₋₃...\n",
      " ├─coordinates(G₋₃,₁|0>,nosave=True,replacements={G₋₃,₋₃|0>: 0, H₋₃,₋₃|0>: 0, G₋...\n",
      " │  ├─simp(G₋₃,₁|0>,replacements={G₋₃,₋₃|0>: 0, H₋₃,₋₃|0>: 0, G₋₃,₋₂|0>: 0, H₋₃,...\n",
      " │  │  └─G₋₃,₁|0>\n",
      " │  ├─simp(G₋₃,₋₃G₋₃,₁|0>,replacements={G₋₃,₋₃|0>: 0, H₋₃,₋₃|0>: 0, G₋₃,₋₂|0>: 0...\n",
      " │  │  └─0\n",
      " │  ├─simp(H₋₃,₋₃G₋₃,₁|0>,replacements={G₋₃,₋₃|0>: 0, H₋₃,₋₃|0>: 0, G₋₃,₋₂|0>: 0...\n",
      " │  │  └─0\n"
     ]
    },
    {
     "name": "stdout",
     "output_type": "stream",
     "text": [
      " │  ├─simp(G₋₃,₋₂G₋₃,₁|0>,replacements={G₋₃,₋₃|0>: 0, H₋₃,₋₃|0>: 0, G₋₃,₋₂|0>: 0...\n",
      " │  │  └─0\n",
      " │  ├─simp(H₋₃,₋₂G₋₃,₁|0>,replacements={G₋₃,₋₃|0>: 0, H₋₃,₋₃|0>: 0, G₋₃,₋₂|0>: 0...\n",
      " │  │  └─0\n",
      " │  ├─simp(G₋₃,₋₁G₋₃,₁|0>,replacements={G₋₃,₋₃|0>: 0, H₋₃,₋₃|0>: 0, G₋₃,₋₂|0>: 0...\n",
      " │  │  └─0\n",
      " │  ├─simp(H₋₃,₋₁G₋₃,₁|0>,replacements={G₋₃,₋₃|0>: 0, H₋₃,₋₃|0>: 0, G₋₃,₋₂|0>: 0...\n",
      " │  │  └─0\n",
      " │  ├─simp(G₋₂,₋₃G₋₃,₁|0>,replacements={G₋₃,₋₃|0>: 0, H₋₃,₋₃|0>: 0, G₋₃,₋₂|0>: 0...\n",
      " │  │  └─0\n",
      " │  ├─simp(H₋₂,₋₃G₋₃,₁|0>,replacements={G₋₃,₋₃|0>: 0, H₋₃,₋₃|0>: 0, G₋₃,₋₂|0>: 0...\n",
      " │  │  └─0\n",
      " │  ├─simp(G₋₂,₋₂G₋₃,₁|0>,replacements={G₋₃,₋₃|0>: 0, H₋₃,₋₃|0>: 0, G₋₃,₋₂|0>: 0...\n",
      " │  │  └─0\n",
      " │  ├─simp(H₋₂,₋₂G₋₃,₁|0>,replacements={G₋₃,₋₃|0>: 0, H₋₃,₋₃|0>: 0, G₋₃,₋₂|0>: 0...\n",
      " │  │  └─0\n",
      " │  ├─simp(G₋₂,₋₁G₋₃,₁|0>,replacements={G₋₃,₋₃|0>: 0, H₋₃,₋₃|0>: 0, G₋₃,₋₂|0>: 0...\n",
      " │  │  └─0\n",
      " │  ├─simp(H₋₂,₋₁G₋₃,₁|0>,replacements={G₋₃,₋₃|0>: 0, H₋₃,₋₃|0>: 0, G₋₃,₋₂|0>: 0...\n",
      " │  │  └─0\n",
      " │  ├─simp(G₋₂,₃G₋₃,₁|0>,replacements={G₋₃,₋₃|0>: 0, H₋₃,₋₃|0>: 0, G₋₃,₋₂|0>: 0,...\n",
      " │  │  └─0\n",
      " │  ├─simp(H₋₂,₃G₋₃,₁|0>,replacements={G₋₃,₋₃|0>: 0, H₋₃,₋₃|0>: 0, G₋₃,₋₂|0>: 0,...\n",
      " │  │  └─-H₋₂,₁|0>\n",
      " │  ├─coordinates(-H₋₂,₁|0>,replacements={G₋₃,₋₃|0>: 0, H₋₃,₋₃|0>: 0, G₋₃,₋₂|0>:...\n",
      " │  │  ├─coordinates(-H₋₂,₁|0>,nosave=True,replacements={G₋₃,₋₃|0>: 0, H₋₃,₋₃|0>...\n",
      " │  │  │  ├─simp(-H₋₂,₁|0>,replacements={G₋₃,₋₃|0>: 0, H₋₃,₋₃|0>: 0, G₋₃,₋₂|0>: ...\n",
      " │  │  │  │  └─-H₋₂,₁|0>\n",
      " │  │  │  ├─simp(G₋₃,₋₃H₋₂,₁|0>,replacements={G₋₃,₋₃|0>: 0, H₋₃,₋₃|0>: 0, G₋₃,₋₂...\n",
      " │  │  │  │  └─0\n",
      " │  │  │  ├─simp(H₋₃,₋₃H₋₂,₁|0>,replacements={G₋₃,₋₃|0>: 0, H₋₃,₋₃|0>: 0, G₋₃,₋₂...\n",
      " │  │  │  │  └─0\n",
      " │  │  │  ├─simp(G₋₃,₋₂H₋₂,₁|0>,replacements={G₋₃,₋₃|0>: 0, H₋₃,₋₃|0>: 0, G₋₃,₋₂...\n",
      " │  │  │  │  └─0\n",
      " │  │  │  ├─simp(H₋₃,₋₂H₋₂,₁|0>,replacements={G₋₃,₋₃|0>: 0, H₋₃,₋₃|0>: 0, G₋₃,₋₂...\n",
      " │  │  │  │  └─0\n",
      " │  │  │  ├─simp(G₋₃,₋₁H₋₂,₁|0>,replacements={G₋₃,₋₃|0>: 0, H₋₃,₋₃|0>: 0, G₋₃,₋₂...\n",
      " │  │  │  │  └─0\n",
      " │  │  │  ├─simp(H₋₃,₋₁H₋₂,₁|0>,replacements={G₋₃,₋₃|0>: 0, H₋₃,₋₃|0>: 0, G₋₃,₋₂...\n",
      " │  │  │  │  └─0\n",
      " │  │  │  ├─simp(G₋₂,₋₃H₋₂,₁|0>,replacements={G₋₃,₋₃|0>: 0, H₋₃,₋₃|0>: 0, G₋₃,₋₂...\n",
      " │  │  │  │  └─0\n",
      " │  │  │  ├─simp(H₋₂,₋₃H₋₂,₁|0>,replacements={G₋₃,₋₃|0>: 0, H₋₃,₋₃|0>: 0, G₋₃,₋₂...\n",
      " │  │  │  │  └─0\n",
      " │  │  │  ├─simp(G₋₂,₋₂H₋₂,₁|0>,replacements={G₋₃,₋₃|0>: 0, H₋₃,₋₃|0>: 0, G₋₃,₋₂...\n",
      " │  │  │  │  └─0\n",
      " │  │  │  ├─simp(H₋₂,₋₂H₋₂,₁|0>,replacements={G₋₃,₋₃|0>: 0, H₋₃,₋₃|0>: 0, G₋₃,₋₂...\n",
      " │  │  │  │  └─0\n",
      " │  │  │  ├─simp(G₋₂,₋₁H₋₂,₁|0>,replacements={G₋₃,₋₃|0>: 0, H₋₃,₋₃|0>: 0, G₋₃,₋₂...\n",
      " │  │  │  │  └─0\n",
      " │  │  │  ├─simp(H₋₂,₋₁H₋₂,₁|0>,replacements={G₋₃,₋₃|0>: 0, H₋₃,₋₃|0>: 0, G₋₃,₋₂...\n",
      " │  │  │  │  └─0\n",
      " │  │  │  ├─simp(G₋₂,₃H₋₂,₁|0>,replacements={G₋₃,₋₃|0>: 0, H₋₃,₋₃|0>: 0, G₋₃,₋₂|...\n",
      " │  │  │  │  └─0\n",
      " │  │  │  ├─simp(H₋₂,₃H₋₂,₁|0>,replacements={G₋₃,₋₃|0>: 0, H₋₃,₋₃|0>: 0, G₋₃,₋₂|...\n",
      " │  │  │  │  └─0\n",
      " │  │  │  ├─simp(G₋₁,₋₃H₋₂,₁|0>,replacements={G₋₃,₋₃|0>: 0, H₋₃,₋₃|0>: 0, G₋₃,₋₂...\n",
      " │  │  │  │  └─0\n",
      " │  │  │  ├─simp(H₋₁,₋₃H₋₂,₁|0>,replacements={G₋₃,₋₃|0>: 0, H₋₃,₋₃|0>: 0, G₋₃,₋₂...\n",
      " │  │  │  │  └─0\n",
      " │  │  │  ├─simp(G₋₁,₋₂H₋₂,₁|0>,replacements={G₋₃,₋₃|0>: 0, H₋₃,₋₃|0>: 0, G₋₃,₋₂...\n",
      " │  │  │  │  └─0\n",
      " │  │  │  ├─simp(H₋₁,₋₂H₋₂,₁|0>,replacements={G₋₃,₋₃|0>: 0, H₋₃,₋₃|0>: 0, G₋₃,₋₂...\n",
      " │  │  │  │  └─0\n",
      " │  │  │  ├─simp(G₋₁,₋₁H₋₂,₁|0>,replacements={G₋₃,₋₃|0>: 0, H₋₃,₋₃|0>: 0, G₋₃,₋₂...\n",
      " │  │  │  │  └─0\n",
      " │  │  │  ├─simp(H₋₁,₋₁H₋₂,₁|0>,replacements={G₋₃,₋₃|0>: 0, H₋₃,₋₃|0>: 0, G₋₃,₋₂...\n",
      " │  │  │  │  └─0\n",
      " │  │  │  ├─simp(G₋₁,₂H₋₂,₁|0>,replacements={G₋₃,₋₃|0>: 0, H₋₃,₋₃|0>: 0, G₋₃,₋₂|...\n",
      " │  │  │  │  └─0\n",
      " │  │  │  ├─simp(H₋₁,₂H₋₂,₁|0>,replacements={G₋₃,₋₃|0>: 0, H₋₃,₋₃|0>: 0, G₋₃,₋₂|...\n",
      " │  │  │  │  └─0\n",
      " │  │  │  ├─simp(G₋₁,₃H₋₂,₁|0>,replacements={G₋₃,₋₃|0>: 0, H₋₃,₋₃|0>: 0, G₋₃,₋₂|...\n",
      " │  │  │  │  └─0\n",
      " │  │  │  ├─simp(H₋₁,₃H₋₂,₁|0>,replacements={G₋₃,₋₃|0>: 0, H₋₃,₋₃|0>: 0, G₋₃,₋₂|...\n",
      " │  │  │  │  └─0\n",
      " │  │  │  ├─simp(G₂,₋₁H₋₂,₁|0>,replacements={G₋₃,₋₃|0>: 0, H₋₃,₋₃|0>: 0, G₋₃,₋₂|...\n",
      " │  │  │  │  └─0\n",
      " │  │  │  ├─simp(H₂,₋₁H₋₂,₁|0>,replacements={G₋₃,₋₃|0>: 0, H₋₃,₋₃|0>: 0, G₋₃,₋₂|...\n",
      "  warning: matrix Matrix([[1/2, -1/2, -1/2, 0, 1/2, 1/2, 0, 0, 0, 0, 0, 1/2, -1/2, 0], [-1/2, 1/2, -1/2, -1/2, 0, 0, 0, 0, 0, 0, 0, 0, -1/2, 0], [-1/2, -1/2, 1/2, -1/2, 0, 0, 0, 0, 0, 1/2, 0, 0, 0, 0], [0, -1/2, -1/2, 1/2, 0, 0, 0, 0, 0, 0, 0, 0, -1/2, 0], [0, 0, 0, -1/2, 1/2, 0, 0, 0, 0, 0, 0, -1/2, 0, 1/2], [1/2, 0, 0, 0, 0, 1/2, 0, 0, 0, 0, 0, 0, 0, -1/2], [0, 0, 0, 0, -1/2, 0, 1/2, 0, -1/2, 1/2, 0, 0, 1/2, 0], [0, -1/2, 0, 0, 0, 0, 0, 1/2, -1/2, 0, 0, 0, 0, -1/2], [0, 0, 0, 0, -1/2, 0, -1/2, 0, 1/2, 0, 0, 0, 0, 0], [0, 0, 1/2, 0, 0, 0, 1/2, -1/2, 0, 1/2, 0, -1/2, 0, 0], [0, 0, 0, 0, 0, 0, 0, -1/2, 0, 0, 1/2, -1/2, 1/2, 0], [1/2, 0, 0, 0, 0, 0, 0, -1/2, 0, -1/2, -1/2, 1/2, 0, 0], [-1/2, -1/2, 0, -1/2, 0, 0, 1/2, 0, 0, 0, 1/2, 0, 1/2, 0], [0, 0, 0, 0, 0, -1/2, 0, 0, 0, 0, 0, 0, 0, 1/2]]) not invertible, in (('Hll', 2, -1), ('Hll', -2, 1))\n",
      " │  │  │  │  └─0\n",
      " │  │  │  ├─simp(G₃,₋₂H₋₂,₁|0>,replacements={G₋₃,₋₃|0>: 0, H₋₃,₋₃|0>: 0, G₋₃,₋₂|...\n",
      " │  │  │  │  └─0\n",
      " │  │  │  ├─simp(H₃,₋₂H₋₂,₁|0>,replacements={G₋₃,₋₃|0>: 0, H₋₃,₋₃|0>: 0, G₋₃,₋₂|...\n",
      " │  │  │  │  └─0\n",
      " │  │  │  ├─simp(G₃,₋₁H₋₂,₁|0>,replacements={G₋₃,₋₃|0>: 0, H₋₃,₋₃|0>: 0, G₋₃,₋₂|...\n",
      " │  │  │  │  └─0\n",
      " │  │  │  ├─simp(H₃,₋₁H₋₂,₁|0>,replacements={G₋₃,₋₃|0>: 0, H₋₃,₋₃|0>: 0, G₋₃,₋₂|...\n",
      " │  │  │  │  └─0\n",
      " │  │  │  ├─   H₋₂,₁|0> =0\n",
      " │  │  ├─simp(H₋₂,₁|0>,replacements={G₋₃,₋₃|0>: 0, H₋₃,₋₃|0>: 0, G₋₃,₋₂|0>: 0, H...\n",
      " │  │  │  └─0\n",
      " │  ├─simp(G₋₁,₋₃G₋₃,₁|0>,replacements={G₋₃,₋₃|0>: 0, H₋₃,₋₃|0>: 0, G₋₃,₋₂|0>: 0...\n",
      " │  │  └─0\n",
      " │  ├─simp(H₋₁,₋₃G₋₃,₁|0>,replacements={G₋₃,₋₃|0>: 0, H₋₃,₋₃|0>: 0, G₋₃,₋₂|0>: 0...\n",
      " │  │  └─0\n",
      " │  ├─simp(G₋₁,₋₂G₋₃,₁|0>,replacements={G₋₃,₋₃|0>: 0, H₋₃,₋₃|0>: 0, G₋₃,₋₂|0>: 0...\n",
      " │  │  └─0\n",
      " │  ├─simp(H₋₁,₋₂G₋₃,₁|0>,replacements={G₋₃,₋₃|0>: 0, H₋₃,₋₃|0>: 0, G₋₃,₋₂|0>: 0...\n",
      " │  │  └─0\n",
      " │  ├─simp(G₋₁,₋₁G₋₃,₁|0>,replacements={G₋₃,₋₃|0>: 0, H₋₃,₋₃|0>: 0, G₋₃,₋₂|0>: 0...\n",
      " │  │  └─0\n",
      " │  ├─simp(H₋₁,₋₁G₋₃,₁|0>,replacements={G₋₃,₋₃|0>: 0, H₋₃,₋₃|0>: 0, G₋₃,₋₂|0>: 0...\n",
      " │  │  └─0\n",
      " │  ├─simp(G₋₁,₂G₋₃,₁|0>,replacements={G₋₃,₋₃|0>: 0, H₋₃,₋₃|0>: 0, G₋₃,₋₂|0>: 0,...\n",
      " │  │  └─G₋₃,₂|0>\n",
      " │  ├─coordinates(G₋₃,₂|0>,replacements={G₋₃,₋₃|0>: 0, H₋₃,₋₃|0>: 0, G₋₃,₋₂|0>: ...\n",
      " │  │  ├─coordinates(G₋₃,₂|0>,nosave=True,replacements={G₋₃,₋₃|0>: 0, H₋₃,₋₃|0>:...\n",
      " │  │  │  ├─simp(G₋₃,₂|0>,replacements={G₋₃,₋₃|0>: 0, H₋₃,₋₃|0>: 0, G₋₃,₋₂|0>: 0...\n",
      " │  │  │  │  └─G₋₃,₂|0>\n",
      " │  │  │  ├─simp(G₋₃,₋₃G₋₃,₂|0>,replacements={G₋₃,₋₃|0>: 0, H₋₃,₋₃|0>: 0, G₋₃,₋₂...\n",
      " │  │  │  │  └─0\n",
      " │  │  │  ├─simp(H₋₃,₋₃G₋₃,₂|0>,replacements={G₋₃,₋₃|0>: 0, H₋₃,₋₃|0>: 0, G₋₃,₋₂...\n",
      " │  │  │  │  └─0\n",
      " │  │  │  ├─simp(G₋₃,₋₂G₋₃,₂|0>,replacements={G₋₃,₋₃|0>: 0, H₋₃,₋₃|0>: 0, G₋₃,₋₂...\n",
      " │  │  │  │  └─0\n",
      " │  │  │  ├─simp(H₋₃,₋₂G₋₃,₂|0>,replacements={G₋₃,₋₃|0>: 0, H₋₃,₋₃|0>: 0, G₋₃,₋₂...\n",
      " │  │  │  │  └─0\n",
      " │  │  │  ├─simp(G₋₃,₋₁G₋₃,₂|0>,replacements={G₋₃,₋₃|0>: 0, H₋₃,₋₃|0>: 0, G₋₃,₋₂...\n",
      " │  │  │  │  └─0\n",
      " │  │  │  ├─simp(H₋₃,₋₁G₋₃,₂|0>,replacements={G₋₃,₋₃|0>: 0, H₋₃,₋₃|0>: 0, G₋₃,₋₂...\n",
      " │  │  │  │  └─0\n",
      " │  │  │  ├─simp(G₋₂,₋₃G₋₃,₂|0>,replacements={G₋₃,₋₃|0>: 0, H₋₃,₋₃|0>: 0, G₋₃,₋₂...\n",
      " │  │  │  │  └─0\n",
      " │  │  │  ├─simp(H₋₂,₋₃G₋₃,₂|0>,replacements={G₋₃,₋₃|0>: 0, H₋₃,₋₃|0>: 0, G₋₃,₋₂...\n",
      " │  │  │  │  └─0\n",
      " │  │  │  ├─simp(G₋₂,₋₂G₋₃,₂|0>,replacements={G₋₃,₋₃|0>: 0, H₋₃,₋₃|0>: 0, G₋₃,₋₂...\n",
      " │  │  │  │  └─0\n",
      " │  │  │  ├─simp(H₋₂,₋₂G₋₃,₂|0>,replacements={G₋₃,₋₃|0>: 0, H₋₃,₋₃|0>: 0, G₋₃,₋₂...\n",
      " │  │  │  │  └─0\n",
      " │  │  │  ├─simp(G₋₂,₋₁G₋₃,₂|0>,replacements={G₋₃,₋₃|0>: 0, H₋₃,₋₃|0>: 0, G₋₃,₋₂...\n",
      " │  │  │  │  └─0\n",
      " │  │  │  ├─simp(H₋₂,₋₁G₋₃,₂|0>,replacements={G₋₃,₋₃|0>: 0, H₋₃,₋₃|0>: 0, G₋₃,₋₂...\n",
      " │  │  │  │  └─0\n",
      " │  │  │  ├─simp(G₋₂,₃G₋₃,₂|0>,replacements={G₋₃,₋₃|0>: 0, H₋₃,₋₃|0>: 0, G₋₃,₋₂|...\n",
      " │  │  │  │  └─|0>\n",
      " │  │  │  ├─simp(H₋₂,₃G₋₃,₂|0>,replacements={G₋₃,₋₃|0>: 0, H₋₃,₋₃|0>: 0, G₋₃,₋₂|...\n",
      " │  │  │  │  └─-1/2|0>\n",
      " │  │  │  ├─simp(G₋₁,₋₃G₋₃,₂|0>,replacements={G₋₃,₋₃|0>: 0, H₋₃,₋₃|0>: 0, G₋₃,₋₂...\n",
      " │  │  │  │  └─0\n",
      " │  │  │  ├─simp(H₋₁,₋₃G₋₃,₂|0>,replacements={G₋₃,₋₃|0>: 0, H₋₃,₋₃|0>: 0, G₋₃,₋₂...\n",
      " │  │  │  │  └─0\n",
      " │  │  │  ├─simp(G₋₁,₋₂G₋₃,₂|0>,replacements={G₋₃,₋₃|0>: 0, H₋₃,₋₃|0>: 0, G₋₃,₋₂...\n",
      " │  │  │  │  └─0\n",
      " │  │  │  ├─simp(H₋₁,₋₂G₋₃,₂|0>,replacements={G₋₃,₋₃|0>: 0, H₋₃,₋₃|0>: 0, G₋₃,₋₂...\n",
      " │  │  │  │  └─0\n",
      " │  │  │  ├─simp(G₋₁,₋₁G₋₃,₂|0>,replacements={G₋₃,₋₃|0>: 0, H₋₃,₋₃|0>: 0, G₋₃,₋₂...\n",
      " │  │  │  │  └─0\n",
      " │  │  │  ├─simp(H₋₁,₋₁G₋₃,₂|0>,replacements={G₋₃,₋₃|0>: 0, H₋₃,₋₃|0>: 0, G₋₃,₋₂...\n",
      " │  │  │  │  └─0\n",
      " │  │  │  ├─simp(G₋₁,₂G₋₃,₂|0>,replacements={G₋₃,₋₃|0>: 0, H₋₃,₋₃|0>: 0, G₋₃,₋₂|...\n",
      " │  │  │  │  └─0\n",
      " │  │  │  ├─simp(H₋₁,₂G₋₃,₂|0>,replacements={G₋₃,₋₃|0>: 0, H₋₃,₋₃|0>: 0, G₋₃,₋₂|...\n",
      " │  │  │  │  └─0\n",
      " │  │  │  ├─simp(G₋₁,₃G₋₃,₂|0>,replacements={G₋₃,₋₃|0>: 0, H₋₃,₋₃|0>: 0, G₋₃,₋₂|...\n",
      " │  │  │  │  └─0\n",
      " │  │  │  ├─simp(H₋₁,₃G₋₃,₂|0>,replacements={G₋₃,₋₃|0>: 0, H₋₃,₋₃|0>: 0, G₋₃,₋₂|...\n",
      " │  │  │  │  └─0\n",
      " │  │  │  ├─simp(G₂,₋₁G₋₃,₂|0>,replacements={G₋₃,₋₃|0>: 0, H₋₃,₋₃|0>: 0, G₋₃,₋₂|...\n",
      " │  │  │  │  └─0\n"
     ]
    },
    {
     "name": "stdout",
     "output_type": "stream",
     "text": [
      " │  │  │  ├─simp(H₂,₋₁G₋₃,₂|0>,replacements={G₋₃,₋₃|0>: 0, H₋₃,₋₃|0>: 0, G₋₃,₋₂|...\n",
      " │  │  │  │  └─0\n",
      " │  │  │  ├─simp(G₃,₋₂G₋₃,₂|0>,replacements={G₋₃,₋₃|0>: 0, H₋₃,₋₃|0>: 0, G₋₃,₋₂|...\n",
      " │  │  │  │  └─-1|0>\n",
      " │  │  │  ├─simp(H₃,₋₂G₋₃,₂|0>,replacements={G₋₃,₋₃|0>: 0, H₋₃,₋₃|0>: 0, G₋₃,₋₂|...\n",
      " │  │  │  │  └─-1/2|0>\n",
      " │  │  │  ├─simp(G₃,₋₁G₋₃,₂|0>,replacements={G₋₃,₋₃|0>: 0, H₋₃,₋₃|0>: 0, G₋₃,₋₂|...\n",
      " │  │  │  │  └─0\n",
      " │  │  │  ├─simp(H₃,₋₁G₋₃,₂|0>,replacements={G₋₃,₋₃|0>: 0, H₋₃,₋₃|0>: 0, G₋₃,₋₂|...\n",
      " │  │  │  │  └─0\n",
      " │  │  ├─simp(G₋₃,₂|0>,replacements={G₋₃,₋₃|0>: 0, H₋₃,₋₃|0>: 0, G₋₃,₋₂|0>: 0, H...\n",
      " │  │  │  └─G₋₃,₂|0>\n",
      " │  ├─simp(H₋₁,₂G₋₃,₁|0>,replacements={G₋₃,₋₃|0>: 0, H₋₃,₋₃|0>: 0, G₋₃,₋₂|0>: 0,...\n",
      " │  │  └─H₋₃,₂|0>\n",
      " │  ├─coordinates(H₋₃,₂|0>,replacements={G₋₃,₋₃|0>: 0, H₋₃,₋₃|0>: 0, G₋₃,₋₂|0>: ...\n",
      " │  │  ├─coordinates(H₋₃,₂|0>,nosave=True,replacements={G₋₃,₋₃|0>: 0, H₋₃,₋₃|0>:...\n",
      " │  │  │  ├─simp(H₋₃,₂|0>,replacements={G₋₃,₋₃|0>: 0, H₋₃,₋₃|0>: 0, G₋₃,₋₂|0>: 0...\n",
      " │  │  │  │  └─H₋₃,₂|0>\n",
      " │  │  │  ├─simp(G₋₃,₋₃H₋₃,₂|0>,replacements={G₋₃,₋₃|0>: 0, H₋₃,₋₃|0>: 0, G₋₃,₋₂...\n",
      " │  │  │  │  └─0\n",
      " │  │  │  ├─simp(H₋₃,₋₃H₋₃,₂|0>,replacements={G₋₃,₋₃|0>: 0, H₋₃,₋₃|0>: 0, G₋₃,₋₂...\n",
      " │  │  │  │  └─0\n",
      " │  │  │  ├─simp(G₋₃,₋₂H₋₃,₂|0>,replacements={G₋₃,₋₃|0>: 0, H₋₃,₋₃|0>: 0, G₋₃,₋₂...\n",
      " │  │  │  │  └─0\n",
      " │  │  │  ├─simp(H₋₃,₋₂H₋₃,₂|0>,replacements={G₋₃,₋₃|0>: 0, H₋₃,₋₃|0>: 0, G₋₃,₋₂...\n",
      "  warning: matrix Matrix([[1/2, -1/2], [-1/2, 1/2]]) not invertible, in (('Hll', -3, -2), ('Hll', -3, 2))\n",
      " │  │  │  │  └─0\n",
      " │  │  │  ├─simp(G₋₃,₋₁H₋₃,₂|0>,replacements={G₋₃,₋₃|0>: 0, H₋₃,₋₃|0>: 0, G₋₃,₋₂...\n",
      " │  │  │  │  └─0\n",
      " │  │  │  ├─simp(H₋₃,₋₁H₋₃,₂|0>,replacements={G₋₃,₋₃|0>: 0, H₋₃,₋₃|0>: 0, G₋₃,₋₂...\n",
      " │  │  │  │  └─0\n",
      " │  │  │  ├─simp(G₋₂,₋₃H₋₃,₂|0>,replacements={G₋₃,₋₃|0>: 0, H₋₃,₋₃|0>: 0, G₋₃,₋₂...\n",
      " │  │  │  │  └─0\n",
      " │  │  │  ├─simp(H₋₂,₋₃H₋₃,₂|0>,replacements={G₋₃,₋₃|0>: 0, H₋₃,₋₃|0>: 0, G₋₃,₋₂...\n",
      " │  │  │  │  └─0\n",
      " │  │  │  ├─simp(G₋₂,₋₂H₋₃,₂|0>,replacements={G₋₃,₋₃|0>: 0, H₋₃,₋₃|0>: 0, G₋₃,₋₂...\n",
      " │  │  │  │  └─0\n",
      " │  │  │  ├─simp(H₋₂,₋₂H₋₃,₂|0>,replacements={G₋₃,₋₃|0>: 0, H₋₃,₋₃|0>: 0, G₋₃,₋₂...\n",
      "  warning: matrix Matrix([[1/2, -1/2], [-1/2, 1/2]]) not invertible, in (('Hll', -2, -2), ('Hll', -3, 2))\n",
      " │  │  │  │  └─0\n",
      " │  │  │  ├─simp(G₋₂,₋₁H₋₃,₂|0>,replacements={G₋₃,₋₃|0>: 0, H₋₃,₋₃|0>: 0, G₋₃,₋₂...\n",
      " │  │  │  │  └─0\n",
      " │  │  │  ├─simp(H₋₂,₋₁H₋₃,₂|0>,replacements={G₋₃,₋₃|0>: 0, H₋₃,₋₃|0>: 0, G₋₃,₋₂...\n",
      " │  │  │  │  └─0\n",
      " │  │  │  ├─simp(G₋₂,₃H₋₃,₂|0>,replacements={G₋₃,₋₃|0>: 0, H₋₃,₋₃|0>: 0, G₋₃,₋₂|...\n",
      " │  │  │  │  └─-1/2|0>\n",
      " │  │  │  ├─simp(H₋₂,₃H₋₃,₂|0>,replacements={G₋₃,₋₃|0>: 0, H₋₃,₋₃|0>: 0, G₋₃,₋₂|...\n",
      " │  │  │  │  └─1/4|0>\n",
      " │  │  │  ├─simp(G₋₁,₋₃H₋₃,₂|0>,replacements={G₋₃,₋₃|0>: 0, H₋₃,₋₃|0>: 0, G₋₃,₋₂...\n",
      " │  │  │  │  └─0\n",
      " │  │  │  ├─simp(H₋₁,₋₃H₋₃,₂|0>,replacements={G₋₃,₋₃|0>: 0, H₋₃,₋₃|0>: 0, G₋₃,₋₂...\n",
      " │  │  │  │  └─0\n",
      " │  │  │  ├─simp(G₋₁,₋₂H₋₃,₂|0>,replacements={G₋₃,₋₃|0>: 0, H₋₃,₋₃|0>: 0, G₋₃,₋₂...\n",
      " │  │  │  │  └─0\n",
      " │  │  │  ├─simp(H₋₁,₋₂H₋₃,₂|0>,replacements={G₋₃,₋₃|0>: 0, H₋₃,₋₃|0>: 0, G₋₃,₋₂...\n",
      "  warning: matrix Matrix([[1/2, -1/2], [-1/2, 1/2]]) not invertible, in (('Hll', -1, -2), ('Hll', -3, 2))\n",
      " │  │  │  │  └─0\n",
      " │  │  │  ├─simp(G₋₁,₋₁H₋₃,₂|0>,replacements={G₋₃,₋₃|0>: 0, H₋₃,₋₃|0>: 0, G₋₃,₋₂...\n",
      " │  │  │  │  └─0\n",
      " │  │  │  ├─simp(H₋₁,₋₁H₋₃,₂|0>,replacements={G₋₃,₋₃|0>: 0, H₋₃,₋₃|0>: 0, G₋₃,₋₂...\n",
      " │  │  │  │  └─0\n",
      " │  │  │  ├─simp(G₋₁,₂H₋₃,₂|0>,replacements={G₋₃,₋₃|0>: 0, H₋₃,₋₃|0>: 0, G₋₃,₋₂|...\n",
      " │  │  │  │  └─0\n",
      " │  │  │  ├─simp(H₋₁,₂H₋₃,₂|0>,replacements={G₋₃,₋₃|0>: 0, H₋₃,₋₃|0>: 0, G₋₃,₋₂|...\n",
      " │  │  │  │  └─0\n",
      " │  │  │  ├─simp(G₋₁,₃H₋₃,₂|0>,replacements={G₋₃,₋₃|0>: 0, H₋₃,₋₃|0>: 0, G₋₃,₋₂|...\n",
      " │  │  │  │  └─0\n",
      " │  │  │  ├─simp(H₋₁,₃H₋₃,₂|0>,replacements={G₋₃,₋₃|0>: 0, H₋₃,₋₃|0>: 0, G₋₃,₋₂|...\n",
      " │  │  │  │  └─0\n",
      " │  │  │  ├─simp(G₂,₋₁H₋₃,₂|0>,replacements={G₋₃,₋₃|0>: 0, H₋₃,₋₃|0>: 0, G₋₃,₋₂|...\n",
      " │  │  │  │  └─0\n",
      " │  │  │  ├─simp(H₂,₋₁H₋₃,₂|0>,replacements={G₋₃,₋₃|0>: 0, H₋₃,₋₃|0>: 0, G₋₃,₋₂|...\n",
      " │  │  │  │  └─0\n",
      " │  │  │  ├─simp(G₃,₋₂H₋₃,₂|0>,replacements={G₋₃,₋₃|0>: 0, H₋₃,₋₃|0>: 0, G₋₃,₋₂|...\n",
      " │  │  │  │  └─1/2|0>\n",
      " │  │  │  ├─simp(H₃,₋₂H₋₃,₂|0>,replacements={G₋₃,₋₃|0>: 0, H₋₃,₋₃|0>: 0, G₋₃,₋₂|...\n",
      "  warning: matrix Matrix([[1/2, 0, 0, 0, 0, 0, 0, 0, 0, 0, 0, 0, 0], [0, 1/2, 0, 0, 0, -1/2, 0, 0, 0, -1/2, 0, 0, 0], [0, 0, 1/2, -1/2, -1/2, 0, 0, 0, 0, 0, -1/2, 0, 0], [0, 0, -1/2, 1/2, 0, 0, 0, 0, 0, 0, -1/2, 0, 1/2], [0, 0, -1/2, 0, 1/2, 1/2, 0, 1/2, 0, 0, -1/2, 0, 0], [0, -1/2, 0, 0, 1/2, 1/2, 0, 0, 0, -1/2, 0, 0, 1/2], [0, 0, 0, 0, 0, 0, 1/2, 0, -1/2, -1/2, -1/2, 0, 0], [0, 0, 0, -1/2, 0, -1/2, 0, 1/2, 0, 0, 0, 0, 0], [0, 1/2, 0, 0, 0, 1/2, -1/2, 0, 1/2, 0, -1/2, 0, 0], [0, 0, 0, 0, 0, 0, -1/2, 0, 0, 1/2, -1/2, 1/2, 0], [1/2, 0, 0, 0, 0, 0, -1/2, 0, -1/2, -1/2, 1/2, 0, 0], [0, 0, 0, 0, 0, 0, 0, 0, -1/2, 0, 0, 1/2, 0], [0, 0, 0, 0, -1/2, 0, 0, 0, 0, 0, 0, 0, 1/2]]) not invertible, in (('Hll', 3, -2), ('Hll', -3, 2))\n",
      "  warning: matrix Matrix([[1/2, 0, 0], [0, 1/2, -1/2], [1/2, -1/2, 1/2]]) not invertible, in (('Hll', 3, -2), ('Hll', -3, 2))\n",
      " │  │  │  │  └─1/4|0>\n",
      " │  │  │  ├─simp(G₃,₋₁H₋₃,₂|0>,replacements={G₋₃,₋₃|0>: 0, H₋₃,₋₃|0>: 0, G₋₃,₋₂|...\n",
      " │  │  │  │  └─0\n",
      " │  │  │  ├─simp(H₃,₋₁H₋₃,₂|0>,replacements={G₋₃,₋₃|0>: 0, H₋₃,₋₃|0>: 0, G₋₃,₋₂|...\n",
      " │  │  │  │  └─0\n",
      " │  │  │  ├─  computed coordinates matrix for  H₋₃,₂|0>\n",
      " │  │  ├─simp(H₋₃,₂|0>,replacements={G₋₃,₋₃|0>: 0, H₋₃,₋₃|0>: 0, G₋₃,₋₂|0>: 0, H...\n",
      " │  │  │  └─H₋₃,₂|0>\n",
      " │  ├─simp(G₋₁,₃G₋₃,₁|0>,replacements={G₋₃,₋₃|0>: 0, H₋₃,₋₃|0>: 0, G₋₃,₋₂|0>: 0,...\n",
      " │  │  └─|0>\n",
      " │  ├─simp(H₋₁,₃G₋₃,₁|0>,replacements={G₋₃,₋₃|0>: 0, H₋₃,₋₃|0>: 0, G₋₃,₋₂|0>: 0,...\n",
      " │  │  └─-1/2|0>\n",
      " │  ├─simp(G₂,₋₁G₋₃,₁|0>,replacements={G₋₃,₋₃|0>: 0, H₋₃,₋₃|0>: 0, G₋₃,₋₂|0>: 0,...\n",
      " │  │  └─-G₋₃,₂|0>\n",
      " │  ├─simp(H₂,₋₁G₋₃,₁|0>,replacements={G₋₃,₋₃|0>: 0, H₋₃,₋₃|0>: 0, G₋₃,₋₂|0>: 0,...\n",
      " │  │  └─H₂,₋₃|0>\n",
      " │  ├─coordinates(H₂,₋₃|0>,replacements={G₋₃,₋₃|0>: 0, H₋₃,₋₃|0>: 0, G₋₃,₋₂|0>: ...\n",
      " │  │  ├─coordinates(H₂,₋₃|0>,nosave=True,replacements={G₋₃,₋₃|0>: 0, H₋₃,₋₃|0>:...\n",
      " │  │  │  ├─simp(H₂,₋₃|0>,replacements={G₋₃,₋₃|0>: 0, H₋₃,₋₃|0>: 0, G₋₃,₋₂|0>: 0...\n",
      " │  │  │  │  └─H₂,₋₃|0>\n",
      " │  │  │  ├─simp(G₋₃,₋₃H₂,₋₃|0>,replacements={G₋₃,₋₃|0>: 0, H₋₃,₋₃|0>: 0, G₋₃,₋₂...\n",
      " │  │  │  │  └─0\n",
      " │  │  │  ├─simp(H₋₃,₋₃H₂,₋₃|0>,replacements={G₋₃,₋₃|0>: 0, H₋₃,₋₃|0>: 0, G₋₃,₋₂...\n",
      " │  │  │  │  └─0\n",
      " │  │  │  ├─simp(G₋₃,₋₂H₂,₋₃|0>,replacements={G₋₃,₋₃|0>: 0, H₋₃,₋₃|0>: 0, G₋₃,₋₂...\n",
      " │  │  │  │  └─0\n",
      " │  │  │  ├─simp(H₋₃,₋₂H₂,₋₃|0>,replacements={G₋₃,₋₃|0>: 0, H₋₃,₋₃|0>: 0, G₋₃,₋₂...\n",
      " │  │  │  │  └─0\n",
      " │  │  │  ├─simp(G₋₃,₋₁H₂,₋₃|0>,replacements={G₋₃,₋₃|0>: 0, H₋₃,₋₃|0>: 0, G₋₃,₋₂...\n",
      " │  │  │  │  └─0\n",
      " │  │  │  ├─simp(H₋₃,₋₁H₂,₋₃|0>,replacements={G₋₃,₋₃|0>: 0, H₋₃,₋₃|0>: 0, G₋₃,₋₂...\n",
      " │  │  │  │  └─0\n",
      " │  │  │  ├─simp(G₋₂,₋₃H₂,₋₃|0>,replacements={G₋₃,₋₃|0>: 0, H₋₃,₋₃|0>: 0, G₋₃,₋₂...\n",
      " │  │  │  │  └─0\n",
      " │  │  │  ├─simp(H₋₂,₋₃H₂,₋₃|0>,replacements={G₋₃,₋₃|0>: 0, H₋₃,₋₃|0>: 0, G₋₃,₋₂...\n",
      "  warning: matrix Matrix([[1/2, -1/2], [-1/2, 1/2]]) not invertible, in (('Hll', -2, -3), ('Hll', 2, -3))\n",
      " │  │  │  │  └─0\n",
      " │  │  │  ├─simp(G₋₂,₋₂H₂,₋₃|0>,replacements={G₋₃,₋₃|0>: 0, H₋₃,₋₃|0>: 0, G₋₃,₋₂...\n",
      " │  │  │  │  └─0\n",
      " │  │  │  ├─simp(H₋₂,₋₂H₂,₋₃|0>,replacements={G₋₃,₋₃|0>: 0, H₋₃,₋₃|0>: 0, G₋₃,₋₂...\n",
      "  warning: matrix Matrix([[1/2, -1/2], [-1/2, 1/2]]) not invertible, in (('Hll', -2, -2), ('Hll', 2, -3))\n",
      " │  │  │  │  └─0\n",
      " │  │  │  ├─simp(G₋₂,₋₁H₂,₋₃|0>,replacements={G₋₃,₋₃|0>: 0, H₋₃,₋₃|0>: 0, G₋₃,₋₂...\n",
      " │  │  │  │  └─0\n",
      " │  │  │  ├─simp(H₋₂,₋₁H₂,₋₃|0>,replacements={G₋₃,₋₃|0>: 0, H₋₃,₋₃|0>: 0, G₋₃,₋₂...\n",
      "  warning: matrix Matrix([[1/2, -1/2], [-1/2, 1/2]]) not invertible, in (('Hll', -2, -1), ('Hll', 2, -3))\n",
      " │  │  │  │  └─0\n",
      " │  │  │  ├─simp(G₋₂,₃H₂,₋₃|0>,replacements={G₋₃,₋₃|0>: 0, H₋₃,₋₃|0>: 0, G₋₃,₋₂|...\n",
      " │  │  │  │  └─-1/2|0>\n",
      " │  │  │  ├─simp(H₋₂,₃H₂,₋₃|0>,replacements={G₋₃,₋₃|0>: 0, H₋₃,₋₃|0>: 0, G₋₃,₋₂|...\n",
      " │  │  │  │  └─1/4|0>\n",
      " │  │  │  ├─simp(G₋₁,₋₃H₂,₋₃|0>,replacements={G₋₃,₋₃|0>: 0, H₋₃,₋₃|0>: 0, G₋₃,₋₂...\n",
      " │  │  │  │  └─0\n",
      " │  │  │  ├─simp(H₋₁,₋₃H₂,₋₃|0>,replacements={G₋₃,₋₃|0>: 0, H₋₃,₋₃|0>: 0, G₋₃,₋₂...\n",
      " │  │  │  │  └─0\n",
      " │  │  │  ├─simp(G₋₁,₋₂H₂,₋₃|0>,replacements={G₋₃,₋₃|0>: 0, H₋₃,₋₃|0>: 0, G₋₃,₋₂...\n",
      " │  │  │  │  └─0\n",
      " │  │  │  ├─simp(H₋₁,₋₂H₂,₋₃|0>,replacements={G₋₃,₋₃|0>: 0, H₋₃,₋₃|0>: 0, G₋₃,₋₂...\n",
      " │  │  │  │  └─0\n",
      " │  │  │  ├─simp(G₋₁,₋₁H₂,₋₃|0>,replacements={G₋₃,₋₃|0>: 0, H₋₃,₋₃|0>: 0, G₋₃,₋₂...\n",
      " │  │  │  │  └─0\n",
      " │  │  │  ├─simp(H₋₁,₋₁H₂,₋₃|0>,replacements={G₋₃,₋₃|0>: 0, H₋₃,₋₃|0>: 0, G₋₃,₋₂...\n",
      " │  │  │  │  └─0\n",
      " │  │  │  ├─simp(G₋₁,₂H₂,₋₃|0>,replacements={G₋₃,₋₃|0>: 0, H₋₃,₋₃|0>: 0, G₋₃,₋₂|...\n",
      " │  │  │  │  └─0\n"
     ]
    },
    {
     "name": "stdout",
     "output_type": "stream",
     "text": [
      " │  │  │  ├─simp(H₋₁,₂H₂,₋₃|0>,replacements={G₋₃,₋₃|0>: 0, H₋₃,₋₃|0>: 0, G₋₃,₋₂|...\n",
      " │  │  │  │  └─0\n",
      " │  │  │  ├─simp(G₋₁,₃H₂,₋₃|0>,replacements={G₋₃,₋₃|0>: 0, H₋₃,₋₃|0>: 0, G₋₃,₋₂|...\n",
      " │  │  │  │  └─0\n",
      " │  │  │  ├─simp(H₋₁,₃H₂,₋₃|0>,replacements={G₋₃,₋₃|0>: 0, H₋₃,₋₃|0>: 0, G₋₃,₋₂|...\n",
      " │  │  │  │  └─0\n",
      " │  │  │  ├─simp(G₂,₋₁H₂,₋₃|0>,replacements={G₋₃,₋₃|0>: 0, H₋₃,₋₃|0>: 0, G₋₃,₋₂|...\n",
      " │  │  │  │  └─0\n",
      " │  │  │  ├─simp(H₂,₋₁H₂,₋₃|0>,replacements={G₋₃,₋₃|0>: 0, H₋₃,₋₃|0>: 0, G₋₃,₋₂|...\n",
      " │  │  │  │  └─0\n",
      " │  │  │  ├─simp(G₃,₋₂H₂,₋₃|0>,replacements={G₋₃,₋₃|0>: 0, H₋₃,₋₃|0>: 0, G₋₃,₋₂|...\n",
      " │  │  │  │  └─1/2|0>\n",
      " │  │  │  ├─simp(H₃,₋₂H₂,₋₃|0>,replacements={G₋₃,₋₃|0>: 0, H₋₃,₋₃|0>: 0, G₋₃,₋₂|...\n",
      " │  │  │  │  └─1/4|0>\n",
      " │  │  │  ├─simp(G₃,₋₁H₂,₋₃|0>,replacements={G₋₃,₋₃|0>: 0, H₋₃,₋₃|0>: 0, G₋₃,₋₂|...\n",
      " │  │  │  │  └─0\n",
      " │  │  │  ├─simp(H₃,₋₁H₂,₋₃|0>,replacements={G₋₃,₋₃|0>: 0, H₋₃,₋₃|0>: 0, G₋₃,₋₂|...\n",
      " │  │  │  │  └─0\n",
      " │  │  │  ├─  computed coordinates matrix for  H₂,₋₃|0>\n",
      " │  │  ├─simp(H₂,₋₃|0>,replacements={G₋₃,₋₃|0>: 0, H₋₃,₋₃|0>: 0, G₋₃,₋₂|0>: 0, H...\n",
      " │  │  │  └─H₂,₋₃|0>\n",
      " │  ├─simp(G₃,₋₂G₋₃,₁|0>,replacements={G₋₃,₋₃|0>: 0, H₋₃,₋₃|0>: 0, G₋₃,₋₂|0>: 0,...\n",
      " │  │  └─0\n",
      " │  ├─simp(H₃,₋₂G₋₃,₁|0>,replacements={G₋₃,₋₃|0>: 0, H₋₃,₋₃|0>: 0, G₋₃,₋₂|0>: 0,...\n",
      " │  │  └─-H₁,₋₂|0>\n",
      " │  ├─coordinates(-H₁,₋₂|0>,replacements={G₋₃,₋₃|0>: 0, H₋₃,₋₃|0>: 0, G₋₃,₋₂|0>:...\n",
      " │  │  ├─coordinates(-H₁,₋₂|0>,nosave=True,replacements={G₋₃,₋₃|0>: 0, H₋₃,₋₃|0>...\n",
      " │  │  │  ├─simp(-H₁,₋₂|0>,replacements={G₋₃,₋₃|0>: 0, H₋₃,₋₃|0>: 0, G₋₃,₋₂|0>: ...\n",
      " │  │  │  │  └─-H₁,₋₂|0>\n",
      " │  │  │  ├─simp(G₋₃,₋₃H₁,₋₂|0>,replacements={G₋₃,₋₃|0>: 0, H₋₃,₋₃|0>: 0, G₋₃,₋₂...\n",
      " │  │  │  │  └─0\n",
      " │  │  │  ├─simp(H₋₃,₋₃H₁,₋₂|0>,replacements={G₋₃,₋₃|0>: 0, H₋₃,₋₃|0>: 0, G₋₃,₋₂...\n",
      " │  │  │  │  └─0\n",
      " │  │  │  ├─simp(G₋₃,₋₂H₁,₋₂|0>,replacements={G₋₃,₋₃|0>: 0, H₋₃,₋₃|0>: 0, G₋₃,₋₂...\n",
      " │  │  │  │  └─0\n",
      " │  │  │  ├─simp(H₋₃,₋₂H₁,₋₂|0>,replacements={G₋₃,₋₃|0>: 0, H₋₃,₋₃|0>: 0, G₋₃,₋₂...\n",
      " │  │  │  │  └─0\n",
      " │  │  │  ├─simp(G₋₃,₋₁H₁,₋₂|0>,replacements={G₋₃,₋₃|0>: 0, H₋₃,₋₃|0>: 0, G₋₃,₋₂...\n",
      " │  │  │  │  └─0\n",
      " │  │  │  ├─simp(H₋₃,₋₁H₁,₋₂|0>,replacements={G₋₃,₋₃|0>: 0, H₋₃,₋₃|0>: 0, G₋₃,₋₂...\n",
      " │  │  │  │  └─0\n",
      " │  │  │  ├─simp(G₋₂,₋₃H₁,₋₂|0>,replacements={G₋₃,₋₃|0>: 0, H₋₃,₋₃|0>: 0, G₋₃,₋₂...\n",
      " │  │  │  │  └─0\n",
      " │  │  │  ├─simp(H₋₂,₋₃H₁,₋₂|0>,replacements={G₋₃,₋₃|0>: 0, H₋₃,₋₃|0>: 0, G₋₃,₋₂...\n",
      " │  │  │  │  └─0\n",
      " │  │  │  ├─simp(G₋₂,₋₂H₁,₋₂|0>,replacements={G₋₃,₋₃|0>: 0, H₋₃,₋₃|0>: 0, G₋₃,₋₂...\n",
      " │  │  │  │  └─0\n",
      " │  │  │  ├─simp(H₋₂,₋₂H₁,₋₂|0>,replacements={G₋₃,₋₃|0>: 0, H₋₃,₋₃|0>: 0, G₋₃,₋₂...\n",
      " │  │  │  │  └─0\n",
      " │  │  │  ├─simp(G₋₂,₋₁H₁,₋₂|0>,replacements={G₋₃,₋₃|0>: 0, H₋₃,₋₃|0>: 0, G₋₃,₋₂...\n",
      " │  │  │  │  └─0\n",
      " │  │  │  ├─simp(H₋₂,₋₁H₁,₋₂|0>,replacements={G₋₃,₋₃|0>: 0, H₋₃,₋₃|0>: 0, G₋₃,₋₂...\n",
      " │  │  │  │  └─0\n",
      " │  │  │  ├─simp(G₋₂,₃H₁,₋₂|0>,replacements={G₋₃,₋₃|0>: 0, H₋₃,₋₃|0>: 0, G₋₃,₋₂|...\n",
      " │  │  │  │  └─0\n",
      " │  │  │  ├─simp(H₋₂,₃H₁,₋₂|0>,replacements={G₋₃,₋₃|0>: 0, H₋₃,₋₃|0>: 0, G₋₃,₋₂|...\n",
      " │  │  │  │  └─0\n",
      " │  │  │  ├─simp(G₋₁,₋₃H₁,₋₂|0>,replacements={G₋₃,₋₃|0>: 0, H₋₃,₋₃|0>: 0, G₋₃,₋₂...\n",
      " │  │  │  │  └─0\n",
      " │  │  │  ├─simp(H₋₁,₋₃H₁,₋₂|0>,replacements={G₋₃,₋₃|0>: 0, H₋₃,₋₃|0>: 0, G₋₃,₋₂...\n",
      " │  │  │  │  └─0\n",
      " │  │  │  ├─simp(G₋₁,₋₂H₁,₋₂|0>,replacements={G₋₃,₋₃|0>: 0, H₋₃,₋₃|0>: 0, G₋₃,₋₂...\n",
      " │  │  │  │  └─0\n",
      " │  │  │  ├─simp(H₋₁,₋₂H₁,₋₂|0>,replacements={G₋₃,₋₃|0>: 0, H₋₃,₋₃|0>: 0, G₋₃,₋₂...\n",
      " │  │  │  │  └─0\n",
      " │  │  │  ├─simp(G₋₁,₋₁H₁,₋₂|0>,replacements={G₋₃,₋₃|0>: 0, H₋₃,₋₃|0>: 0, G₋₃,₋₂...\n",
      " │  │  │  │  └─0\n",
      " │  │  │  ├─simp(H₋₁,₋₁H₁,₋₂|0>,replacements={G₋₃,₋₃|0>: 0, H₋₃,₋₃|0>: 0, G₋₃,₋₂...\n",
      " │  │  │  │  └─0\n",
      " │  │  │  ├─simp(G₋₁,₂H₁,₋₂|0>,replacements={G₋₃,₋₃|0>: 0, H₋₃,₋₃|0>: 0, G₋₃,₋₂|...\n",
      " │  │  │  │  └─0\n",
      " │  │  │  ├─simp(H₋₁,₂H₁,₋₂|0>,replacements={G₋₃,₋₃|0>: 0, H₋₃,₋₃|0>: 0, G₋₃,₋₂|...\n",
      " │  │  │  │  └─0\n",
      " │  │  │  ├─simp(G₋₁,₃H₁,₋₂|0>,replacements={G₋₃,₋₃|0>: 0, H₋₃,₋₃|0>: 0, G₋₃,₋₂|...\n",
      " │  │  │  │  └─0\n",
      " │  │  │  ├─simp(H₋₁,₃H₁,₋₂|0>,replacements={G₋₃,₋₃|0>: 0, H₋₃,₋₃|0>: 0, G₋₃,₋₂|...\n",
      " │  │  │  │  └─0\n",
      " │  │  │  ├─simp(G₂,₋₁H₁,₋₂|0>,replacements={G₋₃,₋₃|0>: 0, H₋₃,₋₃|0>: 0, G₋₃,₋₂|...\n",
      " │  │  │  │  └─0\n",
      " │  │  │  ├─simp(H₂,₋₁H₁,₋₂|0>,replacements={G₋₃,₋₃|0>: 0, H₋₃,₋₃|0>: 0, G₋₃,₋₂|...\n",
      " │  │  │  │  └─0\n",
      " │  │  │  ├─simp(G₃,₋₂H₁,₋₂|0>,replacements={G₋₃,₋₃|0>: 0, H₋₃,₋₃|0>: 0, G₋₃,₋₂|...\n",
      " │  │  │  │  └─0\n",
      " │  │  │  ├─simp(H₃,₋₂H₁,₋₂|0>,replacements={G₋₃,₋₃|0>: 0, H₋₃,₋₃|0>: 0, G₋₃,₋₂|...\n",
      " │  │  │  │  └─0\n",
      " │  │  │  ├─simp(G₃,₋₁H₁,₋₂|0>,replacements={G₋₃,₋₃|0>: 0, H₋₃,₋₃|0>: 0, G₋₃,₋₂|...\n",
      " │  │  │  │  └─0\n",
      " │  │  │  ├─simp(H₃,₋₁H₁,₋₂|0>,replacements={G₋₃,₋₃|0>: 0, H₋₃,₋₃|0>: 0, G₋₃,₋₂|...\n",
      " │  │  │  │  └─0\n",
      " │  │  │  ├─   H₁,₋₂|0> =0\n",
      " │  │  ├─simp(H₁,₋₂|0>,replacements={G₋₃,₋₃|0>: 0, H₋₃,₋₃|0>: 0, G₋₃,₋₂|0>: 0, H...\n",
      " │  │  │  └─0\n",
      " │  ├─simp(G₃,₋₁G₋₃,₁|0>,replacements={G₋₃,₋₃|0>: 0, H₋₃,₋₃|0>: 0, G₋₃,₋₂|0>: 0,...\n",
      " │  │  └─-1|0>\n",
      " │  ├─simp(H₃,₋₁G₋₃,₁|0>,replacements={G₋₃,₋₃|0>: 0, H₋₃,₋₃|0>: 0, G₋₃,₋₂|0>: 0,...\n",
      " │  │  └─-1/2|0>\n",
      " ├─simp(G₋₃,₁|0>,replacements={G₋₃,₋₃|0>: 0, H₋₃,₋₃|0>: 0, G₋₃,₋₂|0>: 0, H₋₃,₋₂|...\n",
      " │  └─G₋₃,₁|0>\n",
      "done in 5.0534 s\n",
      "computing coordinates of  G₋₃,₂|0>\n",
      "done in 0.0003 s\n",
      "computing coordinates of  G₁,₂|0>\n",
      "coordinates(G₁,₂|0>,replacements={G₋₃,₋₃|0>: 0, H₋₃,₋₃|0>: 0, G₋₃,₋₂|0>: 0, H₋₃,...\n",
      " ├─coordinates(G₁,₂|0>,nosave=True,replacements={G₋₃,₋₃|0>: 0, H₋₃,₋₃|0>: 0, G₋₃...\n",
      " │  ├─simp(G₁,₂|0>,replacements={G₋₃,₋₃|0>: 0, H₋₃,₋₃|0>: 0, G₋₃,₋₂|0>: 0, H₋₃,₋...\n",
      " │  │  └─G₁,₂|0>\n",
      " │  ├─simp(G₋₃,₋₃G₁,₂|0>,replacements={G₋₃,₋₃|0>: 0, H₋₃,₋₃|0>: 0, G₋₃,₋₂|0>: 0,...\n",
      " │  │  └─0\n",
      " │  ├─simp(H₋₃,₋₃G₁,₂|0>,replacements={G₋₃,₋₃|0>: 0, H₋₃,₋₃|0>: 0, G₋₃,₋₂|0>: 0,...\n",
      " │  │  └─0\n",
      " │  ├─simp(G₋₃,₋₂G₁,₂|0>,replacements={G₋₃,₋₃|0>: 0, H₋₃,₋₃|0>: 0, G₋₃,₋₂|0>: 0,...\n",
      " │  │  └─G₋₃,₁|0>\n",
      " │  ├─simp(H₋₃,₋₂G₁,₂|0>,replacements={G₋₃,₋₃|0>: 0, H₋₃,₋₃|0>: 0, G₋₃,₋₂|0>: 0,...\n",
      " │  │  └─H₋₃,₁|0>\n",
      " │  ├─coordinates(H₋₃,₁|0>,replacements={G₋₃,₋₃|0>: 0, H₋₃,₋₃|0>: 0, G₋₃,₋₂|0>: ...\n",
      " │  │  ├─coordinates(H₋₃,₁|0>,nosave=True,replacements={G₋₃,₋₃|0>: 0, H₋₃,₋₃|0>:...\n",
      " │  │  │  ├─simp(H₋₃,₁|0>,replacements={G₋₃,₋₃|0>: 0, H₋₃,₋₃|0>: 0, G₋₃,₋₂|0>: 0...\n",
      " │  │  │  │  └─H₋₃,₁|0>\n",
      " │  │  │  ├─simp(G₋₃,₋₃H₋₃,₁|0>,replacements={G₋₃,₋₃|0>: 0, H₋₃,₋₃|0>: 0, G₋₃,₋₂...\n",
      " │  │  │  │  └─0\n",
      " │  │  │  ├─simp(H₋₃,₋₃H₋₃,₁|0>,replacements={G₋₃,₋₃|0>: 0, H₋₃,₋₃|0>: 0, G₋₃,₋₂...\n",
      " │  │  │  │  └─0\n",
      " │  │  │  ├─simp(G₋₃,₋₂H₋₃,₁|0>,replacements={G₋₃,₋₃|0>: 0, H₋₃,₋₃|0>: 0, G₋₃,₋₂...\n",
      " │  │  │  │  └─0\n",
      " │  │  │  ├─simp(H₋₃,₋₂H₋₃,₁|0>,replacements={G₋₃,₋₃|0>: 0, H₋₃,₋₃|0>: 0, G₋₃,₋₂...\n",
      " │  │  │  │  └─0\n",
      " │  │  │  ├─simp(G₋₃,₋₁H₋₃,₁|0>,replacements={G₋₃,₋₃|0>: 0, H₋₃,₋₃|0>: 0, G₋₃,₋₂...\n",
      " │  │  │  │  └─0\n",
      " │  │  │  ├─simp(H₋₃,₋₁H₋₃,₁|0>,replacements={G₋₃,₋₃|0>: 0, H₋₃,₋₃|0>: 0, G₋₃,₋₂...\n",
      " │  │  │  │  └─0\n",
      " │  │  │  ├─simp(G₋₂,₋₃H₋₃,₁|0>,replacements={G₋₃,₋₃|0>: 0, H₋₃,₋₃|0>: 0, G₋₃,₋₂...\n",
      " │  │  │  │  └─0\n",
      " │  │  │  ├─simp(H₋₂,₋₃H₋₃,₁|0>,replacements={G₋₃,₋₃|0>: 0, H₋₃,₋₃|0>: 0, G₋₃,₋₂...\n",
      " │  │  │  │  └─0\n",
      " │  │  │  ├─simp(G₋₂,₋₂H₋₃,₁|0>,replacements={G₋₃,₋₃|0>: 0, H₋₃,₋₃|0>: 0, G₋₃,₋₂...\n",
      " │  │  │  │  └─0\n",
      " │  │  │  ├─simp(H₋₂,₋₂H₋₃,₁|0>,replacements={G₋₃,₋₃|0>: 0, H₋₃,₋₃|0>: 0, G₋₃,₋₂...\n",
      " │  │  │  │  └─0\n",
      " │  │  │  ├─simp(G₋₂,₋₁H₋₃,₁|0>,replacements={G₋₃,₋₃|0>: 0, H₋₃,₋₃|0>: 0, G₋₃,₋₂...\n",
      " │  │  │  │  └─0\n",
      " │  │  │  ├─simp(H₋₂,₋₁H₋₃,₁|0>,replacements={G₋₃,₋₃|0>: 0, H₋₃,₋₃|0>: 0, G₋₃,₋₂...\n",
      "  warning: matrix Matrix([[1/2, -1/2], [-1/2, 1/2]]) not invertible, in (('Hll', -2, -1), ('Hll', -3, 1))\n",
      " │  │  │  │  └─0\n",
      " │  │  │  ├─simp(G₋₂,₃H₋₃,₁|0>,replacements={G₋₃,₋₃|0>: 0, H₋₃,₋₃|0>: 0, G₋₃,₋₂|...\n",
      " │  │  │  │  └─0\n",
      " │  │  │  ├─simp(H₋₂,₃H₋₃,₁|0>,replacements={G₋₃,₋₃|0>: 0, H₋₃,₋₃|0>: 0, G₋₃,₋₂|...\n",
      " │  │  │  │  └─0\n",
      " │  │  │  ├─simp(G₋₁,₋₃H₋₃,₁|0>,replacements={G₋₃,₋₃|0>: 0, H₋₃,₋₃|0>: 0, G₋₃,₋₂...\n",
      " │  │  │  │  └─0\n",
      " │  │  │  ├─simp(H₋₁,₋₃H₋₃,₁|0>,replacements={G₋₃,₋₃|0>: 0, H₋₃,₋₃|0>: 0, G₋₃,₋₂...\n",
      " │  │  │  │  └─0\n",
      " │  │  │  ├─simp(G₋₁,₋₂H₋₃,₁|0>,replacements={G₋₃,₋₃|0>: 0, H₋₃,₋₃|0>: 0, G₋₃,₋₂...\n",
      " │  │  │  │  └─0\n",
      " │  │  │  ├─simp(H₋₁,₋₂H₋₃,₁|0>,replacements={G₋₃,₋₃|0>: 0, H₋₃,₋₃|0>: 0, G₋₃,₋₂...\n",
      " │  │  │  │  └─0\n",
      " │  │  │  ├─simp(G₋₁,₋₁H₋₃,₁|0>,replacements={G₋₃,₋₃|0>: 0, H₋₃,₋₃|0>: 0, G₋₃,₋₂...\n",
      " │  │  │  │  └─0\n",
      " │  │  │  ├─simp(H₋₁,₋₁H₋₃,₁|0>,replacements={G₋₃,₋₃|0>: 0, H₋₃,₋₃|0>: 0, G₋₃,₋₂...\n",
      "  warning: matrix Matrix([[1/2, -1/2], [-1/2, 1/2]]) not invertible, in (('Hll', -1, -1), ('Hll', -3, 1))\n",
      " │  │  │  │  └─0\n",
      " │  │  │  ├─simp(G₋₁,₂H₋₃,₁|0>,replacements={G₋₃,₋₃|0>: 0, H₋₃,₋₃|0>: 0, G₋₃,₋₂|...\n",
      " │  │  │  │  └─H₋₃,₂|0>\n",
      " │  │  │  ├─simp(H₋₁,₂H₋₃,₁|0>,replacements={G₋₃,₋₃|0>: 0, H₋₃,₋₃|0>: 0, G₋₃,₋₂|...\n",
      " │  │  │  │  └─-1/4G₋₃,₂|0>-H₋₃,₂|0>\n",
      " │  │  │  ├─coordinates(-1/4G₋₃,₂|0>-H₋₃,₂|0>,replacements={G₋₃,₋₃|0>: 0, H₋₃,₋₃...\n",
      " │  │  │  │  ├─simp(-1/4G₋₃,₂|0>-H₋₃,₂|0>,replacements={G₋₃,₋₃|0>: 0, H₋₃,₋₃|0>:...\n",
      " │  │  │  │  │  └─-1/4G₋₃,₂|0>-H₋₃,₂|0>\n",
      " │  │  │  ├─simp(G₋₁,₃H₋₃,₁|0>,replacements={G₋₃,₋₃|0>: 0, H₋₃,₋₃|0>: 0, G₋₃,₋₂|...\n",
      " │  │  │  │  └─-1/2|0>\n",
      " │  │  │  ├─simp(H₋₁,₃H₋₃,₁|0>,replacements={G₋₃,₋₃|0>: 0, H₋₃,₋₃|0>: 0, G₋₃,₋₂|...\n",
      " │  │  │  │  └─1/4|0>\n"
     ]
    },
    {
     "name": "stdout",
     "output_type": "stream",
     "text": [
      " │  │  │  ├─simp(G₂,₋₁H₋₃,₁|0>,replacements={G₋₃,₋₃|0>: 0, H₋₃,₋₃|0>: 0, G₋₃,₋₂|...\n",
      " │  │  │  │  └─-H₋₃,₂|0>\n",
      " │  │  │  ├─simp(H₂,₋₁H₋₃,₁|0>,replacements={G₋₃,₋₃|0>: 0, H₋₃,₋₃|0>: 0, G₋₃,₋₂|...\n",
      "  warning: matrix Matrix([[1/2, -1/2], [-1/2, 1/2]]) not invertible, in (('Hll', 2, -1), ('Hll', -3, 1))\n",
      " │  │  │  │  └─-3/8H₋₃,₂|0>-1/8H₂,₋₃|0>\n",
      " │  │  │  ├─coordinates(-3/8H₋₃,₂|0>-1/8H₂,₋₃|0>,replacements={G₋₃,₋₃|0>: 0, H₋₃...\n",
      " │  │  │  │  ├─simp(-3/8H₋₃,₂|0>-1/8H₂,₋₃|0>,replacements={G₋₃,₋₃|0>: 0, H₋₃,₋₃|...\n",
      " │  │  │  │  │  └─-3/8H₋₃,₂|0>-1/8H₂,₋₃|0>\n",
      " │  │  │  ├─simp(G₃,₋₂H₋₃,₁|0>,replacements={G₋₃,₋₃|0>: 0, H₋₃,₋₃|0>: 0, G₋₃,₋₂|...\n",
      " │  │  │  │  └─0\n",
      " │  │  │  ├─simp(H₃,₋₂H₋₃,₁|0>,replacements={G₋₃,₋₃|0>: 0, H₋₃,₋₃|0>: 0, G₋₃,₋₂|...\n",
      " │  │  │  │  └─0\n",
      " │  │  │  ├─simp(G₃,₋₁H₋₃,₁|0>,replacements={G₋₃,₋₃|0>: 0, H₋₃,₋₃|0>: 0, G₋₃,₋₂|...\n",
      " │  │  │  │  └─1/2|0>\n",
      " │  │  │  ├─simp(H₃,₋₁H₋₃,₁|0>,replacements={G₋₃,₋₃|0>: 0, H₋₃,₋₃|0>: 0, G₋₃,₋₂|...\n",
      " │  │  │  │  └─1/4|0>\n",
      " │  │  │  ├─  computed coordinates matrix for  H₋₃,₂|0>\n",
      " │  │  │  ├─  computed coordinates matrix for  H₂,₋₃|0>\n",
      " │  │  │  ├─  computed coordinates matrix for  H₋₃,₁|0>\n",
      " │  │  ├─simp(H₋₃,₁|0>,replacements={G₋₃,₋₃|0>: 0, H₋₃,₋₃|0>: 0, G₋₃,₋₂|0>: 0, H...\n",
      " │  │  │  └─-1/2G₋₃,₁|0>\n",
      " │  ├─simp(G₋₃,₋₁G₁,₂|0>,replacements={G₋₃,₋₃|0>: 0, H₋₃,₋₃|0>: 0, G₋₃,₋₂|0>: 0,...\n",
      " │  │  └─-G₋₃,₂|0>\n",
      " │  ├─simp(H₋₃,₋₁G₁,₂|0>,replacements={G₋₃,₋₃|0>: 0, H₋₃,₋₃|0>: 0, G₋₃,₋₂|0>: 0,...\n",
      " │  │  └─1/2G₋₃,₂|0>\n",
      " │  ├─simp(G₋₂,₋₃G₁,₂|0>,replacements={G₋₃,₋₃|0>: 0, H₋₃,₋₃|0>: 0, G₋₃,₋₂|0>: 0,...\n",
      " │  │  └─-G₋₃,₁|0>\n",
      " │  ├─simp(H₋₂,₋₃G₁,₂|0>,replacements={G₋₃,₋₃|0>: 0, H₋₃,₋₃|0>: 0, G₋₃,₋₂|0>: 0,...\n",
      " │  │  └─H₁,₋₃|0>\n",
      " │  ├─coordinates(H₁,₋₃|0>,replacements={G₋₃,₋₃|0>: 0, H₋₃,₋₃|0>: 0, G₋₃,₋₂|0>: ...\n",
      " │  │  ├─coordinates(H₁,₋₃|0>,nosave=True,replacements={G₋₃,₋₃|0>: 0, H₋₃,₋₃|0>:...\n",
      " │  │  │  ├─simp(H₁,₋₃|0>,replacements={G₋₃,₋₃|0>: 0, H₋₃,₋₃|0>: 0, G₋₃,₋₂|0>: 0...\n",
      " │  │  │  │  └─H₁,₋₃|0>\n",
      " │  │  │  ├─simp(G₋₃,₋₃H₁,₋₃|0>,replacements={G₋₃,₋₃|0>: 0, H₋₃,₋₃|0>: 0, G₋₃,₋₂...\n",
      " │  │  │  │  └─0\n",
      " │  │  │  ├─simp(H₋₃,₋₃H₁,₋₃|0>,replacements={G₋₃,₋₃|0>: 0, H₋₃,₋₃|0>: 0, G₋₃,₋₂...\n",
      " │  │  │  │  └─0\n",
      " │  │  │  ├─simp(G₋₃,₋₂H₁,₋₃|0>,replacements={G₋₃,₋₃|0>: 0, H₋₃,₋₃|0>: 0, G₋₃,₋₂...\n",
      " │  │  │  │  └─0\n",
      " │  │  │  ├─simp(H₋₃,₋₂H₁,₋₃|0>,replacements={G₋₃,₋₃|0>: 0, H₋₃,₋₃|0>: 0, G₋₃,₋₂...\n",
      " │  │  │  │  └─0\n",
      " │  │  │  ├─simp(G₋₃,₋₁H₁,₋₃|0>,replacements={G₋₃,₋₃|0>: 0, H₋₃,₋₃|0>: 0, G₋₃,₋₂...\n",
      " │  │  │  │  └─0\n",
      " │  │  │  ├─simp(H₋₃,₋₁H₁,₋₃|0>,replacements={G₋₃,₋₃|0>: 0, H₋₃,₋₃|0>: 0, G₋₃,₋₂...\n",
      " │  │  │  │  └─0\n",
      " │  │  │  ├─simp(G₋₂,₋₃H₁,₋₃|0>,replacements={G₋₃,₋₃|0>: 0, H₋₃,₋₃|0>: 0, G₋₃,₋₂...\n",
      " │  │  │  │  └─0\n",
      " │  │  │  ├─simp(H₋₂,₋₃H₁,₋₃|0>,replacements={G₋₃,₋₃|0>: 0, H₋₃,₋₃|0>: 0, G₋₃,₋₂...\n",
      " │  │  │  │  └─0\n",
      " │  │  │  ├─simp(G₋₂,₋₂H₁,₋₃|0>,replacements={G₋₃,₋₃|0>: 0, H₋₃,₋₃|0>: 0, G₋₃,₋₂...\n",
      " │  │  │  │  └─0\n",
      " │  │  │  ├─simp(H₋₂,₋₂H₁,₋₃|0>,replacements={G₋₃,₋₃|0>: 0, H₋₃,₋₃|0>: 0, G₋₃,₋₂...\n",
      " │  │  │  │  └─0\n",
      " │  │  │  ├─simp(G₋₂,₋₁H₁,₋₃|0>,replacements={G₋₃,₋₃|0>: 0, H₋₃,₋₃|0>: 0, G₋₃,₋₂...\n",
      " │  │  │  │  └─0\n",
      " │  │  │  ├─simp(H₋₂,₋₁H₁,₋₃|0>,replacements={G₋₃,₋₃|0>: 0, H₋₃,₋₃|0>: 0, G₋₃,₋₂...\n",
      " │  │  │  │  └─0\n",
      " │  │  │  ├─simp(G₋₂,₃H₁,₋₃|0>,replacements={G₋₃,₋₃|0>: 0, H₋₃,₋₃|0>: 0, G₋₃,₋₂|...\n",
      " │  │  │  │  └─0\n",
      " │  │  │  ├─simp(H₋₂,₃H₁,₋₃|0>,replacements={G₋₃,₋₃|0>: 0, H₋₃,₋₃|0>: 0, G₋₃,₋₂|...\n",
      " │  │  │  │  └─0\n",
      " │  │  │  ├─simp(G₋₁,₋₃H₁,₋₃|0>,replacements={G₋₃,₋₃|0>: 0, H₋₃,₋₃|0>: 0, G₋₃,₋₂...\n",
      " │  │  │  │  └─0\n",
      " │  │  │  ├─simp(H₋₁,₋₃H₁,₋₃|0>,replacements={G₋₃,₋₃|0>: 0, H₋₃,₋₃|0>: 0, G₋₃,₋₂...\n",
      " │  │  │  │  └─0\n",
      " │  │  │  ├─simp(G₋₁,₋₂H₁,₋₃|0>,replacements={G₋₃,₋₃|0>: 0, H₋₃,₋₃|0>: 0, G₋₃,₋₂...\n",
      " │  │  │  │  └─0\n",
      " │  │  │  ├─simp(H₋₁,₋₂H₁,₋₃|0>,replacements={G₋₃,₋₃|0>: 0, H₋₃,₋₃|0>: 0, G₋₃,₋₂...\n",
      "  warning: matrix Matrix([[1/2, -1/2], [-1/2, 1/2]]) not invertible, in (('Hll', -1, -2), ('Hll', 1, -3))\n",
      " │  │  │  │  └─0\n",
      " │  │  │  ├─simp(G₋₁,₋₁H₁,₋₃|0>,replacements={G₋₃,₋₃|0>: 0, H₋₃,₋₃|0>: 0, G₋₃,₋₂...\n",
      " │  │  │  │  └─0\n",
      " │  │  │  ├─simp(H₋₁,₋₁H₁,₋₃|0>,replacements={G₋₃,₋₃|0>: 0, H₋₃,₋₃|0>: 0, G₋₃,₋₂...\n",
      "  warning: matrix Matrix([[1/2, -1/2], [-1/2, 1/2]]) not invertible, in (('Hll', -1, -1), ('Hll', 1, -3))\n",
      " │  │  │  │  └─0\n",
      " │  │  │  ├─simp(G₋₁,₂H₁,₋₃|0>,replacements={G₋₃,₋₃|0>: 0, H₋₃,₋₃|0>: 0, G₋₃,₋₂|...\n",
      " │  │  │  │  └─-1/2G₋₃,₂|0>\n",
      " │  │  │  ├─simp(H₋₁,₂H₁,₋₃|0>,replacements={G₋₃,₋₃|0>: 0, H₋₃,₋₃|0>: 0, G₋₃,₋₂|...\n",
      "  warning: matrix Matrix([[1/2, -1/2], [-1/2, 1/2]]) not invertible, in (('Hll', -1, 2), ('Hll', 1, -3))\n",
      " │  │  │  │  └─1/4G₋₃,₂|0>\n",
      " │  │  │  ├─simp(G₋₁,₃H₁,₋₃|0>,replacements={G₋₃,₋₃|0>: 0, H₋₃,₋₃|0>: 0, G₋₃,₋₂|...\n",
      " │  │  │  │  └─-1/2|0>\n",
      " │  │  │  ├─simp(H₋₁,₃H₁,₋₃|0>,replacements={G₋₃,₋₃|0>: 0, H₋₃,₋₃|0>: 0, G₋₃,₋₂|...\n",
      " │  │  │  │  └─1/4|0>\n",
      " │  │  │  ├─simp(G₂,₋₁H₁,₋₃|0>,replacements={G₋₃,₋₃|0>: 0, H₋₃,₋₃|0>: 0, G₋₃,₋₂|...\n",
      " │  │  │  │  └─1/2G₋₃,₂|0>\n",
      " │  │  │  ├─simp(H₂,₋₁H₁,₋₃|0>,replacements={G₋₃,₋₃|0>: 0, H₋₃,₋₃|0>: 0, G₋₃,₋₂|...\n",
      " │  │  │  │  └─1/4G₋₃,₂|0>\n",
      " │  │  │  ├─simp(G₃,₋₂H₁,₋₃|0>,replacements={G₋₃,₋₃|0>: 0, H₋₃,₋₃|0>: 0, G₋₃,₋₂|...\n",
      " │  │  │  │  └─0\n",
      " │  │  │  ├─simp(H₃,₋₂H₁,₋₃|0>,replacements={G₋₃,₋₃|0>: 0, H₋₃,₋₃|0>: 0, G₋₃,₋₂|...\n",
      " │  │  │  │  └─0\n",
      " │  │  │  ├─simp(G₃,₋₁H₁,₋₃|0>,replacements={G₋₃,₋₃|0>: 0, H₋₃,₋₃|0>: 0, G₋₃,₋₂|...\n",
      " │  │  │  │  └─1/2|0>\n",
      " │  │  │  ├─simp(H₃,₋₁H₁,₋₃|0>,replacements={G₋₃,₋₃|0>: 0, H₋₃,₋₃|0>: 0, G₋₃,₋₂|...\n",
      " │  │  │  │  └─1/4|0>\n",
      " │  │  │  ├─  computed coordinates matrix for  H₁,₋₃|0>\n",
      " │  │  ├─simp(H₁,₋₃|0>,replacements={G₋₃,₋₃|0>: 0, H₋₃,₋₃|0>: 0, G₋₃,₋₂|0>: 0, H...\n",
      " │  │  │  └─-1/2G₋₃,₁|0>\n",
      " │  ├─simp(G₋₂,₋₂G₁,₂|0>,replacements={G₋₃,₋₃|0>: 0, H₋₃,₋₃|0>: 0, G₋₃,₋₂|0>: 0,...\n",
      " │  │  └─0\n",
      " │  ├─simp(H₋₂,₋₂G₁,₂|0>,replacements={G₋₃,₋₃|0>: 0, H₋₃,₋₃|0>: 0, G₋₃,₋₂|0>: 0,...\n",
      " │  │  └─0\n",
      " │  ├─simp(G₋₂,₋₁G₁,₂|0>,replacements={G₋₃,₋₃|0>: 0, H₋₃,₋₃|0>: 0, G₋₃,₋₂|0>: 0,...\n",
      " │  │  └─2|0>\n",
      " │  ├─simp(H₋₂,₋₁G₁,₂|0>,replacements={G₋₃,₋₃|0>: 0, H₋₃,₋₃|0>: 0, G₋₃,₋₂|0>: 0,...\n",
      " │  │  └─0\n",
      " │  ├─simp(G₋₂,₃G₁,₂|0>,replacements={G₋₃,₋₃|0>: 0, H₋₃,₋₃|0>: 0, G₋₃,₋₂|0>: 0, ...\n",
      " │  │  └─G₁,₃|0>\n",
      " │  ├─coordinates(G₁,₃|0>,replacements={G₋₃,₋₃|0>: 0, H₋₃,₋₃|0>: 0, G₋₃,₋₂|0>: 0...\n",
      " │  │  ├─coordinates(G₁,₃|0>,nosave=True,replacements={G₋₃,₋₃|0>: 0, H₋₃,₋₃|0>: ...\n",
      " │  │  │  ├─simp(G₁,₃|0>,replacements={G₋₃,₋₃|0>: 0, H₋₃,₋₃|0>: 0, G₋₃,₋₂|0>: 0,...\n",
      " │  │  │  │  └─G₁,₃|0>\n",
      " │  │  │  ├─simp(G₋₃,₋₃G₁,₃|0>,replacements={G₋₃,₋₃|0>: 0, H₋₃,₋₃|0>: 0, G₋₃,₋₂|...\n",
      " │  │  │  │  └─0\n",
      " │  │  │  ├─simp(H₋₃,₋₃G₁,₃|0>,replacements={G₋₃,₋₃|0>: 0, H₋₃,₋₃|0>: 0, G₋₃,₋₂|...\n",
      " │  │  │  │  └─-G₋₃,₁|0>\n",
      " │  │  │  ├─simp(G₋₃,₋₂G₁,₃|0>,replacements={G₋₃,₋₃|0>: 0, H₋₃,₋₃|0>: 0, G₋₃,₋₂|...\n",
      " │  │  │  │  └─0\n",
      " │  │  │  ├─simp(H₋₃,₋₂G₁,₃|0>,replacements={G₋₃,₋₃|0>: 0, H₋₃,₋₃|0>: 0, G₋₃,₋₂|...\n",
      " │  │  │  │  └─0\n",
      " │  │  │  ├─simp(G₋₃,₋₁G₁,₃|0>,replacements={G₋₃,₋₃|0>: 0, H₋₃,₋₃|0>: 0, G₋₃,₋₂|...\n",
      " │  │  │  │  └─|0>\n",
      " │  │  │  ├─simp(H₋₃,₋₁G₁,₃|0>,replacements={G₋₃,₋₃|0>: 0, H₋₃,₋₃|0>: 0, G₋₃,₋₂|...\n",
      " │  │  │  │  └─1/2|0>\n",
      " │  │  │  ├─simp(G₋₂,₋₃G₁,₃|0>,replacements={G₋₃,₋₃|0>: 0, H₋₃,₋₃|0>: 0, G₋₃,₋₂|...\n",
      " │  │  │  │  └─0\n",
      " │  │  │  ├─simp(H₋₂,₋₃G₁,₃|0>,replacements={G₋₃,₋₃|0>: 0, H₋₃,₋₃|0>: 0, G₋₃,₋₂|...\n",
      " │  │  │  │  └─0\n",
      " │  │  │  ├─simp(G₋₂,₋₂G₁,₃|0>,replacements={G₋₃,₋₃|0>: 0, H₋₃,₋₃|0>: 0, G₋₃,₋₂|...\n",
      " │  │  │  │  └─0\n",
      " │  │  │  ├─simp(H₋₂,₋₂G₁,₃|0>,replacements={G₋₃,₋₃|0>: 0, H₋₃,₋₃|0>: 0, G₋₃,₋₂|...\n",
      " │  │  │  │  └─0\n",
      " │  │  │  ├─simp(G₋₂,₋₁G₁,₃|0>,replacements={G₋₃,₋₃|0>: 0, H₋₃,₋₃|0>: 0, G₋₃,₋₂|...\n",
      " │  │  │  │  └─0\n",
      " │  │  │  ├─simp(H₋₂,₋₁G₁,₃|0>,replacements={G₋₃,₋₃|0>: 0, H₋₃,₋₃|0>: 0, G₋₃,₋₂|...\n",
      " │  │  │  │  └─0\n",
      " │  │  │  ├─simp(G₋₂,₃G₁,₃|0>,replacements={G₋₃,₋₃|0>: 0, H₋₃,₋₃|0>: 0, G₋₃,₋₂|0...\n",
      " │  │  │  │  └─0\n",
      " │  │  │  ├─simp(H₋₂,₃G₁,₃|0>,replacements={G₋₃,₋₃|0>: 0, H₋₃,₋₃|0>: 0, G₋₃,₋₂|0...\n",
      " │  │  │  │  └─0\n",
      " │  │  │  ├─simp(G₋₁,₋₃G₁,₃|0>,replacements={G₋₃,₋₃|0>: 0, H₋₃,₋₃|0>: 0, G₋₃,₋₂|...\n",
      " │  │  │  │  └─-1|0>\n",
      " │  │  │  ├─simp(H₋₁,₋₃G₁,₃|0>,replacements={G₋₃,₋₃|0>: 0, H₋₃,₋₃|0>: 0, G₋₃,₋₂|...\n",
      " │  │  │  │  └─1/2|0>\n",
      " │  │  │  ├─simp(G₋₁,₋₂G₁,₃|0>,replacements={G₋₃,₋₃|0>: 0, H₋₃,₋₃|0>: 0, G₋₃,₋₂|...\n",
      " │  │  │  │  └─0\n",
      " │  │  │  ├─simp(H₋₁,₋₂G₁,₃|0>,replacements={G₋₃,₋₃|0>: 0, H₋₃,₋₃|0>: 0, G₋₃,₋₂|...\n",
      " │  │  │  │  └─0\n",
      " │  │  │  ├─simp(G₋₁,₋₁G₁,₃|0>,replacements={G₋₃,₋₃|0>: 0, H₋₃,₋₃|0>: 0, G₋₃,₋₂|...\n",
      " │  │  │  │  └─0\n",
      " │  │  │  ├─simp(H₋₁,₋₁G₁,₃|0>,replacements={G₋₃,₋₃|0>: 0, H₋₃,₋₃|0>: 0, G₋₃,₋₂|...\n",
      " │  │  │  │  └─0\n",
      " │  │  │  ├─simp(G₋₁,₂G₁,₃|0>,replacements={G₋₃,₋₃|0>: 0, H₋₃,₋₃|0>: 0, G₋₃,₋₂|0...\n",
      " │  │  │  │  └─G₂,₃|0>\n",
      " │  │  │  ├─coordinates(G₂,₃|0>,replacements={G₋₃,₋₃|0>: 0, H₋₃,₋₃|0>: 0, G₋₃,₋₂...\n",
      " │  │  │  │  ├─coordinates(G₂,₃|0>,nosave=True,replacements={G₋₃,₋₃|0>: 0, H₋₃,₋...\n",
      " │  │  │  │  │  ├─simp(G₂,₃|0>,replacements={G₋₃,₋₃|0>: 0, H₋₃,₋₃|0>: 0, G₋₃,₋₂|...\n",
      " │  │  │  │  │  │  └─G₂,₃|0>\n",
      " │  │  │  │  │  ├─simp(G₋₃,₋₃G₂,₃|0>,replacements={G₋₃,₋₃|0>: 0, H₋₃,₋₃|0>: 0, G...\n",
      " │  │  │  │  │  │  └─0\n"
     ]
    },
    {
     "name": "stdout",
     "output_type": "stream",
     "text": [
      " │  │  │  │  │  ├─simp(H₋₃,₋₃G₂,₃|0>,replacements={G₋₃,₋₃|0>: 0, H₋₃,₋₃|0>: 0, G...\n",
      " │  │  │  │  │  │  └─-G₋₃,₂|0>\n",
      " │  │  │  │  │  ├─simp(G₋₃,₋₂G₂,₃|0>,replacements={G₋₃,₋₃|0>: 0, H₋₃,₋₃|0>: 0, G...\n",
      " │  │  │  │  │  │  └─|0>\n",
      " │  │  │  │  │  ├─simp(H₋₃,₋₂G₂,₃|0>,replacements={G₋₃,₋₃|0>: 0, H₋₃,₋₃|0>: 0, G...\n",
      " │  │  │  │  │  │  └─1/2|0>\n",
      " │  │  │  │  │  ├─simp(G₋₃,₋₁G₂,₃|0>,replacements={G₋₃,₋₃|0>: 0, H₋₃,₋₃|0>: 0, G...\n",
      " │  │  │  │  │  │  └─0\n",
      " │  │  │  │  │  ├─simp(H₋₃,₋₁G₂,₃|0>,replacements={G₋₃,₋₃|0>: 0, H₋₃,₋₃|0>: 0, G...\n",
      " │  │  │  │  │  │  └─0\n",
      " │  │  │  │  │  ├─simp(G₋₂,₋₃G₂,₃|0>,replacements={G₋₃,₋₃|0>: 0, H₋₃,₋₃|0>: 0, G...\n",
      " │  │  │  │  │  │  └─-1|0>\n",
      " │  │  │  │  │  ├─simp(H₋₂,₋₃G₂,₃|0>,replacements={G₋₃,₋₃|0>: 0, H₋₃,₋₃|0>: 0, G...\n",
      " │  │  │  │  │  │  └─1/2|0>\n",
      " │  │  │  │  │  ├─simp(G₋₂,₋₂G₂,₃|0>,replacements={G₋₃,₋₃|0>: 0, H₋₃,₋₃|0>: 0, G...\n",
      " │  │  │  │  │  │  └─0\n",
      " │  │  │  │  │  ├─simp(H₋₂,₋₂G₂,₃|0>,replacements={G₋₃,₋₃|0>: 0, H₋₃,₋₃|0>: 0, G...\n",
      " │  │  │  │  │  │  └─0\n",
      " │  │  │  │  │  ├─simp(G₋₂,₋₁G₂,₃|0>,replacements={G₋₃,₋₃|0>: 0, H₋₃,₋₃|0>: 0, G...\n",
      " │  │  │  │  │  │  └─0\n",
      " │  │  │  │  │  ├─simp(H₋₂,₋₁G₂,₃|0>,replacements={G₋₃,₋₃|0>: 0, H₋₃,₋₃|0>: 0, G...\n",
      " │  │  │  │  │  │  └─0\n",
      " │  │  │  │  │  ├─simp(G₋₂,₃G₂,₃|0>,replacements={G₋₃,₋₃|0>: 0, H₋₃,₋₃|0>: 0, G₋...\n",
      " │  │  │  │  │  │  └─0\n",
      " │  │  │  │  │  ├─simp(H₋₂,₃G₂,₃|0>,replacements={G₋₃,₋₃|0>: 0, H₋₃,₋₃|0>: 0, G₋...\n",
      " │  │  │  │  │  │  └─-H₃,₃|0>\n",
      " │  │  │  │  │  ├─coordinates(-H₃,₃|0>,replacements={G₋₃,₋₃|0>: 0, H₋₃,₋₃|0>: 0,...\n",
      " │  │  │  │  │  │  ├─coordinates(-H₃,₃|0>,nosave=True,replacements={G₋₃,₋₃|0>: 0...\n",
      " │  │  │  │  │  │  │  ├─simp(-H₃,₃|0>,replacements={G₋₃,₋₃|0>: 0, H₋₃,₋₃|0>: 0, ...\n",
      " │  │  │  │  │  │  │  │  └─-H₃,₃|0>\n",
      " │  │  │  │  │  │  │  ├─simp(G₋₃,₋₃H₃,₃|0>,replacements={G₋₃,₋₃|0>: 0, H₋₃,₋₃|0>...\n",
      " │  │  │  │  │  │  │  │  └─0\n",
      " │  │  │  │  │  │  │  ├─simp(H₋₃,₋₃H₃,₃|0>,replacements={G₋₃,₋₃|0>: 0, H₋₃,₋₃|0>...\n",
      " │  │  │  │  │  │  │  │  └─0\n",
      " │  │  │  │  │  │  │  ├─simp(G₋₃,₋₂H₃,₃|0>,replacements={G₋₃,₋₃|0>: 0, H₋₃,₋₃|0>...\n",
      " │  │  │  │  │  │  │  │  └─0\n",
      " │  │  │  │  │  │  │  ├─simp(H₋₃,₋₂H₃,₃|0>,replacements={G₋₃,₋₃|0>: 0, H₋₃,₋₃|0>...\n",
      " │  │  │  │  │  │  │  │  └─0\n",
      " │  │  │  │  │  │  │  ├─simp(G₋₃,₋₁H₃,₃|0>,replacements={G₋₃,₋₃|0>: 0, H₋₃,₋₃|0>...\n",
      " │  │  │  │  │  │  │  │  └─0\n",
      " │  │  │  │  │  │  │  ├─simp(H₋₃,₋₁H₃,₃|0>,replacements={G₋₃,₋₃|0>: 0, H₋₃,₋₃|0>...\n",
      " │  │  │  │  │  │  │  │  └─0\n",
      " │  │  │  │  │  │  │  ├─simp(G₋₂,₋₃H₃,₃|0>,replacements={G₋₃,₋₃|0>: 0, H₋₃,₋₃|0>...\n",
      " │  │  │  │  │  │  │  │  └─0\n",
      " │  │  │  │  │  │  │  ├─simp(H₋₂,₋₃H₃,₃|0>,replacements={G₋₃,₋₃|0>: 0, H₋₃,₋₃|0>...\n",
      " │  │  │  │  │  │  │  │  └─0\n",
      " │  │  │  │  │  │  │  ├─simp(G₋₂,₋₂H₃,₃|0>,replacements={G₋₃,₋₃|0>: 0, H₋₃,₋₃|0>...\n",
      " │  │  │  │  │  │  │  │  └─0\n",
      " │  │  │  │  │  │  │  ├─simp(H₋₂,₋₂H₃,₃|0>,replacements={G₋₃,₋₃|0>: 0, H₋₃,₋₃|0>...\n",
      " │  │  │  │  │  │  │  │  └─0\n",
      " │  │  │  │  │  │  │  ├─simp(G₋₂,₋₁H₃,₃|0>,replacements={G₋₃,₋₃|0>: 0, H₋₃,₋₃|0>...\n",
      " │  │  │  │  │  │  │  │  └─0\n",
      " │  │  │  │  │  │  │  ├─simp(H₋₂,₋₁H₃,₃|0>,replacements={G₋₃,₋₃|0>: 0, H₋₃,₋₃|0>...\n",
      " │  │  │  │  │  │  │  │  └─0\n",
      " │  │  │  │  │  │  │  ├─simp(G₋₂,₃H₃,₃|0>,replacements={G₋₃,₋₃|0>: 0, H₋₃,₋₃|0>:...\n",
      " │  │  │  │  │  │  │  │  └─0\n",
      " │  │  │  │  │  │  │  ├─simp(H₋₂,₃H₃,₃|0>,replacements={G₋₃,₋₃|0>: 0, H₋₃,₋₃|0>:...\n",
      " │  │  │  │  │  │  │  │  └─0\n",
      " │  │  │  │  │  │  │  ├─simp(G₋₁,₋₃H₃,₃|0>,replacements={G₋₃,₋₃|0>: 0, H₋₃,₋₃|0>...\n",
      " │  │  │  │  │  │  │  │  └─0\n",
      " │  │  │  │  │  │  │  ├─simp(H₋₁,₋₃H₃,₃|0>,replacements={G₋₃,₋₃|0>: 0, H₋₃,₋₃|0>...\n",
      " │  │  │  │  │  │  │  │  └─0\n",
      " │  │  │  │  │  │  │  ├─simp(G₋₁,₋₂H₃,₃|0>,replacements={G₋₃,₋₃|0>: 0, H₋₃,₋₃|0>...\n",
      " │  │  │  │  │  │  │  │  └─0\n",
      " │  │  │  │  │  │  │  ├─simp(H₋₁,₋₂H₃,₃|0>,replacements={G₋₃,₋₃|0>: 0, H₋₃,₋₃|0>...\n",
      " │  │  │  │  │  │  │  │  └─0\n",
      " │  │  │  │  │  │  │  ├─simp(G₋₁,₋₁H₃,₃|0>,replacements={G₋₃,₋₃|0>: 0, H₋₃,₋₃|0>...\n",
      " │  │  │  │  │  │  │  │  └─0\n",
      " │  │  │  │  │  │  │  ├─simp(H₋₁,₋₁H₃,₃|0>,replacements={G₋₃,₋₃|0>: 0, H₋₃,₋₃|0>...\n",
      " │  │  │  │  │  │  │  │  └─0\n",
      " │  │  │  │  │  │  │  ├─simp(G₋₁,₂H₃,₃|0>,replacements={G₋₃,₋₃|0>: 0, H₋₃,₋₃|0>:...\n",
      " │  │  │  │  │  │  │  │  └─0\n",
      " │  │  │  │  │  │  │  ├─simp(H₋₁,₂H₃,₃|0>,replacements={G₋₃,₋₃|0>: 0, H₋₃,₋₃|0>:...\n",
      " │  │  │  │  │  │  │  │  └─0\n",
      " │  │  │  │  │  │  │  ├─simp(G₋₁,₃H₃,₃|0>,replacements={G₋₃,₋₃|0>: 0, H₋₃,₋₃|0>:...\n",
      " │  │  │  │  │  │  │  │  └─0\n",
      " │  │  │  │  │  │  │  ├─simp(H₋₁,₃H₃,₃|0>,replacements={G₋₃,₋₃|0>: 0, H₋₃,₋₃|0>:...\n",
      " │  │  │  │  │  │  │  │  └─0\n",
      " │  │  │  │  │  │  │  ├─simp(G₂,₋₁H₃,₃|0>,replacements={G₋₃,₋₃|0>: 0, H₋₃,₋₃|0>:...\n",
      " │  │  │  │  │  │  │  │  └─0\n",
      " │  │  │  │  │  │  │  ├─simp(H₂,₋₁H₃,₃|0>,replacements={G₋₃,₋₃|0>: 0, H₋₃,₋₃|0>:...\n",
      " │  │  │  │  │  │  │  │  └─0\n",
      " │  │  │  │  │  │  │  ├─simp(G₃,₋₂H₃,₃|0>,replacements={G₋₃,₋₃|0>: 0, H₋₃,₋₃|0>:...\n",
      " │  │  │  │  │  │  │  │  └─0\n",
      " │  │  │  │  │  │  │  ├─simp(H₃,₋₂H₃,₃|0>,replacements={G₋₃,₋₃|0>: 0, H₋₃,₋₃|0>:...\n",
      " │  │  │  │  │  │  │  │  └─0\n",
      " │  │  │  │  │  │  │  ├─simp(G₃,₋₁H₃,₃|0>,replacements={G₋₃,₋₃|0>: 0, H₋₃,₋₃|0>:...\n",
      " │  │  │  │  │  │  │  │  └─0\n",
      " │  │  │  │  │  │  │  ├─simp(H₃,₋₁H₃,₃|0>,replacements={G₋₃,₋₃|0>: 0, H₋₃,₋₃|0>:...\n",
      " │  │  │  │  │  │  │  │  └─0\n",
      " │  │  │  │  │  │  │  ├─   H₃,₃|0> =0\n",
      " │  │  │  │  │  │  ├─simp(H₃,₃|0>,replacements={G₋₃,₋₃|0>: 0, H₋₃,₋₃|0>: 0, G₋₃,...\n",
      " │  │  │  │  │  │  │  └─0\n",
      " │  │  │  │  │  ├─simp(G₋₁,₋₃G₂,₃|0>,replacements={G₋₃,₋₃|0>: 0, H₋₃,₋₃|0>: 0, G...\n",
      " │  │  │  │  │  │  └─0\n",
      " │  │  │  │  │  ├─simp(H₋₁,₋₃G₂,₃|0>,replacements={G₋₃,₋₃|0>: 0, H₋₃,₋₃|0>: 0, G...\n",
      " │  │  │  │  │  │  └─0\n",
      " │  │  │  │  │  ├─simp(G₋₁,₋₂G₂,₃|0>,replacements={G₋₃,₋₃|0>: 0, H₋₃,₋₃|0>: 0, G...\n",
      " │  │  │  │  │  │  └─0\n",
      " │  │  │  │  │  ├─simp(H₋₁,₋₂G₂,₃|0>,replacements={G₋₃,₋₃|0>: 0, H₋₃,₋₃|0>: 0, G...\n",
      " │  │  │  │  │  │  └─0\n",
      " │  │  │  │  │  ├─simp(G₋₁,₋₁G₂,₃|0>,replacements={G₋₃,₋₃|0>: 0, H₋₃,₋₃|0>: 0, G...\n",
      " │  │  │  │  │  │  └─0\n",
      " │  │  │  │  │  ├─simp(H₋₁,₋₁G₂,₃|0>,replacements={G₋₃,₋₃|0>: 0, H₋₃,₋₃|0>: 0, G...\n",
      " │  │  │  │  │  │  └─0\n",
      " │  │  │  │  │  ├─simp(G₋₁,₂G₂,₃|0>,replacements={G₋₃,₋₃|0>: 0, H₋₃,₋₃|0>: 0, G₋...\n",
      " │  │  │  │  │  │  └─0\n",
      " │  │  │  │  │  ├─simp(H₋₁,₂G₂,₃|0>,replacements={G₋₃,₋₃|0>: 0, H₋₃,₋₃|0>: 0, G₋...\n",
      " │  │  │  │  │  │  └─0\n",
      " │  │  │  │  │  ├─simp(G₋₁,₃G₂,₃|0>,replacements={G₋₃,₋₃|0>: 0, H₋₃,₋₃|0>: 0, G₋...\n",
      " │  │  │  │  │  │  └─0\n",
      " │  │  │  │  │  ├─simp(H₋₁,₃G₂,₃|0>,replacements={G₋₃,₋₃|0>: 0, H₋₃,₋₃|0>: 0, G₋...\n",
      " │  │  │  │  │  │  └─0\n",
      " │  │  │  │  │  ├─simp(G₂,₋₁G₂,₃|0>,replacements={G₋₃,₋₃|0>: 0, H₋₃,₋₃|0>: 0, G₋...\n",
      " │  │  │  │  │  │  └─0\n",
      " │  │  │  │  │  ├─simp(H₂,₋₁G₂,₃|0>,replacements={G₋₃,₋₃|0>: 0, H₋₃,₋₃|0>: 0, G₋...\n",
      " │  │  │  │  │  │  └─0\n",
      " │  │  │  │  │  ├─simp(G₃,₋₂G₂,₃|0>,replacements={G₋₃,₋₃|0>: 0, H₋₃,₋₃|0>: 0, G₋...\n",
      " │  │  │  │  │  │  └─0\n",
      " │  │  │  │  │  ├─simp(H₃,₋₂G₂,₃|0>,replacements={G₋₃,₋₃|0>: 0, H₋₃,₋₃|0>: 0, G₋...\n",
      " │  │  │  │  │  │  └─0\n",
      " │  │  │  │  │  ├─simp(G₃,₋₁G₂,₃|0>,replacements={G₋₃,₋₃|0>: 0, H₋₃,₋₃|0>: 0, G₋...\n",
      " │  │  │  │  │  │  └─0\n",
      " │  │  │  │  │  ├─simp(H₃,₋₁G₂,₃|0>,replacements={G₋₃,₋₃|0>: 0, H₋₃,₋₃|0>: 0, G₋...\n",
      " │  │  │  │  │  │  └─0\n",
      " │  │  │  │  ├─simp(G₂,₃|0>,replacements={G₋₃,₋₃|0>: 0, H₋₃,₋₃|0>: 0, G₋₃,₋₂|0>:...\n",
      " │  │  │  │  │  └─G₂,₃|0>\n",
      " │  │  │  ├─simp(H₋₁,₂G₁,₃|0>,replacements={G₋₃,₋₃|0>: 0, H₋₃,₋₃|0>: 0, G₋₃,₋₂|0...\n",
      " │  │  │  │  └─-H₃,₂|0>\n",
      " │  │  │  ├─coordinates(-H₃,₂|0>,replacements={G₋₃,₋₃|0>: 0, H₋₃,₋₃|0>: 0, G₋₃,₋...\n",
      " │  │  │  │  ├─coordinates(-H₃,₂|0>,nosave=True,replacements={G₋₃,₋₃|0>: 0, H₋₃,...\n",
      " │  │  │  │  │  ├─simp(-H₃,₂|0>,replacements={G₋₃,₋₃|0>: 0, H₋₃,₋₃|0>: 0, G₋₃,₋₂...\n",
      " │  │  │  │  │  │  └─-H₃,₂|0>\n",
      " │  │  │  │  │  ├─simp(G₋₃,₋₃H₃,₂|0>,replacements={G₋₃,₋₃|0>: 0, H₋₃,₋₃|0>: 0, G...\n",
      " │  │  │  │  │  │  └─0\n",
      " │  │  │  │  │  ├─simp(H₋₃,₋₃H₃,₂|0>,replacements={G₋₃,₋₃|0>: 0, H₋₃,₋₃|0>: 0, G...\n",
      " │  │  │  │  │  │  └─-1/2G₋₃,₂|0>\n",
      " │  │  │  │  │  ├─simp(G₋₃,₋₂H₃,₂|0>,replacements={G₋₃,₋₃|0>: 0, H₋₃,₋₃|0>: 0, G...\n",
      " │  │  │  │  │  │  └─1/2|0>\n",
      " │  │  │  │  │  ├─simp(H₋₃,₋₂H₃,₂|0>,replacements={G₋₃,₋₃|0>: 0, H₋₃,₋₃|0>: 0, G...\n",
      " │  │  │  │  │  │  └─1/4|0>\n",
      " │  │  │  │  │  ├─simp(G₋₃,₋₁H₃,₂|0>,replacements={G₋₃,₋₃|0>: 0, H₋₃,₋₃|0>: 0, G...\n",
      " │  │  │  │  │  │  └─0\n",
      " │  │  │  │  │  ├─simp(H₋₃,₋₁H₃,₂|0>,replacements={G₋₃,₋₃|0>: 0, H₋₃,₋₃|0>: 0, G...\n",
      " │  │  │  │  │  │  └─0\n",
      " │  │  │  │  │  ├─simp(G₋₂,₋₃H₃,₂|0>,replacements={G₋₃,₋₃|0>: 0, H₋₃,₋₃|0>: 0, G...\n",
      " │  │  │  │  │  │  └─-1/2|0>\n",
      " │  │  │  │  │  ├─simp(H₋₂,₋₃H₃,₂|0>,replacements={G₋₃,₋₃|0>: 0, H₋₃,₋₃|0>: 0, G...\n",
      " │  │  │  │  │  │  └─1/4|0>\n",
      " │  │  │  │  │  ├─simp(G₋₂,₋₂H₃,₂|0>,replacements={G₋₃,₋₃|0>: 0, H₋₃,₋₃|0>: 0, G...\n",
      " │  │  │  │  │  │  └─0\n",
      " │  │  │  │  │  ├─simp(H₋₂,₋₂H₃,₂|0>,replacements={G₋₃,₋₃|0>: 0, H₋₃,₋₃|0>: 0, G...\n",
      " │  │  │  │  │  │  └─0\n",
      " │  │  │  │  │  ├─simp(G₋₂,₋₁H₃,₂|0>,replacements={G₋₃,₋₃|0>: 0, H₋₃,₋₃|0>: 0, G...\n",
      " │  │  │  │  │  │  └─0\n",
      " │  │  │  │  │  ├─simp(H₋₂,₋₁H₃,₂|0>,replacements={G₋₃,₋₃|0>: 0, H₋₃,₋₃|0>: 0, G...\n",
      " │  │  │  │  │  │  └─0\n"
     ]
    },
    {
     "name": "stdout",
     "output_type": "stream",
     "text": [
      " │  │  │  │  │  ├─simp(G₋₂,₃H₃,₂|0>,replacements={G₋₃,₋₃|0>: 0, H₋₃,₋₃|0>: 0, G₋...\n",
      " │  │  │  │  │  │  └─0\n",
      " │  │  │  │  │  ├─simp(H₋₂,₃H₃,₂|0>,replacements={G₋₃,₋₃|0>: 0, H₋₃,₋₃|0>: 0, G₋...\n",
      " │  │  │  │  │  │  └─0\n",
      " │  │  │  │  │  ├─simp(G₋₁,₋₃H₃,₂|0>,replacements={G₋₃,₋₃|0>: 0, H₋₃,₋₃|0>: 0, G...\n",
      " │  │  │  │  │  │  └─0\n",
      " │  │  │  │  │  ├─simp(H₋₁,₋₃H₃,₂|0>,replacements={G₋₃,₋₃|0>: 0, H₋₃,₋₃|0>: 0, G...\n",
      " │  │  │  │  │  │  └─0\n",
      " │  │  │  │  │  ├─simp(G₋₁,₋₂H₃,₂|0>,replacements={G₋₃,₋₃|0>: 0, H₋₃,₋₃|0>: 0, G...\n",
      " │  │  │  │  │  │  └─0\n",
      " │  │  │  │  │  ├─simp(H₋₁,₋₂H₃,₂|0>,replacements={G₋₃,₋₃|0>: 0, H₋₃,₋₃|0>: 0, G...\n",
      " │  │  │  │  │  │  └─0\n",
      " │  │  │  │  │  ├─simp(G₋₁,₋₁H₃,₂|0>,replacements={G₋₃,₋₃|0>: 0, H₋₃,₋₃|0>: 0, G...\n",
      " │  │  │  │  │  │  └─0\n",
      " │  │  │  │  │  ├─simp(H₋₁,₋₁H₃,₂|0>,replacements={G₋₃,₋₃|0>: 0, H₋₃,₋₃|0>: 0, G...\n",
      " │  │  │  │  │  │  └─0\n",
      " │  │  │  │  │  ├─simp(G₋₁,₂H₃,₂|0>,replacements={G₋₃,₋₃|0>: 0, H₋₃,₋₃|0>: 0, G₋...\n",
      " │  │  │  │  │  │  └─0\n",
      " │  │  │  │  │  ├─simp(H₋₁,₂H₃,₂|0>,replacements={G₋₃,₋₃|0>: 0, H₋₃,₋₃|0>: 0, G₋...\n",
      " │  │  │  │  │  │  └─0\n",
      " │  │  │  │  │  ├─simp(G₋₁,₃H₃,₂|0>,replacements={G₋₃,₋₃|0>: 0, H₋₃,₋₃|0>: 0, G₋...\n",
      " │  │  │  │  │  │  └─0\n",
      " │  │  │  │  │  ├─simp(H₋₁,₃H₃,₂|0>,replacements={G₋₃,₋₃|0>: 0, H₋₃,₋₃|0>: 0, G₋...\n",
      " │  │  │  │  │  │  └─0\n",
      " │  │  │  │  │  ├─simp(G₂,₋₁H₃,₂|0>,replacements={G₋₃,₋₃|0>: 0, H₋₃,₋₃|0>: 0, G₋...\n",
      " │  │  │  │  │  │  └─0\n",
      " │  │  │  │  │  ├─simp(H₂,₋₁H₃,₂|0>,replacements={G₋₃,₋₃|0>: 0, H₋₃,₋₃|0>: 0, G₋...\n",
      " │  │  │  │  │  │  └─0\n",
      " │  │  │  │  │  ├─simp(G₃,₋₂H₃,₂|0>,replacements={G₋₃,₋₃|0>: 0, H₋₃,₋₃|0>: 0, G₋...\n",
      " │  │  │  │  │  │  └─0\n",
      " │  │  │  │  │  ├─simp(H₃,₋₂H₃,₂|0>,replacements={G₋₃,₋₃|0>: 0, H₋₃,₋₃|0>: 0, G₋...\n",
      " │  │  │  │  │  │  └─0\n",
      " │  │  │  │  │  ├─simp(G₃,₋₁H₃,₂|0>,replacements={G₋₃,₋₃|0>: 0, H₋₃,₋₃|0>: 0, G₋...\n",
      " │  │  │  │  │  │  └─0\n",
      " │  │  │  │  │  ├─simp(H₃,₋₁H₃,₂|0>,replacements={G₋₃,₋₃|0>: 0, H₋₃,₋₃|0>: 0, G₋...\n",
      " │  │  │  │  │  │  └─0\n",
      " │  │  │  │  │  ├─  computed coordinates matrix for  H₃,₂|0>\n",
      " │  │  │  │  ├─simp(H₃,₂|0>,replacements={G₋₃,₋₃|0>: 0, H₋₃,₋₃|0>: 0, G₋₃,₋₂|0>:...\n",
      " │  │  │  │  │  └─H₃,₂|0>\n",
      " │  │  │  ├─simp(G₋₁,₃G₁,₃|0>,replacements={G₋₃,₋₃|0>: 0, H₋₃,₋₃|0>: 0, G₋₃,₋₂|0...\n",
      " │  │  │  │  └─0\n",
      " │  │  │  ├─simp(H₋₁,₃G₁,₃|0>,replacements={G₋₃,₋₃|0>: 0, H₋₃,₋₃|0>: 0, G₋₃,₋₂|0...\n",
      " │  │  │  │  └─0\n",
      " │  │  │  ├─simp(G₂,₋₁G₁,₃|0>,replacements={G₋₃,₋₃|0>: 0, H₋₃,₋₃|0>: 0, G₋₃,₋₂|0...\n",
      " │  │  │  │  └─-G₂,₃|0>\n",
      " │  │  │  ├─simp(H₂,₋₁G₁,₃|0>,replacements={G₋₃,₋₃|0>: 0, H₋₃,₋₃|0>: 0, G₋₃,₋₂|0...\n",
      " │  │  │  │  └─-H₂,₃|0>\n",
      " │  │  │  ├─coordinates(-H₂,₃|0>,replacements={G₋₃,₋₃|0>: 0, H₋₃,₋₃|0>: 0, G₋₃,₋...\n",
      " │  │  │  │  ├─coordinates(-H₂,₃|0>,nosave=True,replacements={G₋₃,₋₃|0>: 0, H₋₃,...\n",
      " │  │  │  │  │  ├─simp(-H₂,₃|0>,replacements={G₋₃,₋₃|0>: 0, H₋₃,₋₃|0>: 0, G₋₃,₋₂...\n",
      " │  │  │  │  │  │  └─-H₂,₃|0>\n",
      " │  │  │  │  │  ├─simp(G₋₃,₋₃H₂,₃|0>,replacements={G₋₃,₋₃|0>: 0, H₋₃,₋₃|0>: 0, G...\n",
      " │  │  │  │  │  │  └─0\n",
      " │  │  │  │  │  ├─simp(H₋₃,₋₃H₂,₃|0>,replacements={G₋₃,₋₃|0>: 0, H₋₃,₋₃|0>: 0, G...\n",
      " │  │  │  │  │  │  └─-1/2G₋₃,₂|0>\n",
      " │  │  │  │  │  ├─simp(G₋₃,₋₂H₂,₃|0>,replacements={G₋₃,₋₃|0>: 0, H₋₃,₋₃|0>: 0, G...\n",
      " │  │  │  │  │  │  └─1/2|0>\n",
      " │  │  │  │  │  ├─simp(H₋₃,₋₂H₂,₃|0>,replacements={G₋₃,₋₃|0>: 0, H₋₃,₋₃|0>: 0, G...\n",
      " │  │  │  │  │  │  └─1/4|0>\n",
      " │  │  │  │  │  ├─simp(G₋₃,₋₁H₂,₃|0>,replacements={G₋₃,₋₃|0>: 0, H₋₃,₋₃|0>: 0, G...\n",
      " │  │  │  │  │  │  └─0\n",
      " │  │  │  │  │  ├─simp(H₋₃,₋₁H₂,₃|0>,replacements={G₋₃,₋₃|0>: 0, H₋₃,₋₃|0>: 0, G...\n",
      " │  │  │  │  │  │  └─0\n",
      " │  │  │  │  │  ├─simp(G₋₂,₋₃H₂,₃|0>,replacements={G₋₃,₋₃|0>: 0, H₋₃,₋₃|0>: 0, G...\n",
      " │  │  │  │  │  │  └─-1/2|0>\n",
      " │  │  │  │  │  ├─simp(H₋₂,₋₃H₂,₃|0>,replacements={G₋₃,₋₃|0>: 0, H₋₃,₋₃|0>: 0, G...\n",
      " │  │  │  │  │  │  └─1/4|0>\n",
      " │  │  │  │  │  ├─simp(G₋₂,₋₂H₂,₃|0>,replacements={G₋₃,₋₃|0>: 0, H₋₃,₋₃|0>: 0, G...\n",
      " │  │  │  │  │  │  └─0\n",
      " │  │  │  │  │  ├─simp(H₋₂,₋₂H₂,₃|0>,replacements={G₋₃,₋₃|0>: 0, H₋₃,₋₃|0>: 0, G...\n",
      " │  │  │  │  │  │  └─0\n",
      " │  │  │  │  │  ├─simp(G₋₂,₋₁H₂,₃|0>,replacements={G₋₃,₋₃|0>: 0, H₋₃,₋₃|0>: 0, G...\n",
      " │  │  │  │  │  │  └─0\n",
      " │  │  │  │  │  ├─simp(H₋₂,₋₁H₂,₃|0>,replacements={G₋₃,₋₃|0>: 0, H₋₃,₋₃|0>: 0, G...\n",
      " │  │  │  │  │  │  └─0\n",
      " │  │  │  │  │  ├─simp(G₋₂,₃H₂,₃|0>,replacements={G₋₃,₋₃|0>: 0, H₋₃,₋₃|0>: 0, G₋...\n",
      " │  │  │  │  │  │  └─0\n",
      " │  │  │  │  │  ├─simp(H₋₂,₃H₂,₃|0>,replacements={G₋₃,₋₃|0>: 0, H₋₃,₋₃|0>: 0, G₋...\n",
      " │  │  │  │  │  │  └─0\n",
      " │  │  │  │  │  ├─simp(G₋₁,₋₃H₂,₃|0>,replacements={G₋₃,₋₃|0>: 0, H₋₃,₋₃|0>: 0, G...\n",
      " │  │  │  │  │  │  └─0\n",
      " │  │  │  │  │  ├─simp(H₋₁,₋₃H₂,₃|0>,replacements={G₋₃,₋₃|0>: 0, H₋₃,₋₃|0>: 0, G...\n",
      " │  │  │  │  │  │  └─0\n",
      " │  │  │  │  │  ├─simp(G₋₁,₋₂H₂,₃|0>,replacements={G₋₃,₋₃|0>: 0, H₋₃,₋₃|0>: 0, G...\n",
      " │  │  │  │  │  │  └─0\n",
      " │  │  │  │  │  ├─simp(H₋₁,₋₂H₂,₃|0>,replacements={G₋₃,₋₃|0>: 0, H₋₃,₋₃|0>: 0, G...\n",
      " │  │  │  │  │  │  └─0\n",
      " │  │  │  │  │  ├─simp(G₋₁,₋₁H₂,₃|0>,replacements={G₋₃,₋₃|0>: 0, H₋₃,₋₃|0>: 0, G...\n",
      " │  │  │  │  │  │  └─0\n",
      " │  │  │  │  │  ├─simp(H₋₁,₋₁H₂,₃|0>,replacements={G₋₃,₋₃|0>: 0, H₋₃,₋₃|0>: 0, G...\n",
      " │  │  │  │  │  │  └─0\n",
      " │  │  │  │  │  ├─simp(G₋₁,₂H₂,₃|0>,replacements={G₋₃,₋₃|0>: 0, H₋₃,₋₃|0>: 0, G₋...\n",
      " │  │  │  │  │  │  └─0\n",
      " │  │  │  │  │  ├─simp(H₋₁,₂H₂,₃|0>,replacements={G₋₃,₋₃|0>: 0, H₋₃,₋₃|0>: 0, G₋...\n",
      " │  │  │  │  │  │  └─0\n",
      " │  │  │  │  │  ├─simp(G₋₁,₃H₂,₃|0>,replacements={G₋₃,₋₃|0>: 0, H₋₃,₋₃|0>: 0, G₋...\n",
      " │  │  │  │  │  │  └─0\n",
      " │  │  │  │  │  ├─simp(H₋₁,₃H₂,₃|0>,replacements={G₋₃,₋₃|0>: 0, H₋₃,₋₃|0>: 0, G₋...\n",
      " │  │  │  │  │  │  └─0\n",
      " │  │  │  │  │  ├─simp(G₂,₋₁H₂,₃|0>,replacements={G₋₃,₋₃|0>: 0, H₋₃,₋₃|0>: 0, G₋...\n",
      " │  │  │  │  │  │  └─0\n",
      " │  │  │  │  │  ├─simp(H₂,₋₁H₂,₃|0>,replacements={G₋₃,₋₃|0>: 0, H₋₃,₋₃|0>: 0, G₋...\n",
      " │  │  │  │  │  │  └─0\n",
      " │  │  │  │  │  ├─simp(G₃,₋₂H₂,₃|0>,replacements={G₋₃,₋₃|0>: 0, H₋₃,₋₃|0>: 0, G₋...\n",
      " │  │  │  │  │  │  └─0\n",
      " │  │  │  │  │  ├─simp(H₃,₋₂H₂,₃|0>,replacements={G₋₃,₋₃|0>: 0, H₋₃,₋₃|0>: 0, G₋...\n",
      " │  │  │  │  │  │  └─0\n",
      " │  │  │  │  │  ├─simp(G₃,₋₁H₂,₃|0>,replacements={G₋₃,₋₃|0>: 0, H₋₃,₋₃|0>: 0, G₋...\n",
      " │  │  │  │  │  │  └─0\n",
      " │  │  │  │  │  ├─simp(H₃,₋₁H₂,₃|0>,replacements={G₋₃,₋₃|0>: 0, H₋₃,₋₃|0>: 0, G₋...\n",
      " │  │  │  │  │  │  └─0\n",
      " │  │  │  │  │  ├─  computed coordinates matrix for  H₂,₃|0>\n",
      " │  │  │  │  ├─simp(H₂,₃|0>,replacements={G₋₃,₋₃|0>: 0, H₋₃,₋₃|0>: 0, G₋₃,₋₂|0>:...\n",
      " │  │  │  │  │  └─H₂,₃|0>\n",
      " │  │  │  ├─simp(G₃,₋₂G₁,₃|0>,replacements={G₋₃,₋₃|0>: 0, H₋₃,₋₃|0>: 0, G₋₃,₋₂|0...\n",
      " │  │  │  │  └─0\n",
      " │  │  │  ├─simp(H₃,₋₂G₁,₃|0>,replacements={G₋₃,₋₃|0>: 0, H₋₃,₋₃|0>: 0, G₋₃,₋₂|0...\n",
      " │  │  │  │  └─0\n",
      " │  │  │  ├─simp(G₃,₋₁G₁,₃|0>,replacements={G₋₃,₋₃|0>: 0, H₋₃,₋₃|0>: 0, G₋₃,₋₂|0...\n",
      " │  │  │  │  └─0\n",
      " │  │  │  ├─simp(H₃,₋₁G₁,₃|0>,replacements={G₋₃,₋₃|0>: 0, H₋₃,₋₃|0>: 0, G₋₃,₋₂|0...\n",
      " │  │  │  │  └─0\n",
      "\n",
      "\n",
      "\n",
      "\n",
      "\n",
      "Warning: error in component H₋₂,₃H₋₃,₋₃H₂,₋₁ of the coordinate of G₁,₃|0>, gives -1/4|0> vs 1/4\n",
      "\n",
      "\n",
      "\n",
      "\n",
      "\n",
      "\n",
      "\n",
      "\n",
      "\n",
      "\n",
      "Warning: error in component H₋₃,₋₂H₋₁,₂ of the coordinate of G₁,₃|0>, gives -1/4|0> vs 1/4\n",
      "\n",
      "\n",
      "\n",
      "\n",
      "\n",
      "\n",
      "\n",
      "\n",
      "\n",
      "\n",
      "Warning: error in component H₋₂,₃H₋₃,₋₃H₋₁,₂ of the coordinate of G₁,₃|0>, gives -1/4|0> vs 1/4\n",
      "\n",
      "\n",
      "\n",
      "\n",
      "\n",
      "\n",
      "\n",
      "\n",
      "\n",
      "\n",
      "Warning: error in component G₃,₋₂H₋₃,₋₃H₂,₋₁ of the coordinate of G₁,₃|0>, gives -1/2|0> vs 1/2\n",
      "\n",
      "\n",
      "\n",
      "\n",
      "\n",
      "\n",
      "\n",
      "\n",
      "\n",
      "\n",
      "Warning: error in component G₃,₋₂H₋₃,₋₃H₋₁,₂ of the coordinate of G₁,₃|0>, gives -1/2|0> vs 1/2\n",
      "\n",
      "\n",
      "\n",
      "\n",
      "\n",
      "\n",
      "\n",
      "\n",
      "\n",
      "\n",
      "Warning: error in component G₋₂,₃H₋₃,₋₃H₂,₋₁ of the coordinate of G₁,₃|0>, gives 1/2|0> vs -1/2\n",
      "\n",
      "\n",
      "\n",
      "\n",
      "\n",
      "\n",
      "\n",
      "\n",
      "\n",
      "\n",
      "Warning: error in component G₋₃,₋₂H₂,₋₁ of the coordinate of G₁,₃|0>, gives -1/2|0> vs 1/2\n",
      "\n",
      "\n",
      "\n",
      "\n",
      "\n",
      "\n",
      "\n",
      "\n",
      "\n",
      "\n",
      "Warning: error in component G₋₃,₋₂H₋₁,₂ of the coordinate of G₁,₃|0>, gives -1/2|0> vs 1/2\n",
      "\n",
      "\n",
      "\n",
      "\n",
      "\n",
      "\n",
      "\n",
      "\n",
      "\n",
      "\n",
      "Warning: error in component G₋₂,₃H₋₃,₋₃H₋₁,₂ of the coordinate of G₁,₃|0>, gives 1/2|0> vs -1/2\n",
      "\n",
      "\n",
      "\n",
      "\n",
      "\n",
      "\n",
      "\n",
      "\n",
      "\n",
      "\n",
      "Warning: error in component H₃,₋₂H₋₃,₋₃H₂,₋₁ of the coordinate of G₁,₃|0>, gives -1/4|0> vs 1/4\n",
      "\n",
      "\n",
      "\n",
      "\n",
      "\n",
      "\n",
      "\n",
      "\n",
      "\n",
      "\n",
      "Warning: error in component H₃,₋₂H₋₃,₋₃H₋₁,₂ of the coordinate of G₁,₃|0>, gives -1/4|0> vs 1/4\n",
      "\n",
      "\n",
      "\n",
      "\n",
      "\n",
      "\n",
      "\n",
      "\n",
      "\n",
      "\n",
      "Warning: error in component H₋₂,₋₃H₂,₋₁ of the coordinate of G₁,₃|0>, gives -1/4|0> vs 1/4\n",
      "\n",
      "\n",
      "\n",
      "\n",
      "\n",
      "\n",
      "\n",
      "\n",
      "\n",
      "\n",
      "Warning: error in component G₋₂,₋₃H₂,₋₁ of the coordinate of G₁,₃|0>, gives 1/2|0> vs -1/2\n",
      "\n",
      "\n",
      "\n",
      "\n",
      "\n",
      "\n",
      "\n",
      "\n",
      "\n",
      "\n",
      "Warning: error in component H₋₂,₋₃H₋₁,₂ of the coordinate of G₁,₃|0>, gives -1/4|0> vs 1/4\n",
      "\n",
      "\n",
      "\n",
      "\n",
      "\n",
      "\n",
      "\n",
      "\n",
      "\n",
      "\n",
      "Warning: error in component G₋₂,₋₃H₋₁,₂ of the coordinate of G₁,₃|0>, gives 1/2|0> vs -1/2\n",
      "\n",
      "\n",
      "\n",
      "\n",
      "\n",
      "\n",
      "\n",
      "\n",
      "\n",
      "\n",
      "Warning: error in component H₋₃,₋₂H₂,₋₁ of the coordinate of G₁,₃|0>, gives -1/4|0> vs 1/4\n",
      "\n",
      "\n",
      "\n",
      "\n",
      "\n",
      " │  │  ├─simp(G₁,₃|0>,replacements={G₋₃,₋₃|0>: 0, H₋₃,₋₃|0>: 0, G₋₃,₋₂|0>: 0, H₋...\n",
      " │  │  │  └─G₁,₃|0>\n",
      " │  ├─simp(H₋₂,₃G₁,₂|0>,replacements={G₋₃,₋₃|0>: 0, H₋₃,₋₃|0>: 0, G₋₃,₋₂|0>: 0, ...\n",
      " │  │  └─H₁,₃|0>\n"
     ]
    },
    {
     "name": "stdout",
     "output_type": "stream",
     "text": [
      " │  ├─coordinates(H₁,₃|0>,replacements={G₋₃,₋₃|0>: 0, H₋₃,₋₃|0>: 0, G₋₃,₋₂|0>: 0...\n",
      " │  │  ├─coordinates(H₁,₃|0>,nosave=True,replacements={G₋₃,₋₃|0>: 0, H₋₃,₋₃|0>: ...\n",
      " │  │  │  ├─simp(H₁,₃|0>,replacements={G₋₃,₋₃|0>: 0, H₋₃,₋₃|0>: 0, G₋₃,₋₂|0>: 0,...\n",
      " │  │  │  │  └─H₁,₃|0>\n",
      " │  │  │  ├─simp(G₋₃,₋₃H₁,₃|0>,replacements={G₋₃,₋₃|0>: 0, H₋₃,₋₃|0>: 0, G₋₃,₋₂|...\n",
      " │  │  │  │  └─0\n",
      " │  │  │  ├─simp(H₋₃,₋₃H₁,₃|0>,replacements={G₋₃,₋₃|0>: 0, H₋₃,₋₃|0>: 0, G₋₃,₋₂|...\n",
      " │  │  │  │  └─1/2H₁,₋₂G₋₃,₂|0>-1/4G₋₃,₁|0>\n",
      " │  │  │  ├─coordinates(1/2H₁,₋₂G₋₃,₂|0>-1/4G₋₃,₁|0>,replacements={G₋₃,₋₃|0>: 0,...\n",
      " │  │  │  │  ├─simp(1/2H₁,₋₂G₋₃,₂|0>-1/4G₋₃,₁|0>,replacements={G₋₃,₋₃|0>: 0, H₋₃...\n",
      " │  │  │  │  │  └─1/2H₁,₋₂G₋₃,₂|0>-1/4G₋₃,₁|0>\n",
      " │  │  │  │  ├─coordinates(1/2H₁,₋₂G₋₃,₂|0>,replacements={G₋₃,₋₃|0>: 0, H₋₃,₋₃|0...\n",
      " │  │  │  │  │  ├─coordinates(1/2H₁,₋₂G₋₃,₂|0>,nosave=True,replacements={G₋₃,₋₃|...\n",
      " │  │  │  │  │  │  ├─simp(1/2H₁,₋₂G₋₃,₂|0>,replacements={G₋₃,₋₃|0>: 0, H₋₃,₋₃|0>...\n",
      " │  │  │  │  │  │  │  └─1/2H₁,₋₂G₋₃,₂|0>\n",
      " │  │  │  │  │  │  ├─simp(G₋₃,₋₃H₁,₋₂G₋₃,₂|0>,replacements={G₋₃,₋₃|0>: 0, H₋₃,₋₃...\n",
      " │  │  │  │  │  │  │  └─0\n",
      " │  │  │  │  │  │  ├─simp(H₋₃,₋₃H₁,₋₂G₋₃,₂|0>,replacements={G₋₃,₋₃|0>: 0, H₋₃,₋₃...\n",
      " │  │  │  │  │  │  │  └─0\n",
      " │  │  │  │  │  │  ├─simp(G₋₃,₋₂H₁,₋₂G₋₃,₂|0>,replacements={G₋₃,₋₃|0>: 0, H₋₃,₋₃...\n",
      " │  │  │  │  │  │  │  └─0\n",
      " │  │  │  │  │  │  ├─simp(H₋₃,₋₂H₁,₋₂G₋₃,₂|0>,replacements={G₋₃,₋₃|0>: 0, H₋₃,₋₃...\n",
      " │  │  │  │  │  │  │  └─0\n",
      " │  │  │  │  │  │  ├─simp(G₋₃,₋₁H₁,₋₂G₋₃,₂|0>,replacements={G₋₃,₋₃|0>: 0, H₋₃,₋₃...\n",
      " │  │  │  │  │  │  │  └─0\n",
      " │  │  │  │  │  │  ├─simp(H₋₃,₋₁H₁,₋₂G₋₃,₂|0>,replacements={G₋₃,₋₃|0>: 0, H₋₃,₋₃...\n",
      " │  │  │  │  │  │  │  └─0\n",
      " │  │  │  │  │  │  ├─simp(G₋₂,₋₃H₁,₋₂G₋₃,₂|0>,replacements={G₋₃,₋₃|0>: 0, H₋₃,₋₃...\n",
      " │  │  │  │  │  │  │  └─0\n",
      " │  │  │  │  │  │  ├─simp(H₋₂,₋₃H₁,₋₂G₋₃,₂|0>,replacements={G₋₃,₋₃|0>: 0, H₋₃,₋₃...\n",
      " │  │  │  │  │  │  │  └─0\n",
      " │  │  │  │  │  │  ├─simp(G₋₂,₋₂H₁,₋₂G₋₃,₂|0>,replacements={G₋₃,₋₃|0>: 0, H₋₃,₋₃...\n",
      " │  │  │  │  │  │  │  └─0\n",
      " │  │  │  │  │  │  ├─simp(H₋₂,₋₂H₁,₋₂G₋₃,₂|0>,replacements={G₋₃,₋₃|0>: 0, H₋₃,₋₃...\n",
      " │  │  │  │  │  │  │  └─0\n",
      " │  │  │  │  │  │  ├─simp(G₋₂,₋₁H₁,₋₂G₋₃,₂|0>,replacements={G₋₃,₋₃|0>: 0, H₋₃,₋₃...\n",
      " │  │  │  │  │  │  │  └─0\n",
      " │  │  │  │  │  │  ├─simp(H₋₂,₋₁H₁,₋₂G₋₃,₂|0>,replacements={G₋₃,₋₃|0>: 0, H₋₃,₋₃...\n",
      " │  │  │  │  │  │  │  └─0\n",
      " │  │  │  │  │  │  ├─simp(G₋₂,₃H₁,₋₂G₋₃,₂|0>,replacements={G₋₃,₋₃|0>: 0, H₋₃,₋₃|...\n",
      " │  │  │  │  │  │  │  └─0\n",
      " │  │  │  │  │  │  ├─simp(H₋₂,₃H₁,₋₂G₋₃,₂|0>,replacements={G₋₃,₋₃|0>: 0, H₋₃,₋₃|...\n",
      " │  │  │  │  │  │  │  └─0\n",
      " │  │  │  │  │  │  ├─simp(G₋₁,₋₃H₁,₋₂G₋₃,₂|0>,replacements={G₋₃,₋₃|0>: 0, H₋₃,₋₃...\n",
      " │  │  │  │  │  │  │  └─0\n",
      " │  │  │  │  │  │  ├─simp(H₋₁,₋₃H₁,₋₂G₋₃,₂|0>,replacements={G₋₃,₋₃|0>: 0, H₋₃,₋₃...\n",
      " │  │  │  │  │  │  │  └─0\n",
      " │  │  │  │  │  │  ├─simp(G₋₁,₋₂H₁,₋₂G₋₃,₂|0>,replacements={G₋₃,₋₃|0>: 0, H₋₃,₋₃...\n",
      " │  │  │  │  │  │  │  └─0\n",
      " │  │  │  │  │  │  ├─simp(H₋₁,₋₂H₁,₋₂G₋₃,₂|0>,replacements={G₋₃,₋₃|0>: 0, H₋₃,₋₃...\n",
      " │  │  │  │  │  │  │  └─0\n",
      " │  │  │  │  │  │  ├─simp(G₋₁,₋₁H₁,₋₂G₋₃,₂|0>,replacements={G₋₃,₋₃|0>: 0, H₋₃,₋₃...\n",
      " │  │  │  │  │  │  │  └─0\n",
      " │  │  │  │  │  │  ├─simp(H₋₁,₋₁H₁,₋₂G₋₃,₂|0>,replacements={G₋₃,₋₃|0>: 0, H₋₃,₋₃...\n",
      " │  │  │  │  │  │  │  └─0\n",
      " │  │  │  │  │  │  ├─simp(G₋₁,₂H₁,₋₂G₋₃,₂|0>,replacements={G₋₃,₋₃|0>: 0, H₋₃,₋₃|...\n",
      " │  │  │  │  │  │  │  └─-1/2G₋₃,₂|0>\n",
      " │  │  │  │  │  │  ├─simp(H₋₁,₂H₁,₋₂G₋₃,₂|0>,replacements={G₋₃,₋₃|0>: 0, H₋₃,₋₃|...\n",
      " │  │  │  │  │  │  │  └─1/4G₋₃,₂|0>\n",
      " │  │  │  │  │  │  ├─simp(G₋₁,₃H₁,₋₂G₋₃,₂|0>,replacements={G₋₃,₋₃|0>: 0, H₋₃,₋₃|...\n",
      " │  │  │  │  │  │  │  └─-1/2|0>\n",
      " │  │  │  │  │  │  ├─simp(H₋₁,₃H₁,₋₂G₋₃,₂|0>,replacements={G₋₃,₋₃|0>: 0, H₋₃,₋₃|...\n",
      " │  │  │  │  │  │  │  └─1/4|0>\n",
      " │  │  │  │  │  │  ├─simp(G₂,₋₁H₁,₋₂G₋₃,₂|0>,replacements={G₋₃,₋₃|0>: 0, H₋₃,₋₃|...\n",
      " │  │  │  │  │  │  │  └─1/2G₋₃,₂|0>\n",
      " │  │  │  │  │  │  ├─simp(H₂,₋₁H₁,₋₂G₋₃,₂|0>,replacements={G₋₃,₋₃|0>: 0, H₋₃,₋₃|...\n",
      " │  │  │  │  │  │  │  └─1/4G₋₃,₂|0>\n",
      " │  │  │  │  │  │  ├─simp(G₃,₋₂H₁,₋₂G₋₃,₂|0>,replacements={G₋₃,₋₃|0>: 0, H₋₃,₋₃|...\n",
      " │  │  │  │  │  │  │  └─0\n",
      " │  │  │  │  │  │  ├─simp(H₃,₋₂H₁,₋₂G₋₃,₂|0>,replacements={G₋₃,₋₃|0>: 0, H₋₃,₋₃|...\n",
      " │  │  │  │  │  │  │  └─0\n",
      " │  │  │  │  │  │  ├─simp(G₃,₋₁H₁,₋₂G₋₃,₂|0>,replacements={G₋₃,₋₃|0>: 0, H₋₃,₋₃|...\n",
      " │  │  │  │  │  │  │  └─1/2|0>\n",
      " │  │  │  │  │  │  ├─simp(H₃,₋₁H₁,₋₂G₋₃,₂|0>,replacements={G₋₃,₋₃|0>: 0, H₋₃,₋₃|...\n",
      " │  │  │  │  │  │  │  └─1/4|0>\n",
      " │  │  │  │  │  │  ├─  computed coordinates matrix for  H₁,₋₂G₋₃,₂|0>\n",
      " │  │  │  │  │  ├─simp(H₁,₋₂G₋₃,₂|0>,replacements={G₋₃,₋₃|0>: 0, H₋₃,₋₃|0>: 0, G...\n",
      " │  │  │  │  │  │  └─-1/2G₋₃,₁|0>\n",
      " │  │  │  ├─simp(G₋₃,₋₂H₁,₃|0>,replacements={G₋₃,₋₃|0>: 0, H₋₃,₋₃|0>: 0, G₋₃,₋₂|...\n",
      " │  │  │  │  └─0\n",
      " │  │  │  ├─simp(H₋₃,₋₂H₁,₃|0>,replacements={G₋₃,₋₃|0>: 0, H₋₃,₋₃|0>: 0, G₋₃,₋₂|...\n",
      " │  │  │  │  └─0\n",
      " │  │  │  ├─simp(G₋₃,₋₁H₁,₃|0>,replacements={G₋₃,₋₃|0>: 0, H₋₃,₋₃|0>: 0, G₋₃,₋₂|...\n",
      " │  │  │  │  └─1/2|0>\n",
      " │  │  │  ├─simp(H₋₃,₋₁H₁,₃|0>,replacements={G₋₃,₋₃|0>: 0, H₋₃,₋₃|0>: 0, G₋₃,₋₂|...\n",
      " │  │  │  │  └─1/4|0>\n",
      " │  │  │  ├─simp(G₋₂,₋₃H₁,₃|0>,replacements={G₋₃,₋₃|0>: 0, H₋₃,₋₃|0>: 0, G₋₃,₋₂|...\n",
      " │  │  │  │  └─0\n",
      " │  │  │  ├─simp(H₋₂,₋₃H₁,₃|0>,replacements={G₋₃,₋₃|0>: 0, H₋₃,₋₃|0>: 0, G₋₃,₋₂|...\n",
      " │  │  │  │  └─0\n",
      " │  │  │  ├─simp(G₋₂,₋₂H₁,₃|0>,replacements={G₋₃,₋₃|0>: 0, H₋₃,₋₃|0>: 0, G₋₃,₋₂|...\n",
      " │  │  │  │  └─0\n",
      " │  │  │  ├─simp(H₋₂,₋₂H₁,₃|0>,replacements={G₋₃,₋₃|0>: 0, H₋₃,₋₃|0>: 0, G₋₃,₋₂|...\n",
      " │  │  │  │  └─0\n",
      " │  │  │  ├─simp(G₋₂,₋₁H₁,₃|0>,replacements={G₋₃,₋₃|0>: 0, H₋₃,₋₃|0>: 0, G₋₃,₋₂|...\n",
      " │  │  │  │  └─0\n",
      " │  │  │  ├─simp(H₋₂,₋₁H₁,₃|0>,replacements={G₋₃,₋₃|0>: 0, H₋₃,₋₃|0>: 0, G₋₃,₋₂|...\n",
      " │  │  │  │  └─0\n",
      " │  │  │  ├─simp(G₋₂,₃H₁,₃|0>,replacements={G₋₃,₋₃|0>: 0, H₋₃,₋₃|0>: 0, G₋₃,₋₂|0...\n",
      " │  │  │  │  └─0\n",
      " │  │  │  ├─simp(H₋₂,₃H₁,₃|0>,replacements={G₋₃,₋₃|0>: 0, H₋₃,₋₃|0>: 0, G₋₃,₋₂|0...\n",
      " │  │  │  │  └─0\n",
      " │  │  │  ├─simp(G₋₁,₋₃H₁,₃|0>,replacements={G₋₃,₋₃|0>: 0, H₋₃,₋₃|0>: 0, G₋₃,₋₂|...\n",
      " │  │  │  │  └─-1/2|0>\n",
      " │  │  │  ├─simp(H₋₁,₋₃H₁,₃|0>,replacements={G₋₃,₋₃|0>: 0, H₋₃,₋₃|0>: 0, G₋₃,₋₂|...\n",
      " │  │  │  │  └─1/4|0>\n",
      " │  │  │  ├─simp(G₋₁,₋₂H₁,₃|0>,replacements={G₋₃,₋₃|0>: 0, H₋₃,₋₃|0>: 0, G₋₃,₋₂|...\n",
      " │  │  │  │  └─0\n",
      " │  │  │  ├─simp(H₋₁,₋₂H₁,₃|0>,replacements={G₋₃,₋₃|0>: 0, H₋₃,₋₃|0>: 0, G₋₃,₋₂|...\n",
      " │  │  │  │  └─0\n",
      " │  │  │  ├─simp(G₋₁,₋₁H₁,₃|0>,replacements={G₋₃,₋₃|0>: 0, H₋₃,₋₃|0>: 0, G₋₃,₋₂|...\n",
      " │  │  │  │  └─0\n",
      " │  │  │  ├─simp(H₋₁,₋₁H₁,₃|0>,replacements={G₋₃,₋₃|0>: 0, H₋₃,₋₃|0>: 0, G₋₃,₋₂|...\n",
      " │  │  │  │  └─0\n",
      " │  │  │  ├─simp(G₋₁,₂H₁,₃|0>,replacements={G₋₃,₋₃|0>: 0, H₋₃,₋₃|0>: 0, G₋₃,₋₂|0...\n",
      " │  │  │  │  └─H₂,₃|0>\n",
      " │  │  │  ├─simp(H₋₁,₂H₁,₃|0>,replacements={G₋₃,₋₃|0>: 0, H₋₃,₋₃|0>: 0, G₋₃,₋₂|0...\n",
      "  warning: matrix Matrix([[1/2, -1/2], [-1/2, 1/2]]) not invertible, in (('Hll', -1, 2), ('Hll', 1, 3))\n",
      " │  │  │  │  └─-1/4G₂,₃|0>+3/4H₃,₂|0>+1/2H₃,₃G₋₃,₂|0>+1/4H₂,₃|0>\n",
      " │  │  │  ├─coordinates(-1/4G₂,₃|0>+3/4H₃,₂|0>+1/2H₃,₃G₋₃,₂|0>+1/4H₂,₃|0>,replac...\n",
      " │  │  │  │  ├─simp(-1/4G₂,₃|0>+3/4H₃,₂|0>+1/2H₃,₃G₋₃,₂|0>+1/4H₂,₃|0>,replacemen...\n",
      " │  │  │  │  │  └─-1/4G₂,₃|0>+3/4H₃,₂|0>+1/2H₃,₃G₋₃,₂|0>+1/4H₂,₃|0>\n",
      " │  │  │  │  ├─coordinates(1/2H₃,₃G₋₃,₂|0>,replacements={G₋₃,₋₃|0>: 0, H₋₃,₋₃|0>...\n",
      " │  │  │  │  │  ├─coordinates(1/2H₃,₃G₋₃,₂|0>,nosave=True,replacements={G₋₃,₋₃|0...\n",
      " │  │  │  │  │  │  ├─simp(1/2H₃,₃G₋₃,₂|0>,replacements={G₋₃,₋₃|0>: 0, H₋₃,₋₃|0>:...\n",
      " │  │  │  │  │  │  │  └─1/2H₃,₃G₋₃,₂|0>\n",
      " │  │  │  │  │  │  ├─simp(G₋₃,₋₃H₃,₃G₋₃,₂|0>,replacements={G₋₃,₋₃|0>: 0, H₋₃,₋₃|...\n",
      " │  │  │  │  │  │  │  └─0\n",
      " │  │  │  │  │  │  ├─simp(H₋₃,₋₃H₃,₃G₋₃,₂|0>,replacements={G₋₃,₋₃|0>: 0, H₋₃,₋₃|...\n",
      " │  │  │  │  │  │  │  └─G₋₃,₂|0>\n",
      " │  │  │  │  │  │  ├─simp(G₋₃,₋₂H₃,₃G₋₃,₂|0>,replacements={G₋₃,₋₃|0>: 0, H₋₃,₋₃|...\n",
      " │  │  │  │  │  │  │  └─-1|0>\n",
      " │  │  │  │  │  │  ├─simp(H₋₃,₋₂H₃,₃G₋₃,₂|0>,replacements={G₋₃,₋₃|0>: 0, H₋₃,₋₃|...\n",
      " │  │  │  │  │  │  │  └─-1/2|0>\n",
      " │  │  │  │  │  │  ├─simp(G₋₃,₋₁H₃,₃G₋₃,₂|0>,replacements={G₋₃,₋₃|0>: 0, H₋₃,₋₃|...\n",
      " │  │  │  │  │  │  │  └─0\n",
      " │  │  │  │  │  │  ├─simp(H₋₃,₋₁H₃,₃G₋₃,₂|0>,replacements={G₋₃,₋₃|0>: 0, H₋₃,₋₃|...\n",
      " │  │  │  │  │  │  │  └─0\n",
      " │  │  │  │  │  │  ├─simp(G₋₂,₋₃H₃,₃G₋₃,₂|0>,replacements={G₋₃,₋₃|0>: 0, H₋₃,₋₃|...\n",
      " │  │  │  │  │  │  │  └─|0>\n",
      " │  │  │  │  │  │  ├─simp(H₋₂,₋₃H₃,₃G₋₃,₂|0>,replacements={G₋₃,₋₃|0>: 0, H₋₃,₋₃|...\n",
      " │  │  │  │  │  │  │  └─-1/2|0>\n"
     ]
    },
    {
     "name": "stdout",
     "output_type": "stream",
     "text": [
      " │  │  │  │  │  │  ├─simp(G₋₂,₋₂H₃,₃G₋₃,₂|0>,replacements={G₋₃,₋₃|0>: 0, H₋₃,₋₃|...\n",
      " │  │  │  │  │  │  │  └─0\n",
      " │  │  │  │  │  │  ├─simp(H₋₂,₋₂H₃,₃G₋₃,₂|0>,replacements={G₋₃,₋₃|0>: 0, H₋₃,₋₃|...\n",
      " │  │  │  │  │  │  │  └─0\n",
      " │  │  │  │  │  │  ├─simp(G₋₂,₋₁H₃,₃G₋₃,₂|0>,replacements={G₋₃,₋₃|0>: 0, H₋₃,₋₃|...\n",
      " │  │  │  │  │  │  │  └─0\n",
      " │  │  │  │  │  │  ├─simp(H₋₂,₋₁H₃,₃G₋₃,₂|0>,replacements={G₋₃,₋₃|0>: 0, H₋₃,₋₃|...\n",
      " │  │  │  │  │  │  │  └─0\n",
      " │  │  │  │  │  │  ├─simp(G₋₂,₃H₃,₃G₋₃,₂|0>,replacements={G₋₃,₋₃|0>: 0, H₋₃,₋₃|0...\n",
      " │  │  │  │  │  │  │  └─0\n",
      " │  │  │  │  │  │  ├─simp(H₋₂,₃H₃,₃G₋₃,₂|0>,replacements={G₋₃,₋₃|0>: 0, H₋₃,₋₃|0...\n",
      " │  │  │  │  │  │  │  └─0\n",
      " │  │  │  │  │  │  ├─simp(G₋₁,₋₃H₃,₃G₋₃,₂|0>,replacements={G₋₃,₋₃|0>: 0, H₋₃,₋₃|...\n",
      " │  │  │  │  │  │  │  └─0\n",
      " │  │  │  │  │  │  ├─simp(H₋₁,₋₃H₃,₃G₋₃,₂|0>,replacements={G₋₃,₋₃|0>: 0, H₋₃,₋₃|...\n",
      " │  │  │  │  │  │  │  └─0\n",
      " │  │  │  │  │  │  ├─simp(G₋₁,₋₂H₃,₃G₋₃,₂|0>,replacements={G₋₃,₋₃|0>: 0, H₋₃,₋₃|...\n",
      " │  │  │  │  │  │  │  └─0\n",
      " │  │  │  │  │  │  ├─simp(H₋₁,₋₂H₃,₃G₋₃,₂|0>,replacements={G₋₃,₋₃|0>: 0, H₋₃,₋₃|...\n",
      " │  │  │  │  │  │  │  └─0\n",
      " │  │  │  │  │  │  ├─simp(G₋₁,₋₁H₃,₃G₋₃,₂|0>,replacements={G₋₃,₋₃|0>: 0, H₋₃,₋₃|...\n",
      " │  │  │  │  │  │  │  └─0\n",
      " │  │  │  │  │  │  ├─simp(H₋₁,₋₁H₃,₃G₋₃,₂|0>,replacements={G₋₃,₋₃|0>: 0, H₋₃,₋₃|...\n",
      " │  │  │  │  │  │  │  └─0\n",
      " │  │  │  │  │  │  ├─simp(G₋₁,₂H₃,₃G₋₃,₂|0>,replacements={G₋₃,₋₃|0>: 0, H₋₃,₋₃|0...\n",
      " │  │  │  │  │  │  │  └─0\n",
      " │  │  │  │  │  │  ├─simp(H₋₁,₂H₃,₃G₋₃,₂|0>,replacements={G₋₃,₋₃|0>: 0, H₋₃,₋₃|0...\n",
      " │  │  │  │  │  │  │  └─0\n",
      " │  │  │  │  │  │  ├─simp(G₋₁,₃H₃,₃G₋₃,₂|0>,replacements={G₋₃,₋₃|0>: 0, H₋₃,₋₃|0...\n",
      " │  │  │  │  │  │  │  └─0\n",
      " │  │  │  │  │  │  ├─simp(H₋₁,₃H₃,₃G₋₃,₂|0>,replacements={G₋₃,₋₃|0>: 0, H₋₃,₋₃|0...\n",
      " │  │  │  │  │  │  │  └─0\n",
      " │  │  │  │  │  │  ├─simp(G₂,₋₁H₃,₃G₋₃,₂|0>,replacements={G₋₃,₋₃|0>: 0, H₋₃,₋₃|0...\n",
      " │  │  │  │  │  │  │  └─0\n",
      " │  │  │  │  │  │  ├─simp(H₂,₋₁H₃,₃G₋₃,₂|0>,replacements={G₋₃,₋₃|0>: 0, H₋₃,₋₃|0...\n",
      " │  │  │  │  │  │  │  └─0\n",
      " │  │  │  │  │  │  ├─simp(G₃,₋₂H₃,₃G₋₃,₂|0>,replacements={G₋₃,₋₃|0>: 0, H₋₃,₋₃|0...\n",
      " │  │  │  │  │  │  │  └─0\n",
      " │  │  │  │  │  │  ├─simp(H₃,₋₂H₃,₃G₋₃,₂|0>,replacements={G₋₃,₋₃|0>: 0, H₋₃,₋₃|0...\n",
      " │  │  │  │  │  │  │  └─0\n",
      " │  │  │  │  │  │  ├─simp(G₃,₋₁H₃,₃G₋₃,₂|0>,replacements={G₋₃,₋₃|0>: 0, H₋₃,₋₃|0...\n",
      " │  │  │  │  │  │  │  └─0\n",
      " │  │  │  │  │  │  ├─simp(H₃,₋₁H₃,₃G₋₃,₂|0>,replacements={G₋₃,₋₃|0>: 0, H₋₃,₋₃|0...\n",
      " │  │  │  │  │  │  │  └─0\n",
      " │  │  │  │  │  │  ├─  computed coordinates matrix for  H₃,₃G₋₃,₂|0>\n",
      " │  │  │  │  │  ├─simp(H₃,₃G₋₃,₂|0>,replacements={G₋₃,₋₃|0>: 0, H₋₃,₋₃|0>: 0, G₋...\n",
      " │  │  │  │  │  │  └─H₃,₃G₋₃,₂|0>\n",
      " │  │  │  ├─simp(G₋₁,₃H₁,₃|0>,replacements={G₋₃,₋₃|0>: 0, H₋₃,₋₃|0>: 0, G₋₃,₋₂|0...\n",
      " │  │  │  │  └─0\n",
      " │  │  │  ├─simp(H₋₁,₃H₁,₃|0>,replacements={G₋₃,₋₃|0>: 0, H₋₃,₋₃|0>: 0, G₋₃,₋₂|0...\n",
      " │  │  │  │  └─0\n",
      " │  │  │  ├─simp(G₂,₋₁H₁,₃|0>,replacements={G₋₃,₋₃|0>: 0, H₋₃,₋₃|0>: 0, G₋₃,₋₂|0...\n",
      " │  │  │  │  └─-H₂,₃|0>\n",
      " │  │  │  ├─simp(H₂,₋₁H₁,₃|0>,replacements={G₋₃,₋₃|0>: 0, H₋₃,₋₃|0>: 0, G₋₃,₋₂|0...\n",
      " │  │  │  │  └─1/4G₂,₃|0>-H₂,₃|0>\n",
      " │  │  │  ├─coordinates(1/4G₂,₃|0>-H₂,₃|0>,replacements={G₋₃,₋₃|0>: 0, H₋₃,₋₃|0>...\n",
      " │  │  │  │  ├─simp(1/4G₂,₃|0>-H₂,₃|0>,replacements={G₋₃,₋₃|0>: 0, H₋₃,₋₃|0>: 0,...\n",
      " │  │  │  │  │  └─1/4G₂,₃|0>-H₂,₃|0>\n",
      " │  │  │  ├─simp(G₃,₋₂H₁,₃|0>,replacements={G₋₃,₋₃|0>: 0, H₋₃,₋₃|0>: 0, G₋₃,₋₂|0...\n",
      " │  │  │  │  └─0\n",
      " │  │  │  ├─simp(H₃,₋₂H₁,₃|0>,replacements={G₋₃,₋₃|0>: 0, H₋₃,₋₃|0>: 0, G₋₃,₋₂|0...\n",
      " │  │  │  │  └─0\n",
      " │  │  │  ├─simp(G₃,₋₁H₁,₃|0>,replacements={G₋₃,₋₃|0>: 0, H₋₃,₋₃|0>: 0, G₋₃,₋₂|0...\n",
      " │  │  │  │  └─0\n",
      " │  │  │  ├─simp(H₃,₋₁H₁,₃|0>,replacements={G₋₃,₋₃|0>: 0, H₋₃,₋₃|0>: 0, G₋₃,₋₂|0...\n",
      " │  │  │  │  └─0\n",
      "\n",
      "\n",
      "\n",
      "\n",
      "\n",
      "Warning: error in component H₋₃,₋₂H₋₁,₂ of the coordinate of H₁,₃|0>, gives -1/8|0> vs -3/8\n",
      "\n",
      "\n",
      "\n",
      "\n",
      "\n",
      "\n",
      "\n",
      "\n",
      "\n",
      "\n",
      "Warning: error in component G₋₂,₃H₂,₋₁H₋₃,₋₃ of the coordinate of H₁,₃|0>, gives 1/4|0> vs 3/8\n",
      "\n",
      "\n",
      "\n",
      "\n",
      "\n",
      "\n",
      "\n",
      "\n",
      "\n",
      "\n",
      "Warning: error in component H₃,₋₂H₂,₋₁H₋₃,₋₃ of the coordinate of H₁,₃|0>, gives -1/8|0> vs -3/16\n",
      "\n",
      "\n",
      "\n",
      "\n",
      "\n",
      "\n",
      "\n",
      "\n",
      "\n",
      "\n",
      "Warning: error in component H₋₂,₃H₋₃,₋₃H₋₁,₂ of the coordinate of H₁,₃|0>, gives -1/8|0> vs -3/8\n",
      "\n",
      "\n",
      "\n",
      "\n",
      "\n",
      "\n",
      "\n",
      "\n",
      "\n",
      "\n",
      "Warning: error in component H₃,₋₁H₋₃,₋₃ of the coordinate of H₁,₃|0>, gives 1/4|0> vs 3/8\n",
      "\n",
      "\n",
      "\n",
      "\n",
      "\n",
      "\n",
      "\n",
      "\n",
      "\n",
      "\n",
      "Warning: error in component G₃,₋₂G₂,₋₁H₋₃,₋₃ of the coordinate of H₁,₃|0>, gives -1/2|0> vs -3/4\n",
      "\n",
      "\n",
      "\n",
      "\n",
      "\n",
      "\n",
      "\n",
      "\n",
      "\n",
      "\n",
      "Warning: error in component G₃,₋₂H₋₁,₂H₋₃,₋₃ of the coordinate of H₁,₃|0>, gives -1/4|0> vs -3/8\n",
      "\n",
      "\n",
      "\n",
      "\n",
      "\n",
      "\n",
      "\n",
      "\n",
      "\n",
      "\n",
      "Warning: error in component G₃,₋₂G₋₁,₂H₋₃,₋₃ of the coordinate of H₁,₃|0>, gives 1/2|0> vs 3/4\n",
      "\n",
      "\n",
      "\n",
      "\n",
      "\n",
      "\n",
      "\n",
      "\n",
      "\n",
      "\n",
      "Warning: error in component G₋₂,₃G₂,₋₁H₋₃,₋₃ of the coordinate of H₁,₃|0>, gives 1/2|0> vs 3/4\n",
      "\n",
      "\n",
      "\n",
      "\n",
      "\n",
      "\n",
      "\n",
      "\n",
      "\n",
      "\n",
      "Warning: error in component G₋₂,₃H₋₁,₂H₋₃,₋₃ of the coordinate of H₁,₃|0>, gives 1/4|0> vs 3/8\n",
      "\n",
      "\n",
      "\n",
      "\n",
      "\n",
      "\n",
      "\n",
      "\n",
      "\n",
      "\n",
      "Warning: error in component G₃,₋₂H₋₃,₋₃H₋₁,₂ of the coordinate of H₁,₃|0>, gives -1/4|0> vs -3/4\n",
      "\n",
      "\n",
      "\n",
      "\n",
      "\n",
      "\n",
      "\n",
      "\n",
      "\n",
      "\n",
      "Warning: error in component G₋₂,₃G₋₁,₂H₋₃,₋₃ of the coordinate of H₁,₃|0>, gives -1/2|0> vs -3/4\n",
      "\n",
      "\n",
      "\n",
      "\n",
      "\n",
      "\n",
      "\n",
      "\n",
      "\n",
      "\n",
      "Warning: error in component H₃,₋₂G₂,₋₁H₋₃,₋₃ of the coordinate of H₁,₃|0>, gives -1/4|0> vs -3/8\n",
      "\n",
      "\n",
      "\n",
      "\n",
      "\n",
      "\n",
      "\n",
      "\n",
      "\n",
      "\n",
      "Warning: error in component H₋₂,₃H₂,₋₁H₋₃,₋₃ of the coordinate of H₁,₃|0>, gives -1/8|0> vs -3/16\n",
      "\n",
      "\n",
      "\n",
      "\n",
      "\n",
      "\n",
      "\n",
      "\n",
      "\n",
      "\n",
      "Warning: error in component H₃,₋₂H₋₁,₂H₋₃,₋₃ of the coordinate of H₁,₃|0>, gives -1/8|0> vs -3/16\n",
      "\n",
      "\n",
      "\n",
      "\n",
      "\n",
      "\n",
      "\n",
      "\n",
      "\n",
      "\n",
      "Warning: error in component H₃,₋₂G₋₁,₂H₋₃,₋₃ of the coordinate of H₁,₃|0>, gives 1/4|0> vs 3/8\n",
      "\n",
      "\n",
      "\n",
      "\n",
      "\n",
      "\n",
      "\n",
      "\n",
      "\n",
      "\n",
      "Warning: error in component G₋₁,₃H₋₃,₋₃ of the coordinate of H₁,₃|0>, gives -1/2|0> vs -3/4\n",
      "\n",
      "\n",
      "\n",
      "\n",
      "\n",
      "\n",
      "\n",
      "\n",
      "\n",
      "\n",
      "Warning: error in component G₃,₋₁H₋₃,₋₃ of the coordinate of H₁,₃|0>, gives 1/2|0> vs 3/4\n",
      "\n",
      "\n",
      "\n",
      "\n",
      "\n",
      "\n",
      "\n",
      "\n",
      "\n",
      "\n",
      "Warning: error in component G₋₃,₋₂H₋₁,₂ of the coordinate of H₁,₃|0>, gives -1/4|0> vs -3/4\n",
      "\n",
      "\n",
      "\n",
      "\n",
      "\n",
      "\n",
      "\n",
      "\n",
      "\n",
      "\n",
      "Warning: error in component H₋₁,₃H₋₃,₋₃ of the coordinate of H₁,₃|0>, gives 1/4|0> vs 3/8\n",
      "\n",
      "\n",
      "\n",
      "\n",
      "\n",
      "\n",
      "\n",
      "\n",
      "\n",
      "\n",
      "Warning: error in component G₋₂,₃H₋₃,₋₃H₋₁,₂ of the coordinate of H₁,₃|0>, gives 1/4|0> vs 3/4\n",
      "\n",
      "\n",
      "\n",
      "\n",
      "\n",
      "\n",
      "\n",
      "\n",
      "\n",
      "\n",
      "Warning: error in component H₋₂,₃G₂,₋₁H₋₃,₋₃ of the coordinate of H₁,₃|0>, gives -1/4|0> vs -3/8\n",
      "\n",
      "\n",
      "\n",
      "\n",
      "\n",
      "\n",
      "\n",
      "\n",
      "\n",
      "\n",
      "Warning: error in component H₃,₋₂H₋₃,₋₃H₋₁,₂ of the coordinate of H₁,₃|0>, gives -1/8|0> vs -3/8\n",
      "\n",
      "\n",
      "\n",
      "\n",
      "\n",
      "\n",
      "\n",
      "\n",
      "\n",
      "\n",
      "Warning: error in component G₃,₋₂H₂,₋₁H₋₃,₋₃ of the coordinate of H₁,₃|0>, gives -1/4|0> vs -3/8\n",
      "\n",
      "\n",
      "\n",
      "\n",
      "\n",
      "\n",
      "\n",
      "\n",
      "\n",
      "\n",
      "Warning: error in component H₋₂,₃G₋₁,₂H₋₃,₋₃ of the coordinate of H₁,₃|0>, gives 1/4|0> vs 3/8\n",
      "\n",
      "\n",
      "\n",
      "\n",
      "\n",
      "\n",
      "\n",
      "\n",
      "\n",
      "\n",
      "Warning: error in component H₋₂,₃H₋₁,₂H₋₃,₋₃ of the coordinate of H₁,₃|0>, gives -1/8|0> vs -3/16\n",
      "\n",
      "\n",
      "\n",
      "\n",
      "\n",
      "\n",
      "\n",
      "\n",
      "\n",
      "\n",
      "Warning: error in component H₋₂,₋₃H₋₁,₂ of the coordinate of H₁,₃|0>, gives -1/8|0> vs -3/8\n",
      "\n",
      "\n",
      "\n",
      "\n",
      "\n",
      "\n",
      "\n",
      "\n",
      "\n",
      "\n",
      "Warning: error in component G₋₂,₋₃H₋₁,₂ of the coordinate of H₁,₃|0>, gives 1/4|0> vs 3/4\n",
      "\n",
      "\n",
      "\n",
      "\n",
      "\n",
      " │  │  │  ├─  computed coordinates matrix for  H₁,₃|0>\n",
      " │  │  ├─simp(H₁,₃|0>,replacements={G₋₃,₋₃|0>: 0, H₋₃,₋₃|0>: 0, G₋₃,₋₂|0>: 0, H₋...\n",
      " │  │  │  └─H₁,₃|0>\n",
      " │  ├─simp(G₋₁,₋₃G₁,₂|0>,replacements={G₋₃,₋₃|0>: 0, H₋₃,₋₃|0>: 0, G₋₃,₋₂|0>: 0,...\n",
      " │  │  └─G₋₃,₂|0>\n",
      " │  ├─simp(H₋₁,₋₃G₁,₂|0>,replacements={G₋₃,₋₃|0>: 0, H₋₃,₋₃|0>: 0, G₋₃,₋₂|0>: 0,...\n",
      " │  │  └─1/2G₋₃,₂|0>\n",
      " │  ├─simp(G₋₁,₋₂G₁,₂|0>,replacements={G₋₃,₋₃|0>: 0, H₋₃,₋₃|0>: 0, G₋₃,₋₂|0>: 0,...\n",
      " │  │  └─-2|0>\n",
      " │  ├─simp(H₋₁,₋₂G₁,₂|0>,replacements={G₋₃,₋₃|0>: 0, H₋₃,₋₃|0>: 0, G₋₃,₋₂|0>: 0,...\n",
      " │  │  └─0\n",
      " │  ├─simp(G₋₁,₋₁G₁,₂|0>,replacements={G₋₃,₋₃|0>: 0, H₋₃,₋₃|0>: 0, G₋₃,₋₂|0>: 0,...\n",
      " │  │  └─0\n",
      " │  ├─simp(H₋₁,₋₁G₁,₂|0>,replacements={G₋₃,₋₃|0>: 0, H₋₃,₋₃|0>: 0, G₋₃,₋₂|0>: 0,...\n",
      " │  │  └─0\n",
      " │  ├─simp(G₋₁,₂G₁,₂|0>,replacements={G₋₃,₋₃|0>: 0, H₋₃,₋₃|0>: 0, G₋₃,₋₂|0>: 0, ...\n",
      " │  │  └─0\n",
      " │  ├─simp(H₋₁,₂G₁,₂|0>,replacements={G₋₃,₋₃|0>: 0, H₋₃,₋₃|0>: 0, G₋₃,₋₂|0>: 0, ...\n",
      " │  │  └─-H₂,₂|0>\n",
      " │  ├─coordinates(-H₂,₂|0>,replacements={G₋₃,₋₃|0>: 0, H₋₃,₋₃|0>: 0, G₋₃,₋₂|0>: ...\n",
      " │  │  ├─coordinates(-H₂,₂|0>,nosave=True,replacements={G₋₃,₋₃|0>: 0, H₋₃,₋₃|0>:...\n",
      " │  │  │  ├─simp(-H₂,₂|0>,replacements={G₋₃,₋₃|0>: 0, H₋₃,₋₃|0>: 0, G₋₃,₋₂|0>: 0...\n",
      " │  │  │  │  └─-H₂,₂|0>\n",
      " │  │  │  ├─simp(G₋₃,₋₃H₂,₂|0>,replacements={G₋₃,₋₃|0>: 0, H₋₃,₋₃|0>: 0, G₋₃,₋₂|...\n",
      " │  │  │  │  └─0\n",
      " │  │  │  ├─simp(H₋₃,₋₃H₂,₂|0>,replacements={G₋₃,₋₃|0>: 0, H₋₃,₋₃|0>: 0, G₋₃,₋₂|...\n",
      " │  │  │  │  └─H₋₃,₂G₋₃,₂|0>+H₂,₋₃G₋₃,₂|0>\n",
      " │  │  │  ├─coordinates(H₋₃,₂G₋₃,₂|0>+H₂,₋₃G₋₃,₂|0>,replacements={G₋₃,₋₃|0>: 0, ...\n",
      " │  │  │  │  ├─simp(H₋₃,₂G₋₃,₂|0>+H₂,₋₃G₋₃,₂|0>,replacements={G₋₃,₋₃|0>: 0, H₋₃,...\n",
      " │  │  │  │  │  └─H₋₃,₂G₋₃,₂|0>+H₂,₋₃G₋₃,₂|0>\n",
      " │  │  │  │  ├─coordinates(H₋₃,₂G₋₃,₂|0>,replacements={G₋₃,₋₃|0>: 0, H₋₃,₋₃|0>: ...\n",
      " │  │  │  │  │  ├─coordinates(H₋₃,₂G₋₃,₂|0>,nosave=True,replacements={G₋₃,₋₃|0>:...\n",
      " │  │  │  │  │  │  ├─simp(H₋₃,₂G₋₃,₂|0>,replacements={G₋₃,₋₃|0>: 0, H₋₃,₋₃|0>: 0...\n",
      " │  │  │  │  │  │  │  └─H₋₃,₂G₋₃,₂|0>\n",
      " │  │  │  │  │  │  ├─simp(G₋₃,₋₃H₋₃,₂G₋₃,₂|0>,replacements={G₋₃,₋₃|0>: 0, H₋₃,₋₃...\n",
      " │  │  │  │  │  │  │  └─0\n",
      " │  │  │  │  │  │  ├─simp(H₋₃,₋₃H₋₃,₂G₋₃,₂|0>,replacements={G₋₃,₋₃|0>: 0, H₋₃,₋₃...\n",
      " │  │  │  │  │  │  │  └─0\n",
      " │  │  │  │  │  │  ├─simp(G₋₃,₋₂H₋₃,₂G₋₃,₂|0>,replacements={G₋₃,₋₃|0>: 0, H₋₃,₋₃...\n",
      " │  │  │  │  │  │  │  └─0\n"
     ]
    },
    {
     "name": "stdout",
     "output_type": "stream",
     "text": [
      " │  │  │  │  │  │  ├─simp(H₋₃,₋₂H₋₃,₂G₋₃,₂|0>,replacements={G₋₃,₋₃|0>: 0, H₋₃,₋₃...\n",
      " │  │  │  │  │  │  │  └─0\n",
      " │  │  │  │  │  │  ├─simp(G₋₃,₋₁H₋₃,₂G₋₃,₂|0>,replacements={G₋₃,₋₃|0>: 0, H₋₃,₋₃...\n",
      " │  │  │  │  │  │  │  └─0\n",
      " │  │  │  │  │  │  ├─simp(H₋₃,₋₁H₋₃,₂G₋₃,₂|0>,replacements={G₋₃,₋₃|0>: 0, H₋₃,₋₃...\n",
      " │  │  │  │  │  │  │  └─0\n",
      " │  │  │  │  │  │  ├─simp(G₋₂,₋₃H₋₃,₂G₋₃,₂|0>,replacements={G₋₃,₋₃|0>: 0, H₋₃,₋₃...\n",
      " │  │  │  │  │  │  │  └─0\n",
      " │  │  │  │  │  │  ├─simp(H₋₂,₋₃H₋₃,₂G₋₃,₂|0>,replacements={G₋₃,₋₃|0>: 0, H₋₃,₋₃...\n",
      " │  │  │  │  │  │  │  └─0\n",
      " │  │  │  │  │  │  ├─simp(G₋₂,₋₂H₋₃,₂G₋₃,₂|0>,replacements={G₋₃,₋₃|0>: 0, H₋₃,₋₃...\n",
      " │  │  │  │  │  │  │  └─0\n",
      " │  │  │  │  │  │  ├─simp(H₋₂,₋₂H₋₃,₂G₋₃,₂|0>,replacements={G₋₃,₋₃|0>: 0, H₋₃,₋₃...\n",
      " │  │  │  │  │  │  │  └─0\n",
      " │  │  │  │  │  │  ├─simp(G₋₂,₋₁H₋₃,₂G₋₃,₂|0>,replacements={G₋₃,₋₃|0>: 0, H₋₃,₋₃...\n",
      " │  │  │  │  │  │  │  └─0\n",
      " │  │  │  │  │  │  ├─simp(H₋₂,₋₁H₋₃,₂G₋₃,₂|0>,replacements={G₋₃,₋₃|0>: 0, H₋₃,₋₃...\n",
      " │  │  │  │  │  │  │  └─0\n",
      " │  │  │  │  │  │  ├─simp(G₋₂,₃H₋₃,₂G₋₃,₂|0>,replacements={G₋₃,₋₃|0>: 0, H₋₃,₋₃|...\n",
      " │  │  │  │  │  │  │  └─0\n",
      " │  │  │  │  │  │  ├─simp(H₋₂,₃H₋₃,₂G₋₃,₂|0>,replacements={G₋₃,₋₃|0>: 0, H₋₃,₋₃|...\n",
      " │  │  │  │  │  │  │  └─0\n",
      " │  │  │  │  │  │  ├─simp(G₋₁,₋₃H₋₃,₂G₋₃,₂|0>,replacements={G₋₃,₋₃|0>: 0, H₋₃,₋₃...\n",
      " │  │  │  │  │  │  │  └─0\n",
      " │  │  │  │  │  │  ├─simp(H₋₁,₋₃H₋₃,₂G₋₃,₂|0>,replacements={G₋₃,₋₃|0>: 0, H₋₃,₋₃...\n",
      " │  │  │  │  │  │  │  └─0\n",
      " │  │  │  │  │  │  ├─simp(G₋₁,₋₂H₋₃,₂G₋₃,₂|0>,replacements={G₋₃,₋₃|0>: 0, H₋₃,₋₃...\n",
      " │  │  │  │  │  │  │  └─0\n",
      " │  │  │  │  │  │  ├─simp(H₋₁,₋₂H₋₃,₂G₋₃,₂|0>,replacements={G₋₃,₋₃|0>: 0, H₋₃,₋₃...\n",
      " │  │  │  │  │  │  │  └─0\n",
      " │  │  │  │  │  │  ├─simp(G₋₁,₋₁H₋₃,₂G₋₃,₂|0>,replacements={G₋₃,₋₃|0>: 0, H₋₃,₋₃...\n",
      " │  │  │  │  │  │  │  └─0\n",
      " │  │  │  │  │  │  ├─simp(H₋₁,₋₁H₋₃,₂G₋₃,₂|0>,replacements={G₋₃,₋₃|0>: 0, H₋₃,₋₃...\n",
      " │  │  │  │  │  │  │  └─0\n",
      " │  │  │  │  │  │  ├─simp(G₋₁,₂H₋₃,₂G₋₃,₂|0>,replacements={G₋₃,₋₃|0>: 0, H₋₃,₋₃|...\n",
      " │  │  │  │  │  │  │  └─0\n",
      " │  │  │  │  │  │  ├─simp(H₋₁,₂H₋₃,₂G₋₃,₂|0>,replacements={G₋₃,₋₃|0>: 0, H₋₃,₋₃|...\n",
      " │  │  │  │  │  │  │  └─0\n",
      " │  │  │  │  │  │  ├─simp(G₋₁,₃H₋₃,₂G₋₃,₂|0>,replacements={G₋₃,₋₃|0>: 0, H₋₃,₋₃|...\n",
      " │  │  │  │  │  │  │  └─0\n",
      " │  │  │  │  │  │  ├─simp(H₋₁,₃H₋₃,₂G₋₃,₂|0>,replacements={G₋₃,₋₃|0>: 0, H₋₃,₋₃|...\n",
      " │  │  │  │  │  │  │  └─0\n",
      " │  │  │  │  │  │  ├─simp(G₂,₋₁H₋₃,₂G₋₃,₂|0>,replacements={G₋₃,₋₃|0>: 0, H₋₃,₋₃|...\n",
      " │  │  │  │  │  │  │  └─0\n",
      " │  │  │  │  │  │  ├─simp(H₂,₋₁H₋₃,₂G₋₃,₂|0>,replacements={G₋₃,₋₃|0>: 0, H₋₃,₋₃|...\n",
      " │  │  │  │  │  │  │  └─0\n",
      " │  │  │  │  │  │  ├─simp(G₃,₋₂H₋₃,₂G₋₃,₂|0>,replacements={G₋₃,₋₃|0>: 0, H₋₃,₋₃|...\n",
      " │  │  │  │  │  │  │  └─0\n",
      " │  │  │  │  │  │  ├─simp(H₃,₋₂H₋₃,₂G₋₃,₂|0>,replacements={G₋₃,₋₃|0>: 0, H₋₃,₋₃|...\n",
      " │  │  │  │  │  │  │  └─0\n",
      " │  │  │  │  │  │  ├─simp(G₃,₋₁H₋₃,₂G₋₃,₂|0>,replacements={G₋₃,₋₃|0>: 0, H₋₃,₋₃|...\n",
      " │  │  │  │  │  │  │  └─0\n",
      " │  │  │  │  │  │  ├─simp(H₃,₋₁H₋₃,₂G₋₃,₂|0>,replacements={G₋₃,₋₃|0>: 0, H₋₃,₋₃|...\n",
      " │  │  │  │  │  │  │  └─0\n",
      " │  │  │  │  │  │  ├─   H₋₃,₂G₋₃,₂|0> =0\n",
      " │  │  │  │  │  ├─simp(H₋₃,₂G₋₃,₂|0>,replacements={G₋₃,₋₃|0>: 0, H₋₃,₋₃|0>: 0, G...\n",
      " │  │  │  │  │  │  └─0\n",
      " │  │  │  │  ├─coordinates(H₂,₋₃G₋₃,₂|0>,replacements={G₋₃,₋₃|0>: 0, H₋₃,₋₃|0>: ...\n",
      " │  │  │  │  │  ├─coordinates(H₂,₋₃G₋₃,₂|0>,nosave=True,replacements={G₋₃,₋₃|0>:...\n",
      " │  │  │  │  │  │  ├─simp(H₂,₋₃G₋₃,₂|0>,replacements={G₋₃,₋₃|0>: 0, H₋₃,₋₃|0>: 0...\n",
      " │  │  │  │  │  │  │  └─H₂,₋₃G₋₃,₂|0>\n",
      " │  │  │  │  │  │  ├─simp(G₋₃,₋₃H₂,₋₃G₋₃,₂|0>,replacements={G₋₃,₋₃|0>: 0, H₋₃,₋₃...\n",
      " │  │  │  │  │  │  │  └─0\n",
      " │  │  │  │  │  │  ├─simp(H₋₃,₋₃H₂,₋₃G₋₃,₂|0>,replacements={G₋₃,₋₃|0>: 0, H₋₃,₋₃...\n",
      " │  │  │  │  │  │  │  └─0\n",
      " │  │  │  │  │  │  ├─simp(G₋₃,₋₂H₂,₋₃G₋₃,₂|0>,replacements={G₋₃,₋₃|0>: 0, H₋₃,₋₃...\n",
      " │  │  │  │  │  │  │  └─0\n",
      " │  │  │  │  │  │  ├─simp(H₋₃,₋₂H₂,₋₃G₋₃,₂|0>,replacements={G₋₃,₋₃|0>: 0, H₋₃,₋₃...\n",
      " │  │  │  │  │  │  │  └─0\n",
      " │  │  │  │  │  │  ├─simp(G₋₃,₋₁H₂,₋₃G₋₃,₂|0>,replacements={G₋₃,₋₃|0>: 0, H₋₃,₋₃...\n",
      " │  │  │  │  │  │  │  └─0\n",
      " │  │  │  │  │  │  ├─simp(H₋₃,₋₁H₂,₋₃G₋₃,₂|0>,replacements={G₋₃,₋₃|0>: 0, H₋₃,₋₃...\n",
      " │  │  │  │  │  │  │  └─0\n",
      " │  │  │  │  │  │  ├─simp(G₋₂,₋₃H₂,₋₃G₋₃,₂|0>,replacements={G₋₃,₋₃|0>: 0, H₋₃,₋₃...\n",
      " │  │  │  │  │  │  │  └─0\n",
      " │  │  │  │  │  │  ├─simp(H₋₂,₋₃H₂,₋₃G₋₃,₂|0>,replacements={G₋₃,₋₃|0>: 0, H₋₃,₋₃...\n",
      " │  │  │  │  │  │  │  └─0\n",
      " │  │  │  │  │  │  ├─simp(G₋₂,₋₂H₂,₋₃G₋₃,₂|0>,replacements={G₋₃,₋₃|0>: 0, H₋₃,₋₃...\n",
      " │  │  │  │  │  │  │  └─0\n",
      " │  │  │  │  │  │  ├─simp(H₋₂,₋₂H₂,₋₃G₋₃,₂|0>,replacements={G₋₃,₋₃|0>: 0, H₋₃,₋₃...\n",
      " │  │  │  │  │  │  │  └─0\n",
      " │  │  │  │  │  │  ├─simp(G₋₂,₋₁H₂,₋₃G₋₃,₂|0>,replacements={G₋₃,₋₃|0>: 0, H₋₃,₋₃...\n",
      " │  │  │  │  │  │  │  └─0\n",
      " │  │  │  │  │  │  ├─simp(H₋₂,₋₁H₂,₋₃G₋₃,₂|0>,replacements={G₋₃,₋₃|0>: 0, H₋₃,₋₃...\n",
      " │  │  │  │  │  │  │  └─0\n",
      " │  │  │  │  │  │  ├─simp(G₋₂,₃H₂,₋₃G₋₃,₂|0>,replacements={G₋₃,₋₃|0>: 0, H₋₃,₋₃|...\n",
      " │  │  │  │  │  │  │  └─0\n",
      " │  │  │  │  │  │  ├─simp(H₋₂,₃H₂,₋₃G₋₃,₂|0>,replacements={G₋₃,₋₃|0>: 0, H₋₃,₋₃|...\n",
      " │  │  │  │  │  │  │  └─0\n",
      " │  │  │  │  │  │  ├─simp(G₋₁,₋₃H₂,₋₃G₋₃,₂|0>,replacements={G₋₃,₋₃|0>: 0, H₋₃,₋₃...\n",
      " │  │  │  │  │  │  │  └─0\n",
      " │  │  │  │  │  │  ├─simp(H₋₁,₋₃H₂,₋₃G₋₃,₂|0>,replacements={G₋₃,₋₃|0>: 0, H₋₃,₋₃...\n",
      " │  │  │  │  │  │  │  └─0\n",
      " │  │  │  │  │  │  ├─simp(G₋₁,₋₂H₂,₋₃G₋₃,₂|0>,replacements={G₋₃,₋₃|0>: 0, H₋₃,₋₃...\n",
      " │  │  │  │  │  │  │  └─0\n",
      " │  │  │  │  │  │  ├─simp(H₋₁,₋₂H₂,₋₃G₋₃,₂|0>,replacements={G₋₃,₋₃|0>: 0, H₋₃,₋₃...\n",
      " │  │  │  │  │  │  │  └─0\n",
      " │  │  │  │  │  │  ├─simp(G₋₁,₋₁H₂,₋₃G₋₃,₂|0>,replacements={G₋₃,₋₃|0>: 0, H₋₃,₋₃...\n",
      " │  │  │  │  │  │  │  └─0\n",
      " │  │  │  │  │  │  ├─simp(H₋₁,₋₁H₂,₋₃G₋₃,₂|0>,replacements={G₋₃,₋₃|0>: 0, H₋₃,₋₃...\n",
      " │  │  │  │  │  │  │  └─0\n",
      " │  │  │  │  │  │  ├─simp(G₋₁,₂H₂,₋₃G₋₃,₂|0>,replacements={G₋₃,₋₃|0>: 0, H₋₃,₋₃|...\n",
      " │  │  │  │  │  │  │  └─0\n",
      " │  │  │  │  │  │  ├─simp(H₋₁,₂H₂,₋₃G₋₃,₂|0>,replacements={G₋₃,₋₃|0>: 0, H₋₃,₋₃|...\n",
      " │  │  │  │  │  │  │  └─0\n",
      " │  │  │  │  │  │  ├─simp(G₋₁,₃H₂,₋₃G₋₃,₂|0>,replacements={G₋₃,₋₃|0>: 0, H₋₃,₋₃|...\n",
      " │  │  │  │  │  │  │  └─0\n",
      " │  │  │  │  │  │  ├─simp(H₋₁,₃H₂,₋₃G₋₃,₂|0>,replacements={G₋₃,₋₃|0>: 0, H₋₃,₋₃|...\n",
      " │  │  │  │  │  │  │  └─0\n",
      " │  │  │  │  │  │  ├─simp(G₂,₋₁H₂,₋₃G₋₃,₂|0>,replacements={G₋₃,₋₃|0>: 0, H₋₃,₋₃|...\n",
      " │  │  │  │  │  │  │  └─0\n",
      " │  │  │  │  │  │  ├─simp(H₂,₋₁H₂,₋₃G₋₃,₂|0>,replacements={G₋₃,₋₃|0>: 0, H₋₃,₋₃|...\n",
      " │  │  │  │  │  │  │  └─0\n",
      " │  │  │  │  │  │  ├─simp(G₃,₋₂H₂,₋₃G₋₃,₂|0>,replacements={G₋₃,₋₃|0>: 0, H₋₃,₋₃|...\n",
      " │  │  │  │  │  │  │  └─0\n",
      " │  │  │  │  │  │  ├─simp(H₃,₋₂H₂,₋₃G₋₃,₂|0>,replacements={G₋₃,₋₃|0>: 0, H₋₃,₋₃|...\n",
      " │  │  │  │  │  │  │  └─0\n",
      " │  │  │  │  │  │  ├─simp(G₃,₋₁H₂,₋₃G₋₃,₂|0>,replacements={G₋₃,₋₃|0>: 0, H₋₃,₋₃|...\n",
      " │  │  │  │  │  │  │  └─0\n",
      " │  │  │  │  │  │  ├─simp(H₃,₋₁H₂,₋₃G₋₃,₂|0>,replacements={G₋₃,₋₃|0>: 0, H₋₃,₋₃|...\n",
      " │  │  │  │  │  │  │  └─0\n",
      " │  │  │  │  │  │  ├─   H₂,₋₃G₋₃,₂|0> =0\n",
      " │  │  │  │  │  ├─simp(H₂,₋₃G₋₃,₂|0>,replacements={G₋₃,₋₃|0>: 0, H₋₃,₋₃|0>: 0, G...\n",
      " │  │  │  │  │  │  └─0\n",
      " │  │  │  ├─simp(G₋₃,₋₂H₂,₂|0>,replacements={G₋₃,₋₃|0>: 0, H₋₃,₋₃|0>: 0, G₋₃,₋₂|...\n",
      " │  │  │  │  └─G₋₃,₂|0>\n",
      " │  │  │  ├─simp(H₋₃,₋₂H₂,₂|0>,replacements={G₋₃,₋₃|0>: 0, H₋₃,₋₃|0>: 0, G₋₃,₋₂|...\n",
      " │  │  │  │  └─-1/2G₋₃,₂|0>\n",
      " │  │  │  ├─simp(G₋₃,₋₁H₂,₂|0>,replacements={G₋₃,₋₃|0>: 0, H₋₃,₋₃|0>: 0, G₋₃,₋₂|...\n",
      " │  │  │  │  └─0\n",
      " │  │  │  ├─simp(H₋₃,₋₁H₂,₂|0>,replacements={G₋₃,₋₃|0>: 0, H₋₃,₋₃|0>: 0, G₋₃,₋₂|...\n",
      " │  │  │  │  └─0\n",
      " │  │  │  ├─simp(G₋₂,₋₃H₂,₂|0>,replacements={G₋₃,₋₃|0>: 0, H₋₃,₋₃|0>: 0, G₋₃,₋₂|...\n",
      " │  │  │  │  └─-G₋₃,₂|0>\n",
      " │  │  │  ├─simp(H₋₂,₋₃H₂,₂|0>,replacements={G₋₃,₋₃|0>: 0, H₋₃,₋₃|0>: 0, G₋₃,₋₂|...\n",
      " │  │  │  │  └─-1/2G₋₃,₂|0>\n",
      " │  │  │  ├─simp(G₋₂,₋₂H₂,₂|0>,replacements={G₋₃,₋₃|0>: 0, H₋₃,₋₃|0>: 0, G₋₃,₋₂|...\n",
      " │  │  │  │  └─0\n",
      " │  │  │  ├─simp(H₋₂,₋₂H₂,₂|0>,replacements={G₋₃,₋₃|0>: 0, H₋₃,₋₃|0>: 0, G₋₃,₋₂|...\n",
      " │  │  │  │  └─|0>\n",
      " │  │  │  ├─simp(G₋₂,₋₁H₂,₂|0>,replacements={G₋₃,₋₃|0>: 0, H₋₃,₋₃|0>: 0, G₋₃,₋₂|...\n",
      " │  │  │  │  └─0\n",
      " │  │  │  ├─simp(H₋₂,₋₁H₂,₂|0>,replacements={G₋₃,₋₃|0>: 0, H₋₃,₋₃|0>: 0, G₋₃,₋₂|...\n",
      " │  │  │  │  └─0\n",
      " │  │  │  ├─simp(G₋₂,₃H₂,₂|0>,replacements={G₋₃,₋₃|0>: 0, H₋₃,₋₃|0>: 0, G₋₃,₋₂|0...\n",
      " │  │  │  │  └─H₃,₂|0>+H₂,₃|0>\n",
      " │  │  │  ├─coordinates(H₃,₂|0>+H₂,₃|0>,replacements={G₋₃,₋₃|0>: 0, H₋₃,₋₃|0>: 0...\n",
      " │  │  │  │  ├─simp(H₃,₂|0>+H₂,₃|0>,replacements={G₋₃,₋₃|0>: 0, H₋₃,₋₃|0>: 0, G₋...\n",
      " │  │  │  │  │  └─H₃,₂|0>+H₂,₃|0>\n",
      " │  │  │  ├─simp(H₋₂,₃H₂,₂|0>,replacements={G₋₃,₋₃|0>: 0, H₋₃,₋₃|0>: 0, G₋₃,₋₂|0...\n",
      " │  │  │  │  └─1/4H₃,₂|0>-1/2H₃,₃G₋₃,₂|0>-1/4H₂,₃|0>\n",
      " │  │  │  ├─coordinates(1/4H₃,₂|0>-1/2H₃,₃G₋₃,₂|0>-1/4H₂,₃|0>,replacements={G₋₃,...\n",
      " │  │  │  │  ├─simp(1/4H₃,₂|0>-1/2H₃,₃G₋₃,₂|0>-1/4H₂,₃|0>,replacements={G₋₃,₋₃|0...\n",
      " │  │  │  │  │  └─1/4H₃,₂|0>-1/2H₃,₃G₋₃,₂|0>-1/4H₂,₃|0>\n",
      " │  │  │  ├─simp(G₋₁,₋₃H₂,₂|0>,replacements={G₋₃,₋₃|0>: 0, H₋₃,₋₃|0>: 0, G₋₃,₋₂|...\n",
      " │  │  │  │  └─0\n",
      " │  │  │  ├─simp(H₋₁,₋₃H₂,₂|0>,replacements={G₋₃,₋₃|0>: 0, H₋₃,₋₃|0>: 0, G₋₃,₋₂|...\n",
      " │  │  │  │  └─0\n",
      " │  │  │  ├─simp(G₋₁,₋₂H₂,₂|0>,replacements={G₋₃,₋₃|0>: 0, H₋₃,₋₃|0>: 0, G₋₃,₋₂|...\n",
      " │  │  │  │  └─0\n",
      " │  │  │  ├─simp(H₋₁,₋₂H₂,₂|0>,replacements={G₋₃,₋₃|0>: 0, H₋₃,₋₃|0>: 0, G₋₃,₋₂|...\n",
      " │  │  │  │  └─0\n",
      " │  │  │  ├─simp(G₋₁,₋₁H₂,₂|0>,replacements={G₋₃,₋₃|0>: 0, H₋₃,₋₃|0>: 0, G₋₃,₋₂|...\n",
      " │  │  │  │  └─0\n"
     ]
    },
    {
     "name": "stdout",
     "output_type": "stream",
     "text": [
      " │  │  │  ├─simp(H₋₁,₋₁H₂,₂|0>,replacements={G₋₃,₋₃|0>: 0, H₋₃,₋₃|0>: 0, G₋₃,₋₂|...\n",
      " │  │  │  │  └─0\n",
      " │  │  │  ├─simp(G₋₁,₂H₂,₂|0>,replacements={G₋₃,₋₃|0>: 0, H₋₃,₋₃|0>: 0, G₋₃,₋₂|0...\n",
      " │  │  │  │  └─0\n",
      " │  │  │  ├─simp(H₋₁,₂H₂,₂|0>,replacements={G₋₃,₋₃|0>: 0, H₋₃,₋₃|0>: 0, G₋₃,₋₂|0...\n",
      " │  │  │  │  └─0\n",
      " │  │  │  ├─simp(G₋₁,₃H₂,₂|0>,replacements={G₋₃,₋₃|0>: 0, H₋₃,₋₃|0>: 0, G₋₃,₋₂|0...\n",
      " │  │  │  │  └─0\n",
      " │  │  │  ├─simp(H₋₁,₃H₂,₂|0>,replacements={G₋₃,₋₃|0>: 0, H₋₃,₋₃|0>: 0, G₋₃,₋₂|0...\n",
      " │  │  │  │  └─0\n",
      " │  │  │  ├─simp(G₂,₋₁H₂,₂|0>,replacements={G₋₃,₋₃|0>: 0, H₋₃,₋₃|0>: 0, G₋₃,₋₂|0...\n",
      " │  │  │  │  └─0\n",
      " │  │  │  ├─simp(H₂,₋₁H₂,₂|0>,replacements={G₋₃,₋₃|0>: 0, H₋₃,₋₃|0>: 0, G₋₃,₋₂|0...\n",
      " │  │  │  │  └─0\n",
      " │  │  │  ├─simp(G₃,₋₂H₂,₂|0>,replacements={G₋₃,₋₃|0>: 0, H₋₃,₋₃|0>: 0, G₋₃,₋₂|0...\n",
      " │  │  │  │  └─-H₃,₂|0>-H₂,₃|0>\n",
      " │  │  │  ├─coordinates(-H₃,₂|0>-H₂,₃|0>,replacements={G₋₃,₋₃|0>: 0, H₋₃,₋₃|0>: ...\n",
      " │  │  │  │  ├─simp(-H₃,₂|0>-H₂,₃|0>,replacements={G₋₃,₋₃|0>: 0, H₋₃,₋₃|0>: 0, G...\n",
      " │  │  │  │  │  └─-H₃,₂|0>-H₂,₃|0>\n",
      " │  │  │  ├─simp(H₃,₋₂H₂,₂|0>,replacements={G₋₃,₋₃|0>: 0, H₋₃,₋₃|0>: 0, G₋₃,₋₂|0...\n",
      " │  │  │  │  └─-1/4H₃,₂|0>-1/2H₃,₃G₋₃,₂|0>+1/4H₂,₃|0>\n",
      " │  │  │  ├─coordinates(-1/4H₃,₂|0>-1/2H₃,₃G₋₃,₂|0>+1/4H₂,₃|0>,replacements={G₋₃...\n",
      " │  │  │  │  ├─simp(-1/4H₃,₂|0>-1/2H₃,₃G₋₃,₂|0>+1/4H₂,₃|0>,replacements={G₋₃,₋₃|...\n",
      " │  │  │  │  │  └─-1/4H₃,₂|0>-1/2H₃,₃G₋₃,₂|0>+1/4H₂,₃|0>\n",
      " │  │  │  ├─simp(G₃,₋₁H₂,₂|0>,replacements={G₋₃,₋₃|0>: 0, H₋₃,₋₃|0>: 0, G₋₃,₋₂|0...\n",
      " │  │  │  │  └─0\n",
      " │  │  │  ├─simp(H₃,₋₁H₂,₂|0>,replacements={G₋₃,₋₃|0>: 0, H₋₃,₋₃|0>: 0, G₋₃,₋₂|0...\n",
      " │  │  │  │  └─0\n",
      " │  │  │  ├─  computed coordinates matrix for  H₂,₂|0>\n",
      " │  │  ├─simp(H₂,₂|0>,replacements={G₋₃,₋₃|0>: 0, H₋₃,₋₃|0>: 0, G₋₃,₋₂|0>: 0, H₋...\n",
      " │  │  │  └─H₂,₂|0>\n",
      " │  ├─simp(G₋₁,₃G₁,₂|0>,replacements={G₋₃,₋₃|0>: 0, H₋₃,₋₃|0>: 0, G₋₃,₋₂|0>: 0, ...\n",
      " │  │  └─-G₂,₃|0>\n",
      " │  ├─simp(H₋₁,₃G₁,₂|0>,replacements={G₋₃,₋₃|0>: 0, H₋₃,₋₃|0>: 0, G₋₃,₋₂|0>: 0, ...\n",
      " │  │  └─-H₂,₃|0>\n",
      " │  ├─simp(G₂,₋₁G₁,₂|0>,replacements={G₋₃,₋₃|0>: 0, H₋₃,₋₃|0>: 0, G₋₃,₋₂|0>: 0, ...\n",
      " │  │  └─0\n",
      " │  ├─simp(H₂,₋₁G₁,₂|0>,replacements={G₋₃,₋₃|0>: 0, H₋₃,₋₃|0>: 0, G₋₃,₋₂|0>: 0, ...\n",
      " │  │  └─-H₂,₂|0>\n",
      " │  ├─simp(G₃,₋₂G₁,₂|0>,replacements={G₋₃,₋₃|0>: 0, H₋₃,₋₃|0>: 0, G₋₃,₋₂|0>: 0, ...\n",
      " │  │  └─-G₁,₃|0>\n",
      " │  ├─simp(H₃,₋₂G₁,₂|0>,replacements={G₋₃,₋₃|0>: 0, H₋₃,₋₃|0>: 0, G₋₃,₋₂|0>: 0, ...\n",
      " │  │  └─H₃,₁|0>\n",
      " │  ├─coordinates(H₃,₁|0>,replacements={G₋₃,₋₃|0>: 0, H₋₃,₋₃|0>: 0, G₋₃,₋₂|0>: 0...\n",
      " │  │  ├─coordinates(H₃,₁|0>,nosave=True,replacements={G₋₃,₋₃|0>: 0, H₋₃,₋₃|0>: ...\n",
      " │  │  │  ├─simp(H₃,₁|0>,replacements={G₋₃,₋₃|0>: 0, H₋₃,₋₃|0>: 0, G₋₃,₋₂|0>: 0,...\n",
      " │  │  │  │  └─H₃,₁|0>\n",
      " │  │  │  ├─simp(G₋₃,₋₃H₃,₁|0>,replacements={G₋₃,₋₃|0>: 0, H₋₃,₋₃|0>: 0, G₋₃,₋₂|...\n",
      " │  │  │  │  └─0\n",
      " │  │  │  ├─simp(H₋₃,₋₃H₃,₁|0>,replacements={G₋₃,₋₃|0>: 0, H₋₃,₋₃|0>: 0, G₋₃,₋₂|...\n",
      " │  │  │  │  └─1/2H₋₂,₁G₋₃,₂|0>-1/4G₋₃,₁|0>\n",
      " │  │  │  ├─coordinates(1/2H₋₂,₁G₋₃,₂|0>-1/4G₋₃,₁|0>,replacements={G₋₃,₋₃|0>: 0,...\n",
      " │  │  │  │  ├─simp(1/2H₋₂,₁G₋₃,₂|0>-1/4G₋₃,₁|0>,replacements={G₋₃,₋₃|0>: 0, H₋₃...\n",
      " │  │  │  │  │  └─1/2H₋₂,₁G₋₃,₂|0>-1/4G₋₃,₁|0>\n",
      " │  │  │  │  ├─coordinates(1/2H₋₂,₁G₋₃,₂|0>,replacements={G₋₃,₋₃|0>: 0, H₋₃,₋₃|0...\n",
      " │  │  │  │  │  ├─coordinates(1/2H₋₂,₁G₋₃,₂|0>,nosave=True,replacements={G₋₃,₋₃|...\n",
      " │  │  │  │  │  │  ├─simp(1/2H₋₂,₁G₋₃,₂|0>,replacements={G₋₃,₋₃|0>: 0, H₋₃,₋₃|0>...\n",
      " │  │  │  │  │  │  │  └─1/2H₋₂,₁G₋₃,₂|0>\n",
      " │  │  │  │  │  │  ├─simp(G₋₃,₋₃H₋₂,₁G₋₃,₂|0>,replacements={G₋₃,₋₃|0>: 0, H₋₃,₋₃...\n",
      " │  │  │  │  │  │  │  └─0\n",
      " │  │  │  │  │  │  ├─simp(H₋₃,₋₃H₋₂,₁G₋₃,₂|0>,replacements={G₋₃,₋₃|0>: 0, H₋₃,₋₃...\n",
      " │  │  │  │  │  │  │  └─0\n",
      " │  │  │  │  │  │  ├─simp(G₋₃,₋₂H₋₂,₁G₋₃,₂|0>,replacements={G₋₃,₋₃|0>: 0, H₋₃,₋₃...\n",
      " │  │  │  │  │  │  │  └─0\n",
      " │  │  │  │  │  │  ├─simp(H₋₃,₋₂H₋₂,₁G₋₃,₂|0>,replacements={G₋₃,₋₃|0>: 0, H₋₃,₋₃...\n",
      " │  │  │  │  │  │  │  └─0\n",
      " │  │  │  │  │  │  ├─simp(G₋₃,₋₁H₋₂,₁G₋₃,₂|0>,replacements={G₋₃,₋₃|0>: 0, H₋₃,₋₃...\n",
      " │  │  │  │  │  │  │  └─0\n",
      " │  │  │  │  │  │  ├─simp(H₋₃,₋₁H₋₂,₁G₋₃,₂|0>,replacements={G₋₃,₋₃|0>: 0, H₋₃,₋₃...\n",
      " │  │  │  │  │  │  │  └─0\n",
      " │  │  │  │  │  │  ├─simp(G₋₂,₋₃H₋₂,₁G₋₃,₂|0>,replacements={G₋₃,₋₃|0>: 0, H₋₃,₋₃...\n",
      " │  │  │  │  │  │  │  └─0\n",
      " │  │  │  │  │  │  ├─simp(H₋₂,₋₃H₋₂,₁G₋₃,₂|0>,replacements={G₋₃,₋₃|0>: 0, H₋₃,₋₃...\n",
      " │  │  │  │  │  │  │  └─0\n",
      " │  │  │  │  │  │  ├─simp(G₋₂,₋₂H₋₂,₁G₋₃,₂|0>,replacements={G₋₃,₋₃|0>: 0, H₋₃,₋₃...\n",
      " │  │  │  │  │  │  │  └─0\n",
      " │  │  │  │  │  │  ├─simp(H₋₂,₋₂H₋₂,₁G₋₃,₂|0>,replacements={G₋₃,₋₃|0>: 0, H₋₃,₋₃...\n",
      " │  │  │  │  │  │  │  └─0\n",
      " │  │  │  │  │  │  ├─simp(G₋₂,₋₁H₋₂,₁G₋₃,₂|0>,replacements={G₋₃,₋₃|0>: 0, H₋₃,₋₃...\n",
      " │  │  │  │  │  │  │  └─0\n",
      " │  │  │  │  │  │  ├─simp(H₋₂,₋₁H₋₂,₁G₋₃,₂|0>,replacements={G₋₃,₋₃|0>: 0, H₋₃,₋₃...\n",
      " │  │  │  │  │  │  │  └─0\n",
      " │  │  │  │  │  │  ├─simp(G₋₂,₃H₋₂,₁G₋₃,₂|0>,replacements={G₋₃,₋₃|0>: 0, H₋₃,₋₃|...\n",
      " │  │  │  │  │  │  │  └─0\n",
      " │  │  │  │  │  │  ├─simp(H₋₂,₃H₋₂,₁G₋₃,₂|0>,replacements={G₋₃,₋₃|0>: 0, H₋₃,₋₃|...\n",
      " │  │  │  │  │  │  │  └─0\n",
      " │  │  │  │  │  │  ├─simp(G₋₁,₋₃H₋₂,₁G₋₃,₂|0>,replacements={G₋₃,₋₃|0>: 0, H₋₃,₋₃...\n",
      " │  │  │  │  │  │  │  └─0\n",
      " │  │  │  │  │  │  ├─simp(H₋₁,₋₃H₋₂,₁G₋₃,₂|0>,replacements={G₋₃,₋₃|0>: 0, H₋₃,₋₃...\n",
      " │  │  │  │  │  │  │  └─0\n",
      " │  │  │  │  │  │  ├─simp(G₋₁,₋₂H₋₂,₁G₋₃,₂|0>,replacements={G₋₃,₋₃|0>: 0, H₋₃,₋₃...\n",
      " │  │  │  │  │  │  │  └─0\n",
      " │  │  │  │  │  │  ├─simp(H₋₁,₋₂H₋₂,₁G₋₃,₂|0>,replacements={G₋₃,₋₃|0>: 0, H₋₃,₋₃...\n",
      " │  │  │  │  │  │  │  └─0\n",
      " │  │  │  │  │  │  ├─simp(G₋₁,₋₁H₋₂,₁G₋₃,₂|0>,replacements={G₋₃,₋₃|0>: 0, H₋₃,₋₃...\n",
      " │  │  │  │  │  │  │  └─0\n",
      " │  │  │  │  │  │  ├─simp(H₋₁,₋₁H₋₂,₁G₋₃,₂|0>,replacements={G₋₃,₋₃|0>: 0, H₋₃,₋₃...\n",
      " │  │  │  │  │  │  │  └─0\n",
      " │  │  │  │  │  │  ├─simp(G₋₁,₂H₋₂,₁G₋₃,₂|0>,replacements={G₋₃,₋₃|0>: 0, H₋₃,₋₃|...\n",
      " │  │  │  │  │  │  │  └─-1/2G₋₃,₂|0>\n",
      " │  │  │  │  │  │  ├─simp(H₋₁,₂H₋₂,₁G₋₃,₂|0>,replacements={G₋₃,₋₃|0>: 0, H₋₃,₋₃|...\n",
      " │  │  │  │  │  │  │  └─1/4G₋₃,₂|0>\n",
      " │  │  │  │  │  │  ├─simp(G₋₁,₃H₋₂,₁G₋₃,₂|0>,replacements={G₋₃,₋₃|0>: 0, H₋₃,₋₃|...\n",
      " │  │  │  │  │  │  │  └─-1/2|0>\n",
      " │  │  │  │  │  │  ├─simp(H₋₁,₃H₋₂,₁G₋₃,₂|0>,replacements={G₋₃,₋₃|0>: 0, H₋₃,₋₃|...\n",
      " │  │  │  │  │  │  │  └─1/4|0>\n",
      " │  │  │  │  │  │  ├─simp(G₂,₋₁H₋₂,₁G₋₃,₂|0>,replacements={G₋₃,₋₃|0>: 0, H₋₃,₋₃|...\n",
      " │  │  │  │  │  │  │  └─1/2G₋₃,₂|0>\n",
      " │  │  │  │  │  │  ├─simp(H₂,₋₁H₋₂,₁G₋₃,₂|0>,replacements={G₋₃,₋₃|0>: 0, H₋₃,₋₃|...\n",
      " │  │  │  │  │  │  │  └─1/4G₋₃,₂|0>\n",
      " │  │  │  │  │  │  ├─simp(G₃,₋₂H₋₂,₁G₋₃,₂|0>,replacements={G₋₃,₋₃|0>: 0, H₋₃,₋₃|...\n",
      " │  │  │  │  │  │  │  └─0\n",
      " │  │  │  │  │  │  ├─simp(H₃,₋₂H₋₂,₁G₋₃,₂|0>,replacements={G₋₃,₋₃|0>: 0, H₋₃,₋₃|...\n",
      " │  │  │  │  │  │  │  └─0\n",
      " │  │  │  │  │  │  ├─simp(G₃,₋₁H₋₂,₁G₋₃,₂|0>,replacements={G₋₃,₋₃|0>: 0, H₋₃,₋₃|...\n",
      " │  │  │  │  │  │  │  └─1/2|0>\n",
      " │  │  │  │  │  │  ├─simp(H₃,₋₁H₋₂,₁G₋₃,₂|0>,replacements={G₋₃,₋₃|0>: 0, H₋₃,₋₃|...\n",
      " │  │  │  │  │  │  │  └─1/4|0>\n",
      " │  │  │  │  │  │  ├─  computed coordinates matrix for  H₋₂,₁G₋₃,₂|0>\n",
      " │  │  │  │  │  ├─simp(H₋₂,₁G₋₃,₂|0>,replacements={G₋₃,₋₃|0>: 0, H₋₃,₋₃|0>: 0, G...\n",
      " │  │  │  │  │  │  └─-1/2G₋₃,₁|0>\n",
      " │  │  │  ├─simp(G₋₃,₋₂H₃,₁|0>,replacements={G₋₃,₋₃|0>: 0, H₋₃,₋₃|0>: 0, G₋₃,₋₂|...\n",
      " │  │  │  │  └─0\n",
      " │  │  │  ├─simp(H₋₃,₋₂H₃,₁|0>,replacements={G₋₃,₋₃|0>: 0, H₋₃,₋₃|0>: 0, G₋₃,₋₂|...\n",
      " │  │  │  │  └─0\n",
      " │  │  │  ├─simp(G₋₃,₋₁H₃,₁|0>,replacements={G₋₃,₋₃|0>: 0, H₋₃,₋₃|0>: 0, G₋₃,₋₂|...\n",
      " │  │  │  │  └─1/2|0>\n",
      " │  │  │  ├─simp(H₋₃,₋₁H₃,₁|0>,replacements={G₋₃,₋₃|0>: 0, H₋₃,₋₃|0>: 0, G₋₃,₋₂|...\n",
      " │  │  │  │  └─1/4|0>\n",
      " │  │  │  ├─simp(G₋₂,₋₃H₃,₁|0>,replacements={G₋₃,₋₃|0>: 0, H₋₃,₋₃|0>: 0, G₋₃,₋₂|...\n",
      " │  │  │  │  └─0\n",
      " │  │  │  ├─simp(H₋₂,₋₃H₃,₁|0>,replacements={G₋₃,₋₃|0>: 0, H₋₃,₋₃|0>: 0, G₋₃,₋₂|...\n",
      " │  │  │  │  └─0\n",
      " │  │  │  ├─simp(G₋₂,₋₂H₃,₁|0>,replacements={G₋₃,₋₃|0>: 0, H₋₃,₋₃|0>: 0, G₋₃,₋₂|...\n",
      " │  │  │  │  └─0\n",
      " │  │  │  ├─simp(H₋₂,₋₂H₃,₁|0>,replacements={G₋₃,₋₃|0>: 0, H₋₃,₋₃|0>: 0, G₋₃,₋₂|...\n",
      " │  │  │  │  └─0\n",
      " │  │  │  ├─simp(G₋₂,₋₁H₃,₁|0>,replacements={G₋₃,₋₃|0>: 0, H₋₃,₋₃|0>: 0, G₋₃,₋₂|...\n",
      " │  │  │  │  └─0\n",
      " │  │  │  ├─simp(H₋₂,₋₁H₃,₁|0>,replacements={G₋₃,₋₃|0>: 0, H₋₃,₋₃|0>: 0, G₋₃,₋₂|...\n",
      " │  │  │  │  └─0\n",
      " │  │  │  ├─simp(G₋₂,₃H₃,₁|0>,replacements={G₋₃,₋₃|0>: 0, H₋₃,₋₃|0>: 0, G₋₃,₋₂|0...\n",
      " │  │  │  │  └─0\n",
      " │  │  │  ├─simp(H₋₂,₃H₃,₁|0>,replacements={G₋₃,₋₃|0>: 0, H₋₃,₋₃|0>: 0, G₋₃,₋₂|0...\n",
      " │  │  │  │  └─0\n",
      " │  │  │  ├─simp(G₋₁,₋₃H₃,₁|0>,replacements={G₋₃,₋₃|0>: 0, H₋₃,₋₃|0>: 0, G₋₃,₋₂|...\n",
      " │  │  │  │  └─-1/2|0>\n",
      " │  │  │  ├─simp(H₋₁,₋₃H₃,₁|0>,replacements={G₋₃,₋₃|0>: 0, H₋₃,₋₃|0>: 0, G₋₃,₋₂|...\n",
      " │  │  │  │  └─1/4|0>\n",
      " │  │  │  ├─simp(G₋₁,₋₂H₃,₁|0>,replacements={G₋₃,₋₃|0>: 0, H₋₃,₋₃|0>: 0, G₋₃,₋₂|...\n",
      " │  │  │  │  └─0\n",
      " │  │  │  ├─simp(H₋₁,₋₂H₃,₁|0>,replacements={G₋₃,₋₃|0>: 0, H₋₃,₋₃|0>: 0, G₋₃,₋₂|...\n",
      " │  │  │  │  └─0\n",
      " │  │  │  ├─simp(G₋₁,₋₁H₃,₁|0>,replacements={G₋₃,₋₃|0>: 0, H₋₃,₋₃|0>: 0, G₋₃,₋₂|...\n",
      " │  │  │  │  └─0\n",
      " │  │  │  ├─simp(H₋₁,₋₁H₃,₁|0>,replacements={G₋₃,₋₃|0>: 0, H₋₃,₋₃|0>: 0, G₋₃,₋₂|...\n",
      " │  │  │  │  └─0\n"
     ]
    },
    {
     "name": "stdout",
     "output_type": "stream",
     "text": [
      " │  │  │  ├─simp(G₋₁,₂H₃,₁|0>,replacements={G₋₃,₋₃|0>: 0, H₋₃,₋₃|0>: 0, G₋₃,₋₂|0...\n",
      " │  │  │  │  └─H₃,₂|0>\n",
      " │  │  │  ├─simp(H₋₁,₂H₃,₁|0>,replacements={G₋₃,₋₃|0>: 0, H₋₃,₋₃|0>: 0, G₋₃,₋₂|0...\n",
      " │  │  │  │  └─1/4G₂,₃|0>-H₃,₂|0>\n",
      " │  │  │  ├─coordinates(1/4G₂,₃|0>-H₃,₂|0>,replacements={G₋₃,₋₃|0>: 0, H₋₃,₋₃|0>...\n",
      " │  │  │  │  ├─simp(1/4G₂,₃|0>-H₃,₂|0>,replacements={G₋₃,₋₃|0>: 0, H₋₃,₋₃|0>: 0,...\n",
      " │  │  │  │  │  └─1/4G₂,₃|0>-H₃,₂|0>\n",
      " │  │  │  ├─simp(G₋₁,₃H₃,₁|0>,replacements={G₋₃,₋₃|0>: 0, H₋₃,₋₃|0>: 0, G₋₃,₋₂|0...\n",
      " │  │  │  │  └─0\n",
      " │  │  │  ├─simp(H₋₁,₃H₃,₁|0>,replacements={G₋₃,₋₃|0>: 0, H₋₃,₋₃|0>: 0, G₋₃,₋₂|0...\n",
      " │  │  │  │  └─0\n",
      " │  │  │  ├─simp(G₂,₋₁H₃,₁|0>,replacements={G₋₃,₋₃|0>: 0, H₋₃,₋₃|0>: 0, G₋₃,₋₂|0...\n",
      " │  │  │  │  └─-H₃,₂|0>\n",
      " │  │  │  ├─simp(H₂,₋₁H₃,₁|0>,replacements={G₋₃,₋₃|0>: 0, H₋₃,₋₃|0>: 0, G₋₃,₋₂|0...\n",
      "  warning: matrix Matrix([[1/2, -1/2], [-1/2, 1/2]]) not invertible, in (('Hll', 2, -1), ('Hll', 3, 1))\n",
      " │  │  │  │  └─-1/4G₂,₃|0>+1/4H₃,₂|0>+1/2H₃,₃G₋₃,₂|0>+3/4H₂,₃|0>\n",
      " │  │  │  ├─coordinates(-1/4G₂,₃|0>+1/4H₃,₂|0>+1/2H₃,₃G₋₃,₂|0>+3/4H₂,₃|0>,replac...\n",
      " │  │  │  │  ├─simp(-1/4G₂,₃|0>+1/4H₃,₂|0>+1/2H₃,₃G₋₃,₂|0>+3/4H₂,₃|0>,replacemen...\n",
      " │  │  │  │  │  └─-1/4G₂,₃|0>+1/4H₃,₂|0>+1/2H₃,₃G₋₃,₂|0>+3/4H₂,₃|0>\n",
      " │  │  │  ├─simp(G₃,₋₂H₃,₁|0>,replacements={G₋₃,₋₃|0>: 0, H₋₃,₋₃|0>: 0, G₋₃,₋₂|0...\n",
      " │  │  │  │  └─0\n",
      " │  │  │  ├─simp(H₃,₋₂H₃,₁|0>,replacements={G₋₃,₋₃|0>: 0, H₋₃,₋₃|0>: 0, G₋₃,₋₂|0...\n",
      " │  │  │  │  └─0\n",
      " │  │  │  ├─simp(G₃,₋₁H₃,₁|0>,replacements={G₋₃,₋₃|0>: 0, H₋₃,₋₃|0>: 0, G₋₃,₋₂|0...\n",
      " │  │  │  │  └─0\n",
      " │  │  │  ├─simp(H₃,₋₁H₃,₁|0>,replacements={G₋₃,₋₃|0>: 0, H₋₃,₋₃|0>: 0, G₋₃,₋₂|0...\n",
      " │  │  │  │  └─0\n",
      "\n",
      "\n",
      "\n",
      "\n",
      "\n",
      "Warning: error in component G₋₂,₃H₂,₋₁H₋₃,₋₃ of the coordinate of H₃,₁|0>, gives 1/4|0> vs 3/8\n",
      "\n",
      "\n",
      "\n",
      "\n",
      "\n",
      "\n",
      "\n",
      "\n",
      "\n",
      "\n",
      "Warning: error in component H₃,₋₂H₂,₋₁H₋₃,₋₃ of the coordinate of H₃,₁|0>, gives -1/8|0> vs -3/16\n",
      "\n",
      "\n",
      "\n",
      "\n",
      "\n",
      "\n",
      "\n",
      "\n",
      "\n",
      "\n",
      "Warning: error in component H₃,₋₁H₋₃,₋₃ of the coordinate of H₃,₁|0>, gives 1/4|0> vs 3/8\n",
      "\n",
      "\n",
      "\n",
      "\n",
      "\n",
      "\n",
      "\n",
      "\n",
      "\n",
      "\n",
      "Warning: error in component G₃,₋₂G₂,₋₁H₋₃,₋₃ of the coordinate of H₃,₁|0>, gives -1/2|0> vs -3/4\n",
      "\n",
      "\n",
      "\n",
      "\n",
      "\n",
      "\n",
      "\n",
      "\n",
      "\n",
      "\n",
      "Warning: error in component G₃,₋₂H₋₁,₂H₋₃,₋₃ of the coordinate of H₃,₁|0>, gives -1/4|0> vs -3/8\n",
      "\n",
      "\n",
      "\n",
      "\n",
      "\n",
      "\n",
      "\n",
      "\n",
      "\n",
      "\n",
      "Warning: error in component G₃,₋₂G₋₁,₂H₋₃,₋₃ of the coordinate of H₃,₁|0>, gives 1/2|0> vs 3/4\n",
      "\n",
      "\n",
      "\n",
      "\n",
      "\n",
      "\n",
      "\n",
      "\n",
      "\n",
      "\n",
      "Warning: error in component G₋₂,₃G₂,₋₁H₋₃,₋₃ of the coordinate of H₃,₁|0>, gives 1/2|0> vs 3/4\n",
      "\n",
      "\n",
      "\n",
      "\n",
      "\n",
      "\n",
      "\n",
      "\n",
      "\n",
      "\n",
      "Warning: error in component G₋₂,₃H₋₁,₂H₋₃,₋₃ of the coordinate of H₃,₁|0>, gives 1/4|0> vs 3/8\n",
      "\n",
      "\n",
      "\n",
      "\n",
      "\n",
      "\n",
      "\n",
      "\n",
      "\n",
      "\n",
      "Warning: error in component G₋₂,₃G₋₁,₂H₋₃,₋₃ of the coordinate of H₃,₁|0>, gives -1/2|0> vs -3/4\n",
      "\n",
      "\n",
      "\n",
      "\n",
      "\n",
      "\n",
      "\n",
      "\n",
      "\n",
      "\n",
      "Warning: error in component H₃,₋₂G₂,₋₁H₋₃,₋₃ of the coordinate of H₃,₁|0>, gives -1/4|0> vs -3/8\n",
      "\n",
      "\n",
      "\n",
      "\n",
      "\n",
      "\n",
      "\n",
      "\n",
      "\n",
      "\n",
      "Warning: error in component H₋₂,₃H₂,₋₁H₋₃,₋₃ of the coordinate of H₃,₁|0>, gives -1/8|0> vs -3/16\n",
      "\n",
      "\n",
      "\n",
      "\n",
      "\n",
      "\n",
      "\n",
      "\n",
      "\n",
      "\n",
      "Warning: error in component H₃,₋₂H₋₁,₂H₋₃,₋₃ of the coordinate of H₃,₁|0>, gives -1/8|0> vs -3/16\n",
      "\n",
      "\n",
      "\n",
      "\n",
      "\n",
      "\n",
      "\n",
      "\n",
      "\n",
      "\n",
      "Warning: error in component H₃,₋₂G₋₁,₂H₋₃,₋₃ of the coordinate of H₃,₁|0>, gives 1/4|0> vs 3/8\n",
      "\n",
      "\n",
      "\n",
      "\n",
      "\n",
      "\n",
      "\n",
      "\n",
      "\n",
      "\n",
      "Warning: error in component G₋₁,₃H₋₃,₋₃ of the coordinate of H₃,₁|0>, gives -1/2|0> vs -3/4\n",
      "\n",
      "\n",
      "\n",
      "\n",
      "\n",
      "\n",
      "\n",
      "\n",
      "\n",
      "\n",
      "Warning: error in component G₃,₋₁H₋₃,₋₃ of the coordinate of H₃,₁|0>, gives 1/2|0> vs 3/4\n",
      "\n",
      "\n",
      "\n",
      "\n",
      "\n",
      "\n",
      "\n",
      "\n",
      "\n",
      "\n",
      "Warning: error in component H₋₁,₃H₋₃,₋₃ of the coordinate of H₃,₁|0>, gives 1/4|0> vs 3/8\n",
      "\n",
      "\n",
      "\n",
      "\n",
      "\n",
      "\n",
      "\n",
      "\n",
      "\n",
      "\n",
      "Warning: error in component H₋₂,₃G₂,₋₁H₋₃,₋₃ of the coordinate of H₃,₁|0>, gives -1/4|0> vs -3/8\n",
      "\n",
      "\n",
      "\n",
      "\n",
      "\n",
      "\n",
      "\n",
      "\n",
      "\n",
      "\n",
      "Warning: error in component G₃,₋₂H₂,₋₁H₋₃,₋₃ of the coordinate of H₃,₁|0>, gives -1/4|0> vs -3/8\n",
      "\n",
      "\n",
      "\n",
      "\n",
      "\n",
      "\n",
      "\n",
      "\n",
      "\n",
      "\n",
      "Warning: error in component H₋₂,₃G₋₁,₂H₋₃,₋₃ of the coordinate of H₃,₁|0>, gives 1/4|0> vs 3/8\n",
      "\n",
      "\n",
      "\n",
      "\n",
      "\n",
      "\n",
      "\n",
      "\n",
      "\n",
      "\n",
      "Warning: error in component H₋₂,₃H₋₁,₂H₋₃,₋₃ of the coordinate of H₃,₁|0>, gives -1/8|0> vs -3/16\n",
      "\n",
      "\n",
      "\n",
      "\n",
      "\n",
      " │  │  │  ├─  computed coordinates matrix for  H₃,₁|0>\n",
      " │  │  ├─simp(H₃,₁|0>,replacements={G₋₃,₋₃|0>: 0, H₋₃,₋₃|0>: 0, G₋₃,₋₂|0>: 0, H₋...\n",
      " │  │  │  └─H₃,₁|0>\n",
      " │  ├─simp(G₃,₋₁G₁,₂|0>,replacements={G₋₃,₋₃|0>: 0, H₋₃,₋₃|0>: 0, G₋₃,₋₂|0>: 0, ...\n",
      " │  │  └─G₂,₃|0>\n",
      " │  ├─simp(H₃,₋₁G₁,₂|0>,replacements={G₋₃,₋₃|0>: 0, H₋₃,₋₃|0>: 0, G₋₃,₋₂|0>: 0, ...\n",
      " │  │  └─-H₃,₂|0>\n",
      "\n",
      "\n",
      "\n",
      "\n",
      "\n",
      "\n",
      "\n",
      "\n",
      "\n",
      "\n",
      "\n",
      "\n",
      "\n",
      "\n",
      "\n",
      "\n",
      "\n",
      "\n",
      "\n",
      "\n",
      "\n",
      "\n",
      "\n",
      "\n",
      "\n",
      "\n",
      "\n",
      "\n",
      "\n",
      "\n",
      " That's here \n",
      "\n",
      "\n",
      "\n",
      "\n",
      "\n",
      "\n",
      "\n",
      "\n",
      "\n",
      "\n",
      "\n",
      "\n",
      "\n",
      "\n",
      "\n",
      "\n",
      "\n",
      "\n",
      "\n",
      "\n",
      "\n",
      "\n",
      "\n",
      "\n",
      "\n",
      "\n",
      "\n",
      "\n",
      "\n",
      "\n",
      " ├─simp(G₁,₂|0>,replacements={G₋₃,₋₃|0>: 0, H₋₃,₋₃|0>: 0, G₋₃,₋₂|0>: 0, H₋₃,₋₂|0...\n",
      " │  └─G₁,₂|0>\n",
      " ├─simp(G₋₃,₋₃G₁,₂|0>,replacements={G₋₃,₋₃|0>: 0, H₋₃,₋₃|0>: 0, G₋₃,₋₂|0>: 0, H₋...\n",
      " │  └─0\n",
      " ├─simp(H₋₃,₋₃G₁,₂|0>,replacements={G₋₃,₋₃|0>: 0, H₋₃,₋₃|0>: 0, G₋₃,₋₂|0>: 0, H₋...\n",
      " │  └─0\n",
      " ├─simp(G₋₃,₋₂G₁,₂|0>,replacements={G₋₃,₋₃|0>: 0, H₋₃,₋₃|0>: 0, G₋₃,₋₂|0>: 0, H₋...\n",
      " │  └─G₋₃,₁|0>\n",
      " ├─simp(H₋₃,₋₂G₁,₂|0>,replacements={G₋₃,₋₃|0>: 0, H₋₃,₋₃|0>: 0, G₋₃,₋₂|0>: 0, H₋...\n",
      " │  └─-1/2G₋₃,₁|0>\n",
      " ├─simp(G₋₃,₋₁G₁,₂|0>,replacements={G₋₃,₋₃|0>: 0, H₋₃,₋₃|0>: 0, G₋₃,₋₂|0>: 0, H₋...\n",
      " │  └─-G₋₃,₂|0>\n",
      " ├─simp(H₋₃,₋₁G₁,₂|0>,replacements={G₋₃,₋₃|0>: 0, H₋₃,₋₃|0>: 0, G₋₃,₋₂|0>: 0, H₋...\n",
      " │  └─1/2G₋₃,₂|0>\n",
      " ├─simp(G₋₂,₋₃G₁,₂|0>,replacements={G₋₃,₋₃|0>: 0, H₋₃,₋₃|0>: 0, G₋₃,₋₂|0>: 0, H₋...\n",
      " │  └─-G₋₃,₁|0>\n",
      " ├─simp(H₋₂,₋₃G₁,₂|0>,replacements={G₋₃,₋₃|0>: 0, H₋₃,₋₃|0>: 0, G₋₃,₋₂|0>: 0, H₋...\n",
      " │  └─-1/2G₋₃,₁|0>\n",
      " ├─simp(G₋₂,₋₂G₁,₂|0>,replacements={G₋₃,₋₃|0>: 0, H₋₃,₋₃|0>: 0, G₋₃,₋₂|0>: 0, H₋...\n",
      " │  └─0\n",
      " ├─simp(H₋₂,₋₂G₁,₂|0>,replacements={G₋₃,₋₃|0>: 0, H₋₃,₋₃|0>: 0, G₋₃,₋₂|0>: 0, H₋...\n",
      " │  └─0\n",
      " ├─simp(G₋₂,₋₁G₁,₂|0>,replacements={G₋₃,₋₃|0>: 0, H₋₃,₋₃|0>: 0, G₋₃,₋₂|0>: 0, H₋...\n",
      " │  └─2|0>\n",
      " ├─simp(H₋₂,₋₁G₁,₂|0>,replacements={G₋₃,₋₃|0>: 0, H₋₃,₋₃|0>: 0, G₋₃,₋₂|0>: 0, H₋...\n",
      " │  └─0\n",
      " ├─simp(G₋₂,₃G₁,₂|0>,replacements={G₋₃,₋₃|0>: 0, H₋₃,₋₃|0>: 0, G₋₃,₋₂|0>: 0, H₋₃...\n",
      " │  └─G₁,₃|0>\n",
      " ├─simp(H₋₂,₃G₁,₂|0>,replacements={G₋₃,₋₃|0>: 0, H₋₃,₋₃|0>: 0, G₋₃,₋₂|0>: 0, H₋₃...\n",
      " │  └─H₁,₃|0>\n",
      " ├─simp(G₋₁,₋₃G₁,₂|0>,replacements={G₋₃,₋₃|0>: 0, H₋₃,₋₃|0>: 0, G₋₃,₋₂|0>: 0, H₋...\n",
      " │  └─G₋₃,₂|0>\n",
      " ├─simp(H₋₁,₋₃G₁,₂|0>,replacements={G₋₃,₋₃|0>: 0, H₋₃,₋₃|0>: 0, G₋₃,₋₂|0>: 0, H₋...\n",
      " │  └─1/2G₋₃,₂|0>\n",
      " ├─simp(G₋₁,₋₂G₁,₂|0>,replacements={G₋₃,₋₃|0>: 0, H₋₃,₋₃|0>: 0, G₋₃,₋₂|0>: 0, H₋...\n",
      " │  └─-2|0>\n",
      " ├─simp(H₋₁,₋₂G₁,₂|0>,replacements={G₋₃,₋₃|0>: 0, H₋₃,₋₃|0>: 0, G₋₃,₋₂|0>: 0, H₋...\n",
      " │  └─0\n",
      " ├─simp(G₋₁,₋₁G₁,₂|0>,replacements={G₋₃,₋₃|0>: 0, H₋₃,₋₃|0>: 0, G₋₃,₋₂|0>: 0, H₋...\n",
      " │  └─0\n",
      " ├─simp(H₋₁,₋₁G₁,₂|0>,replacements={G₋₃,₋₃|0>: 0, H₋₃,₋₃|0>: 0, G₋₃,₋₂|0>: 0, H₋...\n",
      " │  └─0\n",
      " ├─simp(G₋₁,₂G₁,₂|0>,replacements={G₋₃,₋₃|0>: 0, H₋₃,₋₃|0>: 0, G₋₃,₋₂|0>: 0, H₋₃...\n",
      " │  └─0\n",
      " ├─simp(H₋₁,₂G₁,₂|0>,replacements={G₋₃,₋₃|0>: 0, H₋₃,₋₃|0>: 0, G₋₃,₋₂|0>: 0, H₋₃...\n",
      " │  └─-H₂,₂|0>\n",
      " ├─simp(G₋₁,₃G₁,₂|0>,replacements={G₋₃,₋₃|0>: 0, H₋₃,₋₃|0>: 0, G₋₃,₋₂|0>: 0, H₋₃...\n",
      " │  └─-G₂,₃|0>\n",
      " ├─simp(H₋₁,₃G₁,₂|0>,replacements={G₋₃,₋₃|0>: 0, H₋₃,₋₃|0>: 0, G₋₃,₋₂|0>: 0, H₋₃...\n",
      " │  └─-H₂,₃|0>\n",
      " ├─simp(G₂,₋₁G₁,₂|0>,replacements={G₋₃,₋₃|0>: 0, H₋₃,₋₃|0>: 0, G₋₃,₋₂|0>: 0, H₋₃...\n",
      " │  └─0\n",
      " ├─simp(H₂,₋₁G₁,₂|0>,replacements={G₋₃,₋₃|0>: 0, H₋₃,₋₃|0>: 0, G₋₃,₋₂|0>: 0, H₋₃...\n",
      " │  └─-H₂,₂|0>\n",
      " ├─simp(G₃,₋₂G₁,₂|0>,replacements={G₋₃,₋₃|0>: 0, H₋₃,₋₃|0>: 0, G₋₃,₋₂|0>: 0, H₋₃...\n",
      " │  └─-G₁,₃|0>\n",
      " ├─simp(H₃,₋₂G₁,₂|0>,replacements={G₋₃,₋₃|0>: 0, H₋₃,₋₃|0>: 0, G₋₃,₋₂|0>: 0, H₋₃...\n",
      " │  └─H₃,₁|0>\n",
      " ├─simp(G₃,₋₁G₁,₂|0>,replacements={G₋₃,₋₃|0>: 0, H₋₃,₋₃|0>: 0, G₋₃,₋₂|0>: 0, H₋₃...\n",
      " │  └─G₂,₃|0>\n",
      " ├─simp(H₃,₋₁G₁,₂|0>,replacements={G₋₃,₋₃|0>: 0, H₋₃,₋₃|0>: 0, G₋₃,₋₂|0>: 0, H₋₃...\n",
      " │  └─-H₃,₂|0>\n",
      "\n",
      "\n",
      "\n",
      "\n",
      "\n",
      "\n",
      "\n",
      "\n",
      "\n",
      "\n",
      "\n",
      "\n",
      "\n",
      "\n",
      "\n",
      "\n",
      "\n",
      "\n",
      "\n",
      "\n",
      "\n",
      "\n",
      "\n",
      "\n",
      "\n",
      "\n",
      "\n",
      "\n",
      "\n",
      "\n",
      " That's here \n",
      "\n",
      "\n",
      "\n",
      "\n",
      "\n",
      "\n",
      "\n",
      "\n",
      "\n",
      "\n",
      "\n",
      "\n",
      "\n",
      "\n",
      "\n",
      "\n",
      "\n",
      "\n",
      "\n",
      "\n",
      "\n",
      "\n",
      "\n",
      "\n",
      "\n",
      "\n",
      "\n",
      "\n",
      "\n",
      "\n"
     ]
    },
    {
     "ename": "AttributeError",
     "evalue": "'int' object has no attribute '_terms'",
     "output_type": "error",
     "traceback": [
      "\u001b[0;31m---------------------------------------------------------------------------\u001b[0m",
      "\u001b[0;31mAttributeError\u001b[0m                            Traceback (most recent call last)",
      "\u001b[0;32m/tmp/ipykernel_31198/2827140670.py\u001b[0m in \u001b[0;36m<module>\u001b[0;34m\u001b[0m\n\u001b[0;32m----> 1\u001b[0;31m \u001b[0mcoder_so\u001b[0m\u001b[0;34m.\u001b[0m\u001b[0mYangian_irrep\u001b[0m\u001b[0;34m(\u001b[0m\u001b[0mr\u001b[0m\u001b[0;34m=\u001b[0m\u001b[0;36m3\u001b[0m\u001b[0;34m,\u001b[0m\u001b[0ma\u001b[0m\u001b[0;34m=\u001b[0m\u001b[0;36m2\u001b[0m\u001b[0;34m,\u001b[0m\u001b[0ms\u001b[0m\u001b[0;34m=\u001b[0m\u001b[0;36m1\u001b[0m\u001b[0;34m,\u001b[0m\u001b[0mresume\u001b[0m\u001b[0;34m=\u001b[0m\u001b[0;32mFalse\u001b[0m\u001b[0;34m,\u001b[0m\u001b[0mverbose\u001b[0m\u001b[0;34m=\u001b[0m\u001b[0;32mTrue\u001b[0m\u001b[0;34m)\u001b[0m\u001b[0;34m\u001b[0m\u001b[0;34m\u001b[0m\u001b[0m\n\u001b[0m",
      "\u001b[0;32m~/git/aldarak_leurent/leurent/coder_so.py\u001b[0m in \u001b[0;36mYangian_irrep\u001b[0;34m(r, a, s, **args)\u001b[0m\n\u001b[1;32m   2103\u001b[0m \u001b[0;34m\u001b[0m\u001b[0m\n\u001b[1;32m   2104\u001b[0m                     \u001b[0mstart_time\u001b[0m \u001b[0;34m=\u001b[0m \u001b[0mtime\u001b[0m\u001b[0;34m.\u001b[0m\u001b[0mtime\u001b[0m\u001b[0;34m(\u001b[0m\u001b[0;34m)\u001b[0m\u001b[0;34m\u001b[0m\u001b[0;34m\u001b[0m\u001b[0m\n\u001b[0;32m-> 2105\u001b[0;31m                     \u001b[0mnc\u001b[0m\u001b[0;34m=\u001b[0m\u001b[0mnv\u001b[0m\u001b[0;34m.\u001b[0m\u001b[0mcoordinates\u001b[0m\u001b[0;34m(\u001b[0m\u001b[0mreplacements\u001b[0m\u001b[0;34m=\u001b[0m\u001b[0mreplacements\u001b[0m\u001b[0;34m,\u001b[0m\u001b[0mbasis\u001b[0m\u001b[0;34m=\u001b[0m\u001b[0mbasis\u001b[0m\u001b[0;34m,\u001b[0m\u001b[0;34m**\u001b[0m\u001b[0margs\u001b[0m\u001b[0;34m)\u001b[0m\u001b[0;34m\u001b[0m\u001b[0;34m\u001b[0m\u001b[0m\n\u001b[0m\u001b[1;32m   2106\u001b[0m                     \u001b[0margs\u001b[0m\u001b[0;34m.\u001b[0m\u001b[0mget\u001b[0m\u001b[0;34m(\u001b[0m\u001b[0;34m\"verbose\"\u001b[0m\u001b[0;34m,\u001b[0m\u001b[0;32mFalse\u001b[0m\u001b[0;34m)\u001b[0m \u001b[0;32mand\u001b[0m \u001b[0mprint\u001b[0m\u001b[0;34m(\u001b[0m\u001b[0;34m\"done in %s s\"\u001b[0m\u001b[0;34m%\u001b[0m \u001b[0mround\u001b[0m\u001b[0;34m(\u001b[0m\u001b[0mtime\u001b[0m\u001b[0;34m.\u001b[0m\u001b[0mtime\u001b[0m\u001b[0;34m(\u001b[0m\u001b[0;34m)\u001b[0m \u001b[0;34m-\u001b[0m \u001b[0mstart_time\u001b[0m\u001b[0;34m,\u001b[0m\u001b[0;36m4\u001b[0m\u001b[0;34m)\u001b[0m\u001b[0;34m)\u001b[0m\u001b[0;34m\u001b[0m\u001b[0;34m\u001b[0m\u001b[0m\n\u001b[1;32m   2107\u001b[0m                     \u001b[0mbasis\u001b[0m\u001b[0;34m[\u001b[0m\u001b[0mnv\u001b[0m\u001b[0;34m]\u001b[0m\u001b[0;34m=\u001b[0m\u001b[0mnc\u001b[0m\u001b[0;34m\u001b[0m\u001b[0;34m\u001b[0m\u001b[0m\n",
      "\u001b[0;32m~/git/aldarak_leurent/leurent/coder_so.py\u001b[0m in \u001b[0;36mcoordinates\u001b[0;34m(self, **args)\u001b[0m\n\u001b[1;32m   1824\u001b[0m     \u001b[0;32mdef\u001b[0m \u001b[0mcoordinates\u001b[0m\u001b[0;34m(\u001b[0m\u001b[0mself\u001b[0m\u001b[0;34m,\u001b[0m\u001b[0;34m**\u001b[0m\u001b[0margs\u001b[0m\u001b[0;34m)\u001b[0m\u001b[0;34m:\u001b[0m\u001b[0;34m\u001b[0m\u001b[0;34m\u001b[0m\u001b[0m\n\u001b[1;32m   1825\u001b[0m         \u001b[0;32mif\u001b[0m \u001b[0;32mnot\u001b[0m \u001b[0margs\u001b[0m\u001b[0;34m.\u001b[0m\u001b[0mget\u001b[0m\u001b[0;34m(\u001b[0m\u001b[0;34m\"Lprod\"\u001b[0m\u001b[0;34m,\u001b[0m\u001b[0;32mFalse\u001b[0m\u001b[0;34m)\u001b[0m \u001b[0;32mand\u001b[0m \u001b[0;32mnot\u001b[0m \u001b[0;34m\"Gcoords\"\u001b[0m \u001b[0;32min\u001b[0m \u001b[0margs\u001b[0m\u001b[0;34m:\u001b[0m\u001b[0;34m\u001b[0m\u001b[0;34m\u001b[0m\u001b[0m\n\u001b[0;32m-> 1826\u001b[0;31m             \u001b[0;32mreturn\u001b[0m \u001b[0mnext\u001b[0m\u001b[0;34m(\u001b[0m\u001b[0;34m{\u001b[0m\u001b[0;34m}\u001b[0m \u001b[0;32mif\u001b[0m \u001b[0mx\u001b[0m\u001b[0;34m==\u001b[0m\u001b[0;36m0\u001b[0m \u001b[0;32melse\u001b[0m \u001b[0mx\u001b[0m\u001b[0;34m.\u001b[0m\u001b[0m_terms\u001b[0m \u001b[0;32mfor\u001b[0m \u001b[0mx\u001b[0m \u001b[0;32min\u001b[0m \u001b[0;34m[\u001b[0m\u001b[0mLvect\u001b[0m\u001b[0;34m.\u001b[0m\u001b[0mcoordinates\u001b[0m\u001b[0;34m(\u001b[0m\u001b[0mself\u001b[0m\u001b[0;34m,\u001b[0m\u001b[0;34m**\u001b[0m\u001b[0margs\u001b[0m\u001b[0;34m,\u001b[0m\u001b[0mLprod\u001b[0m\u001b[0;34m=\u001b[0m\u001b[0;32mTrue\u001b[0m\u001b[0;34m)\u001b[0m\u001b[0;34m]\u001b[0m\u001b[0;34m)\u001b[0m\u001b[0;34m\u001b[0m\u001b[0;34m\u001b[0m\u001b[0m\n\u001b[0m\u001b[1;32m   1827\u001b[0m         \u001b[0;32mif\u001b[0m \u001b[0;34m\"Gcoords\"\u001b[0m \u001b[0;32min\u001b[0m \u001b[0margs\u001b[0m\u001b[0;34m:\u001b[0m\u001b[0;34m\u001b[0m\u001b[0;34m\u001b[0m\u001b[0m\n\u001b[1;32m   1828\u001b[0m             \u001b[0;34m(\u001b[0m\u001b[0ma\u001b[0m\u001b[0;34m,\u001b[0m\u001b[0mr\u001b[0m\u001b[0;34m,\u001b[0m\u001b[0ms\u001b[0m\u001b[0;34m)\u001b[0m\u001b[0;34m=\u001b[0m\u001b[0margs\u001b[0m\u001b[0;34m[\u001b[0m\u001b[0;34m\"Gcoords\"\u001b[0m\u001b[0;34m]\u001b[0m\u001b[0;34m\u001b[0m\u001b[0;34m\u001b[0m\u001b[0m\n",
      "\u001b[0;32m~/git/aldarak_leurent/leurent/coder_so.py\u001b[0m in \u001b[0;36m<genexpr>\u001b[0;34m(.0)\u001b[0m\n\u001b[1;32m   1824\u001b[0m     \u001b[0;32mdef\u001b[0m \u001b[0mcoordinates\u001b[0m\u001b[0;34m(\u001b[0m\u001b[0mself\u001b[0m\u001b[0;34m,\u001b[0m\u001b[0;34m**\u001b[0m\u001b[0margs\u001b[0m\u001b[0;34m)\u001b[0m\u001b[0;34m:\u001b[0m\u001b[0;34m\u001b[0m\u001b[0;34m\u001b[0m\u001b[0m\n\u001b[1;32m   1825\u001b[0m         \u001b[0;32mif\u001b[0m \u001b[0;32mnot\u001b[0m \u001b[0margs\u001b[0m\u001b[0;34m.\u001b[0m\u001b[0mget\u001b[0m\u001b[0;34m(\u001b[0m\u001b[0;34m\"Lprod\"\u001b[0m\u001b[0;34m,\u001b[0m\u001b[0;32mFalse\u001b[0m\u001b[0;34m)\u001b[0m \u001b[0;32mand\u001b[0m \u001b[0;32mnot\u001b[0m \u001b[0;34m\"Gcoords\"\u001b[0m \u001b[0;32min\u001b[0m \u001b[0margs\u001b[0m\u001b[0;34m:\u001b[0m\u001b[0;34m\u001b[0m\u001b[0;34m\u001b[0m\u001b[0m\n\u001b[0;32m-> 1826\u001b[0;31m             \u001b[0;32mreturn\u001b[0m \u001b[0mnext\u001b[0m\u001b[0;34m(\u001b[0m\u001b[0;34m{\u001b[0m\u001b[0;34m}\u001b[0m \u001b[0;32mif\u001b[0m \u001b[0mx\u001b[0m\u001b[0;34m==\u001b[0m\u001b[0;36m0\u001b[0m \u001b[0;32melse\u001b[0m \u001b[0mx\u001b[0m\u001b[0;34m.\u001b[0m\u001b[0m_terms\u001b[0m \u001b[0;32mfor\u001b[0m \u001b[0mx\u001b[0m \u001b[0;32min\u001b[0m \u001b[0;34m[\u001b[0m\u001b[0mLvect\u001b[0m\u001b[0;34m.\u001b[0m\u001b[0mcoordinates\u001b[0m\u001b[0;34m(\u001b[0m\u001b[0mself\u001b[0m\u001b[0;34m,\u001b[0m\u001b[0;34m**\u001b[0m\u001b[0margs\u001b[0m\u001b[0;34m,\u001b[0m\u001b[0mLprod\u001b[0m\u001b[0;34m=\u001b[0m\u001b[0;32mTrue\u001b[0m\u001b[0;34m)\u001b[0m\u001b[0;34m]\u001b[0m\u001b[0;34m)\u001b[0m\u001b[0;34m\u001b[0m\u001b[0;34m\u001b[0m\u001b[0m\n\u001b[0m\u001b[1;32m   1827\u001b[0m         \u001b[0;32mif\u001b[0m \u001b[0;34m\"Gcoords\"\u001b[0m \u001b[0;32min\u001b[0m \u001b[0margs\u001b[0m\u001b[0;34m:\u001b[0m\u001b[0;34m\u001b[0m\u001b[0;34m\u001b[0m\u001b[0m\n\u001b[1;32m   1828\u001b[0m             \u001b[0;34m(\u001b[0m\u001b[0ma\u001b[0m\u001b[0;34m,\u001b[0m\u001b[0mr\u001b[0m\u001b[0;34m,\u001b[0m\u001b[0ms\u001b[0m\u001b[0;34m)\u001b[0m\u001b[0;34m=\u001b[0m\u001b[0margs\u001b[0m\u001b[0;34m[\u001b[0m\u001b[0;34m\"Gcoords\"\u001b[0m\u001b[0;34m]\u001b[0m\u001b[0;34m\u001b[0m\u001b[0;34m\u001b[0m\u001b[0m\n",
      "\u001b[0;31mAttributeError\u001b[0m: 'int' object has no attribute '_terms'"
     ]
    }
   ],
   "source": [
    "coder_so.Yangian_irrep(r=3,a=2,s=1,resume=False,verbose=True)"
   ]
  },
  {
   "cell_type": "code",
   "execution_count": 5,
   "metadata": {},
   "outputs": [],
   "source": [
    "A=coder_so.Lvect.tmp"
   ]
  },
  {
   "cell_type": "code",
   "execution_count": 16,
   "metadata": {},
   "outputs": [
    {
     "data": {
      "text/plain": [
       "{(('Gll', 3, -1),): 1/2,\n",
       " (('Gll', -1, 3),): -1/2,\n",
       " (('Gll', -2, 3), ('Hll', 2, -1)): 1/4,\n",
       " (('Hll', -2, 3), ('Hll', 2, -1)): -1/8,\n",
       " (('Gll', 3, -2), ('Hll', 2, -1)): -1/4,\n",
       " (('Gll', -2, 3), ('Gll', 2, -1)): 1/2,\n",
       " (('Gll', 3, -2), ('Gll', 2, -1)): -1/2,\n",
       " (('Gll', -2, 3), ('Hll', -1, 2)): 1/4,\n",
       " (('Gll', 3, -2), ('Hll', -1, 2)): -1/4,\n",
       " (('Hll', -2, 3), ('Gll', 2, -1)): -1/4,\n",
       " (('Hll', -1, 3),): 1/4,\n",
       " (('Hll', 3, -2), ('Hll', 2, -1)): -1/8,\n",
       " (('Hll', -2, 3), ('Hll', -1, 2)): -1/8,\n",
       " (('Hll', 3, -2), ('Gll', 2, -1)): -1/4,\n",
       " (('Gll', -2, 3), ('Gll', -1, 2)): -1/2,\n",
       " (('Gll', 3, -2), ('Gll', -1, 2)): 1/2,\n",
       " (('Hll', 3, -2), ('Hll', -1, 2)): -1/8,\n",
       " (('Hll', -2, 3), ('Gll', -1, 2)): 1/4,\n",
       " (('Hll', 3, -2), ('Gll', -1, 2)): 1/4,\n",
       " (('Hll', 3, -1),): 1/4}"
      ]
     },
     "execution_count": 16,
     "metadata": {},
     "output_type": "execute_result"
    }
   ],
   "source": [
    "coder_so.Lvect.coordinates.remember[0][2][(('Hll', -3, 1),)]._terms"
   ]
  },
  {
   "cell_type": "code",
   "execution_count": 17,
   "metadata": {},
   "outputs": [
    {
     "data": {
      "text/plain": [
       "{(('Gll', 3, -1),): -1,\n",
       " (('Gll', -1, 3),): 1,\n",
       " (('Gll', -2, 3), ('Hll', 2, -1)): -1/2,\n",
       " (('Hll', -2, 3), ('Hll', 2, -1)): 1/4,\n",
       " (('Gll', 3, -2), ('Hll', 2, -1)): 1/2,\n",
       " (('Gll', -2, 3), ('Gll', 2, -1)): -1,\n",
       " (('Gll', 3, -2), ('Gll', 2, -1)): 1,\n",
       " (('Gll', -2, 3), ('Hll', -1, 2)): -1/2,\n",
       " (('Gll', 3, -2), ('Hll', -1, 2)): 1/2,\n",
       " (('Hll', -2, 3), ('Gll', 2, -1)): 1/2,\n",
       " (('Hll', -1, 3),): -1/2,\n",
       " (('Hll', 3, -2), ('Hll', 2, -1)): 1/4,\n",
       " (('Hll', -2, 3), ('Hll', -1, 2)): 1/4,\n",
       " (('Hll', 3, -2), ('Gll', 2, -1)): 1/2,\n",
       " (('Gll', -2, 3), ('Gll', -1, 2)): 1,\n",
       " (('Gll', 3, -2), ('Gll', -1, 2)): -1,\n",
       " (('Hll', 3, -2), ('Hll', -1, 2)): 1/4,\n",
       " (('Hll', -2, 3), ('Gll', -1, 2)): -1/2,\n",
       " (('Hll', 3, -2), ('Gll', -1, 2)): -1/2,\n",
       " (('Hll', 3, -1),): -1/2}"
      ]
     },
     "execution_count": 17,
     "metadata": {},
     "output_type": "execute_result"
    }
   ],
   "source": [
    "coder_so.Lvect.coordinates.remember[0][2][(('Gll', -3, 1),)]._terms"
   ]
  },
  {
   "cell_type": "markdown",
   "metadata": {},
   "source": [
    "Following the path we saw, it should contain "
   ]
  },
  {
   "cell_type": "code",
   "execution_count": 30,
   "metadata": {},
   "outputs": [
    {
     "data": {
      "text/plain": [
       "{H₋₃,₁|0>: -1/2G₋₃,₁|0>}"
      ]
     },
     "execution_count": 30,
     "metadata": {},
     "output_type": "execute_result"
    }
   ],
   "source": [
    "{k:coder_so.Yangian_irrep.replacements[k] for k in coder_so.Yangian_irrep.replacements\n",
    " if list(k.Lprod._terms)==[(('Hll', -3, 1),)]}"
   ]
  },
  {
   "cell_type": "code",
   "execution_count": 24,
   "metadata": {},
   "outputs": [],
   "source": [
    "a=list(coder_so.Yangian_irrep.replacements)"
   ]
  },
  {
   "cell_type": "code",
   "execution_count": 25,
   "metadata": {},
   "outputs": [
    {
     "data": {
      "text/plain": [
       "[G₋₃,₋₃|0>, H₋₃,₋₃|0>, G₋₃,₋₂|0>, H₋₃,₋₂|0>, G₋₃,₋₁|0>]"
      ]
     },
     "execution_count": 25,
     "metadata": {},
     "output_type": "execute_result"
    }
   ],
   "source": [
    "a[:5]"
   ]
  },
  {
   "cell_type": "code",
   "execution_count": 27,
   "metadata": {},
   "outputs": [
    {
     "data": {
      "text/plain": [
       "{(('Gll', -3, -3),): 1}"
      ]
     },
     "execution_count": 27,
     "metadata": {},
     "output_type": "execute_result"
    }
   ],
   "source": [
    "a[0].Lprod._terms"
   ]
  },
  {
   "cell_type": "code",
   "execution_count": 28,
   "metadata": {},
   "outputs": [
    {
     "data": {
      "text/plain": [
       "[{(('Gll', -3, -3),): 1},\n",
       " {(('Hll', -3, -3),): 1},\n",
       " {(('Gll', -3, -2),): 1},\n",
       " {(('Hll', -3, -2),): 1},\n",
       " {(('Gll', -3, -1),): 1},\n",
       " {(('Hll', -3, -1),): 1},\n",
       " {(('Gll', -2, -3),): 1},\n",
       " {(('Hll', -2, -3),): 1},\n",
       " {(('Gll', -2, -2),): 1},\n",
       " {(('Hll', -2, -2),): 1},\n",
       " {(('Gll', -2, -1),): 1},\n",
       " {(('Hll', -2, -1),): 1},\n",
       " {(('Gll', -2, 3),): 1},\n",
       " {(('Hll', -2, 3),): 1},\n",
       " {(('Gll', -1, -3),): 1},\n",
       " {(('Hll', -1, -3),): 1},\n",
       " {(('Gll', -1, -2),): 1},\n",
       " {(('Hll', -1, -2),): 1},\n",
       " {(('Gll', -1, -1),): 1},\n",
       " {(('Hll', -1, -1),): 1},\n",
       " {(('Gll', -1, 2),): 1},\n",
       " {(('Hll', -1, 2),): 1},\n",
       " {(('Gll', -1, 3),): 1},\n",
       " {(('Hll', -1, 3),): 1},\n",
       " {(('Gll', 2, -1),): 1},\n",
       " {(('Hll', 2, -1),): 1},\n",
       " {(('Gll', 3, -2),): 1},\n",
       " {(('Hll', 3, -2),): 1},\n",
       " {(('Gll', 3, -1),): 1},\n",
       " {(('Hll', 3, -1),): 1},\n",
       " {(('Gll', -3, 3),): 1},\n",
       " {(('Hll', -3, 3),): 1},\n",
       " {(('Gll', -2, 2),): 1},\n",
       " {(('Hll', -2, 2),): 1},\n",
       " {(('Gll', -1, 1),): 1},\n",
       " {(('Hll', -1, 1),): 1},\n",
       " {(('Gll', 1, -1),): 1},\n",
       " {(('Hll', 1, -1),): 1},\n",
       " {(('Gll', 2, -2),): 1},\n",
       " {(('Hll', 2, -2),): 1},\n",
       " {(('Gll', 3, -3),): 1},\n",
       " {(('Hll', 3, -3),): 1},\n",
       " {(('Gll', -2, 1),): 1},\n",
       " {(('Gll', 1, -3),): 1},\n",
       " {(('Gll', 1, -2),): 1},\n",
       " {(('Gll', 1, 1),): 1},\n",
       " {(('Gll', 2, -3),): 1},\n",
       " {(('Gll', 2, 1),): 1},\n",
       " {(('Gll', 2, 2),): 1},\n",
       " {(('Gll', 3, 1),): 1},\n",
       " {(('Gll', 3, 2),): 1},\n",
       " {(('Gll', 3, 3),): 1},\n",
       " {(('Gll', -3, 1), ('Gll', -3, 1)): 1},\n",
       " {(('Gll', -3, 2), ('Gll', -3, 1)): 1},\n",
       " {(('Gll', -2, 1), ('Gll', -3, 1)): 1},\n",
       " {(('Gll', 1, -3), ('Gll', -3, 1)): 1},\n",
       " {(('Gll', 1, -2), ('Gll', -3, 1)): 1},\n",
       " {(('Gll', 1, 1), ('Gll', -3, 1)): 1},\n",
       " {(('Gll', 2, -3), ('Gll', -3, 1)): 1},\n",
       " {(('Gll', 2, 1), ('Gll', -3, 1)): 1},\n",
       " {(('Gll', 2, 2), ('Gll', -3, 1)): 1},\n",
       " {(('Gll', 3, 1), ('Gll', -3, 1)): 1},\n",
       " {(('Gll', 3, 2), ('Gll', -3, 1)): 1},\n",
       " {(('Gll', 3, 3), ('Gll', -3, 1)): 1},\n",
       " {(('Gll', -3, 1), ('Gll', -3, 2)): 1},\n",
       " {(('Gll', -3, 2), ('Gll', -3, 2)): 1},\n",
       " {(('Gll', -2, 1), ('Gll', -3, 2)): 1},\n",
       " {(('Gll', 1, -3), ('Gll', -3, 2)): 1},\n",
       " {(('Gll', 1, -2), ('Gll', -3, 2)): 1},\n",
       " {(('Gll', 1, 1), ('Gll', -3, 2)): 1},\n",
       " {(('Gll', 2, -3), ('Gll', -3, 2)): 1},\n",
       " {(('Gll', 2, 1), ('Gll', -3, 2)): 1},\n",
       " {(('Gll', 2, 2), ('Gll', -3, 2)): 1},\n",
       " {(('Gll', 3, 1), ('Gll', -3, 2)): 1},\n",
       " {(('Gll', 3, 2), ('Gll', -3, 2)): 1},\n",
       " {(('Gll', 3, 3), ('Gll', -3, 2)): 1},\n",
       " {(('Gll', -3, 1), ('Gll', 1, 2)): 1},\n",
       " {(('Gll', -3, 2), ('Gll', 1, 2)): 1},\n",
       " {(('Gll', -2, 1), ('Gll', 1, 2)): 1},\n",
       " {(('Gll', 1, -3), ('Gll', 1, 2)): 1},\n",
       " {(('Gll', 1, -2), ('Gll', 1, 2)): 1},\n",
       " {(('Gll', 1, 1), ('Gll', 1, 2)): 1},\n",
       " {(('Gll', 2, -3), ('Gll', 1, 2)): 1},\n",
       " {(('Gll', 2, 1), ('Gll', 1, 2)): 1},\n",
       " {(('Gll', 2, 2), ('Gll', 1, 2)): 1},\n",
       " {(('Gll', 3, 1), ('Gll', 1, 2)): 1},\n",
       " {(('Gll', 3, 2), ('Gll', 1, 2)): 1},\n",
       " {(('Gll', 3, 3), ('Gll', 1, 2)): 1},\n",
       " {(('Gll', -3, 1), ('Gll', 1, 3)): 1},\n",
       " {(('Gll', -3, 2), ('Gll', 1, 3)): 1},\n",
       " {(('Gll', -2, 1), ('Gll', 1, 3)): 1},\n",
       " {(('Gll', 1, -3), ('Gll', 1, 3)): 1},\n",
       " {(('Gll', 1, -2), ('Gll', 1, 3)): 1},\n",
       " {(('Gll', 1, 1), ('Gll', 1, 3)): 1},\n",
       " {(('Gll', 1, 2), ('Gll', 1, 3)): 1},\n",
       " {(('Gll', 1, 3), ('Gll', 1, 3)): 1},\n",
       " {(('Gll', 2, -3), ('Gll', 1, 3)): 1},\n",
       " {(('Gll', 2, 1), ('Gll', 1, 3)): 1},\n",
       " {(('Gll', 2, 2), ('Gll', 1, 3)): 1},\n",
       " {(('Gll', 2, 3), ('Gll', 1, 3)): 1},\n",
       " {(('Gll', 3, 1), ('Gll', 1, 3)): 1},\n",
       " {(('Gll', 3, 2), ('Gll', 1, 3)): 1},\n",
       " {(('Gll', 3, 3), ('Gll', 1, 3)): 1},\n",
       " {(('Gll', -3, 1), ('Gll', 2, 3)): 1},\n",
       " {(('Gll', -3, 2), ('Gll', 2, 3)): 1},\n",
       " {(('Gll', -2, 1), ('Gll', 2, 3)): 1},\n",
       " {(('Gll', 1, -3), ('Gll', 2, 3)): 1},\n",
       " {(('Gll', 1, -2), ('Gll', 2, 3)): 1},\n",
       " {(('Gll', 1, 1), ('Gll', 2, 3)): 1},\n",
       " {(('Gll', 1, 2), ('Gll', 2, 3)): 1},\n",
       " {(('Gll', 1, 3), ('Gll', 2, 3)): 1},\n",
       " {(('Gll', 2, -3), ('Gll', 2, 3)): 1},\n",
       " {(('Gll', 2, 1), ('Gll', 2, 3)): 1},\n",
       " {(('Gll', 2, 2), ('Gll', 2, 3)): 1},\n",
       " {(('Gll', 2, 3), ('Gll', 2, 3)): 1},\n",
       " {(('Gll', 3, 1), ('Gll', 2, 3)): 1},\n",
       " {(('Gll', 3, 2), ('Gll', 2, 3)): 1},\n",
       " {(('Gll', 3, 3), ('Gll', 2, 3)): 1},\n",
       " {(('Gll', -3, 1), ('Gll', 1, 2), ('Gll', -3, 1)): 1},\n",
       " {(('Gll', -3, 2), ('Gll', 1, 2), ('Gll', -3, 1)): 1},\n",
       " {(('Gll', -2, 1), ('Gll', 1, 2), ('Gll', -3, 1)): 1},\n",
       " {(('Gll', 1, -3), ('Gll', 1, 2), ('Gll', -3, 1)): 1},\n",
       " {(('Gll', 1, -2), ('Gll', 1, 2), ('Gll', -3, 1)): 1},\n",
       " {(('Gll', 1, 1), ('Gll', 1, 2), ('Gll', -3, 1)): 1},\n",
       " {(('Gll', 1, 2), ('Gll', 1, 2), ('Gll', -3, 1)): 1},\n",
       " {(('Gll', 1, 3), ('Gll', 1, 2), ('Gll', -3, 1)): 1},\n",
       " {(('Gll', 2, -3), ('Gll', 1, 2), ('Gll', -3, 1)): 1},\n",
       " {(('Gll', 2, 1), ('Gll', 1, 2), ('Gll', -3, 1)): 1},\n",
       " {(('Gll', 2, 2), ('Gll', 1, 2), ('Gll', -3, 1)): 1},\n",
       " {(('Gll', 2, 3), ('Gll', 1, 2), ('Gll', -3, 1)): 1},\n",
       " {(('Gll', 3, 1), ('Gll', 1, 2), ('Gll', -3, 1)): 1},\n",
       " {(('Gll', 3, 2), ('Gll', 1, 2), ('Gll', -3, 1)): 1},\n",
       " {(('Gll', 3, 3), ('Gll', 1, 2), ('Gll', -3, 1)): 1},\n",
       " {(('Gll', -3, 1), ('Gll', 1, 3), ('Gll', -3, 1)): 1},\n",
       " {(('Gll', -3, 2), ('Gll', 1, 3), ('Gll', -3, 1)): 1},\n",
       " {(('Gll', -2, 1), ('Gll', 1, 3), ('Gll', -3, 1)): 1},\n",
       " {(('Gll', 1, -3), ('Gll', 1, 3), ('Gll', -3, 1)): 1},\n",
       " {(('Gll', 1, -2), ('Gll', 1, 3), ('Gll', -3, 1)): 1},\n",
       " {(('Gll', 1, 1), ('Gll', 1, 3), ('Gll', -3, 1)): 1},\n",
       " {(('Gll', 1, 2), ('Gll', 1, 3), ('Gll', -3, 1)): 1},\n",
       " {(('Gll', 1, 3), ('Gll', 1, 3), ('Gll', -3, 1)): 1},\n",
       " {(('Gll', 2, -3), ('Gll', 1, 3), ('Gll', -3, 1)): 1},\n",
       " {(('Gll', 2, 1), ('Gll', 1, 3), ('Gll', -3, 1)): 1},\n",
       " {(('Gll', 2, 2), ('Gll', 1, 3), ('Gll', -3, 1)): 1},\n",
       " {(('Gll', 2, 3), ('Gll', 1, 3), ('Gll', -3, 1)): 1},\n",
       " {(('Gll', 3, 1), ('Gll', 1, 3), ('Gll', -3, 1)): 1},\n",
       " {(('Gll', 3, 2), ('Gll', 1, 3), ('Gll', -3, 1)): 1},\n",
       " {(('Gll', 3, 3), ('Gll', 1, 3), ('Gll', -3, 1)): 1},\n",
       " {(('Gll', -3, 1), ('Gll', 2, 3), ('Gll', -3, 1)): 1},\n",
       " {(('Gll', -3, 2), ('Gll', 2, 3), ('Gll', -3, 1)): 1},\n",
       " {(('Gll', -2, 1), ('Gll', 2, 3), ('Gll', -3, 1)): 1},\n",
       " {(('Gll', 1, -3), ('Gll', 2, 3), ('Gll', -3, 1)): 1},\n",
       " {(('Gll', 1, -2), ('Gll', 2, 3), ('Gll', -3, 1)): 1},\n",
       " {(('Gll', 1, 1), ('Gll', 2, 3), ('Gll', -3, 1)): 1},\n",
       " {(('Gll', 1, 2), ('Gll', 2, 3), ('Gll', -3, 1)): 1},\n",
       " {(('Gll', 1, 3), ('Gll', 2, 3), ('Gll', -3, 1)): 1},\n",
       " {(('Gll', 2, -3), ('Gll', 2, 3), ('Gll', -3, 1)): 1},\n",
       " {(('Gll', 2, 1), ('Gll', 2, 3), ('Gll', -3, 1)): 1},\n",
       " {(('Gll', 2, 2), ('Gll', 2, 3), ('Gll', -3, 1)): 1},\n",
       " {(('Gll', 2, 3), ('Gll', 2, 3), ('Gll', -3, 1)): 1},\n",
       " {(('Gll', 3, 1), ('Gll', 2, 3), ('Gll', -3, 1)): 1},\n",
       " {(('Gll', 3, 2), ('Gll', 2, 3), ('Gll', -3, 1)): 1},\n",
       " {(('Gll', 3, 3), ('Gll', 2, 3), ('Gll', -3, 1)): 1},\n",
       " {(('Gll', -3, 1), ('Gll', 1, 2), ('Gll', -3, 2)): 1},\n",
       " {(('Gll', -3, 2), ('Gll', 1, 2), ('Gll', -3, 2)): 1},\n",
       " {(('Gll', -2, 1), ('Gll', 1, 2), ('Gll', -3, 2)): 1},\n",
       " {(('Gll', 1, -3), ('Gll', 1, 2), ('Gll', -3, 2)): 1},\n",
       " {(('Gll', 1, -2), ('Gll', 1, 2), ('Gll', -3, 2)): 1},\n",
       " {(('Gll', 1, 1), ('Gll', 1, 2), ('Gll', -3, 2)): 1},\n",
       " {(('Gll', 1, 2), ('Gll', 1, 2), ('Gll', -3, 2)): 1},\n",
       " {(('Gll', 1, 3), ('Gll', 1, 2), ('Gll', -3, 2)): 1},\n",
       " {(('Gll', 2, -3), ('Gll', 1, 2), ('Gll', -3, 2)): 1},\n",
       " {(('Gll', 2, 1), ('Gll', 1, 2), ('Gll', -3, 2)): 1},\n",
       " {(('Gll', 2, 2), ('Gll', 1, 2), ('Gll', -3, 2)): 1},\n",
       " {(('Gll', 2, 3), ('Gll', 1, 2), ('Gll', -3, 2)): 1},\n",
       " {(('Gll', 3, 1), ('Gll', 1, 2), ('Gll', -3, 2)): 1},\n",
       " {(('Gll', 3, 2), ('Gll', 1, 2), ('Gll', -3, 2)): 1},\n",
       " {(('Gll', 3, 3), ('Gll', 1, 2), ('Gll', -3, 2)): 1},\n",
       " {(('Gll', -3, 1), ('Gll', 1, 3), ('Gll', -3, 2)): 1},\n",
       " {(('Gll', -3, 2), ('Gll', 1, 3), ('Gll', -3, 2)): 1},\n",
       " {(('Gll', -2, 1), ('Gll', 1, 3), ('Gll', -3, 2)): 1},\n",
       " {(('Gll', 1, -3), ('Gll', 1, 3), ('Gll', -3, 2)): 1},\n",
       " {(('Gll', 1, -2), ('Gll', 1, 3), ('Gll', -3, 2)): 1},\n",
       " {(('Gll', 1, 1), ('Gll', 1, 3), ('Gll', -3, 2)): 1},\n",
       " {(('Gll', 1, 2), ('Gll', 1, 3), ('Gll', -3, 2)): 1},\n",
       " {(('Gll', 1, 3), ('Gll', 1, 3), ('Gll', -3, 2)): 1},\n",
       " {(('Gll', 2, -3), ('Gll', 1, 3), ('Gll', -3, 2)): 1},\n",
       " {(('Gll', 2, 1), ('Gll', 1, 3), ('Gll', -3, 2)): 1},\n",
       " {(('Gll', 2, 2), ('Gll', 1, 3), ('Gll', -3, 2)): 1},\n",
       " {(('Gll', 2, 3), ('Gll', 1, 3), ('Gll', -3, 2)): 1},\n",
       " {(('Gll', 3, 1), ('Gll', 1, 3), ('Gll', -3, 2)): 1},\n",
       " {(('Gll', 3, 2), ('Gll', 1, 3), ('Gll', -3, 2)): 1},\n",
       " {(('Gll', 3, 3), ('Gll', 1, 3), ('Gll', -3, 2)): 1},\n",
       " {(('Gll', -3, 1), ('Gll', 2, 3), ('Gll', -3, 2)): 1},\n",
       " {(('Gll', -3, 2), ('Gll', 2, 3), ('Gll', -3, 2)): 1},\n",
       " {(('Gll', -2, 1), ('Gll', 2, 3), ('Gll', -3, 2)): 1},\n",
       " {(('Gll', 1, -3), ('Gll', 2, 3), ('Gll', -3, 2)): 1},\n",
       " {(('Gll', 1, -2), ('Gll', 2, 3), ('Gll', -3, 2)): 1},\n",
       " {(('Gll', 1, 1), ('Gll', 2, 3), ('Gll', -3, 2)): 1},\n",
       " {(('Gll', 1, 2), ('Gll', 2, 3), ('Gll', -3, 2)): 1},\n",
       " {(('Gll', 1, 3), ('Gll', 2, 3), ('Gll', -3, 2)): 1},\n",
       " {(('Gll', 2, -3), ('Gll', 2, 3), ('Gll', -3, 2)): 1},\n",
       " {(('Gll', 2, 1), ('Gll', 2, 3), ('Gll', -3, 2)): 1},\n",
       " {(('Gll', 2, 2), ('Gll', 2, 3), ('Gll', -3, 2)): 1},\n",
       " {(('Gll', 2, 3), ('Gll', 2, 3), ('Gll', -3, 2)): 1},\n",
       " {(('Gll', 3, 1), ('Gll', 2, 3), ('Gll', -3, 2)): 1},\n",
       " {(('Gll', 3, 2), ('Gll', 2, 3), ('Gll', -3, 2)): 1},\n",
       " {(('Gll', 3, 3), ('Gll', 2, 3), ('Gll', -3, 2)): 1},\n",
       " {(('Gll', -3, 1), ('Gll', 1, 2), ('Gll', 1, 2)): 1},\n",
       " {(('Gll', -3, 2), ('Gll', 1, 2), ('Gll', 1, 2)): 1},\n",
       " {(('Gll', -2, 1), ('Gll', 1, 2), ('Gll', 1, 2)): 1},\n",
       " {(('Gll', 1, -3), ('Gll', 1, 2), ('Gll', 1, 2)): 1},\n",
       " {(('Gll', 1, -2), ('Gll', 1, 2), ('Gll', 1, 2)): 1},\n",
       " {(('Gll', 1, 1), ('Gll', 1, 2), ('Gll', 1, 2)): 1},\n",
       " {(('Gll', 1, 2), ('Gll', 1, 2), ('Gll', 1, 2)): 1},\n",
       " {(('Gll', 1, 3), ('Gll', 1, 2), ('Gll', 1, 2)): 1},\n",
       " {(('Gll', 2, -3), ('Gll', 1, 2), ('Gll', 1, 2)): 1},\n",
       " {(('Gll', 2, 1), ('Gll', 1, 2), ('Gll', 1, 2)): 1},\n",
       " {(('Gll', 2, 2), ('Gll', 1, 2), ('Gll', 1, 2)): 1},\n",
       " {(('Gll', 2, 3), ('Gll', 1, 2), ('Gll', 1, 2)): 1},\n",
       " {(('Gll', 3, 1), ('Gll', 1, 2), ('Gll', 1, 2)): 1},\n",
       " {(('Gll', 3, 2), ('Gll', 1, 2), ('Gll', 1, 2)): 1},\n",
       " {(('Gll', 3, 3), ('Gll', 1, 2), ('Gll', 1, 2)): 1},\n",
       " {(('Gll', -3, 1), ('Gll', 1, 3), ('Gll', 1, 2)): 1},\n",
       " {(('Gll', -3, 2), ('Gll', 1, 3), ('Gll', 1, 2)): 1},\n",
       " {(('Gll', -2, 1), ('Gll', 1, 3), ('Gll', 1, 2)): 1},\n",
       " {(('Gll', 1, -3), ('Gll', 1, 3), ('Gll', 1, 2)): 1},\n",
       " {(('Gll', 1, -2), ('Gll', 1, 3), ('Gll', 1, 2)): 1},\n",
       " {(('Gll', 1, 1), ('Gll', 1, 3), ('Gll', 1, 2)): 1},\n",
       " {(('Gll', 1, 2), ('Gll', 1, 3), ('Gll', 1, 2)): 1},\n",
       " {(('Gll', 1, 3), ('Gll', 1, 3), ('Gll', 1, 2)): 1},\n",
       " {(('Gll', 2, -3), ('Gll', 1, 3), ('Gll', 1, 2)): 1},\n",
       " {(('Gll', 2, 1), ('Gll', 1, 3), ('Gll', 1, 2)): 1},\n",
       " {(('Gll', 2, 2), ('Gll', 1, 3), ('Gll', 1, 2)): 1},\n",
       " {(('Gll', 2, 3), ('Gll', 1, 3), ('Gll', 1, 2)): 1},\n",
       " {(('Gll', 3, 1), ('Gll', 1, 3), ('Gll', 1, 2)): 1},\n",
       " {(('Gll', 3, 2), ('Gll', 1, 3), ('Gll', 1, 2)): 1},\n",
       " {(('Gll', 3, 3), ('Gll', 1, 3), ('Gll', 1, 2)): 1},\n",
       " {(('Gll', -3, 1), ('Gll', 2, 3), ('Gll', 1, 2)): 1},\n",
       " {(('Gll', -3, 2), ('Gll', 2, 3), ('Gll', 1, 2)): 1},\n",
       " {(('Gll', -2, 1), ('Gll', 2, 3), ('Gll', 1, 2)): 1},\n",
       " {(('Gll', 1, -3), ('Gll', 2, 3), ('Gll', 1, 2)): 1},\n",
       " {(('Gll', 1, -2), ('Gll', 2, 3), ('Gll', 1, 2)): 1},\n",
       " {(('Gll', 1, 1), ('Gll', 2, 3), ('Gll', 1, 2)): 1},\n",
       " {(('Gll', 1, 2), ('Gll', 2, 3), ('Gll', 1, 2)): 1},\n",
       " {(('Gll', 1, 3), ('Gll', 2, 3), ('Gll', 1, 2)): 1},\n",
       " {(('Gll', 2, -3), ('Gll', 2, 3), ('Gll', 1, 2)): 1},\n",
       " {(('Gll', 2, 1), ('Gll', 2, 3), ('Gll', 1, 2)): 1},\n",
       " {(('Gll', 2, 2), ('Gll', 2, 3), ('Gll', 1, 2)): 1},\n",
       " {(('Gll', 2, 3), ('Gll', 2, 3), ('Gll', 1, 2)): 1},\n",
       " {(('Gll', 3, 1), ('Gll', 2, 3), ('Gll', 1, 2)): 1},\n",
       " {(('Gll', 3, 2), ('Gll', 2, 3), ('Gll', 1, 2)): 1},\n",
       " {(('Gll', 3, 3), ('Gll', 2, 3), ('Gll', 1, 2)): 1},\n",
       " {(('Hll', -2, 1),): 1},\n",
       " {(('Hll', 1, -2),): 1},\n",
       " {(('Hll', -3, 2),): 1},\n",
       " {(('Hll', 2, -3),): 1},\n",
       " {(('Hll', -3, 1),): 1},\n",
       " {(('Hll', 1, -3),): 1},\n",
       " {(('Hll', 3, 3),): 1},\n",
       " {(('Hll', 1, -2), ('Gll', -3, 2)): 1},\n",
       " {(('Hll', -3, 2), ('Gll', -3, 2)): 1},\n",
       " {(('Hll', 2, -3), ('Gll', -3, 2)): 1},\n",
       " {(('Hll', -2, 1), ('Gll', -3, 2)): 1}]"
      ]
     },
     "execution_count": 28,
     "metadata": {},
     "output_type": "execute_result"
    }
   ],
   "source": [
    "[k.Lprod._terms for k in coder_so.Yangian_irrep.replacements]"
   ]
  },
  {
   "cell_type": "code",
   "execution_count": 13,
   "metadata": {},
   "outputs": [
    {
     "data": {
      "text/plain": [
       "[(G₋₃,₋₂,\n",
       "  -G₃,₋₁+G₋₁,₃-1/2G₋₂,₃H₂,₋₁+1/4H₋₂,₃H₂,₋₁+1/2G₃,₋₂H₂,₋₁-G₋₂,₃G₂,₋₁+G₃,₋₂G₂,₋₁-1/2G₋₂,₃H₋₁,₂+1/2G₃,₋₂H₋₁,₂+1/2H₋₂,₃G₂,₋₁-1/2H₋₁,₃+1/4H₃,₋₂H₂,₋₁+1/4H₋₂,₃H₋₁,₂+1/2H₃,₋₂G₂,₋₁+G₋₂,₃G₋₁,₂-G₃,₋₂G₋₁,₂+1/4H₃,₋₂H₋₁,₂-1/2H₋₂,₃G₋₁,₂-1/2H₃,₋₂G₋₁,₂-1/2H₃,₋₁,\n",
       "  -G₃,₋₁G₋₃,₋₂+G₋₁,₃G₋₃,₋₂-1/2G₋₂,₃H₂,₋₁G₋₃,₋₂+1/4H₋₂,₃H₂,₋₁G₋₃,₋₂+1/2G₃,₋₂H₂,₋₁G₋₃,₋₂-G₋₂,₃G₂,₋₁G₋₃,₋₂+G₃,₋₂G₂,₋₁G₋₃,₋₂-1/2G₋₂,₃H₋₁,₂G₋₃,₋₂+1/2G₃,₋₂H₋₁,₂G₋₃,₋₂+1/2H₋₂,₃G₂,₋₁G₋₃,₋₂-1/2H₋₁,₃G₋₃,₋₂+1/4H₃,₋₂H₂,₋₁G₋₃,₋₂+1/4H₋₂,₃H₋₁,₂G₋₃,₋₂+1/2H₃,₋₂G₂,₋₁G₋₃,₋₂+G₋₂,₃G₋₁,₂G₋₃,₋₂-G₃,₋₂G₋₁,₂G₋₃,₋₂+1/4H₃,₋₂H₋₁,₂G₋₃,₋₂-1/2H₋₂,₃G₋₁,₂G₋₃,₋₂-1/2H₃,₋₂G₋₁,₂G₋₃,₋₂-1/2H₃,₋₁G₋₃,₋₂),\n",
       " (H₋₃,₋₂,\n",
       "  1/2G₃,₋₁-1/2G₋₁,₃+1/4G₋₂,₃H₂,₋₁-1/8H₋₂,₃H₂,₋₁-1/4G₃,₋₂H₂,₋₁+1/2G₋₂,₃G₂,₋₁-1/2G₃,₋₂G₂,₋₁+1/4G₋₂,₃H₋₁,₂-1/4G₃,₋₂H₋₁,₂-1/4H₋₂,₃G₂,₋₁+1/4H₋₁,₃-1/8H₃,₋₂H₂,₋₁-1/8H₋₂,₃H₋₁,₂-1/4H₃,₋₂G₂,₋₁-1/2G₋₂,₃G₋₁,₂+1/2G₃,₋₂G₋₁,₂-1/8H₃,₋₂H₋₁,₂+1/4H₋₂,₃G₋₁,₂+1/4H₃,₋₂G₋₁,₂+1/4H₃,₋₁,\n",
       "  1/2G₃,₋₁H₋₃,₋₂-1/2G₋₁,₃H₋₃,₋₂+1/4G₋₂,₃H₂,₋₁H₋₃,₋₂-1/8H₋₂,₃H₂,₋₁H₋₃,₋₂-1/4G₃,₋₂H₂,₋₁H₋₃,₋₂+1/2G₋₂,₃G₂,₋₁H₋₃,₋₂-1/2G₃,₋₂G₂,₋₁H₋₃,₋₂+1/4G₋₂,₃H₋₁,₂H₋₃,₋₂-1/4G₃,₋₂H₋₁,₂H₋₃,₋₂-1/4H₋₂,₃G₂,₋₁H₋₃,₋₂+1/4H₋₁,₃H₋₃,₋₂-1/8H₃,₋₂H₂,₋₁H₋₃,₋₂-1/8H₋₂,₃H₋₁,₂H₋₃,₋₂-1/4H₃,₋₂G₂,₋₁H₋₃,₋₂-1/2G₋₂,₃G₋₁,₂H₋₃,₋₂+1/2G₃,₋₂G₋₁,₂H₋₃,₋₂-1/8H₃,₋₂H₋₁,₂H₋₃,₋₂+1/4H₋₂,₃G₋₁,₂H₋₃,₋₂+1/4H₃,₋₂G₋₁,₂H₋₃,₋₂+1/4H₃,₋₁H₋₃,₋₂),\n",
       " (G₋₃,₋₁,\n",
       "  1/2H₃,₋₂+G₃,₋₂-G₋₂,₃+1/2H₋₂,₃,\n",
       "  1/2H₃,₋₂G₋₃,₋₁+G₃,₋₂G₋₃,₋₁-G₋₂,₃G₋₃,₋₁+1/2H₋₂,₃G₋₃,₋₁),\n",
       " (H₋₃,₋₁,\n",
       "  -1/4H₃,₋₂-1/2G₃,₋₂+1/2G₋₂,₃-1/4H₋₂,₃,\n",
       "  -1/4H₃,₋₂H₋₃,₋₁-1/2G₃,₋₂H₋₃,₋₁+1/2G₋₂,₃H₋₃,₋₁-1/4H₋₂,₃H₋₃,₋₁),\n",
       " (G₋₂,₋₃,\n",
       "  G₃,₋₁-G₋₁,₃+1/2G₋₂,₃H₂,₋₁-1/4H₋₂,₃H₂,₋₁-1/2G₃,₋₂H₂,₋₁+G₋₂,₃G₂,₋₁-G₃,₋₂G₂,₋₁+1/2G₋₂,₃H₋₁,₂-1/2G₃,₋₂H₋₁,₂-1/2H₋₂,₃G₂,₋₁+1/2H₋₁,₃-1/4H₃,₋₂H₂,₋₁-1/4H₋₂,₃H₋₁,₂-1/2H₃,₋₂G₂,₋₁-G₋₂,₃G₋₁,₂+G₃,₋₂G₋₁,₂-1/4H₃,₋₂H₋₁,₂+1/2H₋₂,₃G₋₁,₂+1/2H₃,₋₂G₋₁,₂+1/2H₃,₋₁,\n",
       "  G₃,₋₁G₋₂,₋₃-G₋₁,₃G₋₂,₋₃+1/2G₋₂,₃H₂,₋₁G₋₂,₋₃-1/4H₋₂,₃H₂,₋₁G₋₂,₋₃-1/2G₃,₋₂H₂,₋₁G₋₂,₋₃+G₋₂,₃G₂,₋₁G₋₂,₋₃-G₃,₋₂G₂,₋₁G₋₂,₋₃+1/2G₋₂,₃H₋₁,₂G₋₂,₋₃-1/2G₃,₋₂H₋₁,₂G₋₂,₋₃-1/2H₋₂,₃G₂,₋₁G₋₂,₋₃+1/2H₋₁,₃G₋₂,₋₃-1/4H₃,₋₂H₂,₋₁G₋₂,₋₃-1/4H₋₂,₃H₋₁,₂G₋₂,₋₃-1/2H₃,₋₂G₂,₋₁G₋₂,₋₃-G₋₂,₃G₋₁,₂G₋₂,₋₃+G₃,₋₂G₋₁,₂G₋₂,₋₃-1/4H₃,₋₂H₋₁,₂G₋₂,₋₃+1/2H₋₂,₃G₋₁,₂G₋₂,₋₃+1/2H₃,₋₂G₋₁,₂G₋₂,₋₃+1/2H₃,₋₁G₋₂,₋₃),\n",
       " (H₋₂,₋₃,\n",
       "  1/2G₃,₋₁-1/2G₋₁,₃+1/4G₋₂,₃H₂,₋₁-1/8H₋₂,₃H₂,₋₁-1/4G₃,₋₂H₂,₋₁+1/2G₋₂,₃G₂,₋₁-1/2G₃,₋₂G₂,₋₁+1/4G₋₂,₃H₋₁,₂-1/4G₃,₋₂H₋₁,₂-1/4H₋₂,₃G₂,₋₁+1/4H₋₁,₃-1/8H₃,₋₂H₂,₋₁-1/8H₋₂,₃H₋₁,₂-1/4H₃,₋₂G₂,₋₁-1/2G₋₂,₃G₋₁,₂+1/2G₃,₋₂G₋₁,₂-1/8H₃,₋₂H₋₁,₂+1/4H₋₂,₃G₋₁,₂+1/4H₃,₋₂G₋₁,₂+1/4H₃,₋₁,\n",
       "  1/2G₃,₋₁H₋₂,₋₃-1/2G₋₁,₃H₋₂,₋₃+1/4G₋₂,₃H₂,₋₁H₋₂,₋₃-1/8H₋₂,₃H₂,₋₁H₋₂,₋₃-1/4G₃,₋₂H₂,₋₁H₋₂,₋₃+1/2G₋₂,₃G₂,₋₁H₋₂,₋₃-1/2G₃,₋₂G₂,₋₁H₋₂,₋₃+1/4G₋₂,₃H₋₁,₂H₋₂,₋₃-1/4G₃,₋₂H₋₁,₂H₋₂,₋₃-1/4H₋₂,₃G₂,₋₁H₋₂,₋₃+1/4H₋₁,₃H₋₂,₋₃-1/8H₃,₋₂H₂,₋₁H₋₂,₋₃-1/8H₋₂,₃H₋₁,₂H₋₂,₋₃-1/4H₃,₋₂G₂,₋₁H₋₂,₋₃-1/2G₋₂,₃G₋₁,₂H₋₂,₋₃+1/2G₃,₋₂G₋₁,₂H₋₂,₋₃-1/8H₃,₋₂H₋₁,₂H₋₂,₋₃+1/4H₋₂,₃G₋₁,₂H₋₂,₋₃+1/4H₃,₋₂G₋₁,₂H₋₂,₋₃+1/4H₃,₋₁H₋₂,₋₃),\n",
       " (G₋₂,₋₁, 2, 2G₋₂,₋₁),\n",
       " (G₋₂,₃,\n",
       "  -1/2H₋₃,₋₂G₂,₋₁+1/4H₋₂,₃H₋₃,₋₃H₂,₋₁+1/4H₋₃,₋₂H₋₁,₂-1/2H₋₂,₃H₋₃,₋₃G₂,₋₁+1/2G₋₂,₃H₂,₋₁H₋₃,₋₃-1/4H₃,₋₂H₂,₋₁H₋₃,₋₃+1/2H₋₃,₋₂G₋₁,₂+1/4H₋₂,₃H₋₃,₋₃H₋₁,₂+1/2H₃,₋₁H₋₃,₋₃+1/2H₋₂,₃H₋₃,₋₃G₋₁,₂-G₃,₋₂G₂,₋₁H₋₃,₋₃-1/2G₃,₋₂H₋₁,₂H₋₃,₋₃+G₃,₋₂G₋₁,₂H₋₃,₋₃+1/2G₃,₋₂H₋₃,₋₃H₂,₋₁+G₋₂,₃G₂,₋₁H₋₃,₋₃-G₃,₋₂H₋₃,₋₃G₂,₋₁+G₋₃,₋₁+1/2G₋₂,₃H₋₁,₂H₋₃,₋₃+1/2G₃,₋₂H₋₃,₋₃H₋₁,₂-G₋₂,₃G₋₁,₂H₋₃,₋₃+G₃,₋₂H₋₃,₋₃G₋₁,₂-1/2H₃,₋₂G₂,₋₁H₋₃,₋₃-1/2G₋₂,₃H₋₃,₋₃H₂,₋₁-1/4H₋₂,₃H₂,₋₁H₋₃,₋₃-1/4H₃,₋₂H₋₁,₂H₋₃,₋₃+1/2H₋₃,₋₁+1/2G₋₃,₋₂H₂,₋₁+1/2H₃,₋₂G₋₁,₂H₋₃,₋₃-G₋₁,₃H₋₃,₋₃+G₃,₋₁H₋₃,₋₃+G₋₂,₃H₋₃,₋₃G₂,₋₁+1/2G₋₃,₋₂H₋₁,₂-G₋₁,₋₃+1/2H₋₁,₃H₋₃,₋₃-1/2G₋₂,₃H₋₃,₋₃H₋₁,₂-G₋₃,₋₂G₂,₋₁+1/4H₃,₋₂H₋₃,₋₃H₂,₋₁-G₋₂,₃H₋₃,₋₃G₋₁,₂-1/2H₃,₋₂H₋₃,₋₃G₂,₋₁+G₋₃,₋₂G₋₁,₂-1/2H₋₂,₃G₂,₋₁H₋₃,₋₃+1/4H₃,₋₂H₋₃,₋₃H₋₁,₂+1/4H₋₂,₋₃H₂,₋₁-1/2G₃,₋₂H₂,₋₁H₋₃,₋₃-1/2H₋₂,₋₃G₂,₋₁+1/2H₋₂,₃G₋₁,₂H₋₃,₋₃-1/2G₋₂,₋₃H₂,₋₁-1/4H₋₂,₃H₋₁,₂H₋₃,₋₃+1/2H₋₁,₋₃+1/2H₃,₋₂H₋₃,₋₃G₋₁,₂+1/4H₋₂,₋₃H₋₁,₂-1/2G₋₂,₋₃H₋₁,₂+G₋₂,₋₃G₂,₋₁+1/4H₋₃,₋₂H₂,₋₁+1/2H₋₂,₋₃G₋₁,₂-G₋₂,₋₃G₋₁,₂,\n",
       "  -1/2H₋₃,₋₂G₂,₋₁G₋₂,₃+1/4H₋₂,₃H₋₃,₋₃H₂,₋₁G₋₂,₃+1/4H₋₃,₋₂H₋₁,₂G₋₂,₃-1/2H₋₂,₃H₋₃,₋₃G₂,₋₁G₋₂,₃+1/2G₋₂,₃H₂,₋₁H₋₃,₋₃G₋₂,₃-1/4H₃,₋₂H₂,₋₁H₋₃,₋₃G₋₂,₃+1/2H₋₃,₋₂G₋₁,₂G₋₂,₃+1/4H₋₂,₃H₋₃,₋₃H₋₁,₂G₋₂,₃+1/2H₃,₋₁H₋₃,₋₃G₋₂,₃+1/2H₋₂,₃H₋₃,₋₃G₋₁,₂G₋₂,₃-G₃,₋₂G₂,₋₁H₋₃,₋₃G₋₂,₃-1/2G₃,₋₂H₋₁,₂H₋₃,₋₃G₋₂,₃+G₃,₋₂G₋₁,₂H₋₃,₋₃G₋₂,₃+1/2G₃,₋₂H₋₃,₋₃H₂,₋₁G₋₂,₃+G₋₂,₃G₂,₋₁H₋₃,₋₃G₋₂,₃-G₃,₋₂H₋₃,₋₃G₂,₋₁G₋₂,₃+G₋₃,₋₁G₋₂,₃+1/2G₋₂,₃H₋₁,₂H₋₃,₋₃G₋₂,₃+1/2G₃,₋₂H₋₃,₋₃H₋₁,₂G₋₂,₃-G₋₂,₃G₋₁,₂H₋₃,₋₃G₋₂,₃+G₃,₋₂H₋₃,₋₃G₋₁,₂G₋₂,₃-1/2H₃,₋₂G₂,₋₁H₋₃,₋₃G₋₂,₃-1/2G₋₂,₃H₋₃,₋₃H₂,₋₁G₋₂,₃-1/4H₋₂,₃H₂,₋₁H₋₃,₋₃G₋₂,₃-1/4H₃,₋₂H₋₁,₂H₋₃,₋₃G₋₂,₃+1/2H₋₃,₋₁G₋₂,₃+1/2G₋₃,₋₂H₂,₋₁G₋₂,₃+1/2H₃,₋₂G₋₁,₂H₋₃,₋₃G₋₂,₃-G₋₁,₃H₋₃,₋₃G₋₂,₃+G₃,₋₁H₋₃,₋₃G₋₂,₃+G₋₂,₃H₋₃,₋₃G₂,₋₁G₋₂,₃+1/2G₋₃,₋₂H₋₁,₂G₋₂,₃-G₋₁,₋₃G₋₂,₃+1/2H₋₁,₃H₋₃,₋₃G₋₂,₃-1/2G₋₂,₃H₋₃,₋₃H₋₁,₂G₋₂,₃-G₋₃,₋₂G₂,₋₁G₋₂,₃+1/4H₃,₋₂H₋₃,₋₃H₂,₋₁G₋₂,₃-G₋₂,₃H₋₃,₋₃G₋₁,₂G₋₂,₃-1/2H₃,₋₂H₋₃,₋₃G₂,₋₁G₋₂,₃+G₋₃,₋₂G₋₁,₂G₋₂,₃-1/2H₋₂,₃G₂,₋₁H₋₃,₋₃G₋₂,₃+1/4H₃,₋₂H₋₃,₋₃H₋₁,₂G₋₂,₃+1/4H₋₂,₋₃H₂,₋₁G₋₂,₃-1/2G₃,₋₂H₂,₋₁H₋₃,₋₃G₋₂,₃-1/2H₋₂,₋₃G₂,₋₁G₋₂,₃+1/2H₋₂,₃G₋₁,₂H₋₃,₋₃G₋₂,₃-1/2G₋₂,₋₃H₂,₋₁G₋₂,₃-1/4H₋₂,₃H₋₁,₂H₋₃,₋₃G₋₂,₃+1/2H₋₁,₋₃G₋₂,₃+1/2H₃,₋₂H₋₃,₋₃G₋₁,₂G₋₂,₃+1/4H₋₂,₋₃H₋₁,₂G₋₂,₃-1/2G₋₂,₋₃H₋₁,₂G₋₂,₃+G₋₂,₋₃G₂,₋₁G₋₂,₃+1/4H₋₃,₋₂H₂,₋₁G₋₂,₃+1/2H₋₂,₋₃G₋₁,₂G₋₂,₃-G₋₂,₋₃G₋₁,₂G₋₂,₃),\n",
       " (H₋₂,₃,\n",
       "  -1/4H₋₃,₋₂G₂,₋₁-1/8H₋₂,₃H₋₃,₋₃H₂,₋₁-3/8H₋₃,₋₂H₋₁,₂-1/4H₋₂,₃H₋₃,₋₃G₂,₋₁+3/8G₋₂,₃H₂,₋₁H₋₃,₋₃-3/16H₃,₋₂H₂,₋₁H₋₃,₋₃+1/4H₋₃,₋₂G₋₁,₂-3/8H₋₂,₃H₋₃,₋₃H₋₁,₂+3/8H₃,₋₁H₋₃,₋₃+1/4H₋₂,₃H₋₃,₋₃G₋₁,₂-3/4G₃,₋₂G₂,₋₁H₋₃,₋₃-3/8G₃,₋₂H₋₁,₂H₋₃,₋₃+3/4G₃,₋₂G₋₁,₂H₋₃,₋₃-1/4G₃,₋₂H₋₃,₋₃H₂,₋₁+3/4G₋₂,₃G₂,₋₁H₋₃,₋₃-1/2G₃,₋₂H₋₃,₋₃G₂,₋₁+1/2G₋₃,₋₁+3/8G₋₂,₃H₋₁,₂H₋₃,₋₃-3/4G₃,₋₂H₋₃,₋₃H₋₁,₂-3/4G₋₂,₃G₋₁,₂H₋₃,₋₃+1/2G₃,₋₂H₋₃,₋₃G₋₁,₂-3/8H₃,₋₂G₂,₋₁H₋₃,₋₃+1/4G₋₂,₃H₋₃,₋₃H₂,₋₁-3/16H₋₂,₃H₂,₋₁H₋₃,₋₃-3/16H₃,₋₂H₋₁,₂H₋₃,₋₃+1/4H₋₃,₋₁-1/4G₋₃,₋₂H₂,₋₁+3/8H₃,₋₂G₋₁,₂H₋₃,₋₃-3/4G₋₁,₃H₋₃,₋₃+3/4G₃,₋₁H₋₃,₋₃+1/2G₋₂,₃H₋₃,₋₃G₂,₋₁-3/4G₋₃,₋₂H₋₁,₂-1/2G₋₁,₋₃+3/8H₋₁,₃H₋₃,₋₃+3/4G₋₂,₃H₋₃,₋₃H₋₁,₂-1/2G₋₃,₋₂G₂,₋₁-1/8H₃,₋₂H₋₃,₋₃H₂,₋₁-1/2G₋₂,₃H₋₃,₋₃G₋₁,₂-1/4H₃,₋₂H₋₃,₋₃G₂,₋₁+1/2G₋₃,₋₂G₋₁,₂-3/8H₋₂,₃G₂,₋₁H₋₃,₋₃-3/8H₃,₋₂H₋₃,₋₃H₋₁,₂-1/8H₋₂,₋₃H₂,₋₁-3/8G₃,₋₂H₂,₋₁H₋₃,₋₃-1/4H₋₂,₋₃G₂,₋₁+3/8H₋₂,₃G₋₁,₂H₋₃,₋₃+1/4G₋₂,₋₃H₂,₋₁-3/16H₋₂,₃H₋₁,₂H₋₃,₋₃+1/4H₋₁,₋₃+1/4H₃,₋₂H₋₃,₋₃G₋₁,₂-3/8H₋₂,₋₃H₋₁,₂+3/4G₋₂,₋₃H₋₁,₂+1/2G₋₂,₋₃G₂,₋₁-1/8H₋₃,₋₂H₂,₋₁+1/4H₋₂,₋₃G₋₁,₂-1/2G₋₂,₋₃G₋₁,₂,\n",
       "  -1/4H₋₃,₋₂G₂,₋₁H₋₂,₃-1/8H₋₂,₃H₋₃,₋₃H₂,₋₁H₋₂,₃-3/8H₋₃,₋₂H₋₁,₂H₋₂,₃-1/4H₋₂,₃H₋₃,₋₃G₂,₋₁H₋₂,₃+3/8G₋₂,₃H₂,₋₁H₋₃,₋₃H₋₂,₃-3/16H₃,₋₂H₂,₋₁H₋₃,₋₃H₋₂,₃+1/4H₋₃,₋₂G₋₁,₂H₋₂,₃-3/8H₋₂,₃H₋₃,₋₃H₋₁,₂H₋₂,₃+3/8H₃,₋₁H₋₃,₋₃H₋₂,₃+1/4H₋₂,₃H₋₃,₋₃G₋₁,₂H₋₂,₃-3/4G₃,₋₂G₂,₋₁H₋₃,₋₃H₋₂,₃-3/8G₃,₋₂H₋₁,₂H₋₃,₋₃H₋₂,₃+3/4G₃,₋₂G₋₁,₂H₋₃,₋₃H₋₂,₃-1/4G₃,₋₂H₋₃,₋₃H₂,₋₁H₋₂,₃+3/4G₋₂,₃G₂,₋₁H₋₃,₋₃H₋₂,₃-1/2G₃,₋₂H₋₃,₋₃G₂,₋₁H₋₂,₃+1/2G₋₃,₋₁H₋₂,₃+3/8G₋₂,₃H₋₁,₂H₋₃,₋₃H₋₂,₃-3/4G₃,₋₂H₋₃,₋₃H₋₁,₂H₋₂,₃-3/4G₋₂,₃G₋₁,₂H₋₃,₋₃H₋₂,₃+1/2G₃,₋₂H₋₃,₋₃G₋₁,₂H₋₂,₃-3/8H₃,₋₂G₂,₋₁H₋₃,₋₃H₋₂,₃+1/4G₋₂,₃H₋₃,₋₃H₂,₋₁H₋₂,₃-3/16H₋₂,₃H₂,₋₁H₋₃,₋₃H₋₂,₃-3/16H₃,₋₂H₋₁,₂H₋₃,₋₃H₋₂,₃+1/4H₋₃,₋₁H₋₂,₃-1/4G₋₃,₋₂H₂,₋₁H₋₂,₃+3/8H₃,₋₂G₋₁,₂H₋₃,₋₃H₋₂,₃-3/4G₋₁,₃H₋₃,₋₃H₋₂,₃+3/4G₃,₋₁H₋₃,₋₃H₋₂,₃+1/2G₋₂,₃H₋₃,₋₃G₂,₋₁H₋₂,₃-3/4G₋₃,₋₂H₋₁,₂H₋₂,₃-1/2G₋₁,₋₃H₋₂,₃+3/8H₋₁,₃H₋₃,₋₃H₋₂,₃+3/4G₋₂,₃H₋₃,₋₃H₋₁,₂H₋₂,₃-1/2G₋₃,₋₂G₂,₋₁H₋₂,₃-1/8H₃,₋₂H₋₃,₋₃H₂,₋₁H₋₂,₃-1/2G₋₂,₃H₋₃,₋₃G₋₁,₂H₋₂,₃-1/4H₃,₋₂H₋₃,₋₃G₂,₋₁H₋₂,₃+1/2G₋₃,₋₂G₋₁,₂H₋₂,₃-3/8H₋₂,₃G₂,₋₁H₋₃,₋₃H₋₂,₃-3/8H₃,₋₂H₋₃,₋₃H₋₁,₂H₋₂,₃-1/8H₋₂,₋₃H₂,₋₁H₋₂,₃-3/8G₃,₋₂H₂,₋₁H₋₃,₋₃H₋₂,₃-1/4H₋₂,₋₃G₂,₋₁H₋₂,₃+3/8H₋₂,₃G₋₁,₂H₋₃,₋₃H₋₂,₃+1/4G₋₂,₋₃H₂,₋₁H₋₂,₃-3/16H₋₂,₃H₋₁,₂H₋₃,₋₃H₋₂,₃+1/4H₋₁,₋₃H₋₂,₃+1/4H₃,₋₂H₋₃,₋₃G₋₁,₂H₋₂,₃-3/8H₋₂,₋₃H₋₁,₂H₋₂,₃+3/4G₋₂,₋₃H₋₁,₂H₋₂,₃+1/2G₋₂,₋₃G₂,₋₁H₋₂,₃-1/8H₋₃,₋₂H₂,₋₁H₋₂,₃+1/4H₋₂,₋₃G₋₁,₂H₋₂,₃-1/2G₋₂,₋₃G₋₁,₂H₋₂,₃),\n",
       " (G₋₁,₋₃,\n",
       "  -1/2H₃,₋₂-G₃,₋₂+G₋₂,₃-1/2H₋₂,₃,\n",
       "  -1/2H₃,₋₂G₋₁,₋₃-G₃,₋₂G₋₁,₋₃+G₋₂,₃G₋₁,₋₃-1/2H₋₂,₃G₋₁,₋₃),\n",
       " (H₋₁,₋₃,\n",
       "  -1/4H₃,₋₂-1/2G₃,₋₂+1/2G₋₂,₃-1/4H₋₂,₃,\n",
       "  -1/4H₃,₋₂H₋₁,₋₃-1/2G₃,₋₂H₋₁,₋₃+1/2G₋₂,₃H₋₁,₋₃-1/4H₋₂,₃H₋₁,₋₃),\n",
       " (G₋₁,₋₂, -2, -2G₋₁,₋₂),\n",
       " (H₋₁,₂,\n",
       "  1/2G₋₂,₃H₋₃,₋₂-1/2H₃,₋₂G₋₂,₋₃-1/2G₃,₋₂H₋₃,₋₃H₃,₋₂-H₋₂,₋₂-1/4H₋₂,₃H₋₃,₋₂-1/2G₃,₋₂H₋₃,₋₂-1/2H₋₂,₋₃G₋₂,₃+1/2G₋₂,₃H₋₃,₋₃H₋₂,₃+G₋₂,₋₃G₋₂,₃-1/2G₋₃,₋₂H₋₂,₃+G₃,₋₂H₋₃,₋₃G₃,₋₂-1/2H₋₃,₋₂G₋₂,₃-1/4H₃,₋₂H₋₃,₋₃H₋₂,₃-1/2G₋₃,₋₂H₃,₋₂-1/2H₋₂,₃H₋₃,₋₃G₋₂,₃+1/2G₋₂,₃H₋₂,₋₃+1/2G₋₂,₃H₋₃,₋₃H₃,₋₂-G₋₂,₃H₋₃,₋₃G₃,₋₂-1/4H₋₂,₋₃H₋₂,₃-1/4H₋₂,₃H₋₂,₋₃-1/2G₃,₋₂H₋₂,₋₃+1/2H₃,₋₂G₋₃,₋₂+G₋₂,₃G₋₂,₋₃+1/2G₋₂,₋₃H₋₂,₃+G₋₃,₋₂G₃,₋₂-1/2H₋₂,₃G₋₂,₋₃-G₃,₋₂G₋₂,₋₃-1/4H₃,₋₂H₋₃,₋₃H₃,₋₂+1/2H₃,₋₂H₋₃,₋₃G₃,₋₂-1/4H₋₃,₋₂H₋₂,₃-1/4H₋₂,₃H₋₃,₋₃H₋₂,₃-1/4H₋₂,₋₃H₃,₋₂+1/2G₋₂,₋₃H₃,₋₂-G₃,₋₂H₋₃,₋₃G₋₂,₃+1/2H₋₂,₋₃G₃,₋₂-G₋₂,₋₃G₃,₋₂-1/4H₃,₋₂H₋₃,₋₂-1/4H₋₃,₋₂H₃,₋₂+1/2H₋₃,₋₂G₃,₋₂-1/4H₋₂,₃H₋₃,₋₃H₃,₋₂+1/2H₋₂,₃H₋₃,₋₃G₃,₋₂-G₋₂,₃G₋₃,₋₂+G₃,₋₂G₋₃,₋₂-1/2G₃,₋₂H₋₃,₋₃H₋₂,₃+1/2H₋₂,₃G₋₃,₋₂+G₋₂,₃H₋₃,₋₃G₋₂,₃-G₋₃,₋₂G₋₂,₃-1/4H₃,₋₂H₋₂,₋₃-1/2H₃,₋₂H₋₃,₋₃G₋₂,₃,\n",
       "  1/2G₋₂,₃H₋₃,₋₂H₋₁,₂-1/2H₃,₋₂G₋₂,₋₃H₋₁,₂-1/2G₃,₋₂H₋₃,₋₃H₃,₋₂H₋₁,₂-H₋₂,₋₂H₋₁,₂-1/4H₋₂,₃H₋₃,₋₂H₋₁,₂-1/2G₃,₋₂H₋₃,₋₂H₋₁,₂-1/2H₋₂,₋₃G₋₂,₃H₋₁,₂+1/2G₋₂,₃H₋₃,₋₃H₋₂,₃H₋₁,₂+G₋₂,₋₃G₋₂,₃H₋₁,₂-1/2G₋₃,₋₂H₋₂,₃H₋₁,₂+G₃,₋₂H₋₃,₋₃G₃,₋₂H₋₁,₂-1/2H₋₃,₋₂G₋₂,₃H₋₁,₂-1/4H₃,₋₂H₋₃,₋₃H₋₂,₃H₋₁,₂-1/2G₋₃,₋₂H₃,₋₂H₋₁,₂-1/2H₋₂,₃H₋₃,₋₃G₋₂,₃H₋₁,₂+1/2G₋₂,₃H₋₂,₋₃H₋₁,₂+1/2G₋₂,₃H₋₃,₋₃H₃,₋₂H₋₁,₂-G₋₂,₃H₋₃,₋₃G₃,₋₂H₋₁,₂-1/4H₋₂,₋₃H₋₂,₃H₋₁,₂-1/4H₋₂,₃H₋₂,₋₃H₋₁,₂-1/2G₃,₋₂H₋₂,₋₃H₋₁,₂+1/2H₃,₋₂G₋₃,₋₂H₋₁,₂+G₋₂,₃G₋₂,₋₃H₋₁,₂+1/2G₋₂,₋₃H₋₂,₃H₋₁,₂+G₋₃,₋₂G₃,₋₂H₋₁,₂-1/2H₋₂,₃G₋₂,₋₃H₋₁,₂-G₃,₋₂G₋₂,₋₃H₋₁,₂-1/4H₃,₋₂H₋₃,₋₃H₃,₋₂H₋₁,₂+1/2H₃,₋₂H₋₃,₋₃G₃,₋₂H₋₁,₂-1/4H₋₃,₋₂H₋₂,₃H₋₁,₂-1/4H₋₂,₃H₋₃,₋₃H₋₂,₃H₋₁,₂-1/4H₋₂,₋₃H₃,₋₂H₋₁,₂+1/2G₋₂,₋₃H₃,₋₂H₋₁,₂-G₃,₋₂H₋₃,₋₃G₋₂,₃H₋₁,₂+1/2H₋₂,₋₃G₃,₋₂H₋₁,₂-G₋₂,₋₃G₃,₋₂H₋₁,₂-1/4H₃,₋₂H₋₃,₋₂H₋₁,₂-1/4H₋₃,₋₂H₃,₋₂H₋₁,₂+1/2H₋₃,₋₂G₃,₋₂H₋₁,₂-1/4H₋₂,₃H₋₃,₋₃H₃,₋₂H₋₁,₂+1/2H₋₂,₃H₋₃,₋₃G₃,₋₂H₋₁,₂-G₋₂,₃G₋₃,₋₂H₋₁,₂+G₃,₋₂G₋₃,₋₂H₋₁,₂-1/2G₃,₋₂H₋₃,₋₃H₋₂,₃H₋₁,₂+1/2H₋₂,₃G₋₃,₋₂H₋₁,₂+G₋₂,₃H₋₃,₋₃G₋₂,₃H₋₁,₂-G₋₃,₋₂G₋₂,₃H₋₁,₂-1/4H₃,₋₂H₋₂,₋₃H₋₁,₂-1/2H₃,₋₂H₋₃,₋₃G₋₂,₃H₋₁,₂),\n",
       " (G₋₁,₃,\n",
       "  -1/2H₋₂,₋₃-1/2H₋₂,₃H₋₃,₋₃-G₃,₋₂H₋₃,₋₃-1/2H₃,₋₂H₋₃,₋₃-1/2H₋₃,₋₂+G₋₂,₋₃+G₋₂,₃H₋₃,₋₃-G₋₃,₋₂,\n",
       "  -1/2H₋₂,₋₃G₋₁,₃-1/2H₋₂,₃H₋₃,₋₃G₋₁,₃-G₃,₋₂H₋₃,₋₃G₋₁,₃-1/2H₃,₋₂H₋₃,₋₃G₋₁,₃-1/2H₋₃,₋₂G₋₁,₃+G₋₂,₋₃G₋₁,₃+G₋₂,₃H₋₃,₋₃G₋₁,₃-G₋₃,₋₂G₋₁,₃),\n",
       " (H₋₁,₃,\n",
       "  -1/4H₋₂,₋₃-1/4H₋₂,₃H₋₃,₋₃-1/2G₃,₋₂H₋₃,₋₃-1/4H₃,₋₂H₋₃,₋₃-1/4H₋₃,₋₂+1/2G₋₂,₋₃+1/2G₋₂,₃H₋₃,₋₃-1/2G₋₃,₋₂,\n",
       "  -1/4H₋₂,₋₃H₋₁,₃-1/4H₋₂,₃H₋₃,₋₃H₋₁,₃-1/2G₃,₋₂H₋₃,₋₃H₋₁,₃-1/4H₃,₋₂H₋₃,₋₃H₋₁,₃-1/4H₋₃,₋₂H₋₁,₃+1/2G₋₂,₋₃H₋₁,₃+1/2G₋₂,₃H₋₃,₋₃H₋₁,₃-1/2G₋₃,₋₂H₋₁,₃),\n",
       " (H₂,₋₁,\n",
       "  1/2G₋₂,₃H₋₃,₋₂-1/2H₃,₋₂G₋₂,₋₃-1/2G₃,₋₂H₋₃,₋₃H₃,₋₂-H₋₂,₋₂-1/4H₋₂,₃H₋₃,₋₂-1/2G₃,₋₂H₋₃,₋₂-1/2H₋₂,₋₃G₋₂,₃+1/2G₋₂,₃H₋₃,₋₃H₋₂,₃+G₋₂,₋₃G₋₂,₃-1/2G₋₃,₋₂H₋₂,₃+G₃,₋₂H₋₃,₋₃G₃,₋₂-1/2H₋₃,₋₂G₋₂,₃-1/4H₃,₋₂H₋₃,₋₃H₋₂,₃-1/2G₋₃,₋₂H₃,₋₂-1/2H₋₂,₃H₋₃,₋₃G₋₂,₃+1/2G₋₂,₃H₋₂,₋₃+1/2G₋₂,₃H₋₃,₋₃H₃,₋₂-G₋₂,₃H₋₃,₋₃G₃,₋₂-1/4H₋₂,₋₃H₋₂,₃-1/4H₋₂,₃H₋₂,₋₃-1/2G₃,₋₂H₋₂,₋₃+1/2H₃,₋₂G₋₃,₋₂+G₋₂,₃G₋₂,₋₃+1/2G₋₂,₋₃H₋₂,₃+G₋₃,₋₂G₃,₋₂-1/2H₋₂,₃G₋₂,₋₃-G₃,₋₂G₋₂,₋₃-1/4H₃,₋₂H₋₃,₋₃H₃,₋₂+1/2H₃,₋₂H₋₃,₋₃G₃,₋₂-1/4H₋₃,₋₂H₋₂,₃-1/4H₋₂,₃H₋₃,₋₃H₋₂,₃-1/4H₋₂,₋₃H₃,₋₂+1/2G₋₂,₋₃H₃,₋₂-G₃,₋₂H₋₃,₋₃G₋₂,₃+1/2H₋₂,₋₃G₃,₋₂-G₋₂,₋₃G₃,₋₂-1/4H₃,₋₂H₋₃,₋₂-1/4H₋₃,₋₂H₃,₋₂+1/2H₋₃,₋₂G₃,₋₂-1/4H₋₂,₃H₋₃,₋₃H₃,₋₂+1/2H₋₂,₃H₋₃,₋₃G₃,₋₂-G₋₂,₃G₋₃,₋₂+G₃,₋₂G₋₃,₋₂-1/2G₃,₋₂H₋₃,₋₃H₋₂,₃+1/2H₋₂,₃G₋₃,₋₂+G₋₂,₃H₋₃,₋₃G₋₂,₃-G₋₃,₋₂G₋₂,₃-1/4H₃,₋₂H₋₂,₋₃-1/2H₃,₋₂H₋₃,₋₃G₋₂,₃,\n",
       "  1/2G₋₂,₃H₋₃,₋₂H₂,₋₁-1/2H₃,₋₂G₋₂,₋₃H₂,₋₁-1/2G₃,₋₂H₋₃,₋₃H₃,₋₂H₂,₋₁-H₋₂,₋₂H₂,₋₁-1/4H₋₂,₃H₋₃,₋₂H₂,₋₁-1/2G₃,₋₂H₋₃,₋₂H₂,₋₁-1/2H₋₂,₋₃G₋₂,₃H₂,₋₁+1/2G₋₂,₃H₋₃,₋₃H₋₂,₃H₂,₋₁+G₋₂,₋₃G₋₂,₃H₂,₋₁-1/2G₋₃,₋₂H₋₂,₃H₂,₋₁+G₃,₋₂H₋₃,₋₃G₃,₋₂H₂,₋₁-1/2H₋₃,₋₂G₋₂,₃H₂,₋₁-1/4H₃,₋₂H₋₃,₋₃H₋₂,₃H₂,₋₁-1/2G₋₃,₋₂H₃,₋₂H₂,₋₁-1/2H₋₂,₃H₋₃,₋₃G₋₂,₃H₂,₋₁+1/2G₋₂,₃H₋₂,₋₃H₂,₋₁+1/2G₋₂,₃H₋₃,₋₃H₃,₋₂H₂,₋₁-G₋₂,₃H₋₃,₋₃G₃,₋₂H₂,₋₁-1/4H₋₂,₋₃H₋₂,₃H₂,₋₁-1/4H₋₂,₃H₋₂,₋₃H₂,₋₁-1/2G₃,₋₂H₋₂,₋₃H₂,₋₁+1/2H₃,₋₂G₋₃,₋₂H₂,₋₁+G₋₂,₃G₋₂,₋₃H₂,₋₁+1/2G₋₂,₋₃H₋₂,₃H₂,₋₁+G₋₃,₋₂G₃,₋₂H₂,₋₁-1/2H₋₂,₃G₋₂,₋₃H₂,₋₁-G₃,₋₂G₋₂,₋₃H₂,₋₁-1/4H₃,₋₂H₋₃,₋₃H₃,₋₂H₂,₋₁+1/2H₃,₋₂H₋₃,₋₃G₃,₋₂H₂,₋₁-1/4H₋₃,₋₂H₋₂,₃H₂,₋₁-1/4H₋₂,₃H₋₃,₋₃H₋₂,₃H₂,₋₁-1/4H₋₂,₋₃H₃,₋₂H₂,₋₁+1/2G₋₂,₋₃H₃,₋₂H₂,₋₁-G₃,₋₂H₋₃,₋₃G₋₂,₃H₂,₋₁+1/2H₋₂,₋₃G₃,₋₂H₂,₋₁-G₋₂,₋₃G₃,₋₂H₂,₋₁-1/4H₃,₋₂H₋₃,₋₂H₂,₋₁-1/4H₋₃,₋₂H₃,₋₂H₂,₋₁+1/2H₋₃,₋₂G₃,₋₂H₂,₋₁-1/4H₋₂,₃H₋₃,₋₃H₃,₋₂H₂,₋₁+1/2H₋₂,₃H₋₃,₋₃G₃,₋₂H₂,₋₁-G₋₂,₃G₋₃,₋₂H₂,₋₁+G₃,₋₂G₋₃,₋₂H₂,₋₁-1/2G₃,₋₂H₋₃,₋₃H₋₂,₃H₂,₋₁+1/2H₋₂,₃G₋₃,₋₂H₂,₋₁+G₋₂,₃H₋₃,₋₃G₋₂,₃H₂,₋₁-G₋₃,₋₂G₋₂,₃H₂,₋₁-1/4H₃,₋₂H₋₂,₋₃H₂,₋₁-1/2H₃,₋₂H₋₃,₋₃G₋₂,₃H₂,₋₁),\n",
       " (G₃,₋₂,\n",
       "  1/2H₋₃,₋₂G₂,₋₁-1/4H₋₂,₃H₋₃,₋₃H₂,₋₁-1/4H₋₃,₋₂H₋₁,₂+1/2H₋₂,₃H₋₃,₋₃G₂,₋₁-1/2G₋₂,₃H₂,₋₁H₋₃,₋₃+1/4H₃,₋₂H₂,₋₁H₋₃,₋₃-1/2H₋₃,₋₂G₋₁,₂-1/4H₋₂,₃H₋₃,₋₃H₋₁,₂-1/2H₃,₋₁H₋₃,₋₃-1/2H₋₂,₃H₋₃,₋₃G₋₁,₂+G₃,₋₂G₂,₋₁H₋₃,₋₃+1/2G₃,₋₂H₋₁,₂H₋₃,₋₃-G₃,₋₂G₋₁,₂H₋₃,₋₃-1/2G₃,₋₂H₋₃,₋₃H₂,₋₁-G₋₂,₃G₂,₋₁H₋₃,₋₃+G₃,₋₂H₋₃,₋₃G₂,₋₁-G₋₃,₋₁-1/2G₋₂,₃H₋₁,₂H₋₃,₋₃-1/2G₃,₋₂H₋₃,₋₃H₋₁,₂+G₋₂,₃G₋₁,₂H₋₃,₋₃-G₃,₋₂H₋₃,₋₃G₋₁,₂+1/2H₃,₋₂G₂,₋₁H₋₃,₋₃+1/2G₋₂,₃H₋₃,₋₃H₂,₋₁+1/4H₋₂,₃H₂,₋₁H₋₃,₋₃+1/4H₃,₋₂H₋₁,₂H₋₃,₋₃-1/2H₋₃,₋₁-1/2G₋₃,₋₂H₂,₋₁-1/2H₃,₋₂G₋₁,₂H₋₃,₋₃+G₋₁,₃H₋₃,₋₃-G₃,₋₁H₋₃,₋₃-G₋₂,₃H₋₃,₋₃G₂,₋₁-1/2G₋₃,₋₂H₋₁,₂+G₋₁,₋₃-1/2H₋₁,₃H₋₃,₋₃+1/2G₋₂,₃H₋₃,₋₃H₋₁,₂+G₋₃,₋₂G₂,₋₁-1/4H₃,₋₂H₋₃,₋₃H₂,₋₁+G₋₂,₃H₋₃,₋₃G₋₁,₂+1/2H₃,₋₂H₋₃,₋₃G₂,₋₁-G₋₃,₋₂G₋₁,₂+1/2H₋₂,₃G₂,₋₁H₋₃,₋₃-1/4H₃,₋₂H₋₃,₋₃H₋₁,₂-1/4H₋₂,₋₃H₂,₋₁+1/2G₃,₋₂H₂,₋₁H₋₃,₋₃+1/2H₋₂,₋₃G₂,₋₁-1/2H₋₂,₃G₋₁,₂H₋₃,₋₃+1/2G₋₂,₋₃H₂,₋₁+1/4H₋₂,₃H₋₁,₂H₋₃,₋₃-1/2H₋₁,₋₃-1/2H₃,₋₂H₋₃,₋₃G₋₁,₂-1/4H₋₂,₋₃H₋₁,₂+1/2G₋₂,₋₃H₋₁,₂-G₋₂,₋₃G₂,₋₁-1/4H₋₃,₋₂H₂,₋₁-1/2H₋₂,₋₃G₋₁,₂+G₋₂,₋₃G₋₁,₂,\n",
       "  1/2H₋₃,₋₂G₂,₋₁G₃,₋₂-1/4H₋₂,₃H₋₃,₋₃H₂,₋₁G₃,₋₂-1/4H₋₃,₋₂H₋₁,₂G₃,₋₂+1/2H₋₂,₃H₋₃,₋₃G₂,₋₁G₃,₋₂-1/2G₋₂,₃H₂,₋₁H₋₃,₋₃G₃,₋₂+1/4H₃,₋₂H₂,₋₁H₋₃,₋₃G₃,₋₂-1/2H₋₃,₋₂G₋₁,₂G₃,₋₂-1/4H₋₂,₃H₋₃,₋₃H₋₁,₂G₃,₋₂-1/2H₃,₋₁H₋₃,₋₃G₃,₋₂-1/2H₋₂,₃H₋₃,₋₃G₋₁,₂G₃,₋₂+G₃,₋₂G₂,₋₁H₋₃,₋₃G₃,₋₂+1/2G₃,₋₂H₋₁,₂H₋₃,₋₃G₃,₋₂-G₃,₋₂G₋₁,₂H₋₃,₋₃G₃,₋₂-1/2G₃,₋₂H₋₃,₋₃H₂,₋₁G₃,₋₂-G₋₂,₃G₂,₋₁H₋₃,₋₃G₃,₋₂+G₃,₋₂H₋₃,₋₃G₂,₋₁G₃,₋₂-G₋₃,₋₁G₃,₋₂-1/2G₋₂,₃H₋₁,₂H₋₃,₋₃G₃,₋₂-1/2G₃,₋₂H₋₃,₋₃H₋₁,₂G₃,₋₂+G₋₂,₃G₋₁,₂H₋₃,₋₃G₃,₋₂-G₃,₋₂H₋₃,₋₃G₋₁,₂G₃,₋₂+1/2H₃,₋₂G₂,₋₁H₋₃,₋₃G₃,₋₂+1/2G₋₂,₃H₋₃,₋₃H₂,₋₁G₃,₋₂+1/4H₋₂,₃H₂,₋₁H₋₃,₋₃G₃,₋₂+1/4H₃,₋₂H₋₁,₂H₋₃,₋₃G₃,₋₂-1/2H₋₃,₋₁G₃,₋₂-1/2G₋₃,₋₂H₂,₋₁G₃,₋₂-1/2H₃,₋₂G₋₁,₂H₋₃,₋₃G₃,₋₂+G₋₁,₃H₋₃,₋₃G₃,₋₂-G₃,₋₁H₋₃,₋₃G₃,₋₂-G₋₂,₃H₋₃,₋₃G₂,₋₁G₃,₋₂-1/2G₋₃,₋₂H₋₁,₂G₃,₋₂+G₋₁,₋₃G₃,₋₂-1/2H₋₁,₃H₋₃,₋₃G₃,₋₂+1/2G₋₂,₃H₋₃,₋₃H₋₁,₂G₃,₋₂+G₋₃,₋₂G₂,₋₁G₃,₋₂-1/4H₃,₋₂H₋₃,₋₃H₂,₋₁G₃,₋₂+G₋₂,₃H₋₃,₋₃G₋₁,₂G₃,₋₂+1/2H₃,₋₂H₋₃,₋₃G₂,₋₁G₃,₋₂-G₋₃,₋₂G₋₁,₂G₃,₋₂+1/2H₋₂,₃G₂,₋₁H₋₃,₋₃G₃,₋₂-1/4H₃,₋₂H₋₃,₋₃H₋₁,₂G₃,₋₂-1/4H₋₂,₋₃H₂,₋₁G₃,₋₂+1/2G₃,₋₂H₂,₋₁H₋₃,₋₃G₃,₋₂+1/2H₋₂,₋₃G₂,₋₁G₃,₋₂-1/2H₋₂,₃G₋₁,₂H₋₃,₋₃G₃,₋₂+1/2G₋₂,₋₃H₂,₋₁G₃,₋₂+1/4H₋₂,₃H₋₁,₂H₋₃,₋₃G₃,₋₂-1/2H₋₁,₋₃G₃,₋₂-1/2H₃,₋₂H₋₃,₋₃G₋₁,₂G₃,₋₂-1/4H₋₂,₋₃H₋₁,₂G₃,₋₂+1/2G₋₂,₋₃H₋₁,₂G₃,₋₂-G₋₂,₋₃G₂,₋₁G₃,₋₂-1/4H₋₃,₋₂H₂,₋₁G₃,₋₂-1/2H₋₂,₋₃G₋₁,₂G₃,₋₂+G₋₂,₋₃G₋₁,₂G₃,₋₂),\n",
       " (H₃,₋₂,\n",
       "  -1/4H₋₃,₋₂G₂,₋₁-1/8H₋₂,₃H₋₃,₋₃H₂,₋₁-1/8H₋₃,₋₂H₋₁,₂-1/4H₋₂,₃H₋₃,₋₃G₂,₋₁+3/8G₋₂,₃H₂,₋₁H₋₃,₋₃-3/16H₃,₋₂H₂,₋₁H₋₃,₋₃+1/4H₋₃,₋₂G₋₁,₂-1/8H₋₂,₃H₋₃,₋₃H₋₁,₂+3/8H₃,₋₁H₋₃,₋₃+1/4H₋₂,₃H₋₃,₋₃G₋₁,₂-3/4G₃,₋₂G₂,₋₁H₋₃,₋₃-3/8G₃,₋₂H₋₁,₂H₋₃,₋₃+3/4G₃,₋₂G₋₁,₂H₋₃,₋₃-1/4G₃,₋₂H₋₃,₋₃H₂,₋₁+3/4G₋₂,₃G₂,₋₁H₋₃,₋₃-1/2G₃,₋₂H₋₃,₋₃G₂,₋₁+1/2G₋₃,₋₁+3/8G₋₂,₃H₋₁,₂H₋₃,₋₃-1/4G₃,₋₂H₋₃,₋₃H₋₁,₂-3/4G₋₂,₃G₋₁,₂H₋₃,₋₃+1/2G₃,₋₂H₋₃,₋₃G₋₁,₂-3/8H₃,₋₂G₂,₋₁H₋₃,₋₃+1/4G₋₂,₃H₋₃,₋₃H₂,₋₁-3/16H₋₂,₃H₂,₋₁H₋₃,₋₃-3/16H₃,₋₂H₋₁,₂H₋₃,₋₃+1/4H₋₃,₋₁-1/4G₋₃,₋₂H₂,₋₁+3/8H₃,₋₂G₋₁,₂H₋₃,₋₃-3/4G₋₁,₃H₋₃,₋₃+3/4G₃,₋₁H₋₃,₋₃+1/2G₋₂,₃H₋₃,₋₃G₂,₋₁-1/4G₋₃,₋₂H₋₁,₂-1/2G₋₁,₋₃+3/8H₋₁,₃H₋₃,₋₃+1/4G₋₂,₃H₋₃,₋₃H₋₁,₂-1/2G₋₃,₋₂G₂,₋₁-1/8H₃,₋₂H₋₃,₋₃H₂,₋₁-1/2G₋₂,₃H₋₃,₋₃G₋₁,₂-1/4H₃,₋₂H₋₃,₋₃G₂,₋₁+1/2G₋₃,₋₂G₋₁,₂-3/8H₋₂,₃G₂,₋₁H₋₃,₋₃-1/8H₃,₋₂H₋₃,₋₃H₋₁,₂-1/8H₋₂,₋₃H₂,₋₁-3/8G₃,₋₂H₂,₋₁H₋₃,₋₃-1/4H₋₂,₋₃G₂,₋₁+3/8H₋₂,₃G₋₁,₂H₋₃,₋₃+1/4G₋₂,₋₃H₂,₋₁-3/16H₋₂,₃H₋₁,₂H₋₃,₋₃+1/4H₋₁,₋₃+1/4H₃,₋₂H₋₃,₋₃G₋₁,₂-1/8H₋₂,₋₃H₋₁,₂+1/4G₋₂,₋₃H₋₁,₂+1/2G₋₂,₋₃G₂,₋₁-1/8H₋₃,₋₂H₂,₋₁+1/4H₋₂,₋₃G₋₁,₂-1/2G₋₂,₋₃G₋₁,₂,\n",
       "  -1/4H₋₃,₋₂G₂,₋₁H₃,₋₂-1/8H₋₂,₃H₋₃,₋₃H₂,₋₁H₃,₋₂-1/8H₋₃,₋₂H₋₁,₂H₃,₋₂-1/4H₋₂,₃H₋₃,₋₃G₂,₋₁H₃,₋₂+3/8G₋₂,₃H₂,₋₁H₋₃,₋₃H₃,₋₂-3/16H₃,₋₂H₂,₋₁H₋₃,₋₃H₃,₋₂+1/4H₋₃,₋₂G₋₁,₂H₃,₋₂-1/8H₋₂,₃H₋₃,₋₃H₋₁,₂H₃,₋₂+3/8H₃,₋₁H₋₃,₋₃H₃,₋₂+1/4H₋₂,₃H₋₃,₋₃G₋₁,₂H₃,₋₂-3/4G₃,₋₂G₂,₋₁H₋₃,₋₃H₃,₋₂-3/8G₃,₋₂H₋₁,₂H₋₃,₋₃H₃,₋₂+3/4G₃,₋₂G₋₁,₂H₋₃,₋₃H₃,₋₂-1/4G₃,₋₂H₋₃,₋₃H₂,₋₁H₃,₋₂+3/4G₋₂,₃G₂,₋₁H₋₃,₋₃H₃,₋₂-1/2G₃,₋₂H₋₃,₋₃G₂,₋₁H₃,₋₂+1/2G₋₃,₋₁H₃,₋₂+3/8G₋₂,₃H₋₁,₂H₋₃,₋₃H₃,₋₂-1/4G₃,₋₂H₋₃,₋₃H₋₁,₂H₃,₋₂-3/4G₋₂,₃G₋₁,₂H₋₃,₋₃H₃,₋₂+1/2G₃,₋₂H₋₃,₋₃G₋₁,₂H₃,₋₂-3/8H₃,₋₂G₂,₋₁H₋₃,₋₃H₃,₋₂+1/4G₋₂,₃H₋₃,₋₃H₂,₋₁H₃,₋₂-3/16H₋₂,₃H₂,₋₁H₋₃,₋₃H₃,₋₂-3/16H₃,₋₂H₋₁,₂H₋₃,₋₃H₃,₋₂+1/4H₋₃,₋₁H₃,₋₂-1/4G₋₃,₋₂H₂,₋₁H₃,₋₂+3/8H₃,₋₂G₋₁,₂H₋₃,₋₃H₃,₋₂-3/4G₋₁,₃H₋₃,₋₃H₃,₋₂+3/4G₃,₋₁H₋₃,₋₃H₃,₋₂+1/2G₋₂,₃H₋₃,₋₃G₂,₋₁H₃,₋₂-1/4G₋₃,₋₂H₋₁,₂H₃,₋₂-1/2G₋₁,₋₃H₃,₋₂+3/8H₋₁,₃H₋₃,₋₃H₃,₋₂+1/4G₋₂,₃H₋₃,₋₃H₋₁,₂H₃,₋₂-1/2G₋₃,₋₂G₂,₋₁H₃,₋₂-1/8H₃,₋₂H₋₃,₋₃H₂,₋₁H₃,₋₂-1/2G₋₂,₃H₋₃,₋₃G₋₁,₂H₃,₋₂-1/4H₃,₋₂H₋₃,₋₃G₂,₋₁H₃,₋₂+1/2G₋₃,₋₂G₋₁,₂H₃,₋₂-3/8H₋₂,₃G₂,₋₁H₋₃,₋₃H₃,₋₂-1/8H₃,₋₂H₋₃,₋₃H₋₁,₂H₃,₋₂-1/8H₋₂,₋₃H₂,₋₁H₃,₋₂-3/8G₃,₋₂H₂,₋₁H₋₃,₋₃H₃,₋₂-1/4H₋₂,₋₃G₂,₋₁H₃,₋₂+3/8H₋₂,₃G₋₁,₂H₋₃,₋₃H₃,₋₂+1/4G₋₂,₋₃H₂,₋₁H₃,₋₂-3/16H₋₂,₃H₋₁,₂H₋₃,₋₃H₃,₋₂+1/4H₋₁,₋₃H₃,₋₂+1/4H₃,₋₂H₋₃,₋₃G₋₁,₂H₃,₋₂-1/8H₋₂,₋₃H₋₁,₂H₃,₋₂+1/4G₋₂,₋₃H₋₁,₂H₃,₋₂+1/2G₋₂,₋₃G₂,₋₁H₃,₋₂-1/8H₋₃,₋₂H₂,₋₁H₃,₋₂+1/4H₋₂,₋₃G₋₁,₂H₃,₋₂-1/2G₋₂,₋₃G₋₁,₂H₃,₋₂),\n",
       " (G₃,₋₁,\n",
       "  1/2H₋₂,₋₃+1/2H₋₂,₃H₋₃,₋₃+G₃,₋₂H₋₃,₋₃+1/2H₃,₋₂H₋₃,₋₃+1/2H₋₃,₋₂-G₋₂,₋₃-G₋₂,₃H₋₃,₋₃+G₋₃,₋₂,\n",
       "  1/2H₋₂,₋₃G₃,₋₁+1/2H₋₂,₃H₋₃,₋₃G₃,₋₁+G₃,₋₂H₋₃,₋₃G₃,₋₁+1/2H₃,₋₂H₋₃,₋₃G₃,₋₁+1/2H₋₃,₋₂G₃,₋₁-G₋₂,₋₃G₃,₋₁-G₋₂,₃H₋₃,₋₃G₃,₋₁+G₋₃,₋₂G₃,₋₁),\n",
       " (H₃,₋₁,\n",
       "  -1/4H₋₂,₋₃-1/4H₋₂,₃H₋₃,₋₃-1/2G₃,₋₂H₋₃,₋₃-1/4H₃,₋₂H₋₃,₋₃-1/4H₋₃,₋₂+1/2G₋₂,₋₃+1/2G₋₂,₃H₋₃,₋₃-1/2G₋₃,₋₂,\n",
       "  -1/4H₋₂,₋₃H₃,₋₁-1/4H₋₂,₃H₋₃,₋₃H₃,₋₁-1/2G₃,₋₂H₋₃,₋₃H₃,₋₁-1/4H₃,₋₂H₋₃,₋₃H₃,₋₁-1/4H₋₃,₋₂H₃,₋₁+1/2G₋₂,₋₃H₃,₋₁+1/2G₋₂,₃H₋₃,₋₃H₃,₋₁-1/2G₋₃,₋₂H₃,₋₁)]"
      ]
     },
     "execution_count": 13,
     "metadata": {},
     "output_type": "execute_result"
    }
   ],
   "source": [
    "A[3]"
   ]
  },
  {
   "cell_type": "code",
   "execution_count": 11,
   "metadata": {},
   "outputs": [
    {
     "data": {
      "text/plain": [
       "{(): 1,\n",
       " (('Hll', -2, 1),): 0,\n",
       " (('Gll', -3, 2),): -1/2H₃,₋₂-G₃,₋₂+G₋₂,₃-1/2H₋₂,₃,\n",
       " (('Hll', -3, 2),): 1/4H₃,₋₂+1/2G₃,₋₂-1/2G₋₂,₃+1/4H₋₂,₃,\n",
       " (('Hll', 2, -3),): 1/4H₃,₋₂+1/2G₃,₋₂-1/2G₋₂,₃+1/4H₋₂,₃,\n",
       " (('Hll', 1, -2),): 0,\n",
       " (('Gll',\n",
       "   -3,\n",
       "   1),): -G₃,₋₁+G₋₁,₃-1/2G₋₂,₃H₂,₋₁+1/4H₋₂,₃H₂,₋₁+1/2G₃,₋₂H₂,₋₁-G₋₂,₃G₂,₋₁+G₃,₋₂G₂,₋₁-1/2G₋₂,₃H₋₁,₂+1/2G₃,₋₂H₋₁,₂+1/2H₋₂,₃G₂,₋₁-1/2H₋₁,₃+1/4H₃,₋₂H₂,₋₁+1/4H₋₂,₃H₋₁,₂+1/2H₃,₋₂G₂,₋₁+G₋₂,₃G₋₁,₂-G₃,₋₂G₋₁,₂+1/4H₃,₋₂H₋₁,₂-1/2H₋₂,₃G₋₁,₂-1/2H₃,₋₂G₋₁,₂-1/2H₃,₋₁,\n",
       " (('Hll',\n",
       "   -3,\n",
       "   1),): 1/2G₃,₋₁-1/2G₋₁,₃+1/4G₋₂,₃H₂,₋₁-1/8H₋₂,₃H₂,₋₁-1/4G₃,₋₂H₂,₋₁+1/2G₋₂,₃G₂,₋₁-1/2G₃,₋₂G₂,₋₁+1/4G₋₂,₃H₋₁,₂-1/4G₃,₋₂H₋₁,₂-1/4H₋₂,₃G₂,₋₁+1/4H₋₁,₃-1/8H₃,₋₂H₂,₋₁-1/8H₋₂,₃H₋₁,₂-1/4H₃,₋₂G₂,₋₁-1/2G₋₂,₃G₋₁,₂+1/2G₃,₋₂G₋₁,₂-1/8H₃,₋₂H₋₁,₂+1/4H₋₂,₃G₋₁,₂+1/4H₃,₋₂G₋₁,₂+1/4H₃,₋₁,\n",
       " (('Hll',\n",
       "   1,\n",
       "   -3),): 1/2G₃,₋₁-1/2G₋₁,₃+1/4G₋₂,₃H₂,₋₁-1/8H₋₂,₃H₂,₋₁-1/4G₃,₋₂H₂,₋₁+1/2G₋₂,₃G₂,₋₁-1/2G₃,₋₂G₂,₋₁+1/4G₋₂,₃H₋₁,₂-1/4G₃,₋₂H₋₁,₂-1/4H₋₂,₃G₂,₋₁+1/4H₋₁,₃-1/8H₃,₋₂H₂,₋₁-1/8H₋₂,₃H₋₁,₂-1/4H₃,₋₂G₂,₋₁-1/2G₋₂,₃G₋₁,₂+1/2G₃,₋₂G₋₁,₂-1/8H₃,₋₂H₋₁,₂+1/4H₋₂,₃G₋₁,₂+1/4H₃,₋₂G₋₁,₂+1/4H₃,₋₁,\n",
       " (('Hll', 3, 3),): 0,\n",
       " (('Gll',\n",
       "   2,\n",
       "   3),): 1/2H₋₂,₋₃+1/2H₋₂,₃H₋₃,₋₃+G₃,₋₂H₋₃,₋₃+1/2H₃,₋₂H₋₃,₋₃+1/2H₋₃,₋₂-G₋₂,₋₃-G₋₂,₃H₋₃,₋₃+G₋₃,₋₂,\n",
       " (('Hll',\n",
       "   3,\n",
       "   2),): 1/4H₋₂,₋₃+1/4H₋₂,₃H₋₃,₋₃+1/2G₃,₋₂H₋₃,₋₃+1/4H₃,₋₂H₋₃,₋₃+1/4H₋₃,₋₂-1/2G₋₂,₋₃-1/2G₋₂,₃H₋₃,₋₃+1/2G₋₃,₋₂,\n",
       " (('Hll',\n",
       "   2,\n",
       "   3),): 1/4H₋₂,₋₃+1/4H₋₂,₃H₋₃,₋₃+1/2G₃,₋₂H₋₃,₋₃+1/4H₃,₋₂H₋₃,₋₃+1/4H₋₃,₋₂-1/2G₋₂,₋₃-1/2G₋₂,₃H₋₃,₋₃+1/2G₋₃,₋₂,\n",
       " (('Gll',\n",
       "   1,\n",
       "   3),): -1/2H₋₃,₋₂G₂,₋₁+1/4H₋₂,₃H₋₃,₋₃H₂,₋₁+1/4H₋₃,₋₂H₋₁,₂-1/2H₋₂,₃H₋₃,₋₃G₂,₋₁+1/2G₋₂,₃H₂,₋₁H₋₃,₋₃-1/4H₃,₋₂H₂,₋₁H₋₃,₋₃+1/2H₋₃,₋₂G₋₁,₂+1/4H₋₂,₃H₋₃,₋₃H₋₁,₂+1/2H₃,₋₁H₋₃,₋₃+1/2H₋₂,₃H₋₃,₋₃G₋₁,₂-G₃,₋₂G₂,₋₁H₋₃,₋₃-1/2G₃,₋₂H₋₁,₂H₋₃,₋₃+G₃,₋₂G₋₁,₂H₋₃,₋₃+1/2G₃,₋₂H₋₃,₋₃H₂,₋₁+G₋₂,₃G₂,₋₁H₋₃,₋₃-G₃,₋₂H₋₃,₋₃G₂,₋₁+G₋₃,₋₁+1/2G₋₂,₃H₋₁,₂H₋₃,₋₃+1/2G₃,₋₂H₋₃,₋₃H₋₁,₂-G₋₂,₃G₋₁,₂H₋₃,₋₃+G₃,₋₂H₋₃,₋₃G₋₁,₂-1/2H₃,₋₂G₂,₋₁H₋₃,₋₃-1/2G₋₂,₃H₋₃,₋₃H₂,₋₁-1/4H₋₂,₃H₂,₋₁H₋₃,₋₃-1/4H₃,₋₂H₋₁,₂H₋₃,₋₃+1/2H₋₃,₋₁+1/2G₋₃,₋₂H₂,₋₁+1/2H₃,₋₂G₋₁,₂H₋₃,₋₃-G₋₁,₃H₋₃,₋₃+G₃,₋₁H₋₃,₋₃+G₋₂,₃H₋₃,₋₃G₂,₋₁+1/2G₋₃,₋₂H₋₁,₂-G₋₁,₋₃+1/2H₋₁,₃H₋₃,₋₃-1/2G₋₂,₃H₋₃,₋₃H₋₁,₂-G₋₃,₋₂G₂,₋₁+1/4H₃,₋₂H₋₃,₋₃H₂,₋₁-G₋₂,₃H₋₃,₋₃G₋₁,₂-1/2H₃,₋₂H₋₃,₋₃G₂,₋₁+G₋₃,₋₂G₋₁,₂-1/2H₋₂,₃G₂,₋₁H₋₃,₋₃+1/4H₃,₋₂H₋₃,₋₃H₋₁,₂+1/4H₋₂,₋₃H₂,₋₁-1/2G₃,₋₂H₂,₋₁H₋₃,₋₃-1/2H₋₂,₋₃G₂,₋₁+1/2H₋₂,₃G₋₁,₂H₋₃,₋₃-1/2G₋₂,₋₃H₂,₋₁-1/4H₋₂,₃H₋₁,₂H₋₃,₋₃+1/2H₋₁,₋₃+1/2H₃,₋₂H₋₃,₋₃G₋₁,₂+1/4H₋₂,₋₃H₋₁,₂-1/2G₋₂,₋₃H₋₁,₂+G₋₂,₋₃G₂,₋₁+1/4H₋₃,₋₂H₂,₋₁+1/2H₋₂,₋₃G₋₁,₂-G₋₂,₋₃G₋₁,₂,\n",
       " (('Hll', 1, -2),\n",
       "  ('Gll',\n",
       "   -3,\n",
       "   2)): 1/2G₃,₋₁-1/2G₋₁,₃+1/4G₋₂,₃H₂,₋₁-1/8H₋₂,₃H₂,₋₁-1/4G₃,₋₂H₂,₋₁+1/2G₋₂,₃G₂,₋₁-1/2G₃,₋₂G₂,₋₁+1/4G₋₂,₃H₋₁,₂-1/4G₃,₋₂H₋₁,₂-1/4H₋₂,₃G₂,₋₁+1/4H₋₁,₃-1/8H₃,₋₂H₂,₋₁-1/8H₋₂,₃H₋₁,₂-1/4H₃,₋₂G₂,₋₁-1/2G₋₂,₃G₋₁,₂+1/2G₃,₋₂G₋₁,₂-1/8H₃,₋₂H₋₁,₂+1/4H₋₂,₃G₋₁,₂+1/4H₃,₋₂G₋₁,₂+1/4H₃,₋₁,\n",
       " (('Hll', 3, 3),\n",
       "  ('Gll',\n",
       "   -3,\n",
       "   2)): -1/2H₋₂,₋₃-1/2H₋₂,₃H₋₃,₋₃-G₃,₋₂H₋₃,₋₃-1/2H₃,₋₂H₋₃,₋₃-1/2H₋₃,₋₂+G₋₂,₋₃+G₋₂,₃H₋₃,₋₃-G₋₃,₋₂,\n",
       " (('Hll',\n",
       "   1,\n",
       "   3),): -1/4H₋₃,₋₂G₂,₋₁-1/8H₋₂,₃H₋₃,₋₃H₂,₋₁-3/8H₋₃,₋₂H₋₁,₂-1/4H₋₂,₃H₋₃,₋₃G₂,₋₁+3/8G₋₂,₃H₂,₋₁H₋₃,₋₃-3/16H₃,₋₂H₂,₋₁H₋₃,₋₃+1/4H₋₃,₋₂G₋₁,₂-3/8H₋₂,₃H₋₃,₋₃H₋₁,₂+3/8H₃,₋₁H₋₃,₋₃+1/4H₋₂,₃H₋₃,₋₃G₋₁,₂-3/4G₃,₋₂G₂,₋₁H₋₃,₋₃-3/8G₃,₋₂H₋₁,₂H₋₃,₋₃+3/4G₃,₋₂G₋₁,₂H₋₃,₋₃-1/4G₃,₋₂H₋₃,₋₃H₂,₋₁+3/4G₋₂,₃G₂,₋₁H₋₃,₋₃-1/2G₃,₋₂H₋₃,₋₃G₂,₋₁+1/2G₋₃,₋₁+3/8G₋₂,₃H₋₁,₂H₋₃,₋₃-3/4G₃,₋₂H₋₃,₋₃H₋₁,₂-3/4G₋₂,₃G₋₁,₂H₋₃,₋₃+1/2G₃,₋₂H₋₃,₋₃G₋₁,₂-3/8H₃,₋₂G₂,₋₁H₋₃,₋₃+1/4G₋₂,₃H₋₃,₋₃H₂,₋₁-3/16H₋₂,₃H₂,₋₁H₋₃,₋₃-3/16H₃,₋₂H₋₁,₂H₋₃,₋₃+1/4H₋₃,₋₁-1/4G₋₃,₋₂H₂,₋₁+3/8H₃,₋₂G₋₁,₂H₋₃,₋₃-3/4G₋₁,₃H₋₃,₋₃+3/4G₃,₋₁H₋₃,₋₃+1/2G₋₂,₃H₋₃,₋₃G₂,₋₁-3/4G₋₃,₋₂H₋₁,₂-1/2G₋₁,₋₃+3/8H₋₁,₃H₋₃,₋₃+3/4G₋₂,₃H₋₃,₋₃H₋₁,₂-1/2G₋₃,₋₂G₂,₋₁-1/8H₃,₋₂H₋₃,₋₃H₂,₋₁-1/2G₋₂,₃H₋₃,₋₃G₋₁,₂-1/4H₃,₋₂H₋₃,₋₃G₂,₋₁+1/2G₋₃,₋₂G₋₁,₂-3/8H₋₂,₃G₂,₋₁H₋₃,₋₃-3/8H₃,₋₂H₋₃,₋₃H₋₁,₂-1/8H₋₂,₋₃H₂,₋₁-3/8G₃,₋₂H₂,₋₁H₋₃,₋₃-1/4H₋₂,₋₃G₂,₋₁+3/8H₋₂,₃G₋₁,₂H₋₃,₋₃+1/4G₋₂,₋₃H₂,₋₁-3/16H₋₂,₃H₋₁,₂H₋₃,₋₃+1/4H₋₁,₋₃+1/4H₃,₋₂H₋₃,₋₃G₋₁,₂-3/8H₋₂,₋₃H₋₁,₂+3/4G₋₂,₋₃H₋₁,₂+1/2G₋₂,₋₃G₂,₋₁-1/8H₋₃,₋₂H₂,₋₁+1/4H₋₂,₋₃G₋₁,₂-1/2G₋₂,₋₃G₋₁,₂,\n",
       " (('Hll', -3, 2), ('Gll', -3, 2)): 0,\n",
       " (('Hll', 2, -3), ('Gll', -3, 2)): 0,\n",
       " (('Hll',\n",
       "   2,\n",
       "   2),): -1/2G₋₂,₃H₋₃,₋₂+1/2H₃,₋₂G₋₂,₋₃+1/2G₃,₋₂H₋₃,₋₃H₃,₋₂+H₋₂,₋₂+1/4H₋₂,₃H₋₃,₋₂+1/2G₃,₋₂H₋₃,₋₂+1/2H₋₂,₋₃G₋₂,₃-1/2G₋₂,₃H₋₃,₋₃H₋₂,₃-G₋₂,₋₃G₋₂,₃+1/2G₋₃,₋₂H₋₂,₃-G₃,₋₂H₋₃,₋₃G₃,₋₂+1/2H₋₃,₋₂G₋₂,₃+1/4H₃,₋₂H₋₃,₋₃H₋₂,₃+1/2G₋₃,₋₂H₃,₋₂+1/2H₋₂,₃H₋₃,₋₃G₋₂,₃-1/2G₋₂,₃H₋₂,₋₃-1/2G₋₂,₃H₋₃,₋₃H₃,₋₂+G₋₂,₃H₋₃,₋₃G₃,₋₂+1/4H₋₂,₋₃H₋₂,₃+1/4H₋₂,₃H₋₂,₋₃+1/2G₃,₋₂H₋₂,₋₃-1/2H₃,₋₂G₋₃,₋₂-G₋₂,₃G₋₂,₋₃-1/2G₋₂,₋₃H₋₂,₃-G₋₃,₋₂G₃,₋₂+1/2H₋₂,₃G₋₂,₋₃+G₃,₋₂G₋₂,₋₃+1/4H₃,₋₂H₋₃,₋₃H₃,₋₂-1/2H₃,₋₂H₋₃,₋₃G₃,₋₂+1/4H₋₃,₋₂H₋₂,₃+1/4H₋₂,₃H₋₃,₋₃H₋₂,₃+1/4H₋₂,₋₃H₃,₋₂-1/2G₋₂,₋₃H₃,₋₂+G₃,₋₂H₋₃,₋₃G₋₂,₃-1/2H₋₂,₋₃G₃,₋₂+G₋₂,₋₃G₃,₋₂+1/4H₃,₋₂H₋₃,₋₂+1/4H₋₃,₋₂H₃,₋₂-1/2H₋₃,₋₂G₃,₋₂+1/4H₋₂,₃H₋₃,₋₃H₃,₋₂-1/2H₋₂,₃H₋₃,₋₃G₃,₋₂+G₋₂,₃G₋₃,₋₂-G₃,₋₂G₋₃,₋₂+1/2G₃,₋₂H₋₃,₋₃H₋₂,₃-1/2H₋₂,₃G₋₃,₋₂-G₋₂,₃H₋₃,₋₃G₋₂,₃+G₋₃,₋₂G₋₂,₃+1/4H₃,₋₂H₋₂,₋₃+1/2H₃,₋₂H₋₃,₋₃G₋₂,₃,\n",
       " (('Hll', -2, 1),\n",
       "  ('Gll',\n",
       "   -3,\n",
       "   2)): 1/2G₃,₋₁-1/2G₋₁,₃+1/4G₋₂,₃H₂,₋₁-1/8H₋₂,₃H₂,₋₁-1/4G₃,₋₂H₂,₋₁+1/2G₋₂,₃G₂,₋₁-1/2G₃,₋₂G₂,₋₁+1/4G₋₂,₃H₋₁,₂-1/4G₃,₋₂H₋₁,₂-1/4H₋₂,₃G₂,₋₁+1/4H₋₁,₃-1/8H₃,₋₂H₂,₋₁-1/8H₋₂,₃H₋₁,₂-1/4H₃,₋₂G₂,₋₁-1/2G₋₂,₃G₋₁,₂+1/2G₃,₋₂G₋₁,₂-1/8H₃,₋₂H₋₁,₂+1/4H₋₂,₃G₋₁,₂+1/4H₃,₋₂G₋₁,₂+1/4H₃,₋₁,\n",
       " (('Hll',\n",
       "   3,\n",
       "   1),): -1/4H₋₃,₋₂G₂,₋₁-1/8H₋₂,₃H₋₃,₋₃H₂,₋₁-1/8H₋₃,₋₂H₋₁,₂-1/4H₋₂,₃H₋₃,₋₃G₂,₋₁+3/8G₋₂,₃H₂,₋₁H₋₃,₋₃-3/16H₃,₋₂H₂,₋₁H₋₃,₋₃+1/4H₋₃,₋₂G₋₁,₂-1/8H₋₂,₃H₋₃,₋₃H₋₁,₂+3/8H₃,₋₁H₋₃,₋₃+1/4H₋₂,₃H₋₃,₋₃G₋₁,₂-3/4G₃,₋₂G₂,₋₁H₋₃,₋₃-3/8G₃,₋₂H₋₁,₂H₋₃,₋₃+3/4G₃,₋₂G₋₁,₂H₋₃,₋₃-1/4G₃,₋₂H₋₃,₋₃H₂,₋₁+3/4G₋₂,₃G₂,₋₁H₋₃,₋₃-1/2G₃,₋₂H₋₃,₋₃G₂,₋₁+1/2G₋₃,₋₁+3/8G₋₂,₃H₋₁,₂H₋₃,₋₃-1/4G₃,₋₂H₋₃,₋₃H₋₁,₂-3/4G₋₂,₃G₋₁,₂H₋₃,₋₃+1/2G₃,₋₂H₋₃,₋₃G₋₁,₂-3/8H₃,₋₂G₂,₋₁H₋₃,₋₃+1/4G₋₂,₃H₋₃,₋₃H₂,₋₁-3/16H₋₂,₃H₂,₋₁H₋₃,₋₃-3/16H₃,₋₂H₋₁,₂H₋₃,₋₃+1/4H₋₃,₋₁-1/4G₋₃,₋₂H₂,₋₁+3/8H₃,₋₂G₋₁,₂H₋₃,₋₃-3/4G₋₁,₃H₋₃,₋₃+3/4G₃,₋₁H₋₃,₋₃+1/2G₋₂,₃H₋₃,₋₃G₂,₋₁-1/4G₋₃,₋₂H₋₁,₂-1/2G₋₁,₋₃+3/8H₋₁,₃H₋₃,₋₃+1/4G₋₂,₃H₋₃,₋₃H₋₁,₂-1/2G₋₃,₋₂G₂,₋₁-1/8H₃,₋₂H₋₃,₋₃H₂,₋₁-1/2G₋₂,₃H₋₃,₋₃G₋₁,₂-1/4H₃,₋₂H₋₃,₋₃G₂,₋₁+1/2G₋₃,₋₂G₋₁,₂-3/8H₋₂,₃G₂,₋₁H₋₃,₋₃-1/8H₃,₋₂H₋₃,₋₃H₋₁,₂-1/8H₋₂,₋₃H₂,₋₁-3/8G₃,₋₂H₂,₋₁H₋₃,₋₃-1/4H₋₂,₋₃G₂,₋₁+3/8H₋₂,₃G₋₁,₂H₋₃,₋₃+1/4G₋₂,₋₃H₂,₋₁-3/16H₋₂,₃H₋₁,₂H₋₃,₋₃+1/4H₋₁,₋₃+1/4H₃,₋₂H₋₃,₋₃G₋₁,₂-1/8H₋₂,₋₃H₋₁,₂+1/4G₋₂,₋₃H₋₁,₂+1/2G₋₂,₋₃G₂,₋₁-1/8H₋₃,₋₂H₂,₋₁+1/4H₋₂,₋₃G₋₁,₂-1/2G₋₂,₋₃G₋₁,₂}"
      ]
     },
     "execution_count": 11,
     "metadata": {},
     "output_type": "execute_result"
    }
   ],
   "source": [
    "coder_so.Lvect.coordinates.remember[0][2]"
   ]
  },
  {
   "cell_type": "code",
   "execution_count": 6,
   "metadata": {},
   "outputs": [
    {
     "data": {
      "text/plain": [
       "(('Gll', 1, 2),)"
      ]
     },
     "execution_count": 6,
     "metadata": {},
     "output_type": "execute_result"
    }
   ],
   "source": [
    "A[0]"
   ]
  },
  {
   "cell_type": "code",
   "execution_count": 12,
   "metadata": {},
   "outputs": [
    {
     "data": {
      "text/latex": [
       "$\\displaystyle -1$"
      ],
      "text/plain": [
       "-1"
      ]
     },
     "execution_count": 12,
     "metadata": {},
     "output_type": "execute_result"
    }
   ],
   "source": [
    "[k for k in A[3] if k[0]==coder_so.Lprod(('Hk',-1,2),r=3)][0][1]._terms[(('Hll',-2,-2),)]"
   ]
  },
  {
   "cell_type": "code",
   "execution_count": 17,
   "metadata": {},
   "outputs": [
    {
     "data": {
      "text/latex": [
       "$\\displaystyle -1$"
      ],
      "text/plain": [
       "-1"
      ]
     },
     "execution_count": 17,
     "metadata": {},
     "output_type": "execute_result"
    }
   ],
   "source": [
    "[k for k in A[3] if k[0]==coder_so.Lprod(('Hk',-1,2),r=3)][0][2]._terms[(('Hll',-2,-2),('Hll',-1,2))]"
   ]
  },
  {
   "cell_type": "code",
   "execution_count": 18,
   "metadata": {},
   "outputs": [
    {
     "data": {
      "text/latex": [
       "$\\displaystyle -1$"
      ],
      "text/plain": [
       "-1"
      ]
     },
     "execution_count": 18,
     "metadata": {},
     "output_type": "execute_result"
    }
   ],
   "source": [
    "sum(k[2] for k in A[3])._terms[(('Hll',-2,-2),('Hll',-1,2))]"
   ]
  },
  {
   "cell_type": "markdown",
   "metadata": {},
   "source": [
    "the `raise ValueError` gives a 1 on above cells"
   ]
  },
  {
   "cell_type": "markdown",
   "metadata": {},
   "source": [
    "whereas the `return None` gives a -1 !!!!"
   ]
  },
  {
   "cell_type": "markdown",
   "metadata": {},
   "source": [
    "The `return None` version does show that the sames guy's coordinates are computed twice, getting two distinct answers...."
   ]
  },
  {
   "cell_type": "code",
   "execution_count": 11,
   "metadata": {},
   "outputs": [
    {
     "data": {
      "text/plain": [
       "[(('Gll', 1, 2),), G₁,₂|0>, 1]"
      ]
     },
     "execution_count": 11,
     "metadata": {},
     "output_type": "execute_result"
    }
   ],
   "source": [
    "A[:3]"
   ]
  },
  {
   "cell_type": "markdown",
   "metadata": {},
   "source": [
    "#### Smaller examples include\n",
    "* H₋₂,₋₂H₋₁,₂ of the coordinate of G₁,₂|0>, gives -1|0> vs 1\n",
    "* H₋₁,₃H₋₃,₋₃ of the coordinate of H₃,₁|0>, gives 1/4|0> vs 3/8\n",
    "* H₃,₋₁H₋₃,₋₃ of the coordinate of H₃,₁|0>, gives 1/4|0> vs 3/8\n",
    "* H₋₃,₋₂H₋₁,₂ of the coordinate of H₁,₃|0>, gives -1/8|0> vs -3/8\n",
    "* H₋₁,₃H₋₃,₋₃ of the coordinate of H₁,₃|0>, gives 1/4|0> vs 3/8\n",
    "* H₋₂,₋₃H₋₁,₂ of the coordinate of H₁,₃|0>, gives -1/8|0> vs -3/8\n",
    "* H₃,₋₁H₋₃,₋₃ of the coordinate of H₁,₃|0>, gives 1/4|0> vs 3/8\n",
    "* H₋₃,₋₂H₋₁,₂ of the coordinate of G₁,₃|0>, gives -1/4|0> vs 1/4\n",
    "* H₋₃,₋₂H₂,₋₁ of the coordinate of G₁,₃|0>, gives -1/4|0> vs 1/4\n",
    "* H₋₂,₋₃H₋₁,₂ of the coordinate of G₁,₃|0>, gives -1/4|0> vs 1/4\n",
    "* H₋₂,₋₃H₂,₋₁ of the coordinate of G₁,₃|0>, gives -1/4|0> vs 1/4"
   ]
  },
  {
   "cell_type": "markdown",
   "metadata": {},
   "source": [
    "If I try tio understand H₋₂,₋₂H₋₁,₂G₁,₂|0>:"
   ]
  },
  {
   "cell_type": "code",
   "execution_count": 46,
   "metadata": {},
   "outputs": [],
   "source": [
    "V=coder_so.Lvect((('Hll',-2,-2),('Hll',-1,2),('Gll',1,2),),r=3,weights=coder_so.Rectweights(r=3,a=2,s=1))"
   ]
  },
  {
   "cell_type": "code",
   "execution_count": 47,
   "metadata": {},
   "outputs": [],
   "source": [
    "V1=(coder_so.Lprod(('Hll',-2,-2))*coder_so.Lvect((('Hll',-1,2),('Gll',1,2),),r=3,weights=coder_so.Rectweights(r=3,a=2,s=1)).simp(replacements=coder_so.Yangian_irrep.replacements)).simp(replacements=coder_so.Yangian_irrep.replacements)\n",
    "V2=V.simp(inplace=False,replacements=coder_so.Yangian_irrep.replacements)"
   ]
  },
  {
   "cell_type": "code",
   "execution_count": 48,
   "metadata": {},
   "outputs": [
    {
     "data": {
      "text/plain": [
       "(-1|0>, -1|0>)"
      ]
     },
     "execution_count": 48,
     "metadata": {},
     "output_type": "execute_result"
    }
   ],
   "source": [
    "V1,V2"
   ]
  },
  {
   "cell_type": "code",
   "execution_count": 49,
   "metadata": {},
   "outputs": [
    {
     "data": {
      "text/plain": [
       "-H₂,₂|0>"
      ]
     },
     "execution_count": 49,
     "metadata": {},
     "output_type": "execute_result"
    }
   ],
   "source": [
    "coder_so.Lvect((('Hll',-1,2),('Gll',1,2),),r=3,weights=coder_so.Rectweights(r=3,a=2,s=1))"
   ]
  },
  {
   "cell_type": "code",
   "execution_count": 58,
   "metadata": {},
   "outputs": [
    {
     "data": {
      "text/latex": [
       "$\\displaystyle -1$"
      ],
      "text/plain": [
       "-1"
      ]
     },
     "execution_count": 58,
     "metadata": {},
     "output_type": "execute_result"
    }
   ],
   "source": [
    "coder_so.Lvect((('Hll',-1,2),('Gll',1,2),),r=3,weights=coder_so.Rectweights(r=3,a=2,s=1)).coordinates(basis=coder_so.Yangian_irrep.basis, replacements=coder_so.Yangian_irrep.replacements)[(('Hll',-2,-2),)]"
   ]
  },
  {
   "cell_type": "code",
   "execution_count": 59,
   "metadata": {},
   "outputs": [
    {
     "data": {
      "text/latex": [
       "$\\displaystyle 1$"
      ],
      "text/plain": [
       "1"
      ]
     },
     "execution_count": 59,
     "metadata": {},
     "output_type": "execute_result"
    }
   ],
   "source": [
    "coder_so.Lvect((('Gll',1,2),),r=3,weights=coder_so.Rectweights(r=3,a=2,s=1)).coordinates(basis=coder_so.Yangian_irrep.basis, replacements=coder_so.Yangian_irrep.replacements)[(('Hll',-2,-2),('Hll',-1,2),)]"
   ]
  },
  {
   "cell_type": "code",
   "execution_count": 61,
   "metadata": {},
   "outputs": [
    {
     "data": {
      "text/latex": [
       "$\\displaystyle -1$"
      ],
      "text/plain": [
       "-1"
      ]
     },
     "execution_count": 61,
     "metadata": {},
     "output_type": "execute_result"
    }
   ],
   "source": [
    "t=(('Gll',1,2),)\n",
    "T=coder_so.Lvect(t,r=3,weights=coder_so.Rectweights(r=3,a=2,s=1))\n",
    "_,_,an=coder_so.Lprod.cca(r=3)\n",
    "sum(cba\n",
    "                for a in an\n",
    "                for vb in [(a*T).simp(replacements=coder_so.Yangian_irrep.replacements)]\n",
    "                for cb in [vb.coordinates(basis=coder_so.Yangian_irrep.basis, replacements=coder_so.Yangian_irrep.replacements,Lprod=True)]\n",
    "                for cba in [cb*a]  #brgs contains Lprod=True\n",
    "                if len(cba._terms)!=0)._terms[(('Hll',-2,-2),('Hll',-1,2))]"
   ]
  },
  {
   "cell_type": "code",
   "execution_count": 51,
   "metadata": {},
   "outputs": [
    {
     "data": {
      "text/plain": [
       "-1|0>"
      ]
     },
     "execution_count": 51,
     "metadata": {},
     "output_type": "execute_result"
    }
   ],
   "source": [
    "V"
   ]
  },
  {
   "cell_type": "code",
   "execution_count": 53,
   "metadata": {},
   "outputs": [
    {
     "data": {
      "text/plain": [
       "|0>"
      ]
     },
     "execution_count": 53,
     "metadata": {},
     "output_type": "execute_result"
    }
   ],
   "source": [
    "(coder_so.Lprod(('Hll',-2,-2))*coder_so.Lvect((('Hll',2,2),),r=3,weights=coder_so.Rectweights(r=3,a=2,s=1))).simp(r=3,weights=coder_so.Rectweights(r=3,a=2,s=1))"
   ]
  },
  {
   "cell_type": "code",
   "execution_count": 56,
   "metadata": {},
   "outputs": [
    {
     "data": {
      "text/plain": [
       "-1/2H₃,₋₂H₋₃,₋₃G₋₂,₃+1/2H₃,₋₂G₋₃,₋₂-1/4H₋₃,₋₂H₋₂,₃-1/4H₋₂,₃H₋₃,₋₃H₃,₋₂-G₋₃,₋₂G₋₂,₃-1/2H₋₂,₋₃G₋₂,₃+G₋₂,₋₃G₋₂,₃+1/2H₃,₋₂H₋₃,₋₃G₃,₋₂+G₋₂,₃G₋₂,₋₃-1/4H₋₃,₋₂H₃,₋₂-1/4H₋₂,₃H₋₂,₋₃-1/2H₃,₋₂G₋₂,₋₃+G₋₃,₋₂G₃,₋₂-G₋₂,₋₃G₃,₋₂+1/2H₋₂,₋₃G₃,₋₂-H₋₂,₋₂+G₃,₋₂G₋₃,₋₂-1/2H₋₂,₃H₋₃,₋₃G₋₂,₃+1/2H₋₂,₃G₋₃,₋₂-1/4H₃,₋₂H₋₃,₋₃H₋₂,₃-1/4H₃,₋₂H₋₃,₋₂-1/2H₋₃,₋₂G₋₂,₃+1/2H₋₂,₃H₋₃,₋₃G₃,₋₂-1/4H₋₂,₋₃H₋₂,₃-1/4H₃,₋₂H₋₃,₋₃H₃,₋₂-G₃,₋₂G₋₂,₋₃+1/2H₋₃,₋₂G₃,₋₂-1/2H₋₂,₃G₋₂,₋₃-1/4H₃,₋₂H₋₂,₋₃-1/4H₋₂,₋₃H₃,₋₂-G₋₂,₃G₋₃,₋₂-1/4H₋₂,₃H₋₃,₋₃H₋₂,₃-1/4H₋₂,₃H₋₃,₋₂"
      ]
     },
     "execution_count": 56,
     "metadata": {},
     "output_type": "execute_result"
    }
   ],
   "source": [
    "coder_so.Lprod(_50,r=3)*-1"
   ]
  },
  {
   "cell_type": "code",
   "execution_count": 50,
   "metadata": {},
   "outputs": [
    {
     "data": {
      "text/plain": [
       "{(('Hll', 3, -2), ('Hll', -3, -3), ('Gll', -2, 3)): 1/2,\n",
       " (('Hll', 3, -2), ('Gll', -3, -2)): -1/2,\n",
       " (('Hll', -3, -2), ('Hll', -2, 3)): 1/4,\n",
       " (('Hll', -2, 3), ('Hll', -3, -3), ('Hll', 3, -2)): 1/4,\n",
       " (('Gll', -3, -2), ('Gll', -2, 3)): 1,\n",
       " (('Hll', -2, -3), ('Gll', -2, 3)): 1/2,\n",
       " (('Gll', -2, -3), ('Gll', -2, 3)): -1,\n",
       " (('Hll', 3, -2), ('Hll', -3, -3), ('Gll', 3, -2)): -1/2,\n",
       " (('Gll', -2, 3), ('Gll', -2, -3)): -1,\n",
       " (('Hll', -3, -2), ('Hll', 3, -2)): 1/4,\n",
       " (('Hll', -2, 3), ('Hll', -2, -3)): 1/4,\n",
       " (('Hll', 3, -2), ('Gll', -2, -3)): 1/2,\n",
       " (('Gll', -3, -2), ('Gll', 3, -2)): -1,\n",
       " (('Gll', -2, -3), ('Gll', 3, -2)): 1,\n",
       " (('Hll', -2, -3), ('Gll', 3, -2)): -1/2,\n",
       " (('Hll', -2, -2),): 1,\n",
       " (('Gll', 3, -2), ('Gll', -3, -2)): -1,\n",
       " (('Hll', -2, 3), ('Hll', -3, -3), ('Gll', -2, 3)): 1/2,\n",
       " (('Hll', -2, 3), ('Gll', -3, -2)): -1/2,\n",
       " (('Hll', 3, -2), ('Hll', -3, -3), ('Hll', -2, 3)): 1/4,\n",
       " (('Hll', 3, -2), ('Hll', -3, -2)): 1/4,\n",
       " (('Hll', -3, -2), ('Gll', -2, 3)): 1/2,\n",
       " (('Hll', -2, 3), ('Hll', -3, -3), ('Gll', 3, -2)): -1/2,\n",
       " (('Hll', -2, -3), ('Hll', -2, 3)): 1/4,\n",
       " (('Hll', 3, -2), ('Hll', -3, -3), ('Hll', 3, -2)): 1/4,\n",
       " (('Gll', 3, -2), ('Gll', -2, -3)): 1,\n",
       " (('Hll', -3, -2), ('Gll', 3, -2)): -1/2,\n",
       " (('Hll', -2, 3), ('Gll', -2, -3)): 1/2,\n",
       " (('Hll', 3, -2), ('Hll', -2, -3)): 1/4,\n",
       " (('Hll', -2, -3), ('Hll', 3, -2)): 1/4,\n",
       " (('Gll', -2, 3), ('Gll', -3, -2)): 1,\n",
       " (('Hll', -2, 3), ('Hll', -3, -3), ('Hll', -2, 3)): 1/4,\n",
       " (('Hll', -2, 3), ('Hll', -3, -2)): 1/4}"
      ]
     },
     "execution_count": 50,
     "metadata": {},
     "output_type": "execute_result"
    }
   ],
   "source": [
    "coder_so.Lvect((('Hll',2,2),),r=3,weights=coder_so.Rectweights(r=3,a=2,s=1)).coordinates(basis=coder_so.Yangian_irrep.basis, replacements=coder_so.Yangian_irrep.replacements)"
   ]
  },
  {
   "cell_type": "code",
   "execution_count": 6,
   "metadata": {},
   "outputs": [
    {
     "data": {
      "text/plain": [
       "G₁,₃|0>"
      ]
     },
     "execution_count": 6,
     "metadata": {},
     "output_type": "execute_result"
    }
   ],
   "source": [
    "V=coder_so.Lvect((('Gll',1,3),),r=3,weights=coder_so.Rectweights(r=3,a=2,s=1))\n",
    "V"
   ]
  },
  {
   "cell_type": "code",
   "execution_count": 7,
   "metadata": {},
   "outputs": [
    {
     "data": {
      "text/plain": [
       "{(('Hll', -1, -3),): 1/2,\n",
       " (('Hll', -3, -2), ('Gll', -1, 2)): 1/2,\n",
       " (('Hll', 3, -2), ('Hll', 2, -1), ('Hll', -3, -3)): -1/4,\n",
       " (('Gll', -3, -1),): 1,\n",
       " (('Hll', -2, 3), ('Hll', -3, -3), ('Gll', 2, -1)): -1/2,\n",
       " (('Hll', 3, -2), ('Hll', -3, -3), ('Hll', 2, -1)): 1/4,\n",
       " (('Hll', 3, -2), ('Hll', -1, 2), ('Hll', -3, -3)): -1/4,\n",
       " (('Hll', -3, -2), ('Gll', 2, -1)): -1/2,\n",
       " (('Hll', 3, -2), ('Hll', -3, -3), ('Hll', -1, 2)): 1/4,\n",
       " (('Hll', -2, -3), ('Hll', 2, -1)): 1/4,\n",
       " (('Hll', 3, -1), ('Hll', -3, -3)): 1/2,\n",
       " (('Gll', -1, -3),): -1,\n",
       " (('Hll', 3, -2), ('Hll', -3, -3), ('Gll', -1, 2)): 1/2,\n",
       " (('Hll', -2, -3), ('Hll', -1, 2)): 1/4,\n",
       " (('Hll', -2, 3), ('Hll', 2, -1), ('Hll', -3, -3)): -1/4,\n",
       " (('Gll', -3, -2), ('Gll', -1, 2)): 1,\n",
       " (('Gll', -2, -3), ('Gll', -1, 2)): -1,\n",
       " (('Hll', -3, -1),): 1/2,\n",
       " (('Hll', -2, 3), ('Hll', -1, 2), ('Hll', -3, -3)): -1/4,\n",
       " (('Hll', -2, -3), ('Gll', -1, 2)): 1/2,\n",
       " (('Hll', -2, 3), ('Hll', -3, -3), ('Hll', 2, -1)): 1/4,\n",
       " (('Hll', 3, -2), ('Hll', -3, -3), ('Gll', 2, -1)): -1/2,\n",
       " (('Hll', -2, 3), ('Hll', -3, -3), ('Hll', -1, 2)): 1/4,\n",
       " (('Hll', -3, -2), ('Hll', 2, -1)): 1/4,\n",
       " (('Hll', -1, 3), ('Hll', -3, -3)): 1/2,\n",
       " (('Gll', -3, -2), ('Gll', 2, -1)): -1,\n",
       " (('Hll', -2, -3), ('Gll', 2, -1)): -1/2,\n",
       " (('Hll', -3, -2), ('Hll', -1, 2)): 1/4,\n",
       " (('Gll', -2, -3), ('Gll', 2, -1)): 1,\n",
       " (('Hll', -2, 3), ('Hll', -3, -3), ('Gll', -1, 2)): 1/2}"
      ]
     },
     "execution_count": 7,
     "metadata": {},
     "output_type": "execute_result"
    }
   ],
   "source": [
    "V.coordinates(basis=coder_so.Yangian_irrep.basis, replacements=coder_so.Yangian_irrep.replacements)"
   ]
  },
  {
   "cell_type": "markdown",
   "metadata": {},
   "source": [
    "H₋₂,₃H₋₃,₋₃H₂,₋₁G₁,₃|0>"
   ]
  },
  {
   "cell_type": "code",
   "execution_count": 8,
   "metadata": {},
   "outputs": [
    {
     "data": {
      "text/latex": [
       "$\\displaystyle \\frac{1}{4}$"
      ],
      "text/plain": [
       "1/4"
      ]
     },
     "execution_count": 8,
     "metadata": {},
     "output_type": "execute_result"
    }
   ],
   "source": [
    "_7[(('Hll', -2, 3), ('Hll', -3, -3), ('Hll', 2, -1))]"
   ]
  },
  {
   "cell_type": "code",
   "execution_count": 10,
   "metadata": {},
   "outputs": [],
   "source": [
    "X=coder_so.Lvect((('Hll', -2, 3), ('Hll', -3, -3), ('Hll', 2, -1),('Gll',1,3),),r=3,weights=coder_so.Rectweights(r=3,a=2,s=1))"
   ]
  },
  {
   "cell_type": "code",
   "execution_count": 11,
   "metadata": {},
   "outputs": [
    {
     "data": {
      "text/plain": [
       "{(): -1/4}"
      ]
     },
     "execution_count": 11,
     "metadata": {},
     "output_type": "execute_result"
    }
   ],
   "source": [
    "X.coordinates(basis=coder_so.Yangian_irrep.basis, replacements=coder_so.Yangian_irrep.replacements)"
   ]
  },
  {
   "cell_type": "code",
   "execution_count": 12,
   "metadata": {},
   "outputs": [
    {
     "data": {
      "text/latex": [
       "$\\displaystyle \\frac{1}{4}$"
      ],
      "text/plain": [
       "1/4"
      ]
     },
     "execution_count": 12,
     "metadata": {},
     "output_type": "execute_result"
    }
   ],
   "source": [
    "V.coordinates(basis=coder_so.Yangian_irrep.basis, replacements=coder_so.Yangian_irrep.replacements)[(('Hll', -2, 3), ('Hll', -3, -3), ('Hll', 2, -1))]"
   ]
  },
  {
   "cell_type": "markdown",
   "metadata": {},
   "source": [
    "A sign mismatch beetween these two claims...."
   ]
  },
  {
   "cell_type": "markdown",
   "metadata": {},
   "source": [
    "Check that others are all right:"
   ]
  },
  {
   "cell_type": "code",
   "execution_count": 19,
   "metadata": {
    "scrolled": false
   },
   "outputs": [
    {
     "name": "stdout",
     "output_type": "stream",
     "text": [
      "1/2 1/2|0>\n",
      "1/2 1/2|0>\n",
      "-1/4 -1/4|0>\n",
      "1 |0>\n",
      "-1/2 -1/2|0>\n",
      "1/4 -1/4|0>\n",
      "-1/4 -1/4|0>\n",
      "-1/2 -1/2|0>\n",
      "1/4 -1/4|0>\n",
      "1/4 -1/4|0>\n",
      "1/2 1/2|0>\n",
      "-1 -1|0>\n",
      "1/2 1/2|0>\n",
      "1/4 -1/4|0>\n",
      "-1/4 -1/4|0>\n",
      "1 |0>\n",
      "-1 -1|0>\n",
      "1/2 1/2|0>\n",
      "-1/4 -1/4|0>\n",
      "1/2 1/2|0>\n",
      "1/4 -1/4|0>\n",
      "-1/2 -1/2|0>\n",
      "1/4 -1/4|0>\n",
      "1/4 -1/4|0>\n",
      "1/2 1/2|0>\n",
      "-1 -1|0>\n",
      "-1/2 -1/2|0>\n",
      "1/4 -1/4|0>\n",
      "1 |0>\n",
      "1/2 1/2|0>\n"
     ]
    }
   ],
   "source": [
    "A=V.coordinates(basis=coder_so.Yangian_irrep.basis, replacements=coder_so.Yangian_irrep.replacements)\n",
    "for i in A:\n",
    "    vi=coder_so.Lvect(i+(('Gll',1,3),),r=3,weights=coder_so.Rectweights(r=3,a=2,s=1))\n",
    "    print(A[i],vi.simp(basis=coder_so.Yangian_irrep.basis, replacements=coder_so.Yangian_irrep.replacements))"
   ]
  },
  {
   "cell_type": "markdown",
   "metadata": {},
   "source": [
    "Some others are all right..."
   ]
  },
  {
   "cell_type": "markdown",
   "metadata": {},
   "source": [
    "?? Maybe force it to check this very thing when it adds guys into the coord dict, in order to investigate a \"simpler\" example ?"
   ]
  },
  {
   "cell_type": "code",
   "execution_count": 18,
   "metadata": {},
   "outputs": [
    {
     "data": {
      "text/plain": [
       "{(('Hll', -1, -3),): 1/2,\n",
       " (('Hll', -3, -2), ('Gll', -1, 2)): 1/2,\n",
       " (('Hll', 3, -2), ('Hll', 2, -1), ('Hll', -3, -3)): -1/4,\n",
       " (('Gll', -3, -1),): 1,\n",
       " (('Hll', -2, 3), ('Hll', -3, -3), ('Gll', 2, -1)): -1/2,\n",
       " (('Hll', 3, -2), ('Hll', -3, -3), ('Hll', 2, -1)): 1/4,\n",
       " (('Hll', 3, -2), ('Hll', -1, 2), ('Hll', -3, -3)): -1/4,\n",
       " (('Hll', -3, -2), ('Gll', 2, -1)): -1/2,\n",
       " (('Hll', 3, -2), ('Hll', -3, -3), ('Hll', -1, 2)): 1/4,\n",
       " (('Hll', -2, -3), ('Hll', 2, -1)): 1/4,\n",
       " (('Hll', 3, -1), ('Hll', -3, -3)): 1/2,\n",
       " (('Gll', -1, -3),): -1,\n",
       " (('Hll', 3, -2), ('Hll', -3, -3), ('Gll', -1, 2)): 1/2,\n",
       " (('Hll', -2, -3), ('Hll', -1, 2)): 1/4,\n",
       " (('Hll', -2, 3), ('Hll', 2, -1), ('Hll', -3, -3)): -1/4,\n",
       " (('Gll', -3, -2), ('Gll', -1, 2)): 1,\n",
       " (('Gll', -2, -3), ('Gll', -1, 2)): -1,\n",
       " (('Hll', -3, -1),): 1/2,\n",
       " (('Hll', -2, 3), ('Hll', -1, 2), ('Hll', -3, -3)): -1/4,\n",
       " (('Hll', -2, -3), ('Gll', -1, 2)): 1/2,\n",
       " (('Hll', -2, 3), ('Hll', -3, -3), ('Hll', 2, -1)): 1/4,\n",
       " (('Hll', 3, -2), ('Hll', -3, -3), ('Gll', 2, -1)): -1/2,\n",
       " (('Hll', -2, 3), ('Hll', -3, -3), ('Hll', -1, 2)): 1/4,\n",
       " (('Hll', -3, -2), ('Hll', 2, -1)): 1/4,\n",
       " (('Hll', -1, 3), ('Hll', -3, -3)): 1/2,\n",
       " (('Gll', -3, -2), ('Gll', 2, -1)): -1,\n",
       " (('Hll', -2, -3), ('Gll', 2, -1)): -1/2,\n",
       " (('Hll', -3, -2), ('Hll', -1, 2)): 1/4,\n",
       " (('Gll', -2, -3), ('Gll', 2, -1)): 1,\n",
       " (('Hll', -2, 3), ('Hll', -3, -3), ('Gll', -1, 2)): 1/2}"
      ]
     },
     "execution_count": 18,
     "metadata": {},
     "output_type": "execute_result"
    }
   ],
   "source": [
    "A"
   ]
  },
  {
   "cell_type": "code",
   "execution_count": 33,
   "metadata": {},
   "outputs": [],
   "source": [
    "def list_bugs(r,weights):\n",
    "    dict=next(i[2] for i in coder_so.Lvect.coordinates.remember if i[:2]==[r,weights])\n",
    "    bugs=[]\n",
    "    OK=[]\n",
    "    LV=coder_so.Lvect.vac(r=r,weights=weights)\n",
    "    for d in dict: # a vector\n",
    "        for c in dict[d]._terms: # the corresponding coord\n",
    "            X=(coder_so.Lprod(c)*coder_so.Lprod(d)*V)\n",
    "            if dict[d]._terms[c]*LV==X.simp(basis=coder_so.Yangian_irrep.basis, replacements=coder_so.Yangian_irrep.replacements):\n",
    "                OK.append((d,c))\n",
    "            else: bugs.append((d,c))\n",
    "    return (OK,bugs)"
   ]
  },
  {
   "cell_type": "code",
   "execution_count": 21,
   "metadata": {},
   "outputs": [],
   "source": [
    "%run Data_For_a2s1r3.py"
   ]
  },
  {
   "cell_type": "code",
   "execution_count": 22,
   "metadata": {},
   "outputs": [],
   "source": [
    "%run remember.py"
   ]
  },
  {
   "cell_type": "code",
   "execution_count": 34,
   "metadata": {},
   "outputs": [
    {
     "ename": "KeyboardInterrupt",
     "evalue": "",
     "output_type": "error",
     "traceback": [
      "\u001b[0;31m---------------------------------------------------------------------------\u001b[0m",
      "\u001b[0;31mKeyboardInterrupt\u001b[0m                         Traceback (most recent call last)",
      "\u001b[0;32m/tmp/ipykernel_22098/1194965004.py\u001b[0m in \u001b[0;36m<module>\u001b[0;34m\u001b[0m\n\u001b[0;32m----> 1\u001b[0;31m \u001b[0mlist_bugs\u001b[0m\u001b[0;34m(\u001b[0m\u001b[0mr\u001b[0m\u001b[0;34m=\u001b[0m\u001b[0;36m3\u001b[0m\u001b[0;34m,\u001b[0m\u001b[0mweights\u001b[0m\u001b[0;34m=\u001b[0m\u001b[0mcoder_so\u001b[0m\u001b[0;34m.\u001b[0m\u001b[0mRectweights\u001b[0m\u001b[0;34m(\u001b[0m\u001b[0ma\u001b[0m\u001b[0;34m=\u001b[0m\u001b[0;36m2\u001b[0m\u001b[0;34m,\u001b[0m\u001b[0ms\u001b[0m\u001b[0;34m=\u001b[0m\u001b[0;36m1\u001b[0m\u001b[0;34m,\u001b[0m\u001b[0mr\u001b[0m\u001b[0;34m=\u001b[0m\u001b[0;36m3\u001b[0m\u001b[0;34m)\u001b[0m\u001b[0;34m)\u001b[0m\u001b[0;34m\u001b[0m\u001b[0;34m\u001b[0m\u001b[0m\n\u001b[0m",
      "\u001b[0;32m/tmp/ipykernel_22098/2380237698.py\u001b[0m in \u001b[0;36mlist_bugs\u001b[0;34m(r, weights)\u001b[0m\n\u001b[1;32m      7\u001b[0m         \u001b[0;32mfor\u001b[0m \u001b[0mc\u001b[0m \u001b[0;32min\u001b[0m \u001b[0mdict\u001b[0m\u001b[0;34m[\u001b[0m\u001b[0md\u001b[0m\u001b[0;34m]\u001b[0m\u001b[0;34m.\u001b[0m\u001b[0m_terms\u001b[0m\u001b[0;34m:\u001b[0m \u001b[0;31m# the corresponding coord\u001b[0m\u001b[0;34m\u001b[0m\u001b[0;34m\u001b[0m\u001b[0m\n\u001b[1;32m      8\u001b[0m             \u001b[0mX\u001b[0m\u001b[0;34m=\u001b[0m\u001b[0;34m(\u001b[0m\u001b[0mcoder_so\u001b[0m\u001b[0;34m.\u001b[0m\u001b[0mLprod\u001b[0m\u001b[0;34m(\u001b[0m\u001b[0mc\u001b[0m\u001b[0;34m)\u001b[0m\u001b[0;34m*\u001b[0m\u001b[0mcoder_so\u001b[0m\u001b[0;34m.\u001b[0m\u001b[0mLprod\u001b[0m\u001b[0;34m(\u001b[0m\u001b[0md\u001b[0m\u001b[0;34m)\u001b[0m\u001b[0;34m*\u001b[0m\u001b[0mV\u001b[0m\u001b[0;34m)\u001b[0m\u001b[0;34m\u001b[0m\u001b[0;34m\u001b[0m\u001b[0m\n\u001b[0;32m----> 9\u001b[0;31m             \u001b[0;32mif\u001b[0m \u001b[0mdict\u001b[0m\u001b[0;34m[\u001b[0m\u001b[0md\u001b[0m\u001b[0;34m]\u001b[0m\u001b[0;34m.\u001b[0m\u001b[0m_terms\u001b[0m\u001b[0;34m[\u001b[0m\u001b[0mc\u001b[0m\u001b[0;34m]\u001b[0m\u001b[0;34m*\u001b[0m\u001b[0mLV\u001b[0m\u001b[0;34m==\u001b[0m\u001b[0mX\u001b[0m\u001b[0;34m.\u001b[0m\u001b[0msimp\u001b[0m\u001b[0;34m(\u001b[0m\u001b[0mbasis\u001b[0m\u001b[0;34m=\u001b[0m\u001b[0mcoder_so\u001b[0m\u001b[0;34m.\u001b[0m\u001b[0mYangian_irrep\u001b[0m\u001b[0;34m.\u001b[0m\u001b[0mbasis\u001b[0m\u001b[0;34m,\u001b[0m \u001b[0mreplacements\u001b[0m\u001b[0;34m=\u001b[0m\u001b[0mcoder_so\u001b[0m\u001b[0;34m.\u001b[0m\u001b[0mYangian_irrep\u001b[0m\u001b[0;34m.\u001b[0m\u001b[0mreplacements\u001b[0m\u001b[0;34m)\u001b[0m\u001b[0;34m:\u001b[0m\u001b[0;34m\u001b[0m\u001b[0;34m\u001b[0m\u001b[0m\n\u001b[0m\u001b[1;32m     10\u001b[0m                 \u001b[0mOK\u001b[0m\u001b[0;34m.\u001b[0m\u001b[0mappend\u001b[0m\u001b[0;34m(\u001b[0m\u001b[0;34m(\u001b[0m\u001b[0md\u001b[0m\u001b[0;34m,\u001b[0m\u001b[0mc\u001b[0m\u001b[0;34m)\u001b[0m\u001b[0;34m)\u001b[0m\u001b[0;34m\u001b[0m\u001b[0;34m\u001b[0m\u001b[0m\n\u001b[1;32m     11\u001b[0m             \u001b[0;32melse\u001b[0m\u001b[0;34m:\u001b[0m \u001b[0mbugs\u001b[0m\u001b[0;34m.\u001b[0m\u001b[0mappend\u001b[0m\u001b[0;34m(\u001b[0m\u001b[0;34m(\u001b[0m\u001b[0md\u001b[0m\u001b[0;34m,\u001b[0m\u001b[0mc\u001b[0m\u001b[0;34m)\u001b[0m\u001b[0;34m)\u001b[0m\u001b[0;34m\u001b[0m\u001b[0;34m\u001b[0m\u001b[0m\n",
      "\u001b[0;32m~/git/darak_leurent/leurent/coder_so.py\u001b[0m in \u001b[0;36msimp\u001b[0;34m(self, inplace, **args)\u001b[0m\n\u001b[1;32m   1785\u001b[0m         \u001b[0;31m# if not args.get(\"verbose\",False): 1/0\u001b[0m\u001b[0;34m\u001b[0m\u001b[0;34m\u001b[0m\u001b[0m\n\u001b[1;32m   1786\u001b[0m         \u001b[0;31m# Lprod.tmp=args\u001b[0m\u001b[0;34m\u001b[0m\u001b[0;34m\u001b[0m\u001b[0m\n\u001b[0;32m-> 1787\u001b[0;31m         \u001b[0mself\u001b[0m\u001b[0;34m.\u001b[0m\u001b[0mLprod\u001b[0m\u001b[0;34m.\u001b[0m\u001b[0msort\u001b[0m\u001b[0;34m(\u001b[0m\u001b[0minplace\u001b[0m\u001b[0;34m=\u001b[0m\u001b[0;32mTrue\u001b[0m\u001b[0;34m,\u001b[0m\u001b[0;34m**\u001b[0m\u001b[0;34m{\u001b[0m\u001b[0mk\u001b[0m\u001b[0;34m:\u001b[0m\u001b[0;34m{\u001b[0m\u001b[0my\u001b[0m\u001b[0;34m:\u001b[0m\u001b[0margs\u001b[0m\u001b[0;34m[\u001b[0m\u001b[0ml\u001b[0m\u001b[0;34m]\u001b[0m\u001b[0;34m[\u001b[0m\u001b[0mx\u001b[0m\u001b[0;34m]\u001b[0m\u001b[0;34m.\u001b[0m\u001b[0mLprod\u001b[0m \u001b[0;32mfor\u001b[0m \u001b[0mx\u001b[0m \u001b[0;32min\u001b[0m \u001b[0margs\u001b[0m\u001b[0;34m[\u001b[0m\u001b[0ml\u001b[0m\u001b[0;34m]\u001b[0m \u001b[0;32mfor\u001b[0m \u001b[0my\u001b[0m \u001b[0;32min\u001b[0m \u001b[0mx\u001b[0m\u001b[0;34m.\u001b[0m\u001b[0mLprod\u001b[0m\u001b[0;34m.\u001b[0m\u001b[0m_terms\u001b[0m\u001b[0;34m}\u001b[0m \u001b[0;32mfor\u001b[0m \u001b[0;34m(\u001b[0m\u001b[0mk\u001b[0m\u001b[0;34m,\u001b[0m\u001b[0ml\u001b[0m\u001b[0;34m)\u001b[0m \u001b[0;32min\u001b[0m \u001b[0;34m[\u001b[0m\u001b[0;34m(\u001b[0m\u001b[0;34m\"right_replacements\"\u001b[0m\u001b[0;34m,\u001b[0m\u001b[0;34m\"replacements\"\u001b[0m\u001b[0;34m)\u001b[0m\u001b[0;34m]\u001b[0m \u001b[0;32mif\u001b[0m \u001b[0ml\u001b[0m \u001b[0;32min\u001b[0m \u001b[0margs\u001b[0m\u001b[0;34m}\u001b[0m\u001b[0;34m,\u001b[0m\u001b[0;34m**\u001b[0m\u001b[0;34m{\u001b[0m\u001b[0mk\u001b[0m\u001b[0;34m:\u001b[0m\u001b[0mbrgs\u001b[0m\u001b[0;34m[\u001b[0m\u001b[0mk\u001b[0m\u001b[0;34m]\u001b[0m \u001b[0;32mfor\u001b[0m \u001b[0mk\u001b[0m \u001b[0;32min\u001b[0m \u001b[0;34m[\u001b[0m\u001b[0;34m\"verbose\"\u001b[0m\u001b[0;34m,\u001b[0m\u001b[0;34m\"printleft\"\u001b[0m\u001b[0;34m]\u001b[0m \u001b[0;32mif\u001b[0m \u001b[0mk\u001b[0m \u001b[0;32min\u001b[0m \u001b[0mbrgs\u001b[0m\u001b[0;34m}\u001b[0m\u001b[0;34m)\u001b[0m\u001b[0;34m\u001b[0m\u001b[0;34m\u001b[0m\u001b[0m\n\u001b[0m\u001b[1;32m   1788\u001b[0m         \u001b[0mw\u001b[0m\u001b[0;34m=\u001b[0m\u001b[0mself\u001b[0m\u001b[0;34m.\u001b[0m\u001b[0mweights\u001b[0m\u001b[0;34m\u001b[0m\u001b[0;34m\u001b[0m\u001b[0m\n\u001b[1;32m   1789\u001b[0m         \u001b[0mu\u001b[0m\u001b[0;34m=\u001b[0m\u001b[0msympy\u001b[0m\u001b[0;34m.\u001b[0m\u001b[0mSymbol\u001b[0m\u001b[0;34m(\u001b[0m\u001b[0;34m\"u\"\u001b[0m\u001b[0;34m)\u001b[0m\u001b[0;34m\u001b[0m\u001b[0;34m\u001b[0m\u001b[0m\n",
      "\u001b[0;32m~/git/darak_leurent/leurent/coder_so.py\u001b[0m in \u001b[0;36msort\u001b[0;34m(self, inplace, r, verbose, right_replacements, **args)\u001b[0m\n\u001b[1;32m   1594\u001b[0m         \"\"\"\n\u001b[1;32m   1595\u001b[0m         \u001b[0;32mif\u001b[0m \u001b[0minplace\u001b[0m\u001b[0;34m:\u001b[0m\u001b[0;34m\u001b[0m\u001b[0;34m\u001b[0m\u001b[0m\n\u001b[0;32m-> 1596\u001b[0;31m             \u001b[0mR\u001b[0m\u001b[0;34m=\u001b[0m\u001b[0mLprod\u001b[0m\u001b[0;34m.\u001b[0m\u001b[0msort\u001b[0m\u001b[0;34m(\u001b[0m\u001b[0mself\u001b[0m\u001b[0;34m,\u001b[0m\u001b[0mr\u001b[0m\u001b[0;34m=\u001b[0m\u001b[0mr\u001b[0m\u001b[0;34m,\u001b[0m\u001b[0minplace\u001b[0m\u001b[0;34m=\u001b[0m\u001b[0;32mFalse\u001b[0m\u001b[0;34m,\u001b[0m\u001b[0mverbose\u001b[0m\u001b[0;34m=\u001b[0m\u001b[0mverbose\u001b[0m\u001b[0;34m,\u001b[0m\u001b[0mright_replacements\u001b[0m\u001b[0;34m=\u001b[0m\u001b[0mright_replacements\u001b[0m\u001b[0;34m,\u001b[0m\u001b[0;34m**\u001b[0m\u001b[0margs\u001b[0m\u001b[0;34m)\u001b[0m\u001b[0;34m\u001b[0m\u001b[0;34m\u001b[0m\u001b[0m\n\u001b[0m\u001b[1;32m   1597\u001b[0m             \u001b[0mself\u001b[0m\u001b[0;34m.\u001b[0m\u001b[0m_terms\u001b[0m\u001b[0;34m=\u001b[0m\u001b[0mR\u001b[0m\u001b[0;34m.\u001b[0m\u001b[0m_terms\u001b[0m\u001b[0;34m\u001b[0m\u001b[0;34m\u001b[0m\u001b[0m\n\u001b[1;32m   1598\u001b[0m             \u001b[0;32mreturn\u001b[0m \u001b[0mself\u001b[0m\u001b[0;34m\u001b[0m\u001b[0;34m\u001b[0m\u001b[0m\n",
      "\u001b[0;32m~/git/darak_leurent/leurent/coder_so.py\u001b[0m in \u001b[0;36msort\u001b[0;34m(self, inplace, r, verbose, right_replacements, **args)\u001b[0m\n\u001b[1;32m   1709\u001b[0m             if right_replacements: self.replace_right(inplace=True,right_replacements=right_replacements, verbose=verbose# ,**{k:brgs[k] for k in [\"printleft\"] if k in brgs}\n\u001b[1;32m   1710\u001b[0m                                                       )\n\u001b[0;32m-> 1711\u001b[0;31m             \u001b[0ml\u001b[0m\u001b[0;34m=\u001b[0m\u001b[0mLprod\u001b[0m\u001b[0;34m.\u001b[0m\u001b[0mtoswap\u001b[0m\u001b[0;34m(\u001b[0m\u001b[0mself\u001b[0m\u001b[0;34m.\u001b[0m\u001b[0m_terms\u001b[0m\u001b[0;34m)\u001b[0m\u001b[0;34m\u001b[0m\u001b[0;34m\u001b[0m\u001b[0m\n\u001b[0m\u001b[1;32m   1712\u001b[0m             \u001b[0;31m# return (fac*c+b).sort(inplace=False,verbose=verbose)\u001b[0m\u001b[0;34m\u001b[0m\u001b[0;34m\u001b[0m\u001b[0m\n\u001b[1;32m   1713\u001b[0m         \u001b[0;31m# else:\u001b[0m\u001b[0;34m\u001b[0m\u001b[0;34m\u001b[0m\u001b[0m\n",
      "\u001b[0;32m~/git/darak_leurent/leurent/coder_so.py\u001b[0m in \u001b[0;36mtoswap\u001b[0;34m(terms)\u001b[0m\n\u001b[1;32m   1542\u001b[0m                                                     range(1) for z in i]))\n\u001b[1;32m   1543\u001b[0m         )\n\u001b[0;32m-> 1544\u001b[0;31m     def toswap(terms): return  [(i,k) for i in terms for k in range(len(i)-1)\n\u001b[0m\u001b[1;32m   1545\u001b[0m             for sa,sb in [[0 if sum(x[1:3])==0 else (\n\u001b[1;32m   1546\u001b[0m                     \u001b[0;34m-\u001b[0m\u001b[0;36m1\u001b[0m \u001b[0;32mif\u001b[0m \u001b[0mmax\u001b[0m\u001b[0;34m(\u001b[0m\u001b[0mx\u001b[0m\u001b[0;34m[\u001b[0m\u001b[0;36m1\u001b[0m\u001b[0;34m:\u001b[0m\u001b[0;36m3\u001b[0m\u001b[0;34m]\u001b[0m\u001b[0;34m)\u001b[0m\u001b[0;34m<\u001b[0m\u001b[0;36m0\u001b[0m \u001b[0;32mor\u001b[0m \u001b[0;34m(\u001b[0m\u001b[0msum\u001b[0m\u001b[0;34m(\u001b[0m\u001b[0mx\u001b[0m\u001b[0;34m[\u001b[0m\u001b[0;36m1\u001b[0m\u001b[0;34m:\u001b[0m\u001b[0;36m3\u001b[0m\u001b[0;34m]\u001b[0m\u001b[0;34m)\u001b[0m\u001b[0;34m>\u001b[0m\u001b[0;36m0\u001b[0m \u001b[0;32mand\u001b[0m \u001b[0mmin\u001b[0m\u001b[0;34m(\u001b[0m\u001b[0mx\u001b[0m\u001b[0;34m[\u001b[0m\u001b[0;36m1\u001b[0m\u001b[0;34m:\u001b[0m\u001b[0;36m3\u001b[0m\u001b[0;34m]\u001b[0m\u001b[0;34m)\u001b[0m\u001b[0;34m<\u001b[0m\u001b[0;36m0\u001b[0m\u001b[0;34m)\u001b[0m\u001b[0;31m#anihilation\u001b[0m\u001b[0;34m\u001b[0m\u001b[0;34m\u001b[0m\u001b[0m\n",
      "\u001b[0;32m~/git/darak_leurent/leurent/coder_so.py\u001b[0m in \u001b[0;36m<listcomp>\u001b[0;34m(.0)\u001b[0m\n\u001b[1;32m   1543\u001b[0m         )\n\u001b[1;32m   1544\u001b[0m     def toswap(terms): return  [(i,k) for i in terms for k in range(len(i)-1)\n\u001b[0;32m-> 1545\u001b[0;31m             for sa,sb in [[0 if sum(x[1:3])==0 else (\n\u001b[0m\u001b[1;32m   1546\u001b[0m                     \u001b[0;34m-\u001b[0m\u001b[0;36m1\u001b[0m \u001b[0;32mif\u001b[0m \u001b[0mmax\u001b[0m\u001b[0;34m(\u001b[0m\u001b[0mx\u001b[0m\u001b[0;34m[\u001b[0m\u001b[0;36m1\u001b[0m\u001b[0;34m:\u001b[0m\u001b[0;36m3\u001b[0m\u001b[0;34m]\u001b[0m\u001b[0;34m)\u001b[0m\u001b[0;34m<\u001b[0m\u001b[0;36m0\u001b[0m \u001b[0;32mor\u001b[0m \u001b[0;34m(\u001b[0m\u001b[0msum\u001b[0m\u001b[0;34m(\u001b[0m\u001b[0mx\u001b[0m\u001b[0;34m[\u001b[0m\u001b[0;36m1\u001b[0m\u001b[0;34m:\u001b[0m\u001b[0;36m3\u001b[0m\u001b[0;34m]\u001b[0m\u001b[0;34m)\u001b[0m\u001b[0;34m>\u001b[0m\u001b[0;36m0\u001b[0m \u001b[0;32mand\u001b[0m \u001b[0mmin\u001b[0m\u001b[0;34m(\u001b[0m\u001b[0mx\u001b[0m\u001b[0;34m[\u001b[0m\u001b[0;36m1\u001b[0m\u001b[0;34m:\u001b[0m\u001b[0;36m3\u001b[0m\u001b[0;34m]\u001b[0m\u001b[0;34m)\u001b[0m\u001b[0;34m<\u001b[0m\u001b[0;36m0\u001b[0m\u001b[0;34m)\u001b[0m\u001b[0;31m#anihilation\u001b[0m\u001b[0;34m\u001b[0m\u001b[0;34m\u001b[0m\u001b[0m\n\u001b[1;32m   1547\u001b[0m                     else 1) for x in (i[k],i[k+1])]]\n",
      "\u001b[0;32m~/git/darak_leurent/leurent/coder_so.py\u001b[0m in \u001b[0;36m<listcomp>\u001b[0;34m(.0)\u001b[0m\n\u001b[1;32m   1544\u001b[0m     def toswap(terms): return  [(i,k) for i in terms for k in range(len(i)-1)\n\u001b[1;32m   1545\u001b[0m             for sa,sb in [[0 if sum(x[1:3])==0 else (\n\u001b[0;32m-> 1546\u001b[0;31m                     \u001b[0;34m-\u001b[0m\u001b[0;36m1\u001b[0m \u001b[0;32mif\u001b[0m \u001b[0mmax\u001b[0m\u001b[0;34m(\u001b[0m\u001b[0mx\u001b[0m\u001b[0;34m[\u001b[0m\u001b[0;36m1\u001b[0m\u001b[0;34m:\u001b[0m\u001b[0;36m3\u001b[0m\u001b[0;34m]\u001b[0m\u001b[0;34m)\u001b[0m\u001b[0;34m<\u001b[0m\u001b[0;36m0\u001b[0m \u001b[0;32mor\u001b[0m \u001b[0;34m(\u001b[0m\u001b[0msum\u001b[0m\u001b[0;34m(\u001b[0m\u001b[0mx\u001b[0m\u001b[0;34m[\u001b[0m\u001b[0;36m1\u001b[0m\u001b[0;34m:\u001b[0m\u001b[0;36m3\u001b[0m\u001b[0;34m]\u001b[0m\u001b[0;34m)\u001b[0m\u001b[0;34m>\u001b[0m\u001b[0;36m0\u001b[0m \u001b[0;32mand\u001b[0m \u001b[0mmin\u001b[0m\u001b[0;34m(\u001b[0m\u001b[0mx\u001b[0m\u001b[0;34m[\u001b[0m\u001b[0;36m1\u001b[0m\u001b[0;34m:\u001b[0m\u001b[0;36m3\u001b[0m\u001b[0;34m]\u001b[0m\u001b[0;34m)\u001b[0m\u001b[0;34m<\u001b[0m\u001b[0;36m0\u001b[0m\u001b[0;34m)\u001b[0m\u001b[0;31m#anihilation\u001b[0m\u001b[0;34m\u001b[0m\u001b[0;34m\u001b[0m\u001b[0m\n\u001b[0m\u001b[1;32m   1547\u001b[0m                     else 1) for x in (i[k],i[k+1])]]\n\u001b[1;32m   1548\u001b[0m             if sb>0>=sa or ((sa>0<sb or sb<=0>=sa) and\n",
      "\u001b[0;31mKeyboardInterrupt\u001b[0m: "
     ]
    }
   ],
   "source": [
    "list_bugs(r=3,weights=coder_so.Rectweights(a=2,s=1,r=3))"
   ]
  },
  {
   "cell_type": "markdown",
   "metadata": {},
   "source": [
    "**The bugs are:**\n",
    "* it gets far to high dimension, with so many linearly independant guys.\n",
    "* the coordinates of G₁,₃|0> have a msmatch in H₋₂,₃H₋₃,₋₃H₂,₋₁G₁,₃|0>\n",
    "\n",
    "**To Check**\n",
    "* that the \"coordinates\" match with some product\n",
    "* that it was indeed finding somehting linearly independent\n",
    "* that the rules of \"replacement\"+simp give somthing that obeys the correct commutation relation"
   ]
  },
  {
   "cell_type": "code",
   "execution_count": null,
   "metadata": {},
   "outputs": [],
   "source": [
    "s,a,r=1,2,3\n",
    "coord_dct=next(c[-1] for c in coder_so.Lvect.coordinates.remember if c[:2]==[r,coder_so.Rectweights(r=r,a=a,s=s)])\n",
    "V=coder_so.Lvect"
   ]
  },
  {
   "cell_type": "code",
   "execution_count": 6,
   "metadata": {},
   "outputs": [],
   "source": [
    "s,a,r=1,2,3\n",
    "coord_dct=next(c[-1] for c in coder_so.Lvect.coordinates.remember if c[:2]==[r,coder_so.Rectweights(r=r,a=a,s=s)])"
   ]
  },
  {
   "cell_type": "code",
   "execution_count": 7,
   "metadata": {},
   "outputs": [
    {
     "name": "stdout",
     "output_type": "stream",
     "text": [
      "V=G₁,₃|0>\n",
      "X=H₋₂,₃H₋₃,₋₃H₂,₋₁G₁,₃|0>\n",
      "Y=-1/4|0>versus 1/4|0>\n"
     ]
    },
    {
     "ename": "NameError",
     "evalue": "name 'VallueError' is not defined",
     "output_type": "error",
     "traceback": [
      "\u001b[0;31m---------------------------------------------------------------------------\u001b[0m",
      "\u001b[0;31mNameError\u001b[0m                                 Traceback (most recent call last)",
      "\u001b[0;32m/tmp/ipykernel_16765/1549774425.py\u001b[0m in \u001b[0;36m<module>\u001b[0;34m\u001b[0m\n\u001b[1;32m     12\u001b[0m         \u001b[0mprint\u001b[0m\u001b[0;34m(\u001b[0m\u001b[0;34mf\"X={X}\"\u001b[0m\u001b[0;34m)\u001b[0m\u001b[0;34m\u001b[0m\u001b[0;34m\u001b[0m\u001b[0m\n\u001b[1;32m     13\u001b[0m         \u001b[0mprint\u001b[0m\u001b[0;34m(\u001b[0m\u001b[0;34mf\"Y={Y}\"\u001b[0m\u001b[0;34m+\u001b[0m\u001b[0;34m\"versus {}\"\u001b[0m\u001b[0;34m.\u001b[0m\u001b[0mformat\u001b[0m\u001b[0;34m(\u001b[0m\u001b[0mcoord_dct\u001b[0m\u001b[0;34m[\u001b[0m\u001b[0mv\u001b[0m\u001b[0;34m]\u001b[0m\u001b[0;34m.\u001b[0m\u001b[0m_terms\u001b[0m\u001b[0;34m[\u001b[0m\u001b[0mw\u001b[0m\u001b[0;34m]\u001b[0m\u001b[0;34m*\u001b[0m\u001b[0mLV\u001b[0m\u001b[0;34m)\u001b[0m\u001b[0;34m)\u001b[0m\u001b[0;34m\u001b[0m\u001b[0;34m\u001b[0m\u001b[0m\n\u001b[0;32m---> 14\u001b[0;31m         \u001b[0;32mraise\u001b[0m \u001b[0mVallueError\u001b[0m\u001b[0;34m\u001b[0m\u001b[0;34m\u001b[0m\u001b[0m\n\u001b[0m",
      "\u001b[0;31mNameError\u001b[0m: name 'VallueError' is not defined"
     ]
    }
   ],
   "source": [
    "weights=coder_so.Rectweights(r=r,a=a,s=s)\n",
    "LV=coder_so.Lvect.vac(r=r,weights=weights)\n",
    "Vcts=list(coord_dct)\n",
    "for v in Vcts:#[:5]:\n",
    "    V=coder_so.Lvect(v,r=r,weights=weights)\n",
    "    for w in coord_dct[v]._terms:\n",
    "        X=(coder_so.Lprod(w)*V)\n",
    "        Y=X.simp(inplace=False,replacements=coder_so.Yangian_irrep.replacements)\n",
    "        #print(\"{}={}\".format(X,Y))\n",
    "        if Y==coord_dct[v]._terms[w]*LV: continue\n",
    "        print(f\"V={V}\")\n",
    "        print(f\"X={X}\")\n",
    "        print(f\"Y={Y}\"+\"versus {}\".format(coord_dct[v]._terms[w]*LV))\n",
    "        raise ValueError"
   ]
  },
  {
   "cell_type": "code",
   "execution_count": 8,
   "metadata": {},
   "outputs": [
    {
     "data": {
      "text/plain": [
       "-1/4|0>"
      ]
     },
     "execution_count": 8,
     "metadata": {},
     "output_type": "execute_result"
    }
   ],
   "source": [
    "(coder_so.Lprod(w)*V).simp(inplace=False,replacements=coder_so.Yangian_irrep.replacements)"
   ]
  },
  {
   "cell_type": "markdown",
   "metadata": {},
   "source": [
    "recompute this one without remembering anything:"
   ]
  },
  {
   "cell_type": "code",
   "execution_count": 7,
   "metadata": {},
   "outputs": [],
   "source": [
    "coder_so.Yangian_irrep.basis={}\n",
    "coder_so.Yangian_irrep.replacements={}\n",
    "coder_so.Lvect.coordinates.remember=[]"
   ]
  },
  {
   "cell_type": "code",
   "execution_count": 10,
   "metadata": {},
   "outputs": [
    {
     "data": {
      "text/plain": [
       "H₋₂,₃H₋₃,₋₃H₂,₋₁G₁,₃|0>"
      ]
     },
     "execution_count": 10,
     "metadata": {},
     "output_type": "execute_result"
    }
   ],
   "source": [
    "X"
   ]
  },
  {
   "cell_type": "code",
   "execution_count": 11,
   "metadata": {},
   "outputs": [
    {
     "data": {
      "text/plain": [
       "-1973/37888G₁,₃H₋₁,₋₃|0>-1/4|0>-173/18944H₁,₋₂H₋₁,₂|0>-741/37888G₋₃,₁H₃,₋₁|0>+1259/37888G₁,₋₃H₋₁,₃|0>-173/18944H₁,₂H₋₁,₋₂|0>-517/37888G₋₃,₂H₃,₋₂|0>+1355/37888G₂,₃H₋₂,₋₃|0>+101/18944G₁,₂H₋₁,₋₂|0>-1/64G₁,₋₂H₋₁,₂|0>+43/1184H₂,₂H₋₂,₋₂|0>-1/16G₃,₃H₋₃,₋₃|0>+3/64G₋₂,₁H₂,₋₁|0>+347/37888G₃,₂H₋₃,₋₂|0>+1/8G₋₃,₂H₋₂,₃|0>+493/18944H₂,₁H₋₂,₋₁|0>-677/18944H₃,₁H₋₃,₋₁|0>-23/1184H₁,₁H₋₁,₋₁|0>-677/18944H₋₃,₁H₃,₋₁|0>-241/9472H₋₃,₂H₃,₋₂|0>+425/9472H₂,₃H₋₂,₋₃|0>-11/18944H₁,₃H₋₁,₋₃|0>-241/9472H₃,₂H₋₃,₋₂|0>-4885/37888G₂,₋₃H₋₂,₃|0>-7/256G₂,₂H₋₂,₋₂|0>+123/37888G₃,₁H₋₃,₋₁|0>-27/18944G₂,₁H₋₂,₋₁|0>"
      ]
     },
     "execution_count": 11,
     "metadata": {},
     "output_type": "execute_result"
    }
   ],
   "source": [
    "X.simp(inplace=False)"
   ]
  },
  {
   "cell_type": "code",
   "execution_count": 12,
   "metadata": {},
   "outputs": [
    {
     "data": {
      "text/plain": [
       "{(): -1/4}"
      ]
     },
     "execution_count": 12,
     "metadata": {},
     "output_type": "execute_result"
    }
   ],
   "source": [
    "X.coordinates()"
   ]
  },
  {
   "cell_type": "code",
   "execution_count": 13,
   "metadata": {},
   "outputs": [],
   "source": [
    "%run Data_For_a2s1r3.py"
   ]
  },
  {
   "cell_type": "code",
   "execution_count": 14,
   "metadata": {},
   "outputs": [],
   "source": [
    "%run remember.py"
   ]
  },
  {
   "cell_type": "code",
   "execution_count": 15,
   "metadata": {},
   "outputs": [
    {
     "data": {
      "text/plain": [
       "{(): -1/4}"
      ]
     },
     "execution_count": 15,
     "metadata": {},
     "output_type": "execute_result"
    }
   ],
   "source": [
    "X.coordinates()"
   ]
  },
  {
   "cell_type": "markdown",
   "metadata": {},
   "source": [
    "Whereas at some point it was apparently returning $\\frac 1 4 \\left|0\\right>$"
   ]
  },
  {
   "cell_type": "code",
   "execution_count": 61,
   "metadata": {},
   "outputs": [
    {
     "data": {
      "text/plain": [
       "[|0>,\n",
       " G₋₃,₁|0>,\n",
       " G₋₃,₂|0>,\n",
       " G₁,₂|0>,\n",
       " G₁,₃|0>,\n",
       " G₂,₃|0>,\n",
       " G₁,₂G₋₃,₁|0>,\n",
       " G₁,₃G₋₃,₁|0>,\n",
       " G₂,₃G₋₃,₁|0>,\n",
       " G₁,₂G₋₃,₂|0>,\n",
       " G₁,₃G₋₃,₂|0>,\n",
       " G₂,₃G₋₃,₂|0>,\n",
       " G₁,₂G₁,₂|0>,\n",
       " G₁,₃G₁,₂|0>,\n",
       " G₂,₃G₁,₂|0>,\n",
       " H₁,₁|0>,\n",
       " H₁,₃|0>,\n",
       " H₃,₁|0>,\n",
       " H₃,₃G₋₃,₁|0>,\n",
       " H₃,₂G₋₃,₁|0>,\n",
       " H₂,₃G₋₃,₁|0>,\n",
       " H₁,₃G₋₃,₂|0>,\n",
       " H₁,₂|0>,\n",
       " H₁,₃G₋₃,₁|0>,\n",
       " H₃,₁G₋₃,₂|0>,\n",
       " H₂,₁|0>,\n",
       " H₂,₂G₋₃,₁|0>,\n",
       " H₃,₁G₋₃,₁|0>,\n",
       " H₋₂,₁G₁,₃|0>,\n",
       " H₋₂,₁H₁,₃|0>,\n",
       " H₋₂,₁G₂,₃G₋₃,₂|0>,\n",
       " H₁,₋₂G₂,₃G₋₃,₂|0>,\n",
       " H₋₃,₁G₂,₃|0>,\n",
       " H₂,₋₃H₁,₃|0>,\n",
       " H₋₃,₂H₃,₁|0>,\n",
       " H₋₃,₂G₁,₃|0>,\n",
       " H₁,₋₃G₂,₃|0>,\n",
       " H₂,₋₃G₁,₃|0>,\n",
       " H₋₂,₁H₃,₁|0>,\n",
       " H₋₂,₁G₁,₂|0>,\n",
       " H₁,₋₂H₃,₁|0>,\n",
       " H₁,₋₂G₁,₃|0>,\n",
       " H₋₃,₁G₁,₃|0>,\n",
       " H₁,₋₂H₁,₃|0>,\n",
       " H₋₂,₁H₁,₋₂G₂,₃|0>,\n",
       " H₁,₋₂H₋₂,₁G₂,₃|0>,\n",
       " H₋₃,₁H₁,₃|0>,\n",
       " H₋₃,₂G₁,₂|0>,\n",
       " H₂,₁G₋₃,₂|0>,\n",
       " H₋₃,₁G₂,₃G₋₃,₂|0>,\n",
       " H₋₃,₂H₂,₁|0>,\n",
       " H₂,₋₃G₁,₂|0>,\n",
       " H₁,₋₂G₁,₂|0>,\n",
       " H₁,₋₂H₂,₁|0>,\n",
       " H₋₂,₁H₋₂,₁G₂,₃|0>,\n",
       " H₋₂,₁H₂,₁|0>,\n",
       " H₋₃,₁G₁,₂|0>,\n",
       " H₁,₋₃G₁,₃|0>,\n",
       " H₁,₋₂H₁,₂|0>,\n",
       " H₋₂,₁H₁,₂|0>,\n",
       " H₁,₂G₋₃,₂|0>,\n",
       " H₂,₋₃H₁,₂|0>,\n",
       " H₁,₋₃G₂,₃G₋₃,₂|0>,\n",
       " H₁,₋₃H₃,₁|0>,\n",
       " H₁,₋₃G₁,₂|0>,\n",
       " H₁,₋₃H₁,₃|0>,\n",
       " H₁,₋₂H₋₃,₂G₁,₃|0>,\n",
       " H₃,₃G₁,₃|0>,\n",
       " H₁,₃G₂,₃|0>,\n",
       " H₃,₃H₁,₃|0>,\n",
       " H₂,₃G₁,₃|0>,\n",
       " H₃,₃H₃,₁|0>,\n",
       " H₃,₃H₋₃,₂G₁,₃|0>,\n",
       " H₃,₂G₁,₃|0>,\n",
       " H₃,₃G₁,₃G₋₃,₂|0>,\n",
       " H₃,₃G₁,₂|0>,\n",
       " H₃,₂H₁,₃|0>,\n",
       " H₁,₃G₁,₃|0>,\n",
       " H₃,₁G₂,₃|0>,\n",
       " H₃,₂H₃,₁|0>,\n",
       " H₃,₂G₁,₂|0>,\n",
       " H₂,₃H₁,₃|0>,\n",
       " H₂,₃H₃,₁|0>,\n",
       " H₂,₃G₁,₂|0>,\n",
       " H₋₂,₁H₂,₋₃G₁,₃|0>,\n",
       " H₋₃,₁H₃,₁|0>,\n",
       " H₃,₃H₂,₋₃G₁,₃|0>,\n",
       " H₃,₁G₁,₃|0>,\n",
       " H₋₂,₁G₁,₃G₋₃,₂|0>,\n",
       " H₁,₋₂H₋₃,₂H₁,₃|0>,\n",
       " H₋₃,₂H₁,₂|0>,\n",
       " H₋₃,₂H₋₂,₁G₂,₃G₋₃,₂|0>,\n",
       " H₋₃,₂G₂,₃G₋₃,₁|0>,\n",
       " H₋₃,₂H₋₃,₂H₃,₁|0>,\n",
       " H₋₃,₂H₂,₋₃G₁,₃|0>,\n",
       " H₂,₋₃H₋₃,₂H₁,₃|0>,\n",
       " H₋₃,₂H₃,₁G₋₃,₂|0>,\n",
       " H₂,₋₃H₁,₃G₋₃,₂|0>,\n",
       " H₋₃,₂H₁,₋₂G₂,₃G₋₃,₂|0>,\n",
       " H₂,₋₃G₁,₃G₋₃,₂|0>,\n",
       " H₋₃,₂H₁,₃G₋₃,₂|0>,\n",
       " H₋₃,₂H₋₃,₂G₁,₃|0>,\n",
       " H₋₃,₂H₂,₋₃H₁,₃|0>,\n",
       " H₋₃,₂H₃,₂G₋₃,₁|0>,\n",
       " H₋₃,₂H₁,₋₃G₂,₃|0>,\n",
       " H₋₃,₂H₂,₃G₋₃,₁|0>,\n",
       " H₋₃,₂H₋₃,₁G₂,₃|0>,\n",
       " H₂,₋₃H₋₃,₂G₁,₃|0>,\n",
       " H₋₃,₂G₁,₃G₋₃,₂|0>,\n",
       " H₁,₋₂H₁,₋₂G₂,₃G₋₃,₂|0>,\n",
       " H₁,₋₂H₋₃,₁G₂,₃|0>,\n",
       " H₁,₋₂G₂,₃G₋₃,₁|0>,\n",
       " H₁,₋₂H₃,₁G₋₃,₂|0>,\n",
       " H₁,₋₂H₋₂,₁G₂,₃G₋₃,₂|0>,\n",
       " H₁,₋₂H₂,₋₃G₁,₃|0>,\n",
       " H₁,₋₂H₃,₂G₋₃,₁|0>,\n",
       " H₁,₋₂H₁,₃G₋₃,₂|0>,\n",
       " H₁,₋₂H₁,₋₃G₂,₃|0>,\n",
       " H₁,₋₂H₂,₋₃H₁,₃|0>]"
      ]
     },
     "execution_count": 61,
     "metadata": {},
     "output_type": "execute_result"
    }
   ],
   "source": [
    "list(coder_so.Yangian_irrep.basis)"
   ]
  },
  {
   "cell_type": "code",
   "execution_count": 21,
   "metadata": {},
   "outputs": [],
   "source": [
    "RR=coder_so.Lvect.coordinates.remember"
   ]
  },
  {
   "cell_type": "code",
   "execution_count": 22,
   "metadata": {},
   "outputs": [
    {
     "data": {
      "text/plain": [
       "\"[[3, [u**2 - 1/4, u**2 + u + 1/4, u**2 + u + 1/4, u**2 - u + 1/4, u**2 - u + 1/4, u**2 - 1/4], {(): 1, (('Hll', -2, 1),): 0, (('Gll', -3, 2),): -1/2H₋\""
      ]
     },
     "execution_count": 22,
     "metadata": {},
     "output_type": "execute_result"
    }
   ],
   "source": [
    "str(RR)[:150]"
   ]
  },
  {
   "cell_type": "code",
   "execution_count": 26,
   "metadata": {},
   "outputs": [],
   "source": [
    "t,=coder_so.Lvect.coordinates.remember\n",
    "def sd(d): return \"{\"+\",\".join(str(k)+':coder_so.sympy.sympify(\"'+str(d[k])+'\")' for k in d)+\"}\"\n",
    "s=r\"coder_so.Lvect.coordinates.remember=[[{},{},{}]]\".format(t[0],\"[\"+\",\".join(\"sympy.sympify({})\".format(str(w)) for w in t[1])+\"]\",\n",
    "                \"{\"+\"\\n,\".join(str(x)+\":coder_so.Lprod(\"+sd(t[2][x]._terms)+\",r=3)\"for x in t[2])+\"}\" )"
   ]
  },
  {
   "cell_type": "code",
   "execution_count": 27,
   "metadata": {},
   "outputs": [],
   "source": [
    "with open(\"remember.py\",\"w\") as f:f.write(s)"
   ]
  },
  {
   "cell_type": "code",
   "execution_count": 23,
   "metadata": {},
   "outputs": [
    {
     "data": {
      "text/plain": [
       "{(): 1}"
      ]
     },
     "execution_count": 23,
     "metadata": {},
     "output_type": "execute_result"
    }
   ],
   "source": [
    "%run rem"
   ]
  },
  {
   "cell_type": "code",
   "execution_count": 16,
   "metadata": {},
   "outputs": [
    {
     "data": {
      "text/plain": [
       "{4: 1}"
      ]
     },
     "execution_count": 16,
     "metadata": {},
     "output_type": "execute_result"
    }
   ],
   "source": [
    "r=3;a=2;s=1\n",
    "LV=coder_so.Lvect.vac(r=r,weights=coder_so.Rectweights(r=r,a=a,s=s))\n",
    "LV.coordinates(Gcoords=(a,r,s),)"
   ]
  },
  {
   "cell_type": "code",
   "execution_count": 14,
   "metadata": {},
   "outputs": [
    {
     "ename": "SyntaxError",
     "evalue": "invalid syntax (1185250685.py, line 1)",
     "output_type": "error",
     "traceback": [
      "\u001b[0;36m  File \u001b[0;32m\"/tmp/ipykernel_10781/1185250685.py\"\u001b[0;36m, line \u001b[0;32m1\u001b[0m\n\u001b[0;31m    basis[b] was an Lprod instead of a dict\u001b[0m\n\u001b[0m             ^\u001b[0m\n\u001b[0;31mSyntaxError\u001b[0m\u001b[0;31m:\u001b[0m invalid syntax\n"
     ]
    }
   ],
   "source": [
    "basis[b] was an Lprod instead of a dict"
   ]
  },
  {
   "cell_type": "raw",
   "metadata": {},
   "source": [
    "Blocks like \n",
    "\n",
    " │  │  │  │  │  │  │  │  │  │  │  │  │  │  ├─coordinates(1365/1628H₁,₋₃G₋₃,₂|0>,...\n",
    " │  │  │  │  │  │  │  │  │  │  │  │  │  │  │  ├─coordinates(1365/1628H₁,₋₃G₋₃,₂|...\n",
    " │  │  │  │  │  │  │  │  │  │  │  │  │  │  │  │  ├─simp(1365/1628H₁,₋₃G₋₃,₂|0>,r...\n",
    " │  │  │  │  │  │  │  │  │  │  │  │  │  │  │  │  │  └─1365/1628H₁,₋₃G₋₃,₂|0>\n",
    " │  │  │  │  │  │  │  │  │  │  │  │  │  │  │  ├─simp(H₁,₋₃G₋₃,₂|0>,replacements=...\n",
    " │  │  │  │  │  │  │  │  │  │  │  │  │  │  │  │  └─H₁,₋₃G₋₃,₂|0>\n",
    "\n",
    "\n",
    "seem excessively slow"
   ]
  },
  {
   "cell_type": "raw",
   "metadata": {},
   "source": [
    "In the example below, we see the same as the \"bug\" below....\n",
    "It comes from a need to keep replacing_right after the Cartans.\n",
    "\n",
    "One possible way out would be to insert the cartans into the initial \"right_replacement\"\n",
    "\n",
    "\n",
    "\n",
    " │  │  │  │  ├─simp(H₋₁,₋₃H₋₂,₁|0>,replacements={G₋₃,₋₃|0>: 0, H₋₃,₋₃|0>: 0, G₋₃...\n",
    " │  │  │  │  │  ├─sort(H₋₁,₋₃H₋₂,₁,right_replacements={(('Gll', -3, -3),): 0, ((...\n",
    " │  │  │  │  │  │  ├─replace_right(H₋₁,₋₃H₋₂,₁)\n",
    " │  │  │  │  │  │  │  └─H₋₁,₋₃H₋₂,₁\n",
    " │  │  │  │  │  │  ├─replace_right(-H₋₁,₁G₋₂,₋₃+H₋₂,₁H₋₁,₋₃+H₋₂,₋₃G₋₁,₁)\n",
    " │  │  │  │  │  │  │  └─H₋₂,₋₃G₋₁,₁\n",
    " │  │  │  │  │  └─-H₋₂,₋₃|0>\n",
    " │  │  │  │  ├─coordinates(-H₋₂,₋₃|0>,replacements={G₋₃,₋₃|0>: 0, H₋₃,₋₃|0>: 0, ...\n",
    " │  │  │  │  │  ├─coordinates(-H₋₂,₋₃|0>,nosave=True,replacements={G₋₃,₋₃|0>: 0,...\n",
    " │  │  │  │  │  │  ├─simp(-H₋₂,₋₃|0>,replacements={G₋₃,₋₃|0>: 0, H₋₃,₋₃|0>: 0, G...\n",
    " │  │  │  │  │  │  │  ├─sort(-H₋₂,₋₃,right_replacements={(('Gll', -3, -3),): 0, ...\n",
    " │  │  │  │  │  │  │  │  ├─replace_right(-H₋₂,₋₃)\n",
    " │  │  │  │  │  │  │  │  │  └─0\n",
    " │  │  │  │  │  │  │  └─0"
   ]
  },
  {
   "cell_type": "raw",
   "metadata": {},
   "source": [
    "bug in :\n",
    "\n",
    "├─   G₃,₃G₋₃,₂|0> =0\n",
    "\n",
    "\n",
    "│││││││││├─simp(H₋₂,₃H₃,₂G₋₃,₂|0>,replacements={G₋₃,₋₃|0>: 0,...\\n\",\n",
    "││││││││││└─-1/2H₃,₂|0>-1/4G₃,₃G₋₃,₂|0>\\n\",\n",
    "│││││││││├─coordinates(-1/2H₃,₂|0>-1/4G₃,₃G₋₃,₂|0>,replacemen...\\n\",\n",
    "││││││││││├─simp(-1/2H₃,₂|0>-1/4G₃,₃G₋₃,₂|0>,replacements={...\\n\",\n",
    "│││││││││││└─-1/2H₃,₂|0>\\n\",\n",
    "\n",
    "which tells that at some points, there are thing that were not remembered correctly!"
   ]
  },
  {
   "cell_type": "code",
   "execution_count": 41,
   "metadata": {},
   "outputs": [
    {
     "data": {
      "text/plain": [
       "λ₋₁⁽²⁾|0>"
      ]
     },
     "execution_count": 41,
     "metadata": {},
     "output_type": "execute_result"
    }
   ],
   "source": [
    "coder_so.Lvect((\"Hk\",1,-1),r=3)"
   ]
  },
  {
   "cell_type": "code",
   "execution_count": 45,
   "metadata": {},
   "outputs": [
    {
     "data": {
      "text/plain": [
       "H₁,₋₁|0>"
      ]
     },
     "execution_count": 45,
     "metadata": {},
     "output_type": "execute_result"
    }
   ],
   "source": [
    "coder_so.Lprod((\"Hk\",1,-1))*coder_so.Lvect(tuple(),r=3)"
   ]
  },
  {
   "cell_type": "code",
   "execution_count": 46,
   "metadata": {},
   "outputs": [
    {
     "data": {
      "text/plain": [
       "λ₋₁⁽²⁾|0>"
      ]
     },
     "execution_count": 46,
     "metadata": {},
     "output_type": "execute_result"
    }
   ],
   "source": [
    "_45.simp()"
   ]
  },
  {
   "cell_type": "markdown",
   "metadata": {},
   "source": [
    "The corresponding calls are    \n",
    "`self=self.simp(inplace=False,**{k:brgs[k] for k in [\"replacements\",\"verbose\",\"printleft\"] if k in brgs})`    \n",
    "vs         \n",
    "`(a*T).simp(**{k:brgs[k] for k in [\"replacements\",\"verbose\",\"printleft\"] if k in brgs})`     \n",
    "\n",
    "They differ only by an `inplace=False`.\n",
    "\n",
    "Well actually no, there's another way that it differs: the first ont does some simplifications. Might ommit to check for replacements in the process of doing these simplifcations."
   ]
  },
  {
   "cell_type": "markdown",
   "metadata": {},
   "source": [
    "todo: verbosify `replace_right`"
   ]
  },
  {
   "cell_type": "raw",
   "metadata": {},
   "source": [
    "same problem as before: \n",
    " │  │  │  │  ├─simp(H₋₁,₋₂H₋₂,₁|0>,replacements={G₋₃,₋₃|0>: 0, H₋₃,₋₃|0>: 0, G₋₃...\n",
    " │  │  │  │  │  └─-H₋₂,₋₂|0>\n",
    " │  │  │  │  ├─coordinates(-H₋₂,₋₂|0>,replacements={G₋₃,₋₃|0>: 0, H₋₃,₋₃|0>: 0, ...\n",
    " │  │  │  │  │  ├─coordinates(-H₋₂,₋₂|0>,nosave=True,replacements={G₋₃,₋₃|0>: 0,...\n",
    " │  │  │  │  │  │  ├─simp(-H₋₂,₋₂|0>,replacements={G₋₃,₋₃|0>: 0, H₋₃,₋₃|0>: 0, G...\n",
    " │  │  │  │  │  │  │  └─0\n",
    " │  │  │  │  │  ├─simp(H₋₂,₋₂|0>,replacements={G₋₃,₋₃|0>: 0, H₋₃,₋₃|0>: 0, G₋₃,₋...\n",
    " │  │  │  │  │  │  └─0"
   ]
  },
  {
   "cell_type": "markdown",
   "metadata": {},
   "source": [
    "Issues: I neither manadge to verbosify replace_right nor sort"
   ]
  },
  {
   "cell_type": "markdown",
   "metadata": {},
   "source": [
    "Trouble was: replace_right needs iterations, many replacements could be necessary !!!\n",
    "\n",
    "$\\to$ actually already seems to be doing that..."
   ]
  },
  {
   "cell_type": "code",
   "execution_count": 8,
   "metadata": {},
   "outputs": [
    {
     "data": {
      "text/plain": [
       "'L'"
      ]
     },
     "execution_count": 8,
     "metadata": {},
     "output_type": "execute_result"
    }
   ],
   "source": [
    "\"Lll\"[::3]"
   ]
  },
  {
   "cell_type": "code",
   "execution_count": 5,
   "metadata": {},
   "outputs": [
    {
     "data": {
      "text/plain": [
       "[]"
      ]
     },
     "execution_count": 5,
     "metadata": {},
     "output_type": "execute_result"
    }
   ],
   "source": [
    "coder_so.Yangian_irrep.kept_free"
   ]
  },
  {
   "cell_type": "code",
   "execution_count": 27,
   "metadata": {},
   "outputs": [],
   "source": [
    "nn=list(coder_so.Yangian_irrep.basis)[1]"
   ]
  },
  {
   "cell_type": "code",
   "execution_count": 28,
   "metadata": {},
   "outputs": [
    {
     "data": {
      "text/plain": [
       "True"
      ]
     },
     "execution_count": 28,
     "metadata": {},
     "output_type": "execute_result"
    }
   ],
   "source": [
    "coder_so.Lvect(coder_so.Lprod(('Hll', -2, 1)),r=nn.r,weights=nn.weights,nosimp=True) in coder_so.Yangian_irrep.replacements"
   ]
  },
  {
   "cell_type": "code",
   "execution_count": 29,
   "metadata": {},
   "outputs": [
    {
     "data": {
      "text/plain": [
       "False"
      ]
     },
     "execution_count": 29,
     "metadata": {},
     "output_type": "execute_result"
    }
   ],
   "source": [
    "coder_so.Lvect(coder_so.Lprod(('Hll',-3,-3),r=nn.r),r=nn.r,weights=nn.weights,nosimp=True) in coder_so.Yangian_irrep.replacements"
   ]
  },
  {
   "cell_type": "code",
   "execution_count": 30,
   "metadata": {},
   "outputs": [
    {
     "data": {
      "text/plain": [
       "H₋₃,₋₃|0>"
      ]
     },
     "execution_count": 30,
     "metadata": {},
     "output_type": "execute_result"
    }
   ],
   "source": [
    "list(coder_so.Yangian_irrep.replacements)[1]"
   ]
  },
  {
   "cell_type": "code",
   "execution_count": 32,
   "metadata": {},
   "outputs": [
    {
     "data": {
      "text/plain": [
       "False"
      ]
     },
     "execution_count": 32,
     "metadata": {},
     "output_type": "execute_result"
    }
   ],
   "source": [
    "A=coder_so.Lvect(coder_so.Lprod(('Hll',-3,-3),r=nn.r),r=nn.r,weights=nn.weights,nosimp=True)\n",
    "B=list(coder_so.Yangian_irrep.replacements)[1]\n",
    "A.__hash__()==B.__hash__()"
   ]
  },
  {
   "cell_type": "markdown",
   "metadata": {},
   "source": [
    "some still have an r=None !! (see below)"
   ]
  },
  {
   "cell_type": "code",
   "execution_count": 37,
   "metadata": {},
   "outputs": [
    {
     "data": {
      "text/plain": [
       "(3, None)"
      ]
     },
     "execution_count": 37,
     "metadata": {},
     "output_type": "execute_result"
    }
   ],
   "source": [
    "A.Lprod.r,B.Lprod.r"
   ]
  },
  {
   "cell_type": "code",
   "execution_count": 34,
   "metadata": {},
   "outputs": [
    {
     "data": {
      "text/plain": [
       "H₋₃,₋₃|0>"
      ]
     },
     "execution_count": 34,
     "metadata": {},
     "output_type": "execute_result"
    }
   ],
   "source": [
    "B"
   ]
  },
  {
   "cell_type": "code",
   "execution_count": 19,
   "metadata": {},
   "outputs": [
    {
     "data": {
      "text/plain": [
       "H₋₃,₋₃|0>"
      ]
     },
     "execution_count": 19,
     "metadata": {},
     "output_type": "execute_result"
    }
   ],
   "source": [
    "coder_so.Lvect(coder_so.Lprod(('Hll',-3,-3),r=nn.r),r=nn.r,weights=nn.weights,nosimp=True)"
   ]
  },
  {
   "cell_type": "code",
   "execution_count": 20,
   "metadata": {},
   "outputs": [
    {
     "data": {
      "text/plain": [
       "False"
      ]
     },
     "execution_count": 20,
     "metadata": {},
     "output_type": "execute_result"
    }
   ],
   "source": [
    "_17==_19"
   ]
  },
  {
   "cell_type": "code",
   "execution_count": 24,
   "metadata": {},
   "outputs": [
    {
     "data": {
      "text/plain": [
       "True"
      ]
     },
     "execution_count": 24,
     "metadata": {},
     "output_type": "execute_result"
    }
   ],
   "source": [
    "_17.__hash__()==_19.__hash__()"
   ]
  },
  {
   "cell_type": "code",
   "execution_count": 21,
   "metadata": {},
   "outputs": [
    {
     "data": {
      "text/plain": [
       "True"
      ]
     },
     "execution_count": 21,
     "metadata": {},
     "output_type": "execute_result"
    }
   ],
   "source": [
    "_17.Lprod==_19.Lprod"
   ]
  },
  {
   "cell_type": "code",
   "execution_count": 22,
   "metadata": {},
   "outputs": [
    {
     "data": {
      "text/plain": [
       "True"
      ]
     },
     "execution_count": 22,
     "metadata": {},
     "output_type": "execute_result"
    }
   ],
   "source": [
    "_17.r==_19.r"
   ]
  },
  {
   "cell_type": "code",
   "execution_count": 23,
   "metadata": {},
   "outputs": [
    {
     "data": {
      "text/plain": [
       "True"
      ]
     },
     "execution_count": 23,
     "metadata": {},
     "output_type": "execute_result"
    }
   ],
   "source": [
    "_17.weights==_19.weights"
   ]
  },
  {
   "cell_type": "code",
   "execution_count": 14,
   "metadata": {},
   "outputs": [
    {
     "data": {
      "text/plain": [
       "{G₋₃,₋₃|0>: 0,\n",
       " H₋₃,₋₃|0>: 0,\n",
       " G₋₃,₋₂|0>: 0,\n",
       " H₋₃,₋₂|0>: 0,\n",
       " G₋₃,₋₁|0>: 0,\n",
       " H₋₃,₋₁|0>: 0,\n",
       " G₋₂,₋₃|0>: 0,\n",
       " H₋₂,₋₃|0>: 0,\n",
       " G₋₂,₋₂|0>: 0,\n",
       " H₋₂,₋₂|0>: 0,\n",
       " G₋₂,₋₁|0>: 0,\n",
       " H₋₂,₋₁|0>: 0,\n",
       " G₋₂,₃|0>: 0,\n",
       " H₋₂,₃|0>: 0,\n",
       " G₋₁,₋₃|0>: 0,\n",
       " H₋₁,₋₃|0>: 0,\n",
       " G₋₁,₋₂|0>: 0,\n",
       " H₋₁,₋₂|0>: 0,\n",
       " G₋₁,₋₁|0>: 0,\n",
       " H₋₁,₋₁|0>: 0,\n",
       " G₋₁,₂|0>: 0,\n",
       " H₋₁,₂|0>: 0,\n",
       " G₋₁,₃|0>: 0,\n",
       " H₋₁,₃|0>: 0,\n",
       " G₂,₋₁|0>: 0,\n",
       " H₂,₋₁|0>: 0,\n",
       " G₃,₋₂|0>: 0,\n",
       " H₃,₋₂|0>: 0,\n",
       " G₃,₋₁|0>: 0,\n",
       " H₃,₋₁|0>: 0,\n",
       " G₋₂,₁|0>: 0,\n",
       " G₁,₋₃|0>: -G₋₃,₁|0>,\n",
       " G₁,₋₂|0>: 0,\n",
       " G₁,₁|0>: 0,\n",
       " G₂,₋₃|0>: -G₋₃,₂|0>,\n",
       " G₂,₁|0>: -G₁,₂|0>,\n",
       " G₂,₂|0>: 0,\n",
       " G₃,₁|0>: -G₁,₃|0>,\n",
       " G₃,₂|0>: -G₂,₃|0>,\n",
       " G₃,₃|0>: 0,\n",
       " G₋₃,₁G₋₃,₁|0>: 0,\n",
       " G₋₃,₂G₋₃,₁|0>: 0,\n",
       " G₋₂,₁G₋₃,₁|0>: 0,\n",
       " G₁,₋₃G₋₃,₁|0>: 0,\n",
       " G₁,₋₂G₋₃,₁|0>: 0,\n",
       " G₁,₁G₋₃,₁|0>: 0,\n",
       " G₂,₋₃G₋₃,₁|0>: 0,\n",
       " G₂,₁G₋₃,₁|0>: -G₁,₂G₋₃,₁|0>,\n",
       " G₂,₂G₋₃,₁|0>: 0,\n",
       " G₃,₁G₋₃,₁|0>: -G₁,₃G₋₃,₁|0>,\n",
       " G₃,₂G₋₃,₁|0>: -G₂,₃G₋₃,₁|0>,\n",
       " G₃,₃G₋₃,₁|0>: 0,\n",
       " G₋₃,₁G₋₃,₂|0>: 0,\n",
       " G₋₃,₂G₋₃,₂|0>: 0,\n",
       " G₋₂,₁G₋₃,₂|0>: G₋₃,₁|0>,\n",
       " G₁,₋₃G₋₃,₂|0>: 0,\n",
       " G₁,₋₂G₋₃,₂|0>: -G₋₃,₁|0>,\n",
       " G₁,₁G₋₃,₂|0>: 0,\n",
       " G₂,₋₃G₋₃,₂|0>: 0,\n",
       " G₂,₁G₋₃,₂|0>: -G₁,₂G₋₃,₂|0>,\n",
       " G₂,₂G₋₃,₂|0>: 0,\n",
       " G₃,₁G₋₃,₂|0>: -G₁,₃G₋₃,₂|0>,\n",
       " G₃,₂G₋₃,₂|0>: -G₂,₃G₋₃,₂|0>,\n",
       " G₃,₃G₋₃,₂|0>: 0,\n",
       " G₋₃,₁G₁,₂|0>: G₁,₂G₋₃,₁|0>,\n",
       " G₋₃,₂G₁,₂|0>: G₁,₂G₋₃,₂|0>,\n",
       " G₋₂,₁G₁,₂|0>: 0,\n",
       " G₁,₋₃G₁,₂|0>: -G₁,₂G₋₃,₁|0>,\n",
       " G₁,₋₂G₁,₂|0>: 0,\n",
       " G₁,₁G₁,₂|0>: 0,\n",
       " G₂,₋₃G₁,₂|0>: -G₁,₂G₋₃,₂|0>,\n",
       " G₂,₁G₁,₂|0>: -G₁,₂G₁,₂|0>,\n",
       " G₂,₂G₁,₂|0>: 0,\n",
       " G₃,₁G₁,₂|0>: -G₁,₃G₁,₂|0>,\n",
       " G₃,₂G₁,₂|0>: -G₂,₃G₁,₂|0>,\n",
       " G₃,₃G₁,₂|0>: 0,\n",
       " G₋₃,₁G₁,₃|0>: G₁,₃G₋₃,₁|0>,\n",
       " G₋₃,₂G₁,₃|0>: G₁,₂|0>+G₁,₃G₋₃,₂|0>,\n",
       " G₋₂,₁G₁,₃|0>: 0,\n",
       " G₁,₋₃G₁,₃|0>: -G₁,₃G₋₃,₁|0>,\n",
       " G₁,₋₂G₁,₃|0>: 0,\n",
       " G₁,₁G₁,₃|0>: 0,\n",
       " G₁,₂G₁,₃|0>: G₁,₃G₁,₂|0>,\n",
       " G₁,₃G₁,₃|0>: 0,\n",
       " G₂,₋₃G₁,₃|0>: -G₁,₂|0>-G₁,₃G₋₃,₂|0>,\n",
       " G₂,₁G₁,₃|0>: -G₁,₃G₁,₂|0>,\n",
       " G₂,₂G₁,₃|0>: 0,\n",
       " G₂,₃G₁,₃|0>: 0,\n",
       " G₃,₁G₁,₃|0>: 0,\n",
       " G₃,₂G₁,₃|0>: 0,\n",
       " G₃,₃G₁,₃|0>: 0,\n",
       " G₋₃,₁G₂,₃|0>: G₂,₃G₋₃,₁|0>-G₁,₂|0>,\n",
       " G₋₃,₂G₂,₃|0>: G₂,₃G₋₃,₂|0>,\n",
       " G₋₂,₁G₂,₃|0>: G₁,₃|0>,\n",
       " G₁,₋₃G₂,₃|0>: -G₂,₃G₋₃,₁|0>+G₁,₂|0>,\n",
       " G₁,₋₂G₂,₃|0>: -G₁,₃|0>,\n",
       " G₁,₁G₂,₃|0>: 0,\n",
       " G₁,₂G₂,₃|0>: G₂,₃G₁,₂|0>,\n",
       " G₁,₃G₂,₃|0>: 0,\n",
       " G₂,₋₃G₂,₃|0>: -G₂,₃G₋₃,₂|0>,\n",
       " G₂,₁G₂,₃|0>: -G₂,₃G₁,₂|0>,\n",
       " G₂,₂G₂,₃|0>: 0,\n",
       " G₂,₃G₂,₃|0>: 0,\n",
       " G₃,₁G₂,₃|0>: 0,\n",
       " G₃,₂G₂,₃|0>: 0,\n",
       " G₃,₃G₂,₃|0>: 0,\n",
       " G₋₃,₁G₁,₂G₋₃,₁|0>: 0,\n",
       " G₋₃,₂G₁,₂G₋₃,₁|0>: 0,\n",
       " G₋₂,₁G₁,₂G₋₃,₁|0>: 0,\n",
       " G₁,₋₃G₁,₂G₋₃,₁|0>: 0,\n",
       " G₁,₋₂G₁,₂G₋₃,₁|0>: 0,\n",
       " G₁,₁G₁,₂G₋₃,₁|0>: 0,\n",
       " G₁,₂G₁,₂G₋₃,₁|0>: 0,\n",
       " G₁,₃G₁,₂G₋₃,₁|0>: 0,\n",
       " G₂,₋₃G₁,₂G₋₃,₁|0>: 0,\n",
       " G₂,₁G₁,₂G₋₃,₁|0>: 0,\n",
       " G₂,₂G₁,₂G₋₃,₁|0>: 0,\n",
       " G₂,₃G₁,₂G₋₃,₁|0>: 1/2G₁,₂G₁,₂|0>,\n",
       " G₃,₁G₁,₂G₋₃,₁|0>: 0,\n",
       " G₃,₂G₁,₂G₋₃,₁|0>: -1/2G₁,₂G₁,₂|0>,\n",
       " G₃,₃G₁,₂G₋₃,₁|0>: 0,\n",
       " G₋₃,₁G₁,₃G₋₃,₁|0>: 0,\n",
       " G₋₃,₂G₁,₃G₋₃,₁|0>: G₁,₂G₋₃,₁|0>,\n",
       " G₋₂,₁G₁,₃G₋₃,₁|0>: 0,\n",
       " G₁,₋₃G₁,₃G₋₃,₁|0>: 0,\n",
       " G₁,₋₂G₁,₃G₋₃,₁|0>: 0,\n",
       " G₁,₁G₁,₃G₋₃,₁|0>: 0,\n",
       " G₁,₂G₁,₃G₋₃,₁|0>: 0,\n",
       " G₁,₃G₁,₃G₋₃,₁|0>: 0,\n",
       " G₂,₋₃G₁,₃G₋₃,₁|0>: -G₁,₂G₋₃,₁|0>,\n",
       " G₂,₁G₁,₃G₋₃,₁|0>: 0,\n",
       " G₂,₂G₁,₃G₋₃,₁|0>: 0,\n",
       " G₂,₃G₁,₃G₋₃,₁|0>: G₁,₃G₁,₂|0>,\n",
       " G₃,₁G₁,₃G₋₃,₁|0>: 0,\n",
       " G₃,₂G₁,₃G₋₃,₁|0>: -G₁,₃G₁,₂|0>,\n",
       " G₃,₃G₁,₃G₋₃,₁|0>: 0,\n",
       " G₋₃,₁G₂,₃G₋₃,₁|0>: -G₁,₂G₋₃,₁|0>,\n",
       " G₋₃,₂G₂,₃G₋₃,₁|0>: 0,\n",
       " G₋₂,₁G₂,₃G₋₃,₁|0>: G₁,₃G₋₃,₁|0>,\n",
       " G₁,₋₃G₂,₃G₋₃,₁|0>: G₁,₂G₋₃,₁|0>,\n",
       " G₁,₋₂G₂,₃G₋₃,₁|0>: -G₁,₃G₋₃,₁|0>,\n",
       " G₁,₁G₂,₃G₋₃,₁|0>: 0,\n",
       " G₁,₂G₂,₃G₋₃,₁|0>: 1/2G₁,₂G₁,₂|0>,\n",
       " G₁,₃G₂,₃G₋₃,₁|0>: G₁,₃G₁,₂|0>,\n",
       " G₂,₋₃G₂,₃G₋₃,₁|0>: 0,\n",
       " G₂,₁G₂,₃G₋₃,₁|0>: -1/2G₁,₂G₁,₂|0>,\n",
       " G₂,₂G₂,₃G₋₃,₁|0>: 0,\n",
       " G₂,₃G₂,₃G₋₃,₁|0>: 2G₂,₃G₁,₂|0>,\n",
       " G₃,₁G₂,₃G₋₃,₁|0>: -G₁,₃G₁,₂|0>,\n",
       " G₃,₂G₂,₃G₋₃,₁|0>: -2G₂,₃G₁,₂|0>,\n",
       " G₃,₃G₂,₃G₋₃,₁|0>: 0,\n",
       " G₋₃,₁G₁,₂G₋₃,₂|0>: 0,\n",
       " G₋₃,₂G₁,₂G₋₃,₂|0>: 0,\n",
       " G₋₂,₁G₁,₂G₋₃,₂|0>: G₁,₂G₋₃,₁|0>,\n",
       " G₁,₋₃G₁,₂G₋₃,₂|0>: 0,\n",
       " G₁,₋₂G₁,₂G₋₃,₂|0>: -G₁,₂G₋₃,₁|0>,\n",
       " G₁,₁G₁,₂G₋₃,₂|0>: 0,\n",
       " G₁,₂G₁,₂G₋₃,₂|0>: 0,\n",
       " G₁,₃G₁,₂G₋₃,₂|0>: -1/2G₁,₂G₁,₂|0>,\n",
       " G₂,₋₃G₁,₂G₋₃,₂|0>: 0,\n",
       " G₂,₁G₁,₂G₋₃,₂|0>: 0,\n",
       " G₂,₂G₁,₂G₋₃,₂|0>: 0,\n",
       " G₂,₃G₁,₂G₋₃,₂|0>: 0,\n",
       " G₃,₁G₁,₂G₋₃,₂|0>: 1/2G₁,₂G₁,₂|0>,\n",
       " G₃,₂G₁,₂G₋₃,₂|0>: 0,\n",
       " G₃,₃G₁,₂G₋₃,₂|0>: 0,\n",
       " G₋₃,₁G₁,₃G₋₃,₂|0>: 0,\n",
       " G₋₃,₂G₁,₃G₋₃,₂|0>: G₁,₂G₋₃,₂|0>,\n",
       " G₋₂,₁G₁,₃G₋₃,₂|0>: G₁,₃G₋₃,₁|0>,\n",
       " G₁,₋₃G₁,₃G₋₃,₂|0>: 0,\n",
       " G₁,₋₂G₁,₃G₋₃,₂|0>: -G₁,₃G₋₃,₁|0>,\n",
       " G₁,₁G₁,₃G₋₃,₂|0>: 0,\n",
       " G₁,₂G₁,₃G₋₃,₂|0>: -1/2G₁,₂G₁,₂|0>,\n",
       " G₁,₃G₁,₃G₋₃,₂|0>: -2G₁,₃G₁,₂|0>,\n",
       " G₂,₋₃G₁,₃G₋₃,₂|0>: -G₁,₂G₋₃,₂|0>,\n",
       " G₂,₁G₁,₃G₋₃,₂|0>: 1/2G₁,₂G₁,₂|0>,\n",
       " G₂,₂G₁,₃G₋₃,₂|0>: 0,\n",
       " G₂,₃G₁,₃G₋₃,₂|0>: -G₂,₃G₁,₂|0>,\n",
       " G₃,₁G₁,₃G₋₃,₂|0>: 2G₁,₃G₁,₂|0>,\n",
       " G₃,₂G₁,₃G₋₃,₂|0>: G₂,₃G₁,₂|0>,\n",
       " G₃,₃G₁,₃G₋₃,₂|0>: 0,\n",
       " G₋₃,₁G₂,₃G₋₃,₂|0>: -G₁,₂G₋₃,₂|0>,\n",
       " G₋₃,₂G₂,₃G₋₃,₂|0>: 0,\n",
       " G₋₂,₁G₂,₃G₋₃,₂|0>: G₂,₃G₋₃,₁|0>+G₁,₃G₋₃,₂|0>,\n",
       " G₁,₋₃G₂,₃G₋₃,₂|0>: G₁,₂G₋₃,₂|0>,\n",
       " G₁,₋₂G₂,₃G₋₃,₂|0>: -G₂,₃G₋₃,₁|0>-G₁,₃G₋₃,₂|0>,\n",
       " G₁,₁G₂,₃G₋₃,₂|0>: 0,\n",
       " G₁,₂G₂,₃G₋₃,₂|0>: 0,\n",
       " G₁,₃G₂,₃G₋₃,₂|0>: -G₂,₃G₁,₂|0>,\n",
       " G₂,₋₃G₂,₃G₋₃,₂|0>: 0,\n",
       " G₂,₁G₂,₃G₋₃,₂|0>: 0,\n",
       " G₂,₂G₂,₃G₋₃,₂|0>: 0,\n",
       " G₂,₃G₂,₃G₋₃,₂|0>: 0,\n",
       " G₃,₁G₂,₃G₋₃,₂|0>: G₂,₃G₁,₂|0>,\n",
       " G₃,₂G₂,₃G₋₃,₂|0>: 0,\n",
       " G₃,₃G₂,₃G₋₃,₂|0>: 0,\n",
       " G₋₃,₁G₁,₂G₁,₂|0>: 0,\n",
       " G₋₃,₂G₁,₂G₁,₂|0>: 0,\n",
       " G₋₂,₁G₁,₂G₁,₂|0>: 0,\n",
       " G₁,₋₃G₁,₂G₁,₂|0>: 0,\n",
       " G₁,₋₂G₁,₂G₁,₂|0>: 0,\n",
       " G₁,₁G₁,₂G₁,₂|0>: 0,\n",
       " G₁,₂G₁,₂G₁,₂|0>: 0,\n",
       " G₁,₃G₁,₂G₁,₂|0>: 0,\n",
       " G₂,₋₃G₁,₂G₁,₂|0>: 0,\n",
       " G₂,₁G₁,₂G₁,₂|0>: 0,\n",
       " G₂,₂G₁,₂G₁,₂|0>: 0,\n",
       " G₂,₃G₁,₂G₁,₂|0>: 0,\n",
       " G₃,₁G₁,₂G₁,₂|0>: 0,\n",
       " G₃,₂G₁,₂G₁,₂|0>: 0,\n",
       " G₃,₃G₁,₂G₁,₂|0>: 0,\n",
       " G₋₃,₁G₁,₃G₁,₂|0>: 0,\n",
       " G₋₃,₂G₁,₃G₁,₂|0>: 1/2G₁,₂G₁,₂|0>,\n",
       " G₋₂,₁G₁,₃G₁,₂|0>: 0,\n",
       " G₁,₋₃G₁,₃G₁,₂|0>: 0,\n",
       " G₁,₋₂G₁,₃G₁,₂|0>: 0,\n",
       " G₁,₁G₁,₃G₁,₂|0>: 0,\n",
       " G₁,₂G₁,₃G₁,₂|0>: 0,\n",
       " G₁,₃G₁,₃G₁,₂|0>: 0,\n",
       " G₂,₋₃G₁,₃G₁,₂|0>: -1/2G₁,₂G₁,₂|0>,\n",
       " G₂,₁G₁,₃G₁,₂|0>: 0,\n",
       " G₂,₂G₁,₃G₁,₂|0>: 0,\n",
       " G₂,₃G₁,₃G₁,₂|0>: 0,\n",
       " G₃,₁G₁,₃G₁,₂|0>: 0,\n",
       " G₃,₂G₁,₃G₁,₂|0>: 0,\n",
       " G₃,₃G₁,₃G₁,₂|0>: 0,\n",
       " G₋₃,₁G₂,₃G₁,₂|0>: -1/2G₁,₂G₁,₂|0>,\n",
       " G₋₃,₂G₂,₃G₁,₂|0>: 0,\n",
       " G₋₂,₁G₂,₃G₁,₂|0>: G₁,₃G₁,₂|0>,\n",
       " G₁,₋₃G₂,₃G₁,₂|0>: 1/2G₁,₂G₁,₂|0>,\n",
       " G₁,₋₂G₂,₃G₁,₂|0>: -G₁,₃G₁,₂|0>,\n",
       " G₁,₁G₂,₃G₁,₂|0>: 0,\n",
       " G₁,₂G₂,₃G₁,₂|0>: 0,\n",
       " G₁,₃G₂,₃G₁,₂|0>: 0,\n",
       " G₂,₋₃G₂,₃G₁,₂|0>: 0,\n",
       " G₂,₁G₂,₃G₁,₂|0>: 0,\n",
       " G₂,₂G₂,₃G₁,₂|0>: 0,\n",
       " G₂,₃G₂,₃G₁,₂|0>: 0,\n",
       " G₃,₁G₂,₃G₁,₂|0>: 0,\n",
       " G₃,₂G₂,₃G₁,₂|0>: 0,\n",
       " G₃,₃G₂,₃G₁,₂|0>: 0,\n",
       " H₋₂,₁|0>: 0,\n",
       " H₁,₋₂|0>: 0,\n",
       " H₋₃,₂|0>: G₋₃,₂|0>,\n",
       " H₂,₋₃|0>: G₋₃,₂|0>,\n",
       " H₃,₃|0>: 0,\n",
       " G₋₃,₂H₋₃,₋₃|0>: 0,\n",
       " G₋₃,₂H₋₁,₋₃|0>: 0,\n",
       " G₋₃,₂H₂,₋₁|0>: 0,\n",
       " G₋₃,₂G₂,₋₁|0>: 0,\n",
       " G₋₃,₁H₋₃,₋₃|0>: 0,\n",
       " G₋₃,₁H₋₃,₋₂|0>: 0,\n",
       " G₋₃,₁H₋₂,₋₂|0>: 0,\n",
       " G₋₂,₁H₋₃,₋₃|0>: 0,\n",
       " G₋₂,₁H₋₃,₋₂|0>: 0,\n",
       " G₋₂,₁G₋₂,₁|0>: 0,\n",
       " G₋₃,₂H₋₃,₋₁|0>: 0,\n",
       " G₋₃,₂H₋₁,₂|0>: 0,\n",
       " G₂,₋₃H₋₃,₋₃|0>: 0,\n",
       " H₂,₋₃H₋₃,₋₃|0>: 0,\n",
       " H₁,₋₂H₋₃,₋₃|0>: 0,\n",
       " H₁,₋₂H₋₃,₋₂|0>: 0,\n",
       " H₁,₋₂G₋₂,₁|0>: 0,\n",
       " G₋₃,₁H₋₂,₋₃|0>: 0,\n",
       " H₋₂,₁G₁,₋₂|0>: 0,\n",
       " G₁,₋₂H₋₃,₋₃|0>: 0,\n",
       " G₁,₋₂H₋₂,₋₃|0>: 0,\n",
       " G₁,₋₂G₁,₋₂|0>: 0,\n",
       " G₃,₃H₋₃,₋₃|0>: 0,\n",
       " G₃,₃H₋₂,₋₃|0>: 0,\n",
       " G₃,₃G₁,₋₂|0>: 0,\n",
       " G₃,₃H₁,₋₃|0>: 0,\n",
       " G₋₂,₁G₃,₋₂|0>: 0,\n",
       " G₃,₃H₋₃,₋₂|0>: 0,\n",
       " G₃,₃G₋₂,₁|0>: 0,\n",
       " G₃,₃H₋₃,₁|0>: 0,\n",
       " G₁,₋₃G₋₃,₁H₋₃,₋₃|0>: 0,\n",
       " G₁,₋₃G₋₃,₂H₋₃,₋₃|0>: 0,\n",
       " G₋₃,₂G₁,₋₁H₋₃,₋₃|0>: 0,\n",
       " G₋₃,₂H₁,₋₂|0>: 0,\n",
       " G₋₃,₂H₋₂,₁|0>: 0,\n",
       " G₁,₋₂H₋₂,₁|0>: 0,\n",
       " H₁,₋₂H₋₂,₁|0>: 0,\n",
       " G₁,₋₂H₋₃,₋₂|0>: 0,\n",
       " G₁,₋₂G₋₂,₁|0>: 0,\n",
       " H₁,₋₂H₁,₋₂|0>: 0,\n",
       " G₁,₋₂H₁,₋₂|0>: 0,\n",
       " G₋₂,₁H₁,₋₂|0>: 0,\n",
       " G₂,₋₃H₁,₋₂|0>: 0,\n",
       " H₋₂,₁H₁,₋₂|0>: 0,\n",
       " H₁,₋₃H₋₃,₋₃|0>: 0,\n",
       " H₁,₋₃H₋₃,₋₂|0>: 0,\n",
       " G₁,₋₃H₋₃,₋₃|0>: 0,\n",
       " G₁,₋₃H₋₃,₋₂|0>: 0,\n",
       " G₃,₃G₋₃,₂H₋₃,₋₃|0>: 0,\n",
       " G₃,₃G₋₃,₂H₋₃,₋₁|0>: 0,\n",
       " G₃,₃G₋₃,₂H₋₁,₂|0>: 0,\n",
       " G₃,₃H₋₃,₂G₋₃,₂|0>: 0,\n",
       " H₃,₃G₋₃,₂H₋₃,₋₁|0>: 0,\n",
       " G₂,₃G₋₃,₂H₋₁,₂|0>: 0,\n",
       " G₁,₋₂H₃,₃|0>: 0,\n",
       " G₃,₃H₋₂,₁|0>: 0,\n",
       " G₃,₃H₋₂,₁G₋₃,₂|0>: 0,\n",
       " H₃,₃H₋₂,₁|0>: 0}"
      ]
     },
     "execution_count": 14,
     "metadata": {},
     "output_type": "execute_result"
    }
   ],
   "source": [
    "coder_so.Yangian_irrep.replacements"
   ]
  },
  {
   "cell_type": "code",
   "execution_count": 6,
   "metadata": {},
   "outputs": [
    {
     "data": {
      "text/plain": [
       "[(),\n",
       " (('Hll', -3, -2),),\n",
       " (('Hll', -2, -2),),\n",
       " (('Hll', 3, -2),),\n",
       " (('Hll', -2, 1),),\n",
       " (('Gll', -3, 2),),\n",
       " (('Hll', -3, -3),),\n",
       " (('Hll', -3, -1),),\n",
       " (('Hll', -1, 2),),\n",
       " (('Hll', -3, 2),),\n",
       " (('Hll', -1, -3),),\n",
       " (('Hll', 2, -1),),\n",
       " (('Gll', 2, -1),),\n",
       " (('Hll', 2, -3),),\n",
       " (('Hll', -2, -3),),\n",
       " (('Hll', -2, 3),),\n",
       " (('Hll', 1, -2),),\n",
       " (('Gll', -3, 1),),\n",
       " (('Gll', -2, 1),),\n",
       " (('Hll', -3, 1),),\n",
       " (('Gll', 1, -2),),\n",
       " (('Hll', 1, -3),),\n",
       " (('Hll', -1, 3),),\n",
       " (('Hll', 3, -1),),\n",
       " (('Hll', 3, 3),),\n",
       " (('Gll', 2, 3),),\n",
       " (('Hll', 3, 2),),\n",
       " (('Hll', 2, 3),),\n",
       " (('Gll', 1, 3),),\n",
       " (('Hll', 1, -2), ('Gll', -3, 2)),\n",
       " (('Hll', 3, 3), ('Gll', -3, 2)),\n",
       " (('Hll', 1, 3),),\n",
       " (('Gll', -3, 2), ('Hll', -3, -3)),\n",
       " (('Gll', -3, 2), ('Hll', -1, -3)),\n",
       " (('Gll', -3, 2), ('Hll', 2, -1)),\n",
       " (('Gll', -3, 2), ('Gll', 2, -1)),\n",
       " (('Hll', 2, -3), ('Gll', -3, 2)),\n",
       " (('Hll', 2, 2),),\n",
       " (('Hll', -2, 1), ('Gll', -3, 2)),\n",
       " (('Hll', 3, 1),),\n",
       " (('Gll', 1, 2),),\n",
       " (('Gll', -3, 1), ('Hll', -3, -3)),\n",
       " (('Gll', -3, 1), ('Hll', -3, -2)),\n",
       " (('Gll', -3, 1), ('Hll', -2, -2)),\n",
       " (('Hll', -2, 1), ('Gll', -3, 1)),\n",
       " (('Gll', -2, 1), ('Hll', -3, -3)),\n",
       " (('Gll', -2, 1), ('Hll', -3, -2)),\n",
       " (('Gll', -2, 1), ('Gll', -2, 1)),\n",
       " (('Gll', -2, 1), ('Hll', -3, 1)),\n",
       " (('Gll', -3, 2), ('Hll', -3, -1)),\n",
       " (('Gll', -3, 2), ('Hll', -1, 2)),\n",
       " (('Hll', -3, 2), ('Gll', -3, 2)),\n",
       " (('Hll', -3, 1), ('Gll', -3, 2)),\n",
       " (('Hll', -3, 2), ('Gll', -3, 1)),\n",
       " (('Gll', -3, 2), ('Hll', -3, 1)),\n",
       " (('Hll', 2, -3), ('Gll', -3, 1)),\n",
       " (('Gll', 2, -3), ('Hll', -3, -3)),\n",
       " (('Gll', 2, -3), ('Hll', -3, 1)),\n",
       " (('Hll', 2, -3), ('Hll', -3, -3)),\n",
       " (('Hll', 2, -3), ('Hll', -3, 1)),\n",
       " (('Hll', 1, -2), ('Hll', -3, -3)),\n",
       " (('Hll', 1, -2), ('Hll', -3, -2)),\n",
       " (('Hll', 1, -2), ('Gll', -2, 1)),\n",
       " (('Hll', 1, -2), ('Hll', -3, 1)),\n",
       " (('Gll', -3, 1), ('Hll', -2, -3)),\n",
       " (('Hll', 1, -2), ('Gll', -3, 1)),\n",
       " (('Hll', -3, 1), ('Gll', -3, 1)),\n",
       " (('Hll', -2, 1), ('Gll', 1, -2)),\n",
       " (('Hll', -2, 1), ('Hll', 1, -3)),\n",
       " (('Hll', 1, -3), ('Gll', -3, 2)),\n",
       " (('Gll', -3, 2), ('Hll', 1, -3)),\n",
       " (('Hll', -3, 2), ('Hll', 1, -3)),\n",
       " (('Gll', 2, -3), ('Hll', 1, -3)),\n",
       " (('Gll', 1, -2), ('Hll', -3, -3)),\n",
       " (('Gll', 1, -2), ('Hll', -2, -3)),\n",
       " (('Gll', 1, -2), ('Gll', 1, -2)),\n",
       " (('Gll', 1, -2), ('Hll', 1, -3)),\n",
       " (('Hll', 1, -3), ('Gll', -3, 1)),\n",
       " (('Hll', 3, 3), ('Gll', -3, 1)),\n",
       " (('Gll', 2, 3), ('Gll', -3, 2)),\n",
       " (('Gll', 2, 3), ('Gll', -3, 1)),\n",
       " (('Hll', 3, 2), ('Gll', -3, 2)),\n",
       " (('Hll', 2, 3), ('Gll', -3, 2)),\n",
       " (('Gll', 1, 3), ('Gll', -3, 2)),\n",
       " (('Hll', 3, 3), ('Hll', 1, -3)),\n",
       " (('Gll', 3, 3), ('Hll', -3, -3)),\n",
       " (('Gll', 3, 3), ('Hll', -2, -3)),\n",
       " (('Gll', 3, 3),),\n",
       " (('Gll', 3, 3), ('Gll', 1, -2)),\n",
       " (('Gll', 3, 3), ('Hll', 1, -3)),\n",
       " (('Hll', 3, 2), ('Gll', -3, 1)),\n",
       " (('Gll', -2, 1), ('Gll', 3, -2)),\n",
       " (('Hll', 3, 3), ('Hll', -3, 1)),\n",
       " (('Gll', 3, 3), ('Hll', -3, -2)),\n",
       " (('Gll', 3, 3), ('Gll', -2, 1)),\n",
       " (('Gll', 3, 3), ('Hll', -3, 1)),\n",
       " (('Hll', 2, 3), ('Gll', -3, 1)),\n",
       " (('Gll', 1, 3), ('Gll', -3, 1)),\n",
       " (('Gll', 1, -3), ('Gll', -3, 1), ('Hll', -3, -3)),\n",
       " (('Gll', 1, -3), ('Gll', -3, 2), ('Hll', -3, -3)),\n",
       " (('Gll', -3, 2), ('Gll', 1, -1), ('Hll', -3, -3)),\n",
       " (('Hll', 1, -2), ('Hll', -3, 2), ('Gll', -3, 2)),\n",
       " (('Hll', -3, 2), ('Hll', -3, 1)),\n",
       " (('Gll', -3, 2), ('Hll', 1, -2)),\n",
       " (('Gll', -3, 2), ('Gll', -3, 2)),\n",
       " (('Gll', -3, 2), ('Hll', 1, -2), ('Gll', -3, 2)),\n",
       " (('Hll', -3, 2), ('Hll', -2, 1), ('Gll', -3, 2)),\n",
       " (('Hll', -2, 1), ('Hll', -3, 2), ('Gll', -3, 2)),\n",
       " (('Gll', -3, 2), ('Hll', -2, 1)),\n",
       " (('Gll', -3, 2), ('Hll', -2, 1), ('Gll', -3, 2)),\n",
       " (('Hll', -3, 2), ('Hll', 1, -2), ('Gll', -3, 2)),\n",
       " (('Gll', 1, -2), ('Hll', -2, 1)),\n",
       " (('Gll', 1, -2), ('Hll', -2, 1), ('Gll', -3, 2)),\n",
       " (('Hll', 1, -2), ('Hll', -2, 1)),\n",
       " (('Hll', 1, -2), ('Hll', -2, 1), ('Gll', -3, 2)),\n",
       " (('Hll', 1, -2), ('Hll', 1, -3)),\n",
       " (('Gll', 1, -2), ('Hll', -3, -2)),\n",
       " (('Gll', 1, -2), ('Gll', -2, 1)),\n",
       " (('Gll', 1, -2), ('Hll', -3, 1)),\n",
       " (('Hll', 1, -2), ('Hll', 1, -2)),\n",
       " (('Hll', 1, -2), ('Hll', 1, -2), ('Gll', -3, 2)),\n",
       " (('Gll', 1, -2), ('Hll', 1, -2)),\n",
       " (('Gll', 1, -2), ('Hll', 1, -2), ('Gll', -3, 2)),\n",
       " (('Hll', 1, -2), ('Hll', -3, 2), ('Gll', -3, 1)),\n",
       " (('Gll', -2, 1), ('Hll', 1, -2)),\n",
       " (('Gll', -2, 1), ('Hll', 1, -2), ('Gll', -3, 2)),\n",
       " (('Gll', 2, -3), ('Hll', 1, -2)),\n",
       " (('Gll', 2, -3), ('Gll', -3, 2)),\n",
       " (('Gll', 2, -3), ('Hll', 1, -2), ('Gll', -3, 2)),\n",
       " (('Hll', 2, -3), ('Hll', 1, -2), ('Gll', -3, 2)),\n",
       " (('Hll', 2, -3), ('Hll', 1, -3)),\n",
       " (('Hll', -2, 1), ('Hll', 1, -2)),\n",
       " (('Hll', -2, 1), ('Hll', 1, -2), ('Gll', -3, 2)),\n",
       " (('Hll', -3, 1), ('Hll', 1, -3)),\n",
       " (('Hll', 1, -3), ('Hll', -3, -3)),\n",
       " (('Hll', 1, -3), ('Hll', -3, -2)),\n",
       " (('Hll', -2, 1), ('Hll', -3, 1)),\n",
       " (('Hll', 1, -3), ('Hll', -3, 1)),\n",
       " (('Gll', 1, -3), ('Hll', -3, -3)),\n",
       " (('Gll', 1, -3), ('Hll', -3, -2)),\n",
       " (('Gll', 1, -3), ('Hll', -3, 1)),\n",
       " (('Gll', 3, 3), ('Gll', -3, 2), ('Hll', -3, -3)),\n",
       " (('Gll', 3, 3), ('Gll', -3, 2), ('Hll', -3, -1)),\n",
       " (('Gll', 3, 3), ('Gll', -3, 2), ('Hll', -1, 2)),\n",
       " (('Gll', 3, 3), ('Hll', -3, 2), ('Gll', -3, 2)),\n",
       " (('Hll', 3, 3), ('Gll', -3, 2), ('Hll', -3, -1)),\n",
       " (('Gll', 2, 3), ('Gll', -3, 2), ('Hll', -1, 2)),\n",
       " (('Hll', 3, 3), ('Hll', -3, 2), ('Gll', -3, 2)),\n",
       " (('Gll', 1, -2), ('Hll', 3, 3)),\n",
       " (('Gll', 1, -2), ('Hll', 3, 3), ('Gll', -3, 2)),\n",
       " (('Hll', 1, 3), ('Gll', -3, 2)),\n",
       " (('Gll', 3, 3), ('Hll', -2, 1)),\n",
       " (('Gll', 3, 3), ('Hll', -2, 1), ('Gll', -3, 2)),\n",
       " (('Hll', 3, 3), ('Hll', -2, 1))]"
      ]
     },
     "execution_count": 6,
     "metadata": {},
     "output_type": "execute_result"
    }
   ],
   "source": [
    "list(coder_so.Lvect.coordinates.remember[-1][-1])"
   ]
  },
  {
   "cell_type": "code",
   "execution_count": 115,
   "metadata": {},
   "outputs": [
    {
     "ename": "AttributeError",
     "evalue": "'int' object has no attribute 'Lprod'",
     "output_type": "error",
     "traceback": [
      "\u001b[0;31m---------------------------------------------------------------------------\u001b[0m",
      "\u001b[0;31mAttributeError\u001b[0m                            Traceback (most recent call last)",
      "\u001b[0;32m/tmp/ipykernel_51173/2158457278.py\u001b[0m in \u001b[0;36m<module>\u001b[0;34m\u001b[0m\n\u001b[1;32m      1\u001b[0m \u001b[0;32mdef\u001b[0m \u001b[0msd\u001b[0m\u001b[0;34m(\u001b[0m\u001b[0md\u001b[0m\u001b[0;34m)\u001b[0m\u001b[0;34m:\u001b[0m \u001b[0;32mreturn\u001b[0m \u001b[0;34m\"{\"\u001b[0m\u001b[0;34m+\u001b[0m\u001b[0;34m\",\"\u001b[0m\u001b[0;34m.\u001b[0m\u001b[0mjoin\u001b[0m\u001b[0;34m(\u001b[0m\u001b[0mstr\u001b[0m\u001b[0;34m(\u001b[0m\u001b[0mk\u001b[0m\u001b[0;34m)\u001b[0m\u001b[0;34m+\u001b[0m\u001b[0;34m':coder_so.sympy.sympify(\"'\u001b[0m\u001b[0;34m+\u001b[0m\u001b[0mstr\u001b[0m\u001b[0;34m(\u001b[0m\u001b[0md\u001b[0m\u001b[0;34m[\u001b[0m\u001b[0mk\u001b[0m\u001b[0;34m]\u001b[0m\u001b[0;34m)\u001b[0m\u001b[0;34m+\u001b[0m\u001b[0;34m'\")'\u001b[0m \u001b[0;32mfor\u001b[0m \u001b[0mk\u001b[0m \u001b[0;32min\u001b[0m \u001b[0md\u001b[0m\u001b[0;34m)\u001b[0m\u001b[0;34m+\u001b[0m\u001b[0;34m\"}\"\u001b[0m\u001b[0;34m\u001b[0m\u001b[0;34m\u001b[0m\u001b[0m\n\u001b[0;32m----> 2\u001b[0;31m \",\\n \".join(\n\u001b[0m\u001b[1;32m      3\u001b[0m         \u001b[0;34m\"Lv(\"\u001b[0m\u001b[0;34m+\u001b[0m\u001b[0mstr\u001b[0m\u001b[0;34m(\u001b[0m\u001b[0mnext\u001b[0m\u001b[0;34m(\u001b[0m\u001b[0mt\u001b[0m \u001b[0;32mfor\u001b[0m \u001b[0mt\u001b[0m \u001b[0;32min\u001b[0m \u001b[0mv\u001b[0m\u001b[0;34m.\u001b[0m\u001b[0mLprod\u001b[0m\u001b[0;34m.\u001b[0m\u001b[0m_terms\u001b[0m\u001b[0;34m)\u001b[0m\u001b[0;34m)\u001b[0m\u001b[0;34m+\u001b[0m\u001b[0;34m\"):Lv(coder_so.Lprod(\"\u001b[0m\u001b[0;34m+\u001b[0m\u001b[0msd\u001b[0m\u001b[0;34m(\u001b[0m\u001b[0mcoder_so\u001b[0m\u001b[0;34m.\u001b[0m\u001b[0mYangian_irrep\u001b[0m\u001b[0;34m.\u001b[0m\u001b[0mreplacements\u001b[0m\u001b[0;34m[\u001b[0m\u001b[0mv\u001b[0m\u001b[0;34m]\u001b[0m\u001b[0;34m.\u001b[0m\u001b[0mLprod\u001b[0m\u001b[0;34m.\u001b[0m\u001b[0m_terms\u001b[0m\u001b[0;34m)\u001b[0m\u001b[0;34m+\u001b[0m\u001b[0;34m\"))\"\u001b[0m\u001b[0;34m\u001b[0m\u001b[0;34m\u001b[0m\u001b[0m\n\u001b[1;32m      4\u001b[0m             for v in list(coder_so.Yangian_irrep.replacements)[240:242])\n",
      "\u001b[0;32m/tmp/ipykernel_51173/2158457278.py\u001b[0m in \u001b[0;36m<genexpr>\u001b[0;34m(.0)\u001b[0m\n\u001b[1;32m      1\u001b[0m \u001b[0;32mdef\u001b[0m \u001b[0msd\u001b[0m\u001b[0;34m(\u001b[0m\u001b[0md\u001b[0m\u001b[0;34m)\u001b[0m\u001b[0;34m:\u001b[0m \u001b[0;32mreturn\u001b[0m \u001b[0;34m\"{\"\u001b[0m\u001b[0;34m+\u001b[0m\u001b[0;34m\",\"\u001b[0m\u001b[0;34m.\u001b[0m\u001b[0mjoin\u001b[0m\u001b[0;34m(\u001b[0m\u001b[0mstr\u001b[0m\u001b[0;34m(\u001b[0m\u001b[0mk\u001b[0m\u001b[0;34m)\u001b[0m\u001b[0;34m+\u001b[0m\u001b[0;34m':coder_so.sympy.sympify(\"'\u001b[0m\u001b[0;34m+\u001b[0m\u001b[0mstr\u001b[0m\u001b[0;34m(\u001b[0m\u001b[0md\u001b[0m\u001b[0;34m[\u001b[0m\u001b[0mk\u001b[0m\u001b[0;34m]\u001b[0m\u001b[0;34m)\u001b[0m\u001b[0;34m+\u001b[0m\u001b[0;34m'\")'\u001b[0m \u001b[0;32mfor\u001b[0m \u001b[0mk\u001b[0m \u001b[0;32min\u001b[0m \u001b[0md\u001b[0m\u001b[0;34m)\u001b[0m\u001b[0;34m+\u001b[0m\u001b[0;34m\"}\"\u001b[0m\u001b[0;34m\u001b[0m\u001b[0;34m\u001b[0m\u001b[0m\n\u001b[1;32m      2\u001b[0m \",\\n \".join(\n\u001b[0;32m----> 3\u001b[0;31m         \u001b[0;34m\"Lv(\"\u001b[0m\u001b[0;34m+\u001b[0m\u001b[0mstr\u001b[0m\u001b[0;34m(\u001b[0m\u001b[0mnext\u001b[0m\u001b[0;34m(\u001b[0m\u001b[0mt\u001b[0m \u001b[0;32mfor\u001b[0m \u001b[0mt\u001b[0m \u001b[0;32min\u001b[0m \u001b[0mv\u001b[0m\u001b[0;34m.\u001b[0m\u001b[0mLprod\u001b[0m\u001b[0;34m.\u001b[0m\u001b[0m_terms\u001b[0m\u001b[0;34m)\u001b[0m\u001b[0;34m)\u001b[0m\u001b[0;34m+\u001b[0m\u001b[0;34m\"):Lv(coder_so.Lprod(\"\u001b[0m\u001b[0;34m+\u001b[0m\u001b[0msd\u001b[0m\u001b[0;34m(\u001b[0m\u001b[0mcoder_so\u001b[0m\u001b[0;34m.\u001b[0m\u001b[0mYangian_irrep\u001b[0m\u001b[0;34m.\u001b[0m\u001b[0mreplacements\u001b[0m\u001b[0;34m[\u001b[0m\u001b[0mv\u001b[0m\u001b[0;34m]\u001b[0m\u001b[0;34m.\u001b[0m\u001b[0mLprod\u001b[0m\u001b[0;34m.\u001b[0m\u001b[0m_terms\u001b[0m\u001b[0;34m)\u001b[0m\u001b[0;34m+\u001b[0m\u001b[0;34m\"))\"\u001b[0m\u001b[0;34m\u001b[0m\u001b[0;34m\u001b[0m\u001b[0m\n\u001b[0m\u001b[1;32m      4\u001b[0m             for v in list(coder_so.Yangian_irrep.replacements)[240:242])\n",
      "\u001b[0;31mAttributeError\u001b[0m: 'int' object has no attribute 'Lprod'"
     ]
    }
   ],
   "source": [
    "def sd(d): return \"{\"+\",\".join(str(k)+':coder_so.sympy.sympify(\"'+str(d[k])+'\")' for k in d)+\"}\"\n",
    "\",\\n \".join(\n",
    "        \"Lv(\"+str(next(t for t in v.Lprod._terms))+\"):Lv(coder_so.Lprod(\"+sd(coder_so.Yangian_irrep.replacements[v].Lprod._terms)+\"))\"\n",
    "            for v in list(coder_so.Yangian_irrep.replacements)[240:242])"
   ]
  },
  {
   "cell_type": "code",
   "execution_count": null,
   "metadata": {},
   "outputs": [],
   "source": []
  },
  {
   "cell_type": "code",
   "execution_count": null,
   "metadata": {},
   "outputs": [],
   "source": [
    "# coder_so.update_replacement_and_basis.nv"
   ]
  },
  {
   "cell_type": "code",
   "execution_count": 65,
   "metadata": {},
   "outputs": [],
   "source": [
    "a_,b_,c_,d_=coder_so.update_replacement_and_basis.tmp"
   ]
  },
  {
   "cell_type": "code",
   "execution_count": 68,
   "metadata": {},
   "outputs": [
    {
     "data": {
      "text/plain": [
       "(('Hll', -2, 1),)"
      ]
     },
     "execution_count": 68,
     "metadata": {},
     "output_type": "execute_result"
    }
   ],
   "source": [
    "list(a_.Lprod._terms)[0]"
   ]
  },
  {
   "cell_type": "code",
   "execution_count": 71,
   "metadata": {},
   "outputs": [
    {
     "data": {
      "text/plain": [
       "False"
      ]
     },
     "execution_count": 71,
     "metadata": {},
     "output_type": "execute_result"
    }
   ],
   "source": [
    "any(set(v.Lprod._terms)=={list(a_.Lprod._terms)[0]} and v.Lprod._terms[list(a_.Lprod._terms)[0]]==1\n",
    "            for d in [c_,d_] for v in d)"
   ]
  },
  {
   "cell_type": "code",
   "execution_count": 83,
   "metadata": {},
   "outputs": [
    {
     "data": {
      "text/plain": [
       "[(G₋₂,₋₃|0>, False),\n",
       " (H₋₂,₋₃|0>, False),\n",
       " (G₋₂,₋₂|0>, False),\n",
       " (H₋₂,₋₂|0>, False),\n",
       " (G₋₂,₋₁|0>, False),\n",
       " (H₋₂,₋₁|0>, False),\n",
       " (G₋₂,₃|0>, False),\n",
       " (H₋₂,₃|0>, False),\n",
       " (G₋₂,₁|0>, False)]"
      ]
     },
     "execution_count": 83,
     "metadata": {},
     "output_type": "execute_result"
    }
   ],
   "source": [
    "[(v ,set(v.Lprod._terms)=={list(a_.Lprod._terms)[0]})\n",
    "            for d in [c_,d_] for v in d if any(len(t)==1  and t[0][1]==-2  for t in v.Lprod._terms)]"
   ]
  },
  {
   "cell_type": "code",
   "execution_count": 77,
   "metadata": {},
   "outputs": [
    {
     "data": {
      "text/plain": [
       "[(G₋₂,₁|0>, False)]"
      ]
     },
     "execution_count": 77,
     "metadata": {},
     "output_type": "execute_result"
    }
   ],
   "source": [
    "[(v ,set(v.Lprod._terms)=={list(a_.Lprod._terms)[0]})\n",
    "            for d in [c_,d_] for v in d if any(len(t)==1 and t[0][1]==-2 and t[0][2]==1 for t in v.Lprod._terms)]"
   ]
  },
  {
   "cell_type": "code",
   "execution_count": 40,
   "metadata": {},
   "outputs": [
    {
     "data": {
      "text/plain": [
       "{(), 0, 1, 10, 11, 12, 13, 14, 2, 3, 5, 6, 7, 8, 9}"
      ]
     },
     "execution_count": 40,
     "metadata": {},
     "output_type": "execute_result"
    }
   ],
   "source": [
    "coder_so.functools.reduce(lambda a,b:a.union(b),[set(coder_so.Yangian_irrep.basis[b]) for b in coder_so.Yangian_irrep.basis])#+[set(nc)])"
   ]
  },
  {
   "cell_type": "code",
   "execution_count": 58,
   "metadata": {},
   "outputs": [
    {
     "data": {
      "text/plain": [
       "True"
      ]
     },
     "execution_count": 58,
     "metadata": {},
     "output_type": "execute_result"
    }
   ],
   "source": [
    " any(set(v.Lprod._terms)=={(('Hll', -2, 1),)} and v.Lprod._terms[(('Hll', -2, 1),)]==1\n",
    "            for d in [coder_so.Yangian_irrep.replacements,coder_so.Yangian_irrep.basis] for v in d)"
   ]
  },
  {
   "cell_type": "code",
   "execution_count": 36,
   "metadata": {},
   "outputs": [
    {
     "data": {
      "text/plain": [
       "{|0>: {(): 1},\n",
       " G₋₃,₁|0>: {3: 2},\n",
       " G₋₃,₂|0>: {6: -2},\n",
       " G₁,₂|0>: {2: 2},\n",
       " G₁,₃|0>: {9: -2},\n",
       " G₂,₃|0>: {13: -2},\n",
       " G₁,₂G₋₃,₁|0>: {1: 2},\n",
       " G₁,₃G₋₃,₁|0>: {8: -2},\n",
       " G₂,₃G₋₃,₁|0>: {12: -2},\n",
       " G₁,₂G₋₃,₂|0>: {5: -2},\n",
       " G₁,₃G₋₃,₂|0>: {10: 2},\n",
       " G₂,₃G₋₃,₂|0>: {14: 2},\n",
       " G₁,₂G₁,₂|0>: {0: 4},\n",
       " G₁,₃G₁,₂|0>: {7: -2},\n",
       " G₂,₃G₁,₂|0>: {11: -2}}"
      ]
     },
     "execution_count": 36,
     "metadata": {},
     "output_type": "execute_result"
    }
   ],
   "source": [
    "coder_so.Yangian_irrep.basis"
   ]
  },
  {
   "cell_type": "code",
   "execution_count": 37,
   "metadata": {},
   "outputs": [
    {
     "data": {
      "text/plain": [
       "{G₋₃,₋₃|0>: 0,\n",
       " H₋₃,₋₃|0>: 0,\n",
       " G₋₃,₋₂|0>: 0,\n",
       " H₋₃,₋₂|0>: 0,\n",
       " G₋₃,₋₁|0>: 0,\n",
       " H₋₃,₋₁|0>: 0,\n",
       " G₋₂,₋₃|0>: 0,\n",
       " H₋₂,₋₃|0>: 0,\n",
       " G₋₂,₋₂|0>: 0,\n",
       " H₋₂,₋₂|0>: 0,\n",
       " G₋₂,₋₁|0>: 0,\n",
       " H₋₂,₋₁|0>: 0,\n",
       " G₋₂,₃|0>: 0,\n",
       " H₋₂,₃|0>: 0,\n",
       " G₋₁,₋₃|0>: 0,\n",
       " H₋₁,₋₃|0>: 0,\n",
       " G₋₁,₋₂|0>: 0,\n",
       " H₋₁,₋₂|0>: 0,\n",
       " G₋₁,₋₁|0>: 0,\n",
       " H₋₁,₋₁|0>: 0,\n",
       " G₋₁,₂|0>: 0,\n",
       " H₋₁,₂|0>: 0,\n",
       " G₋₁,₃|0>: 0,\n",
       " H₋₁,₃|0>: 0,\n",
       " G₂,₋₁|0>: 0,\n",
       " H₂,₋₁|0>: 0,\n",
       " G₃,₋₂|0>: 0,\n",
       " H₃,₋₂|0>: 0,\n",
       " G₃,₋₁|0>: 0,\n",
       " H₃,₋₁|0>: 0,\n",
       " G₋₂,₁|0>: 0,\n",
       " G₁,₋₃|0>: -G₋₃,₁|0>,\n",
       " G₁,₋₂|0>: 0,\n",
       " G₁,₁|0>: 0,\n",
       " G₂,₋₃|0>: -G₋₃,₂|0>,\n",
       " G₂,₁|0>: -G₁,₂|0>,\n",
       " G₂,₂|0>: 0,\n",
       " G₃,₁|0>: -G₁,₃|0>,\n",
       " G₃,₂|0>: -G₂,₃|0>,\n",
       " G₃,₃|0>: 0,\n",
       " G₋₃,₁G₋₃,₁|0>: 0,\n",
       " G₋₃,₂G₋₃,₁|0>: 0,\n",
       " G₋₂,₁G₋₃,₁|0>: 0,\n",
       " G₁,₋₃G₋₃,₁|0>: 0,\n",
       " G₁,₋₂G₋₃,₁|0>: 0,\n",
       " G₁,₁G₋₃,₁|0>: 0,\n",
       " G₂,₋₃G₋₃,₁|0>: 0,\n",
       " G₂,₁G₋₃,₁|0>: -G₁,₂G₋₃,₁|0>,\n",
       " G₂,₂G₋₃,₁|0>: 0,\n",
       " G₃,₁G₋₃,₁|0>: -G₁,₃G₋₃,₁|0>,\n",
       " G₃,₂G₋₃,₁|0>: -G₂,₃G₋₃,₁|0>,\n",
       " G₃,₃G₋₃,₁|0>: 0,\n",
       " G₋₃,₁G₋₃,₂|0>: 0,\n",
       " G₋₃,₂G₋₃,₂|0>: 0,\n",
       " G₋₂,₁G₋₃,₂|0>: G₋₃,₁|0>,\n",
       " G₁,₋₃G₋₃,₂|0>: 0,\n",
       " G₁,₋₂G₋₃,₂|0>: -G₋₃,₁|0>,\n",
       " G₁,₁G₋₃,₂|0>: 0,\n",
       " G₂,₋₃G₋₃,₂|0>: 0,\n",
       " G₂,₁G₋₃,₂|0>: -G₁,₂G₋₃,₂|0>,\n",
       " G₂,₂G₋₃,₂|0>: 0,\n",
       " G₃,₁G₋₃,₂|0>: -G₁,₃G₋₃,₂|0>,\n",
       " G₃,₂G₋₃,₂|0>: -G₂,₃G₋₃,₂|0>,\n",
       " G₃,₃G₋₃,₂|0>: 0,\n",
       " G₋₃,₁G₁,₂|0>: G₁,₂G₋₃,₁|0>,\n",
       " G₋₃,₂G₁,₂|0>: G₁,₂G₋₃,₂|0>,\n",
       " G₋₂,₁G₁,₂|0>: 0,\n",
       " G₁,₋₃G₁,₂|0>: -G₁,₂G₋₃,₁|0>,\n",
       " G₁,₋₂G₁,₂|0>: 0,\n",
       " G₁,₁G₁,₂|0>: 0,\n",
       " G₂,₋₃G₁,₂|0>: -G₁,₂G₋₃,₂|0>,\n",
       " G₂,₁G₁,₂|0>: -G₁,₂G₁,₂|0>,\n",
       " G₂,₂G₁,₂|0>: 0,\n",
       " G₃,₁G₁,₂|0>: -G₁,₃G₁,₂|0>,\n",
       " G₃,₂G₁,₂|0>: -G₂,₃G₁,₂|0>,\n",
       " G₃,₃G₁,₂|0>: 0,\n",
       " G₋₃,₁G₁,₃|0>: G₁,₃G₋₃,₁|0>,\n",
       " G₋₃,₂G₁,₃|0>: G₁,₃G₋₃,₂|0>+G₁,₂|0>,\n",
       " G₋₂,₁G₁,₃|0>: 0,\n",
       " G₁,₋₃G₁,₃|0>: -G₁,₃G₋₃,₁|0>,\n",
       " G₁,₋₂G₁,₃|0>: 0,\n",
       " G₁,₁G₁,₃|0>: 0,\n",
       " G₁,₂G₁,₃|0>: G₁,₃G₁,₂|0>,\n",
       " G₁,₃G₁,₃|0>: 0,\n",
       " G₂,₋₃G₁,₃|0>: -G₁,₃G₋₃,₂|0>-G₁,₂|0>,\n",
       " G₂,₁G₁,₃|0>: -G₁,₃G₁,₂|0>,\n",
       " G₂,₂G₁,₃|0>: 0,\n",
       " G₂,₃G₁,₃|0>: 0,\n",
       " G₃,₁G₁,₃|0>: 0,\n",
       " G₃,₂G₁,₃|0>: 0,\n",
       " G₃,₃G₁,₃|0>: 0,\n",
       " G₋₃,₁G₂,₃|0>: G₂,₃G₋₃,₁|0>-G₁,₂|0>,\n",
       " G₋₃,₂G₂,₃|0>: G₂,₃G₋₃,₂|0>,\n",
       " G₋₂,₁G₂,₃|0>: G₁,₃|0>,\n",
       " G₁,₋₃G₂,₃|0>: -G₂,₃G₋₃,₁|0>+G₁,₂|0>,\n",
       " G₁,₋₂G₂,₃|0>: -G₁,₃|0>,\n",
       " G₁,₁G₂,₃|0>: 0,\n",
       " G₁,₂G₂,₃|0>: G₂,₃G₁,₂|0>,\n",
       " G₁,₃G₂,₃|0>: 0,\n",
       " G₂,₋₃G₂,₃|0>: -G₂,₃G₋₃,₂|0>,\n",
       " G₂,₁G₂,₃|0>: -G₂,₃G₁,₂|0>,\n",
       " G₂,₂G₂,₃|0>: 0,\n",
       " G₂,₃G₂,₃|0>: 0,\n",
       " G₃,₁G₂,₃|0>: 0,\n",
       " G₃,₂G₂,₃|0>: 0,\n",
       " G₃,₃G₂,₃|0>: 0,\n",
       " G₋₃,₁G₁,₂G₋₃,₁|0>: 0,\n",
       " G₋₃,₂G₁,₂G₋₃,₁|0>: 0,\n",
       " G₋₂,₁G₁,₂G₋₃,₁|0>: 0,\n",
       " G₁,₋₃G₁,₂G₋₃,₁|0>: 0,\n",
       " G₁,₋₂G₁,₂G₋₃,₁|0>: 0,\n",
       " G₁,₁G₁,₂G₋₃,₁|0>: 0,\n",
       " G₁,₂G₁,₂G₋₃,₁|0>: 0,\n",
       " G₁,₃G₁,₂G₋₃,₁|0>: 0,\n",
       " G₂,₋₃G₁,₂G₋₃,₁|0>: 0,\n",
       " G₂,₁G₁,₂G₋₃,₁|0>: 0,\n",
       " G₂,₂G₁,₂G₋₃,₁|0>: 0,\n",
       " G₂,₃G₁,₂G₋₃,₁|0>: 1/2G₁,₂G₁,₂|0>,\n",
       " G₃,₁G₁,₂G₋₃,₁|0>: 0,\n",
       " G₃,₂G₁,₂G₋₃,₁|0>: -1/2G₁,₂G₁,₂|0>,\n",
       " G₃,₃G₁,₂G₋₃,₁|0>: 0,\n",
       " G₋₃,₁G₁,₃G₋₃,₁|0>: 0,\n",
       " G₋₃,₂G₁,₃G₋₃,₁|0>: G₁,₂G₋₃,₁|0>,\n",
       " G₋₂,₁G₁,₃G₋₃,₁|0>: 0,\n",
       " G₁,₋₃G₁,₃G₋₃,₁|0>: 0,\n",
       " G₁,₋₂G₁,₃G₋₃,₁|0>: 0,\n",
       " G₁,₁G₁,₃G₋₃,₁|0>: 0,\n",
       " G₁,₂G₁,₃G₋₃,₁|0>: 0,\n",
       " G₁,₃G₁,₃G₋₃,₁|0>: 0,\n",
       " G₂,₋₃G₁,₃G₋₃,₁|0>: -G₁,₂G₋₃,₁|0>,\n",
       " G₂,₁G₁,₃G₋₃,₁|0>: 0,\n",
       " G₂,₂G₁,₃G₋₃,₁|0>: 0,\n",
       " G₂,₃G₁,₃G₋₃,₁|0>: G₁,₃G₁,₂|0>,\n",
       " G₃,₁G₁,₃G₋₃,₁|0>: 0,\n",
       " G₃,₂G₁,₃G₋₃,₁|0>: -G₁,₃G₁,₂|0>,\n",
       " G₃,₃G₁,₃G₋₃,₁|0>: 0,\n",
       " G₋₃,₁G₂,₃G₋₃,₁|0>: -G₁,₂G₋₃,₁|0>,\n",
       " G₋₃,₂G₂,₃G₋₃,₁|0>: 0,\n",
       " G₋₂,₁G₂,₃G₋₃,₁|0>: G₁,₃G₋₃,₁|0>,\n",
       " G₁,₋₃G₂,₃G₋₃,₁|0>: G₁,₂G₋₃,₁|0>,\n",
       " G₁,₋₂G₂,₃G₋₃,₁|0>: -G₁,₃G₋₃,₁|0>,\n",
       " G₁,₁G₂,₃G₋₃,₁|0>: 0,\n",
       " G₁,₂G₂,₃G₋₃,₁|0>: 1/2G₁,₂G₁,₂|0>,\n",
       " G₁,₃G₂,₃G₋₃,₁|0>: G₁,₃G₁,₂|0>,\n",
       " G₂,₋₃G₂,₃G₋₃,₁|0>: 0,\n",
       " G₂,₁G₂,₃G₋₃,₁|0>: -1/2G₁,₂G₁,₂|0>,\n",
       " G₂,₂G₂,₃G₋₃,₁|0>: 0,\n",
       " G₂,₃G₂,₃G₋₃,₁|0>: 2G₂,₃G₁,₂|0>,\n",
       " G₃,₁G₂,₃G₋₃,₁|0>: -G₁,₃G₁,₂|0>,\n",
       " G₃,₂G₂,₃G₋₃,₁|0>: -2G₂,₃G₁,₂|0>,\n",
       " G₃,₃G₂,₃G₋₃,₁|0>: 0,\n",
       " G₋₃,₁G₁,₂G₋₃,₂|0>: 0,\n",
       " G₋₃,₂G₁,₂G₋₃,₂|0>: 0,\n",
       " G₋₂,₁G₁,₂G₋₃,₂|0>: G₁,₂G₋₃,₁|0>,\n",
       " G₁,₋₃G₁,₂G₋₃,₂|0>: 0,\n",
       " G₁,₋₂G₁,₂G₋₃,₂|0>: -G₁,₂G₋₃,₁|0>,\n",
       " G₁,₁G₁,₂G₋₃,₂|0>: 0,\n",
       " G₁,₂G₁,₂G₋₃,₂|0>: 0,\n",
       " G₁,₃G₁,₂G₋₃,₂|0>: -1/2G₁,₂G₁,₂|0>,\n",
       " G₂,₋₃G₁,₂G₋₃,₂|0>: 0,\n",
       " G₂,₁G₁,₂G₋₃,₂|0>: 0,\n",
       " G₂,₂G₁,₂G₋₃,₂|0>: 0,\n",
       " G₂,₃G₁,₂G₋₃,₂|0>: 0,\n",
       " G₃,₁G₁,₂G₋₃,₂|0>: 1/2G₁,₂G₁,₂|0>,\n",
       " G₃,₂G₁,₂G₋₃,₂|0>: 0,\n",
       " G₃,₃G₁,₂G₋₃,₂|0>: 0,\n",
       " G₋₃,₁G₁,₃G₋₃,₂|0>: 0,\n",
       " G₋₃,₂G₁,₃G₋₃,₂|0>: G₁,₂G₋₃,₂|0>,\n",
       " G₋₂,₁G₁,₃G₋₃,₂|0>: G₁,₃G₋₃,₁|0>,\n",
       " G₁,₋₃G₁,₃G₋₃,₂|0>: 0,\n",
       " G₁,₋₂G₁,₃G₋₃,₂|0>: -G₁,₃G₋₃,₁|0>,\n",
       " G₁,₁G₁,₃G₋₃,₂|0>: 0,\n",
       " G₁,₂G₁,₃G₋₃,₂|0>: -1/2G₁,₂G₁,₂|0>,\n",
       " G₁,₃G₁,₃G₋₃,₂|0>: -2G₁,₃G₁,₂|0>,\n",
       " G₂,₋₃G₁,₃G₋₃,₂|0>: -G₁,₂G₋₃,₂|0>,\n",
       " G₂,₁G₁,₃G₋₃,₂|0>: 1/2G₁,₂G₁,₂|0>,\n",
       " G₂,₂G₁,₃G₋₃,₂|0>: 0,\n",
       " G₂,₃G₁,₃G₋₃,₂|0>: -G₂,₃G₁,₂|0>,\n",
       " G₃,₁G₁,₃G₋₃,₂|0>: 2G₁,₃G₁,₂|0>,\n",
       " G₃,₂G₁,₃G₋₃,₂|0>: G₂,₃G₁,₂|0>,\n",
       " G₃,₃G₁,₃G₋₃,₂|0>: 0,\n",
       " G₋₃,₁G₂,₃G₋₃,₂|0>: -G₁,₂G₋₃,₂|0>,\n",
       " G₋₃,₂G₂,₃G₋₃,₂|0>: 0,\n",
       " G₋₂,₁G₂,₃G₋₃,₂|0>: G₂,₃G₋₃,₁|0>+G₁,₃G₋₃,₂|0>,\n",
       " G₁,₋₃G₂,₃G₋₃,₂|0>: G₁,₂G₋₃,₂|0>,\n",
       " G₁,₋₂G₂,₃G₋₃,₂|0>: -G₂,₃G₋₃,₁|0>-G₁,₃G₋₃,₂|0>,\n",
       " G₁,₁G₂,₃G₋₃,₂|0>: 0,\n",
       " G₁,₂G₂,₃G₋₃,₂|0>: 0,\n",
       " G₁,₃G₂,₃G₋₃,₂|0>: -G₂,₃G₁,₂|0>,\n",
       " G₂,₋₃G₂,₃G₋₃,₂|0>: 0,\n",
       " G₂,₁G₂,₃G₋₃,₂|0>: 0,\n",
       " G₂,₂G₂,₃G₋₃,₂|0>: 0,\n",
       " G₂,₃G₂,₃G₋₃,₂|0>: 0,\n",
       " G₃,₁G₂,₃G₋₃,₂|0>: G₂,₃G₁,₂|0>,\n",
       " G₃,₂G₂,₃G₋₃,₂|0>: 0,\n",
       " G₃,₃G₂,₃G₋₃,₂|0>: 0,\n",
       " G₋₃,₁G₁,₂G₁,₂|0>: 0,\n",
       " G₋₃,₂G₁,₂G₁,₂|0>: 0,\n",
       " G₋₂,₁G₁,₂G₁,₂|0>: 0,\n",
       " G₁,₋₃G₁,₂G₁,₂|0>: 0,\n",
       " G₁,₋₂G₁,₂G₁,₂|0>: 0,\n",
       " G₁,₁G₁,₂G₁,₂|0>: 0,\n",
       " G₁,₂G₁,₂G₁,₂|0>: 0,\n",
       " G₁,₃G₁,₂G₁,₂|0>: 0,\n",
       " G₂,₋₃G₁,₂G₁,₂|0>: 0,\n",
       " G₂,₁G₁,₂G₁,₂|0>: 0,\n",
       " G₂,₂G₁,₂G₁,₂|0>: 0,\n",
       " G₂,₃G₁,₂G₁,₂|0>: 0,\n",
       " G₃,₁G₁,₂G₁,₂|0>: 0,\n",
       " G₃,₂G₁,₂G₁,₂|0>: 0,\n",
       " G₃,₃G₁,₂G₁,₂|0>: 0,\n",
       " G₋₃,₁G₁,₃G₁,₂|0>: 0,\n",
       " G₋₃,₂G₁,₃G₁,₂|0>: 1/2G₁,₂G₁,₂|0>,\n",
       " G₋₂,₁G₁,₃G₁,₂|0>: 0,\n",
       " G₁,₋₃G₁,₃G₁,₂|0>: 0,\n",
       " G₁,₋₂G₁,₃G₁,₂|0>: 0,\n",
       " G₁,₁G₁,₃G₁,₂|0>: 0,\n",
       " G₁,₂G₁,₃G₁,₂|0>: 0,\n",
       " G₁,₃G₁,₃G₁,₂|0>: 0,\n",
       " G₂,₋₃G₁,₃G₁,₂|0>: -1/2G₁,₂G₁,₂|0>,\n",
       " G₂,₁G₁,₃G₁,₂|0>: 0,\n",
       " G₂,₂G₁,₃G₁,₂|0>: 0,\n",
       " G₂,₃G₁,₃G₁,₂|0>: 0,\n",
       " G₃,₁G₁,₃G₁,₂|0>: 0,\n",
       " G₃,₂G₁,₃G₁,₂|0>: 0,\n",
       " G₃,₃G₁,₃G₁,₂|0>: 0,\n",
       " G₋₃,₁G₂,₃G₁,₂|0>: -1/2G₁,₂G₁,₂|0>,\n",
       " G₋₃,₂G₂,₃G₁,₂|0>: 0,\n",
       " G₋₂,₁G₂,₃G₁,₂|0>: G₁,₃G₁,₂|0>,\n",
       " G₁,₋₃G₂,₃G₁,₂|0>: 1/2G₁,₂G₁,₂|0>,\n",
       " G₁,₋₂G₂,₃G₁,₂|0>: -G₁,₃G₁,₂|0>,\n",
       " G₁,₁G₂,₃G₁,₂|0>: 0,\n",
       " G₁,₂G₂,₃G₁,₂|0>: 0,\n",
       " G₁,₃G₂,₃G₁,₂|0>: 0,\n",
       " G₂,₋₃G₂,₃G₁,₂|0>: 0,\n",
       " G₂,₁G₂,₃G₁,₂|0>: 0,\n",
       " G₂,₂G₂,₃G₁,₂|0>: 0,\n",
       " G₂,₃G₂,₃G₁,₂|0>: 0,\n",
       " G₃,₁G₂,₃G₁,₂|0>: 0,\n",
       " G₃,₂G₂,₃G₁,₂|0>: 0,\n",
       " G₃,₃G₂,₃G₁,₂|0>: 0}"
      ]
     },
     "execution_count": 37,
     "metadata": {},
     "output_type": "execute_result"
    }
   ],
   "source": [
    "coder_so.Yangian_irrep.replacements"
   ]
  },
  {
   "cell_type": "code",
   "execution_count": 84,
   "metadata": {},
   "outputs": [
    {
     "data": {
      "text/plain": [
       "[[3,\n",
       "  [u**2 - 1/4,\n",
       "   u**2 + u + 1/4,\n",
       "   u**2 + u + 1/4,\n",
       "   u**2 - u + 1/4,\n",
       "   u**2 - u + 1/4,\n",
       "   u**2 - 1/4],\n",
       "  {(): 1,\n",
       "   (('Hll', -3, -2),): 0,\n",
       "   (('Hll', -2, -2),): 0,\n",
       "   (('Hll', 3, -2),): 0,\n",
       "   (('Hll', -2, 1),): 0}]]"
      ]
     },
     "execution_count": 84,
     "metadata": {},
     "output_type": "execute_result"
    }
   ],
   "source": [
    "coder_so.Lvect.coordinates.remember"
   ]
  },
  {
   "cell_type": "code",
   "execution_count": 60,
   "metadata": {},
   "outputs": [
    {
     "data": {
      "text/plain": [
       "coder_so.Lprod"
      ]
     },
     "execution_count": 60,
     "metadata": {},
     "output_type": "execute_result"
    }
   ],
   "source": [
    "type(coder_so.Lvect.coordinates.remember[-1][-1][(('Hll', 3, -2),)])"
   ]
  },
  {
   "cell_type": "code",
   "execution_count": 61,
   "metadata": {},
   "outputs": [
    {
     "data": {
      "text/plain": [
       "coder_so.Lprod"
      ]
     },
     "execution_count": 61,
     "metadata": {},
     "output_type": "execute_result"
    }
   ],
   "source": [
    "type(coder_so.Lvect.coordinates.remember[-1][-1][(('Hll', -2,1),)])"
   ]
  },
  {
   "cell_type": "code",
   "execution_count": 53,
   "metadata": {},
   "outputs": [
    {
     "data": {
      "text/plain": [
       "False"
      ]
     },
     "execution_count": 53,
     "metadata": {},
     "output_type": "execute_result"
    }
   ],
   "source": [
    "coder_so.Lprod(0,r=3)==0"
   ]
  },
  {
   "cell_type": "markdown",
   "metadata": {},
   "source": [
    "As computation times goes on and on, it gets to more complicated expressions like `coordinates((('Hll', -3, 2), ('Hll', 3, 3), ('Hll', -2, 1), ('Hll', 2, -3)))` where there is a product of 4 creation operators! That looks like quite a lot :/ ?"
   ]
  },
  {
   "cell_type": "markdown",
   "metadata": {},
   "source": [
    "Todo: as coordinates get computed, convert them straight away into replacement rules for later simplifications."
   ]
  },
  {
   "cell_type": "code",
   "execution_count": null,
   "metadata": {},
   "outputs": [],
   "source": [
    "coder_so.Yangian_irrep.basis"
   ]
  },
  {
   "cell_type": "code",
   "execution_count": null,
   "metadata": {},
   "outputs": [],
   "source": [
    "coder_so.Yangian_irrep.replacements"
   ]
  },
  {
   "cell_type": "code",
   "execution_count": null,
   "metadata": {},
   "outputs": [],
   "source": [
    "%load CYdhKd.tmp.py"
   ]
  },
  {
   "cell_type": "code",
   "execution_count": null,
   "metadata": {},
   "outputs": [],
   "source": [
    "len(coder_so.Yangian_irrep.basis)"
   ]
  },
  {
   "cell_type": "code",
   "execution_count": 37,
   "metadata": {},
   "outputs": [
    {
     "data": {
      "text/plain": [
       "{G₋₃,₋₃|0>: 0,\n",
       " H₋₃,₋₃|0>: 0,\n",
       " G₋₃,₋₂|0>: 0,\n",
       " H₋₃,₋₂|0>: 0,\n",
       " G₋₃,₋₁|0>: 0,\n",
       " H₋₃,₋₁|0>: 0,\n",
       " G₋₂,₋₃|0>: 0,\n",
       " H₋₂,₋₃|0>: 0,\n",
       " G₋₂,₋₂|0>: 0,\n",
       " H₋₂,₋₂|0>: 0,\n",
       " G₋₂,₋₁|0>: 0,\n",
       " H₋₂,₋₁|0>: 0,\n",
       " G₋₂,₃|0>: 0,\n",
       " H₋₂,₃|0>: 0,\n",
       " G₋₁,₋₃|0>: 0,\n",
       " H₋₁,₋₃|0>: 0,\n",
       " G₋₁,₋₂|0>: 0,\n",
       " H₋₁,₋₂|0>: 0,\n",
       " G₋₁,₋₁|0>: 0,\n",
       " H₋₁,₋₁|0>: 0,\n",
       " G₋₁,₂|0>: 0,\n",
       " H₋₁,₂|0>: 0,\n",
       " G₋₁,₃|0>: 0,\n",
       " H₋₁,₃|0>: 0,\n",
       " G₂,₋₁|0>: 0,\n",
       " H₂,₋₁|0>: 0,\n",
       " G₃,₋₂|0>: 0,\n",
       " H₃,₋₂|0>: 0,\n",
       " G₃,₋₁|0>: 0,\n",
       " H₃,₋₁|0>: 0,\n",
       " G₋₂,₁|0>: 0,\n",
       " G₁,₋₃|0>: -G₋₃,₁|0>,\n",
       " G₁,₋₂|0>: 0,\n",
       " G₁,₁|0>: 0,\n",
       " G₂,₋₃|0>: -G₋₃,₂|0>,\n",
       " G₂,₁|0>: -G₁,₂|0>,\n",
       " G₂,₂|0>: 0,\n",
       " G₃,₁|0>: -G₁,₃|0>,\n",
       " G₃,₂|0>: -G₂,₃|0>,\n",
       " G₃,₃|0>: 0}"
      ]
     },
     "execution_count": 37,
     "metadata": {},
     "output_type": "execute_result"
    }
   ],
   "source": [
    "coder_so.Yangian_irrep.replacements"
   ]
  },
  {
   "cell_type": "markdown",
   "metadata": {},
   "source": [
    "### Pb: because it's doing a depth-first (in order), it has crazy expressions of basis vectors from which coordinates are hard to compute. If I was doing a Breadth-first, it would probably avoid this issue.\n",
    "\n",
    "ie: at length n search from all vectors of length n-1. Looks great and avoids recursivity as well :)"
   ]
  },
  {
   "cell_type": "markdown",
   "metadata": {},
   "source": [
    "## Checks"
   ]
  },
  {
   "cell_type": "markdown",
   "metadata": {},
   "source": [
    "### Tsym vs Lax"
   ]
  },
  {
   "cell_type": "code",
   "execution_count": 6,
   "metadata": {},
   "outputs": [
    {
     "name": "stdout",
     "output_type": "stream",
     "text": [
      "The autoreload extension is already loaded. To reload it, use:\n",
      "  %reload_ext autoreload\n"
     ]
    }
   ],
   "source": [
    "%load_ext autoreload\n",
    "%autoreload 2"
   ]
  },
  {
   "cell_type": "code",
   "execution_count": 7,
   "metadata": {},
   "outputs": [],
   "source": [
    "import coder_so\n",
    "from coder_so import formal, g"
   ]
  },
  {
   "cell_type": "code",
   "execution_count": null,
   "metadata": {},
   "outputs": [],
   "source": []
  },
  {
   "cell_type": "code",
   "execution_count": null,
   "metadata": {},
   "outputs": [],
   "source": [
    "coder_so.tensor.SympyDefault=False"
   ]
  },
  {
   "cell_type": "code",
   "execution_count": null,
   "metadata": {},
   "outputs": [],
   "source": [
    "AA,BB=next((coder_so.SymT(N=N,s=s).to_tensor(r=r,random=rand),\n",
    "coder_so.SymT(N=N,s=s,method=\"J_matrix\",r=r,random=rand))\n",
    "           for r in [2] for s in [3] for N in [2] for rand in [\"Q\"])\n",
    "(AA-BB).array._sparse_array"
   ]
  },
  {
   "cell_type": "code",
   "execution_count": null,
   "metadata": {},
   "outputs": [],
   "source": [
    "AA,BB=next((coder_so.SymT(N=N,s=s).to_tensor(r=r,random=rand),\n",
    "coder_so.SymT(N=N,s=s,method=\"J_matrix\",r=r,random=rand))\n",
    "           for r in [2] for s in [3] for N in [1] for rand in [\"Q\"])\n",
    "(AA-BB).array._sparse_array"
   ]
  },
  {
   "cell_type": "markdown",
   "metadata": {},
   "source": [
    "### Yang Baxter"
   ]
  },
  {
   "cell_type": "markdown",
   "metadata": {},
   "source": [
    "### Start with GL version of Yang-Baxter"
   ]
  },
  {
   "cell_type": "code",
   "execution_count": null,
   "metadata": {},
   "outputs": [],
   "source": [
    "coder_so.tensor.SympyDefault=True\n",
    "\n",
    "T=coder_so.SymT(N=2,s=3,gl=True)#.print_nice()\n",
    "Tc=T.copy().replace(coder_so.u,lambda i:coder_so.u(3-i))\n",
    "ThisR=(coder_so.u(1)-coder_so.u(2)+coder_so.formal.P)\n",
    "Delta=(T*coder_so.formal.P*ThisR-ThisR*coder_so.formal.P*Tc)\n",
    "Delta.to_tensor(r=3,random=\"Q\").array._sparse_array"
   ]
  },
  {
   "cell_type": "markdown",
   "metadata": {},
   "source": [
    "Rq: should not the Tc be intertwinned with two P's to account for the opposite order ?"
   ]
  },
  {
   "cell_type": "code",
   "execution_count": null,
   "metadata": {},
   "outputs": [],
   "source": [
    "coder_so.tensor.SympyDefault=True\n",
    "\n",
    "T=coder_so.SymT(N=2,s=3,gl=True)#.print_nice()\n",
    "Tc=coder_so.formal.P*T.copy().replace(coder_so.u,lambda i:coder_so.u(3-i))*coder_so.formal.P\n",
    "ThisR=(coder_so.u(1)-coder_so.u(2)+coder_so.formal.P)\n",
    "Delta=(T*ThisR-ThisR*Tc)\n",
    "Delta.to_tensor(r=3,random=\"Q\").array._sparse_array"
   ]
  },
  {
   "cell_type": "markdown",
   "metadata": {},
   "source": [
    "## So Version of it"
   ]
  },
  {
   "cell_type": "code",
   "execution_count": 8,
   "metadata": {},
   "outputs": [],
   "source": [
    "T=coder_so.SymT(N=2,s=3)\n",
    "Tc=T.copy().replace(coder_so.u,lambda i:coder_so.u(3-i))\n",
    "\n",
    "r=coder_so.sympy.Function(\"trace\")(1)/2\n",
    "ThisR=next( U*(U+r-1)*coder_so.formal(1)+(U+r-1)*coder_so.formal.P-U*coder_so.formal.Q\n",
    "    for U in [coder_so.u(1)-coder_so.u(2)])\n",
    "\n",
    "Delta=(T*coder_so.formal.P*ThisR-ThisR*coder_so.formal.P*Tc)"
   ]
  },
  {
   "cell_type": "code",
   "execution_count": 9,
   "metadata": {},
   "outputs": [
    {
     "data": {
      "text/latex": [
       "$\\displaystyle \\left\\{ \\right\\}$"
      ],
      "text/plain": [
       "{}"
      ]
     },
     "execution_count": 9,
     "metadata": {},
     "output_type": "execute_result"
    }
   ],
   "source": [
    "Delta.to_tensor(r=3,random=\"Q\").array._sparse_array"
   ]
  },
  {
   "cell_type": "code",
   "execution_count": 10,
   "metadata": {},
   "outputs": [],
   "source": [
    "T=coder_so.SymT(N=2,s=3)\n",
    "Tc=coder_so.formal.P*T.copy().replace(coder_so.u,lambda i:coder_so.u(3-i))*coder_so.formal.P\n",
    "\n",
    "r=coder_so.sympy.Function(\"trace\")(1)/2\n",
    "ThisR=next( U*(U+r-1)*coder_so.formal(1)+(U+r-1)*coder_so.formal.P-U*coder_so.formal.Q\n",
    "    for U in [coder_so.u(1)-coder_so.u(2)])\n",
    "\n",
    "Delta=(T*ThisR-ThisR*Tc)"
   ]
  },
  {
   "cell_type": "code",
   "execution_count": 11,
   "metadata": {},
   "outputs": [
    {
     "data": {
      "text/latex": [
       "$\\displaystyle \\left\\{ \\right\\}$"
      ],
      "text/plain": [
       "{}"
      ]
     },
     "execution_count": 11,
     "metadata": {},
     "output_type": "execute_result"
    }
   ],
   "source": [
    "Delta.to_tensor(r=3,random=\"Q\").array._sparse_array"
   ]
  },
  {
   "cell_type": "markdown",
   "metadata": {},
   "source": [
    "### Check Yang-Baxter for $g\\otimes g\\otimes\\cdots$"
   ]
  },
  {
   "cell_type": "code",
   "execution_count": null,
   "metadata": {},
   "outputs": [],
   "source": [
    "coder_so.tensor.SympyDefault=False\n",
    "\n",
    "gtens=2; II=coder_so.formal(factors=[(i,i,1) for i in range(1,gtens+1)])\n",
    "T=coder_so.SymT(N=2,s=3,gl=True,gtens=gtens)#.print_nice()\n",
    "Tc=T.copy().replace(coder_so.u,lambda i:coder_so.u(3-i))\n",
    "ThisR=(coder_so.u(1)-coder_so.u(2)+coder_so.formal.P).tensor(II)\n",
    "Delta=(T*coder_so.formal.P.tensor(II)*ThisR-ThisR*coder_so.formal.P.tensor(II)*Tc)\n",
    "Delta.to_tensor(r=3,random=\"Q\").array._sparse_array"
   ]
  },
  {
   "cell_type": "markdown",
   "metadata": {},
   "source": [
    "As seen above, OK for GL!"
   ]
  },
  {
   "cell_type": "code",
   "execution_count": null,
   "metadata": {},
   "outputs": [],
   "source": [
    "gtens=1; II=coder_so.formal(factors=[(i,i,1) for i in range(1,gtens+1)])\n",
    "\n",
    "T=coder_so.SymT(N=2,s=3,gtens=gtens)\n",
    "Tc=T.copy().replace(coder_so.u,lambda i:coder_so.u(3-i))\n",
    "\n",
    "r=coder_so.sympy.Function(\"trace\")(1)/2\n",
    "ThisR=next( U*(U+r-1)*coder_so.formal(1)+(U+r-1)*coder_so.formal.P-U*coder_so.formal.Q\n",
    "    for U in [coder_so.u(1)-coder_so.u(2)]).tensor(II)\n",
    "\n",
    "Delta=(T*coder_so.formal.P.tensor(II)*ThisR-ThisR*coder_so.formal.P.tensor(II)*Tc)\n",
    "#Delta.to_tensor(r=3,random=\"Q\").array._sparse_array"
   ]
  },
  {
   "cell_type": "code",
   "execution_count": null,
   "metadata": {},
   "outputs": [],
   "source": [
    "len(Delta._terms_)"
   ]
  },
  {
   "cell_type": "code",
   "execution_count": null,
   "metadata": {},
   "outputs": [],
   "source": [
    "Delta.to_tensor(r=3,random=\"Q\").array._sparse_array"
   ]
  },
  {
   "cell_type": "markdown",
   "metadata": {},
   "source": [
    "Remarks: \n",
    "* for gtens=1 (above) it had to be true because it coincides with an L-operator in the fundamental irrep (before any trace)\n",
    "* for gtens=2, I think it would correspond to a tensor representation, for which no R-matrix was known previously"
   ]
  },
  {
   "cell_type": "code",
   "execution_count": 36,
   "metadata": {},
   "outputs": [],
   "source": [
    "gtens=2; II=coder_so.formal(factors=[(i,i,1) for i in range(1,gtens+1)])\n",
    "\n",
    "T=coder_so.SymT(N=2,gtens=gtens)\n",
    "Tc=T.copy().replace(coder_so.u,lambda i:coder_so.u(3-i))\n",
    "\n",
    "r=coder_so.sympy.Function(\"trace\")(1)/2\n",
    "ThisR=next( U*(U+r-1)*coder_so.formal(1)+(U+r-1)*coder_so.formal.P-U*coder_so.formal.Q\n",
    "    for U in [coder_so.u(1)-coder_so.u(2)]).tensor(II)\n",
    "\n",
    "Delta=(T*coder_so.formal.P.tensor(II)*ThisR-ThisR*coder_so.formal.P.tensor(II)*Tc)\n",
    "#Delta.to_tensor(r=3,random=\"Q\").array._sparse_array"
   ]
  },
  {
   "cell_type": "markdown",
   "metadata": {},
   "source": [
    "expectation:\n",
    "* $\\Delta \\left(\\mathbb I\\otimes \\mathbb I\\otimes\\left(\\left(1+\\mathcal P\\right)\\left(1-\\frac Q{2r}\\right)\\right)\\right)=0$\n",
    "* $\\Delta \\left(\\mathbb I\\otimes \\mathbb I\\otimes\\left(1+\\mathcal P\\right)\\right)=0$ (if the singlet repr has no impact)\n",
    "* But without the $tr(D^2)$ term $\\Delta \\left(\\mathbb I\\otimes \\mathbb I\\otimes\\left(1+\\mathcal P\\right)\\right)\\neq 0$"
   ]
  },
  {
   "cell_type": "code",
   "execution_count": 8,
   "metadata": {},
   "outputs": [],
   "source": [
    "X=Delta*II.tensor((1+coder_so.formal.P)*(2*r-coder_so.formal.Q))"
   ]
  },
  {
   "cell_type": "code",
   "execution_count": 38,
   "metadata": {},
   "outputs": [],
   "source": [
    "X=X.simplify()"
   ]
  },
  {
   "cell_type": "code",
   "execution_count": null,
   "metadata": {},
   "outputs": [],
   "source": [
    "X"
   ]
  },
  {
   "cell_type": "code",
   "execution_count": 35,
   "metadata": {},
   "outputs": [],
   "source": [
    "T=X.to_tensor(r=3,random=\"Q\")\n",
    "D=T.array._sparse_array"
   ]
  },
  {
   "cell_type": "code",
   "execution_count": 36,
   "metadata": {},
   "outputs": [
    {
     "data": {
      "text/plain": [
       "0"
      ]
     },
     "execution_count": 36,
     "metadata": {},
     "output_type": "execute_result"
    }
   ],
   "source": [
    "len(D)"
   ]
  },
  {
   "cell_type": "markdown",
   "metadata": {},
   "source": [
    "OK: expectation 1 is correct!"
   ]
  },
  {
   "cell_type": "code",
   "execution_count": 37,
   "metadata": {},
   "outputs": [
    {
     "data": {
      "text/plain": [
       "0"
      ]
     },
     "execution_count": 37,
     "metadata": {},
     "output_type": "execute_result"
    }
   ],
   "source": [
    "X=Delta*II.tensor((1+coder_so.formal.P))\n",
    "X=X.simplify()\n",
    "T=X.to_tensor(r=3,random=\"Q\")\n",
    "D=T.array._sparse_array\n",
    "len(D)"
   ]
  },
  {
   "cell_type": "markdown",
   "metadata": {},
   "source": [
    "Expectation 2 is also correct"
   ]
  },
  {
   "cell_type": "code",
   "execution_count": 38,
   "metadata": {},
   "outputs": [
    {
     "name": "stdout",
     "output_type": "stream",
     "text": [
      "{'1': <function SymT.<locals>.<lambda> at 0x7fd870b628c0>, 'D': <function SymT.<locals>.<lambda> at 0x7fd870b62710>, \"D^2'\": <function SymT.<locals>.<lambda> at 0x7fd870b62050>}\n"
     ]
    },
    {
     "data": {
      "text/plain": [
       "26412"
      ]
     },
     "execution_count": 38,
     "metadata": {},
     "output_type": "execute_result"
    }
   ],
   "source": [
    "## Expectation 3\n",
    "gtens=2; II=coder_so.formal(factors=[(i,i,1) for i in range(1,gtens+1)])\n",
    "\n",
    "T=coder_so.SymT(N=2,gtens=gtens,notr=True)\n",
    "Tc=T.copy().replace(coder_so.u,lambda i:coder_so.u(3-i))\n",
    "\n",
    "r=coder_so.sympy.Function(\"trace\")(1)/2\n",
    "ThisR=next( U*(U+r-1)*coder_so.formal(1)+(U+r-1)*coder_so.formal.P-U*coder_so.formal.Q\n",
    "    for U in [coder_so.u(1)-coder_so.u(2)]).tensor(II)\n",
    "\n",
    "Delta=(T*coder_so.formal.P.tensor(II)*ThisR-ThisR*coder_so.formal.P.tensor(II)*Tc)\n",
    "#Delta.to_tensor(r=3,random=\"Q\").array._sparse_array\n",
    "\n",
    "\n",
    "X=Delta*II.tensor((1+coder_so.formal.P))\n",
    "X=X.simplify()\n",
    "T=X.to_tensor(r=3,random=\"Q\")\n",
    "D=T.array._sparse_array\n",
    "len(D)"
   ]
  },
  {
   "cell_type": "code",
   "execution_count": 39,
   "metadata": {},
   "outputs": [
    {
     "data": {
      "text/latex": [
       "$\\displaystyle \\frac{81218140201878255070434849928928}{815756326116726057100451715675}$"
      ],
      "text/plain": [
       "81218140201878255070434849928928/815756326116726057100451715675"
      ]
     },
     "execution_count": 39,
     "metadata": {},
     "output_type": "execute_result"
    }
   ],
   "source": [
    "D[list(D)[0]]"
   ]
  },
  {
   "cell_type": "code",
   "execution_count": null,
   "metadata": {},
   "outputs": [],
   "source": []
  },
  {
   "cell_type": "markdown",
   "metadata": {},
   "source": [
    "Thus I should study only the product with $(1-\\mathcal P)$ with free coefficients"
   ]
  },
  {
   "cell_type": "code",
   "execution_count": 3,
   "metadata": {},
   "outputs": [
    {
     "data": {
      "text/plain": [
       "22272"
      ]
     },
     "execution_count": 3,
     "metadata": {},
     "output_type": "execute_result"
    }
   ],
   "source": [
    "## free coefs for antisym irrep\n",
    "gtens=2; II=coder_so.formal(factors=[(i,i,1) for i in range(1,gtens+1)])\n",
    "\n",
    "T=coder_so.SymT(N=2,gtens=gtens,free_coefs=True)\n",
    "Tc=T.copy().replace(coder_so.u,lambda i:coder_so.u(3-i))\n",
    "\n",
    "r=coder_so.sympy.Function(\"trace\")(1)/2\n",
    "ThisR=next( U*(U+r-1)*coder_so.formal(1)+(U+r-1)*coder_so.formal.P-U*coder_so.formal.Q\n",
    "    for U in [coder_so.u(1)-coder_so.u(2)]).tensor(II)\n",
    "\n",
    "Delta=(T*coder_so.formal.P.tensor(II)*ThisR-ThisR*coder_so.formal.P.tensor(II)*Tc)\n",
    "#Delta.to_tensor(r=3,random=\"Q\").array._sparse_array\n",
    "\n",
    "\n",
    "X=Delta*II.tensor((1-coder_so.formal.P))\n",
    "X=X.simplify()\n",
    "T=X.to_tensor(r=3,random=\"Q\",keep=[coder_so.sympy.Symbol(\"c_\"+str(n)) for n in range(5)])\n",
    "D=T.array._sparse_array\n",
    "len(D)"
   ]
  },
  {
   "cell_type": "code",
   "execution_count": 4,
   "metadata": {},
   "outputs": [],
   "source": [
    "from sympy.solvers import solve\n",
    "A,=solve(D[list(D)[0]],coder_so.sympy.Symbol(\"c_4\"))\n",
    "sold={coder_so.sympy.Symbol(\"c_4\"):A}\n",
    "Eqs=[D[k].subs(sold).expand() for k in D]\n",
    "Eqs=[i for i in Eqs if not i==0]"
   ]
  },
  {
   "cell_type": "markdown",
   "metadata": {},
   "source": [
    "Above says that I cannot just put coefs that obey YB ?\n",
    "Not clear, we should keep looking at consequences. $c_1=0$ is not acceptable since $c_4$ has $1/c_1$, hence we get $c_3=0$"
   ]
  },
  {
   "cell_type": "code",
   "execution_count": 5,
   "metadata": {},
   "outputs": [],
   "source": [
    "B,=solve(Eqs[0],coder_so.sympy.Symbol(\"c_3\"))\n",
    "ttmpd={coder_so.sympy.Symbol(\"c_3\"):B}\n",
    "for k in sold: sold[k]=sold[k].subs(ttmpd).expand()\n",
    "sold[coder_so.sympy.Symbol(\"c_3\")]=B\n",
    "Eqs=[D[k].subs(sold).expand() for k in D]\n",
    "Eqs=[i for i in Eqs if not i==0]"
   ]
  },
  {
   "cell_type": "code",
   "execution_count": 10,
   "metadata": {},
   "outputs": [],
   "source": [
    "## Careful: this one has two solutions !!!!\n",
    "v=coder_so.sympy.Symbol(\"c_2\")\n",
    "B0,B1=solve(Eqs[0],v)\n",
    "ttmpd0,ttmpd1={v:B0},{v:B1}\n",
    "sold0,sold1=(sold.copy() for i in range(2))\n",
    "for k in sold: sold0[k],sold1[k]=(sold[k].subs(t).expand() for t in (ttmpd0,ttmpd1))\n",
    "sold0[v],sold1[v]=B0,B1\n",
    "Eqs0,Eqs1=([D[k].subs(s).expand() for k in D] for s in [sold0,sold1])\n",
    "Eqs0,Eqs1=([i for i in Eqs if not i==0] for Eqs in [Eqs0,Eqs1])"
   ]
  },
  {
   "cell_type": "code",
   "execution_count": 11,
   "metadata": {},
   "outputs": [
    {
     "data": {
      "text/plain": [
       "[0, 0]"
      ]
     },
     "execution_count": 11,
     "metadata": {},
     "output_type": "execute_result"
    }
   ],
   "source": [
    "[len(e) for e in [Eqs0,Eqs1]]"
   ]
  },
  {
   "cell_type": "code",
   "execution_count": 13,
   "metadata": {},
   "outputs": [
    {
     "data": {
      "text/markdown": [
       "$c_{2}=- \\frac{2332283296839583 c_{1}}{9007199254740992}$"
      ],
      "text/plain": [
       "<IPython.core.display.Markdown object>"
      ]
     },
     "metadata": {},
     "output_type": "display_data"
    },
    {
     "data": {
      "text/markdown": [
       "$c_{3}=0$"
      ],
      "text/plain": [
       "<IPython.core.display.Markdown object>"
      ]
     },
     "metadata": {},
     "output_type": "display_data"
    },
    {
     "data": {
      "text/markdown": [
       "$c_{4}=- \\frac{c_{0}}{16} - \\frac{5439545376716914429716035613889}{1298074214633706907132624082305024}$"
      ],
      "text/plain": [
       "<IPython.core.display.Markdown object>"
      ]
     },
     "metadata": {},
     "output_type": "display_data"
    }
   ],
   "source": [
    "for k in sorted(list(sold0),key=lambda i:i.name):\n",
    "    coder_so.display(coder_so.Markdown(\"$\"+coder_so.sympy.latex(k)+\"=\"+coder_so.sympy.latex(sold0[k])+\"$\"\n",
    "                                      ))"
   ]
  },
  {
   "cell_type": "code",
   "execution_count": 15,
   "metadata": {},
   "outputs": [
    {
     "data": {
      "text/markdown": [
       "$c_{2}=- \\frac{61462717882313 c_{1}}{281474976710656}$"
      ],
      "text/plain": [
       "<IPython.core.display.Markdown object>"
      ]
     },
     "metadata": {},
     "output_type": "display_data"
    },
    {
     "data": {
      "text/markdown": [
       "$c_{3}=0$"
      ],
      "text/plain": [
       "<IPython.core.display.Markdown object>"
      ]
     },
     "metadata": {},
     "output_type": "display_data"
    },
    {
     "data": {
      "text/markdown": [
       "$c_{4}=- \\frac{c_{0}}{16} - \\frac{3777665689480798227318229969}{1267650600228229401496703205376}$"
      ],
      "text/plain": [
       "<IPython.core.display.Markdown object>"
      ]
     },
     "metadata": {},
     "output_type": "display_data"
    }
   ],
   "source": [
    "for k in sorted(list(sold1),key=lambda i:i.name):\n",
    "    coder_so.display(coder_so.Markdown(\"$\"+coder_so.sympy.latex(k)+\"=\"+coder_so.sympy.latex(sold1[k])+\"$\"\n",
    "                                      ))"
   ]
  },
  {
   "cell_type": "markdown",
   "metadata": {},
   "source": [
    "It looks a bit crasy: \n",
    "* there is always the solution with $c_1=c_2=c_3=0$, which is not interesting\n",
    "* there is also a non-zero solution where the coefficients look like characters or something similar\n",
    "    * no: the two other options are $c_2=u_1 c_1$ and $c_2=u_2 c_1$. This solution is fake because if it had been a u, then there would have been a $u_1\\leftrightarrow u_2$ swap which would have killed this solution"
   ]
  },
  {
   "cell_type": "code",
   "execution_count": 139,
   "metadata": {},
   "outputs": [
    {
     "data": {
      "text/latex": [
       "$\\displaystyle \\frac{3368545397694879313975085377735562424422306969507492321717909886631852239373}{109182524549442740133000598028947425835902359280349050741875622855365885952}$"
      ],
      "text/plain": [
       "3368545397694879313975085377735562424422306969507492321717909886631852239373/109182524549442740133000598028947425835902359280349050741875622855365885952"
      ]
     },
     "execution_count": 139,
     "metadata": {},
     "output_type": "execute_result"
    }
   ],
   "source": [
    "formal.randsubs(coder_so.chis(a=2,s=1),dtype=\"Q\",r=3)"
   ]
  },
  {
   "cell_type": "code",
   "execution_count": 16,
   "metadata": {},
   "outputs": [
    {
     "data": {
      "text/plain": [
       "({},\n",
       " {u(2): mpq(61462717882313,281474976710656),\n",
       "  u(1): mpq(2332283296839583,9007199254740992),\n",
       "  x(3): mpq(299550634926331,1125899906842624),\n",
       "  x(2): mpq(130972976523439,281474976710656),\n",
       "  x(1): mpq(2170753831939537,9007199254740992)})"
      ]
     },
     "execution_count": 16,
     "metadata": {},
     "output_type": "execute_result"
    }
   ],
   "source": [
    "coder_so.formal._randreps"
   ]
  },
  {
   "cell_type": "code",
   "execution_count": null,
   "metadata": {},
   "outputs": [],
   "source": []
  },
  {
   "cell_type": "markdown",
   "metadata": {},
   "source": [
    "If the idea is to look for ways out:\n",
    "* do not assume this form with a $D$, a $D^2$ etc, i.e put arbitary quadratic coefs into a big matrix and see how it goes..\n",
    "* start from the paper about Yangians"
   ]
  },
  {
   "cell_type": "code",
   "execution_count": null,
   "metadata": {},
   "outputs": [],
   "source": []
  },
  {
   "cell_type": "code",
   "execution_count": null,
   "metadata": {},
   "outputs": [],
   "source": []
  },
  {
   "cell_type": "code",
   "execution_count": null,
   "metadata": {},
   "outputs": [],
   "source": []
  },
  {
   "cell_type": "code",
   "execution_count": null,
   "metadata": {},
   "outputs": [],
   "source": []
  },
  {
   "cell_type": "code",
   "execution_count": null,
   "metadata": {},
   "outputs": [],
   "source": []
  },
  {
   "cell_type": "code",
   "execution_count": null,
   "metadata": {},
   "outputs": [],
   "source": []
  },
  {
   "cell_type": "code",
   "execution_count": null,
   "metadata": {},
   "outputs": [],
   "source": []
  },
  {
   "cell_type": "code",
   "execution_count": null,
   "metadata": {},
   "outputs": [],
   "source": []
  },
  {
   "cell_type": "code",
   "execution_count": null,
   "metadata": {},
   "outputs": [],
   "source": []
  },
  {
   "cell_type": "markdown",
   "metadata": {},
   "source": [
    "Check below that with an $1+\\mathcal P$ it would be possible:"
   ]
  },
  {
   "cell_type": "code",
   "execution_count": 54,
   "metadata": {},
   "outputs": [
    {
     "data": {
      "text/plain": [
       "35676"
      ]
     },
     "execution_count": 54,
     "metadata": {},
     "output_type": "execute_result"
    }
   ],
   "source": [
    "## free coefs for sym (ir)rep\n",
    "gtens=2; II=coder_so.formal(factors=[(i,i,1) for i in range(1,gtens+1)])\n",
    "\n",
    "T=coder_so.SymT(N=2,gtens=gtens,free_coefs=True)\n",
    "Tc=T.copy().replace(coder_so.u,lambda i:coder_so.u(3-i))\n",
    "\n",
    "r=coder_so.sympy.Function(\"trace\")(1)/2\n",
    "ThisR=next( U*(U+r-1)*coder_so.formal(1)+(U+r-1)*coder_so.formal.P-U*coder_so.formal.Q\n",
    "    for U in [coder_so.u(1)-coder_so.u(2)]).tensor(II)\n",
    "\n",
    "Delta=(T*coder_so.formal.P.tensor(II)*ThisR-ThisR*coder_so.formal.P.tensor(II)*Tc)\n",
    "#Delta.to_tensor(r=3,random=\"Q\").array._sparse_array\n",
    "\n",
    "\n",
    "X=Delta*II.tensor((1+coder_so.formal.P))\n",
    "X=X.simplify()\n",
    "T=X.to_tensor(r=3,random=\"Q\",keep=[coder_so.sympy.Symbol(\"c_\"+str(n)) for n in range(5)])\n",
    "D=T.array._sparse_array\n",
    "len(D)"
   ]
  },
  {
   "cell_type": "code",
   "execution_count": 56,
   "metadata": {},
   "outputs": [
    {
     "data": {
      "text/latex": [
       "$\\displaystyle \\frac{1673118735682382778648638960887 c_{0} c_{1}}{411486685172353767290861683208} + \\frac{1880408955754524597053828943415311756151197023040689806873929 c_{1}^{2}}{8345941495114539462388317196786735468230620482727556392419328} + \\frac{7245691062740440008634697338338658945903613353 c_{1} c_{2}}{3706342564020266055985571716740672107195662336} + \\frac{37385918721003537894589153651404926664310773161 c_{1} c_{3}}{3706342564020266055985571716740672107195662336} + \\frac{5019356207047148335945916882661 c_{1} c_{4}}{51435835646544220911357710401} - \\frac{1880408955754524597053828943415311756151197023040689806873929 c_{1}}{8345941495114539462388317196786735468230620482727556392419328} + \\frac{1673118735682382778648638960887 c_{2}^{2}}{411486685172353767290861683208} + \\frac{1673118735682382778648638960887 c_{2} c_{3}}{205743342586176883645430841604} - \\frac{7245691062740440008634697338338658945903613353 c_{2}}{3706342564020266055985571716740672107195662336} + \\frac{1673118735682382778648638960887 c_{3}^{2}}{411486685172353767290861683208} - \\frac{7245691062740440008634697338338658945903613353 c_{3}}{3706342564020266055985571716740672107195662336}$"
      ],
      "text/plain": [
       "1673118735682382778648638960887*c_0*c_1/411486685172353767290861683208 + 1880408955754524597053828943415311756151197023040689806873929*c_1**2/8345941495114539462388317196786735468230620482727556392419328 + 7245691062740440008634697338338658945903613353*c_1*c_2/3706342564020266055985571716740672107195662336 + 37385918721003537894589153651404926664310773161*c_1*c_3/3706342564020266055985571716740672107195662336 + 5019356207047148335945916882661*c_1*c_4/51435835646544220911357710401 - 1880408955754524597053828943415311756151197023040689806873929*c_1/8345941495114539462388317196786735468230620482727556392419328 + 1673118735682382778648638960887*c_2**2/411486685172353767290861683208 + 1673118735682382778648638960887*c_2*c_3/205743342586176883645430841604 - 7245691062740440008634697338338658945903613353*c_2/3706342564020266055985571716740672107195662336 + 1673118735682382778648638960887*c_3**2/411486685172353767290861683208 - 7245691062740440008634697338338658945903613353*c_3/3706342564020266055985571716740672107195662336"
      ]
     },
     "execution_count": 56,
     "metadata": {},
     "output_type": "execute_result"
    }
   ],
   "source": [
    "D[list(D)[0]].expand()"
   ]
  },
  {
   "cell_type": "code",
   "execution_count": 105,
   "metadata": {},
   "outputs": [],
   "source": [
    "from sympy.solvers import solve\n",
    "A,=solve(D[list(D)[0]],coder_so.sympy.Symbol(\"c_4\"))\n",
    "sold={coder_so.sympy.Symbol(\"c_4\"):A}\n",
    "Eqs=[D[k].subs(sold).expand() for k in D]"
   ]
  },
  {
   "cell_type": "code",
   "execution_count": 88,
   "metadata": {},
   "outputs": [
    {
     "data": {
      "text/latex": [
       "$\\displaystyle \\frac{6704268565191093198061316659505619438632520789 c_{3} \\left(4676549607341473 c_{1} - 18014398509481984 c_{2} + 18014398509481984 c_{3} + 4330649647399519\\right)}{165730412208183050533591155705774059726504544560117364281049088}$"
      ],
      "text/plain": [
       "6704268565191093198061316659505619438632520789*c_3*(4676549607341473*c_1 - 18014398509481984*c_2 + 18014398509481984*c_3 + 4330649647399519)/165730412208183050533591155705774059726504544560117364281049088"
      ]
     },
     "execution_count": 88,
     "metadata": {},
     "output_type": "execute_result"
    }
   ],
   "source": [
    "Eqs[4].factor()"
   ]
  },
  {
   "cell_type": "code",
   "execution_count": 106,
   "metadata": {},
   "outputs": [],
   "source": [
    "B,=solve(Eqs[4],coder_so.sympy.Symbol(\"c_2\"))\n",
    "ttmpd={coder_so.sympy.Symbol(\"c_2\"):B}\n",
    "for k in sold: sold[k]=sold[k].subs(ttmpd).expand()\n",
    "sold[coder_so.sympy.Symbol(\"c_2\")]=B\n",
    "Eqs=[D[k].subs(sold).expand() for k in D]\n",
    "Eqs=[i for i in Eqs if not i==0]"
   ]
  },
  {
   "cell_type": "code",
   "execution_count": 90,
   "metadata": {},
   "outputs": [
    {
     "data": {
      "text/latex": [
       "$\\displaystyle \\frac{15058068621141445007837750647983 c_{3} \\left(c_{1} - 2 c_{3}\\right)}{40564819207303340847894502572032}$"
      ],
      "text/plain": [
       "15058068621141445007837750647983*c_3*(c_1 - 2*c_3)/40564819207303340847894502572032"
      ]
     },
     "execution_count": 90,
     "metadata": {},
     "output_type": "execute_result"
    }
   ],
   "source": [
    "Eqs[0].factor()"
   ]
  },
  {
   "cell_type": "code",
   "execution_count": 107,
   "metadata": {},
   "outputs": [],
   "source": [
    "B,=solve(Eqs[0],coder_so.sympy.Symbol(\"c_1\"))\n",
    "ttmpd={coder_so.sympy.Symbol(\"c_1\"):B}\n",
    "for k in sold: sold[k]=sold[k].subs(ttmpd).expand()\n",
    "sold[coder_so.sympy.Symbol(\"c_1\")]=B\n",
    "Eqs=[D[k].subs(sold).expand() for k in D]\n",
    "Eqs=[i for i in Eqs if not i==0]"
   ]
  },
  {
   "cell_type": "code",
   "execution_count": 92,
   "metadata": {},
   "outputs": [
    {
     "data": {
      "text/plain": [
       "{c_4: -c_0/24 - 351304361708451489559699715006181*c_3/1298074214633706907132624082305024 - 9763370316526985803978561642825/3894222643901120721397872246915072 + 18754526368521578241799201431361/(15576890575604482885591488987660288*c_3),\n",
       " c_2: 13683748862082465*c_3/9007199254740992 + 4330649647399519/18014398509481984,\n",
       " c_1: 2*c_3}"
      ]
     },
     "execution_count": 92,
     "metadata": {},
     "output_type": "execute_result"
    }
   ],
   "source": [
    "sold"
   ]
  },
  {
   "cell_type": "code",
   "execution_count": 93,
   "metadata": {},
   "outputs": [
    {
     "data": {
      "text/plain": [
       "[]"
      ]
     },
     "execution_count": 93,
     "metadata": {},
     "output_type": "execute_result"
    }
   ],
   "source": [
    "Eqs"
   ]
  },
  {
   "cell_type": "code",
   "execution_count": 95,
   "metadata": {},
   "outputs": [],
   "source": [
    "a,b=(sold[coder_so.sympy.Symbol(\"c_2\")].coeff(coder_so.sympy.Symbol(\"c_3\"),k) for k in [0,1])"
   ]
  },
  {
   "cell_type": "code",
   "execution_count": 96,
   "metadata": {},
   "outputs": [
    {
     "data": {
      "text/latex": [
       "$\\displaystyle 1$"
      ],
      "text/plain": [
       "1"
      ]
     },
     "execution_count": 96,
     "metadata": {},
     "output_type": "execute_result"
    }
   ],
   "source": [
    "a+b/2"
   ]
  },
  {
   "cell_type": "code",
   "execution_count": 108,
   "metadata": {},
   "outputs": [],
   "source": [
    "B=1/coder_so.sympy.sympify(2)\n",
    "ttmpd={coder_so.sympy.Symbol(\"c_3\"):B}\n",
    "for k in sold: sold[k]=sold[k].subs(ttmpd).expand()\n",
    "sold[coder_so.sympy.Symbol(\"c_3\")]=B\n",
    "Eqs=[D[k].subs(sold).expand() for k in D]\n",
    "Eqs=[i for i in Eqs if not i==0]"
   ]
  },
  {
   "cell_type": "code",
   "execution_count": 98,
   "metadata": {},
   "outputs": [
    {
     "data": {
      "text/plain": [
       "{c_4: -c_0/24 - 13/96, c_2: 1, c_1: 1, c_3: 1/2}"
      ]
     },
     "execution_count": 98,
     "metadata": {},
     "output_type": "execute_result"
    }
   ],
   "source": [
    "sold"
   ]
  },
  {
   "cell_type": "markdown",
   "metadata": {},
   "source": [
    "Rq: the expected solution is/was \\begin{equation}\\begin{cases}c_0=-\\frac{(r-2)^2}4=-\\frac 1 4\\\\\n",
    "c_1=1\\\\c_2=\\frac{r-1}2=1\\\\c_3=1/2\\\\c_4=-1/8\\end{cases}\\end{equation}"
   ]
  },
  {
   "cell_type": "code",
   "execution_count": 109,
   "metadata": {},
   "outputs": [],
   "source": [
    "B=-1/coder_so.sympy.sympify(4)\n",
    "ttmpd={coder_so.sympy.Symbol(\"c_0\"):B}\n",
    "for k in sold: sold[k]=sold[k].subs(ttmpd).expand()\n",
    "sold[coder_so.sympy.Symbol(\"c_0\")]=B"
   ]
  },
  {
   "cell_type": "code",
   "execution_count": 110,
   "metadata": {},
   "outputs": [
    {
     "data": {
      "text/markdown": [
       "$c_{0}=- \\frac{1}{4}$"
      ],
      "text/plain": [
       "<IPython.core.display.Markdown object>"
      ]
     },
     "metadata": {},
     "output_type": "display_data"
    },
    {
     "data": {
      "text/markdown": [
       "$c_{1}=1$"
      ],
      "text/plain": [
       "<IPython.core.display.Markdown object>"
      ]
     },
     "metadata": {},
     "output_type": "display_data"
    },
    {
     "data": {
      "text/markdown": [
       "$c_{2}=1$"
      ],
      "text/plain": [
       "<IPython.core.display.Markdown object>"
      ]
     },
     "metadata": {},
     "output_type": "display_data"
    },
    {
     "data": {
      "text/markdown": [
       "$c_{3}=\\frac{1}{2}$"
      ],
      "text/plain": [
       "<IPython.core.display.Markdown object>"
      ]
     },
     "metadata": {},
     "output_type": "display_data"
    },
    {
     "data": {
      "text/markdown": [
       "$c_{4}=- \\frac{1}{8}$"
      ],
      "text/plain": [
       "<IPython.core.display.Markdown object>"
      ]
     },
     "metadata": {},
     "output_type": "display_data"
    }
   ],
   "source": [
    "for k in sorted(list(sold),key=lambda i:i.name):\n",
    "    coder_so.display(coder_so.Markdown(\"$\"+coder_so.sympy.latex(k)+\"=\"+coder_so.sympy.latex(sold[k])+\"$\"\n",
    "                                      ))"
   ]
  },
  {
   "cell_type": "markdown",
   "metadata": {},
   "source": [
    "### Back to irreps and G"
   ]
  },
  {
   "cell_type": "code",
   "execution_count": 3,
   "metadata": {},
   "outputs": [
    {
     "data": {
      "text/plain": [
       "[2|112>-|211>-|121>,\n",
       " -2|11-3>+|-311>+|1-31>,\n",
       " 2|11-1>-2|-212>-2|1-22>-|-111>+|2-21>+|21-2>-|1-11>+|-221>+|12-2>,\n",
       " 2|-21-3>+2|1-2-3>-|-3-21>-|-31-2>-|-2-31>-|1-3-2>,\n",
       " -4|-21-1>-4|1-2-1>+4|-2-22>+2|-1-21>+2|-11-2>-2|2-2-2>+2|-2-11>+2|1-1-2>-2|-22-2>,\n",
       " -4|-2-2-3>+2|-3-2-2>+2|-2-3-2>,\n",
       " 12|-2-2-1>-6|-1-2-2>-6|-2-1-2>,\n",
       " -2|-312>-2|1-32>+|2-31>+|21-3>+|-321>+|12-3>,\n",
       " |-31-3>+|1-3-3>-2|-3-31>,\n",
       " -2|-31-1>+2|-3-22>-2|1-3-1>+2|-2-32>+|-1-31>-|2-3-2>+|-11-3>-|2-2-3>+|-3-11>-|-32-2>+|1-1-3>-|-22-3>,\n",
       " -|-3-2-3>-|-2-3-3>+2|-3-3-2>,\n",
       " 4|-3-2-1>+4|-2-3-1>-2|-1-3-2>-2|-1-2-3>-2|-3-1-2>-2|-2-1-3>,\n",
       " 4|-3-32>-2|2-3-3>-2|-32-3>,\n",
       " 4|-3-3-1>-2|-1-3-3>-2|-3-1-3>,\n",
       " -2|113>+|311>+|131>,\n",
       " -2|11-2>+|-211>+|1-21>,\n",
       " 2|-213>+2|1-23>-|3-21>-|31-2>-|-231>-|13-2>,\n",
       " |-21-2>+|1-2-2>-2|-2-21>,\n",
       " -4|-2-23>+2|3-2-2>+2|-23-2>,\n",
       " -2|11-1>+2|-313>+2|1-33>+|-111>-|3-31>-|31-3>+|1-11>-|-331>-|13-3>,\n",
       " 2|-31-2>+2|1-3-2>-|-2-31>-|-21-3>-|-3-21>-|1-2-3>,\n",
       " 2|-21-1>+2|1-2-1>-2|-3-23>-2|-2-33>-|-1-21>-|-11-2>+|3-3-2>+|3-2-3>-|-2-11>-|1-1-2>+|-33-2>+|-23-3>,\n",
       " 4|-31-1>+4|1-3-1>-4|-3-33>-2|-1-31>-2|-11-3>+2|3-3-3>-2|-3-11>-2|1-1-3>+2|-33-3>,\n",
       " 2|312>+2|132>-|231>-|213>-|321>-|123>,\n",
       " 2|-212>-2|31-3>+2|1-22>-2|13-3>-|2-21>+|-331>-|21-2>+|-313>-|-221>+|3-31>-|12-2>+|1-33>,\n",
       " 2|31-1>-2|3-22>+2|13-1>-2|-232>-|-131>+|23-2>-|-113>+|2-23>-|3-11>+|32-2>-|1-13>+|-223>,\n",
       " 2|-21-1>-4|-2-22>+2|3-2-3>+2|1-2-1>+2|-23-3>-|-1-21>+2|2-2-2>-|-33-2>-|-11-2>-|-3-23>-|-2-11>+2|-22-2>-|3-3-2>-|1-1-2>-|-2-33>,\n",
       " -4|3-2-1>-4|-23-1>+2|-13-2>+2|-1-23>+2|3-1-2>+2|-2-13>,\n",
       " 2|-112>-2|3-32>+2|1-12>-2|-332>-|2-11>+|23-3>-|21-1>+|2-33>-|-121>+|32-3>-|12-1>+|-323>,\n",
       " -2|-11-3>-2|-2-32>+|3-3-3>-2|1-1-3>-2|-3-22>+|-33-3>+|-3-11>+|2-2-3>+|-31-1>+|2-3-2>-2|-3-33>+|-1-31>+|-22-3>+|1-3-1>+|-32-2>,\n",
       " |-11-1>-2|-1-22>-2|3-3-1>+|1-1-1>-2|-2-12>-2|-33-1>-2|-1-11>+|2-1-2>+|-13-3>+|2-2-1>+|-1-33>+|-12-2>+|3-1-3>+|-22-1>+|-3-13>,\n",
       " 3|-1-2-3>-3|-2-3-1>+3|-2-1-3>-3|-3-2-1>,\n",
       " -2|-1-2-1>-2|-2-1-1>+4|-1-1-2>,\n",
       " -4|-1-32>-4|-3-12>+2|2-1-3>+2|2-3-1>+2|-12-3>+2|-32-1>,\n",
       " -2|-1-3-1>-2|-3-1-1>+4|-1-1-3>,\n",
       " -|313>-|133>+2|331>,\n",
       " -|-213>-|31-2>-|1-23>-|13-2>+2|-231>+2|3-21>,\n",
       " |3-23>+|-233>-2|33-2>,\n",
       " -|-113>-|31-1>+|3-33>-|1-13>-|13-1>+|-333>+2|-131>+2|3-11>-2|33-3>,\n",
       " -|-11-2>-|-21-1>+|-2-33>+|3-3-2>-|1-1-2>-|1-2-1>+|-3-23>+|-33-2>+2|-1-21>+2|-2-11>-2|-23-3>-2|3-2-3>,\n",
       " |-1-23>+|3-2-1>+|-2-13>+|-23-1>-2|-13-2>-2|3-1-2>,\n",
       " -2|-11-1>+2|-1-33>+2|3-3-1>-2|1-1-1>+2|-3-13>+2|-33-1>+4|-1-11>-4|-13-3>-4|3-1-3>,\n",
       " -|212>-|122>+2|221>,\n",
       " |-312>+|21-3>+|1-32>+|12-3>-2|-321>-2|2-31>,\n",
       " -|-112>-|21-1>+|2-22>-|1-12>-|12-1>+|-222>+2|-121>+2|2-11>-2|22-2>,\n",
       " |-11-3>+|-31-1>-|-3-22>-|2-2-3>+|1-1-3>+|1-3-1>-|-2-32>-|-22-3>-2|-1-31>-2|-3-11>+2|-32-2>+2|2-3-2>,\n",
       " -2|-11-1>+2|-1-22>+2|2-2-1>-2|1-1-1>+2|-2-12>+2|-22-1>+4|-1-11>-4|-12-2>-4|2-1-2>,\n",
       " |2-32>+|-322>-2|22-3>,\n",
       " |-1-32>+|2-3-1>+|-3-12>+|-32-1>-2|-12-3>-2|2-1-3>,\n",
       " |312>+|213>+|132>+|123>-2|321>-2|231>,\n",
       " |-212>-|31-3>+|21-2>-|-313>+|1-22>-|13-3>+|12-2>-|1-33>-2|-221>+2|3-31>-2|2-21>+2|-331>,\n",
       " |31-1>-|3-22>+|-113>-|2-23>+|13-1>-|-232>+|1-13>-|-223>-2|3-11>+2|32-2>-2|-131>+2|23-2>,\n",
       " |-112>-|3-32>+|21-1>-|2-33>+|1-12>-|-332>+|12-1>-|-323>-2|-121>+2|32-3>-2|2-11>+2|23-3>,\n",
       " 4|332>-2|233>-2|323>,\n",
       " 4|-232>+4|3-22>-4|33-3>-2|2-23>-2|23-2>+2|-333>-2|-223>-2|32-2>+2|3-33>,\n",
       " 4|33-1>-2|-133>-2|3-13>,\n",
       " 4|-132>+4|3-12>-2|2-13>-2|23-1>-2|-123>-2|32-1>,\n",
       " 4|-1-22>-4|-13-3>+4|-2-12>-4|3-1-3>-2|2-1-2>+2|-3-13>-2|2-2-1>+2|-33-1>-2|-12-2>+2|-1-33>-2|-22-1>+2|3-3-1>,\n",
       " 2|-13-1>+2|3-1-1>-4|-1-13>,\n",
       " 8|-1-12>-4|2-1-1>-4|-12-1>,\n",
       " -2|232>-2|322>+4|223>,\n",
       " -2|2-22>+2|-332>+2|23-3>-2|-222>+2|3-32>+2|32-3>+4|22-2>-4|-323>-4|2-33>,\n",
       " -2|-132>-2|23-1>-2|3-12>-2|32-1>+4|-123>+4|2-13>,\n",
       " -2|2-12>-2|-122>+4|22-1>]"
      ]
     },
     "execution_count": 3,
     "metadata": {},
     "output_type": "execute_result"
    }
   ],
   "source": [
    "X=coder_so.sparse_J_matrix.J_matrix(Lambda=(2,1),r=3,allrepr=True)\n",
    "X[1]"
   ]
  },
  {
   "cell_type": "code",
   "execution_count": null,
   "metadata": {},
   "outputs": [],
   "source": [
    "coder_so.chi(Lambda=(2,1),r=3,method=\"J_matrix\")"
   ]
  },
  {
   "cell_type": "code",
   "execution_count": null,
   "metadata": {},
   "outputs": [],
   "source": [
    "X=coder_so.sparse_J_matrix.J_matrix(1,1,s=1,r=3,a=2,allrepr=True) # better r\n",
    "X[1]"
   ]
  },
  {
   "cell_type": "code",
   "execution_count": null,
   "metadata": {},
   "outputs": [],
   "source": [
    "X[0][(1,-2,1,3,2)]"
   ]
  },
  {
   "cell_type": "code",
   "execution_count": null,
   "metadata": {},
   "outputs": [],
   "source": []
  },
  {
   "cell_type": "markdown",
   "metadata": {},
   "source": [
    "## Try Yangian irreps"
   ]
  },
  {
   "cell_type": "code",
   "execution_count": 3,
   "metadata": {},
   "outputs": [],
   "source": [
    "u=coder_so.u\n",
    "A=1+coder_so.Lprod([(\"L\",-1,1,u(1))])"
   ]
  },
  {
   "cell_type": "code",
   "execution_count": 17,
   "metadata": {},
   "outputs": [
    {
     "data": {
      "text/plain": [
       "2L²₋₂(u(1))-2+L⁻¹₁(u(1))L²₋₂(u(1))-L⁻¹₁(u(1))"
      ]
     },
     "execution_count": 17,
     "metadata": {},
     "output_type": "execute_result"
    }
   ],
   "source": [
    "(A+1)*(coder_so.Lprod([(\"L\",2,-2,u(1))])+(-1))"
   ]
  },
  {
   "cell_type": "markdown",
   "metadata": {},
   "source": [
    "## Try Yangian irreps from [[Karakhanyan,Kirschner]](http://localhost:8888/files/git/darak_leurent/leurent/Karakhanyan_Kirschner.pdf)"
   ]
  },
  {
   "cell_type": "code",
   "execution_count": 4,
   "metadata": {},
   "outputs": [],
   "source": [
    "G=coder_so.G(r=3, a=1, s=1)"
   ]
  },
  {
   "cell_type": "code",
   "execution_count": 7,
   "metadata": {},
   "outputs": [],
   "source": [
    "G=coder_so.G(r=3, a=2, s=1)\n",
    "u,r,s,a=coder_so.sympy.Symbol(\"u\"),3,1,1"
   ]
  },
  {
   "cell_type": "code",
   "execution_count": 5,
   "metadata": {},
   "outputs": [],
   "source": [
    "#u,r,s=coder_so.sympy.Symbol(\"u\"),3,2"
   ]
  },
  {
   "cell_type": "code",
   "execution_count": 6,
   "metadata": {},
   "outputs": [],
   "source": [
    "coder_so.tensor.SympyDefault=False"
   ]
  },
  {
   "cell_type": "code",
   "execution_count": 5,
   "metadata": {},
   "outputs": [],
   "source": [
    "import numpy"
   ]
  },
  {
   "cell_type": "code",
   "execution_count": 8,
   "metadata": {},
   "outputs": [],
   "source": [
    "G=coder_so.G(r=r, s=s,a=a)\n",
    "g=coder_so.tensor(numpy.array(\n",
    "    [[[[G[i,j,k,l] if max(k,l)<G.array.shape[-1] else 0 for l in range(G.array.shape[3]+1)]\n",
    "      for k in range(G.array.shape[2]+1)]\n",
    "     for j in range(G.array.shape[1])]\n",
    "    for i in range(G.array.shape[0])]\n",
    "))"
   ]
  },
  {
   "cell_type": "code",
   "execution_count": 9,
   "metadata": {},
   "outputs": [
    {
     "ename": "AssertionError",
     "evalue": "",
     "output_type": "error",
     "traceback": [
      "\u001b[0;31m---------------------------------------------------------------------------\u001b[0m",
      "\u001b[0;31mAssertionError\u001b[0m                            Traceback (most recent call last)",
      "\u001b[0;32m/tmp/ipykernel_885015/731831792.py\u001b[0m in \u001b[0;36m<module>\u001b[0;34m\u001b[0m\n\u001b[0;32m----> 1\u001b[0;31m \u001b[0mg\u001b[0m\u001b[0;34m.\u001b[0m\u001b[0mtrace\u001b[0m\u001b[0;34m(\u001b[0m\u001b[0;34m)\u001b[0m\u001b[0;34m\u001b[0m\u001b[0;34m\u001b[0m\u001b[0m\n\u001b[0m",
      "\u001b[0;32m~/work/darak_leurent/leurent/coder_so.py\u001b[0m in \u001b[0;36mtrace\u001b[0;34m(self, AX)\u001b[0m\n\u001b[1;32m   1121\u001b[0m         \u001b[0;31m#### or (-2,-1) for the two last indices\u001b[0m\u001b[0;34m\u001b[0m\u001b[0;34m\u001b[0m\u001b[0m\n\u001b[1;32m   1122\u001b[0m         \u001b[0mA\u001b[0m\u001b[0;34m=\u001b[0m\u001b[0mself\u001b[0m\u001b[0;34m.\u001b[0m\u001b[0marray\u001b[0m\u001b[0;34m\u001b[0m\u001b[0;34m\u001b[0m\u001b[0m\n\u001b[0;32m-> 1123\u001b[0;31m         \u001b[0;32mif\u001b[0m \u001b[0;32mnot\u001b[0m \u001b[0mAX\u001b[0m\u001b[0;34m:\u001b[0m \u001b[0;32massert\u001b[0m \u001b[0mlen\u001b[0m\u001b[0;34m(\u001b[0m\u001b[0mA\u001b[0m\u001b[0;34m.\u001b[0m\u001b[0mshape\u001b[0m\u001b[0;34m)\u001b[0m\u001b[0;34m==\u001b[0m\u001b[0;36m2\u001b[0m\u001b[0;34m\u001b[0m\u001b[0;34m\u001b[0m\u001b[0m\n\u001b[0m\u001b[1;32m   1124\u001b[0m         \u001b[0;32mif\u001b[0m \u001b[0mAX\u001b[0m\u001b[0;34m:\u001b[0m\u001b[0;34m\u001b[0m\u001b[0;34m\u001b[0m\u001b[0m\n\u001b[1;32m   1125\u001b[0m             \u001b[0mn\u001b[0m\u001b[0;34m=\u001b[0m\u001b[0mlen\u001b[0m\u001b[0;34m(\u001b[0m\u001b[0mA\u001b[0m\u001b[0;34m.\u001b[0m\u001b[0mshape\u001b[0m\u001b[0;34m)\u001b[0m\u001b[0;34m\u001b[0m\u001b[0;34m\u001b[0m\u001b[0m\n",
      "\u001b[0;31mAssertionError\u001b[0m: "
     ]
    }
   ],
   "source": [
    "num(g)"
   ]
  },
  {
   "cell_type": "code",
   "execution_count": null,
   "metadata": {},
   "outputs": [],
   "source": []
  },
  {
   "cell_type": "code",
   "execution_count": null,
   "metadata": {},
   "outputs": [],
   "source": []
  },
  {
   "cell_type": "code",
   "execution_count": 9,
   "metadata": {},
   "outputs": [],
   "source": [
    "Lax_Matrix=(u**2\n",
    "              +u*g\n",
    "              +(r-1)/coder_so.sympy.sympify(2)*g\n",
    "             +coder_so.tensor(numpy.array(\n",
    "    [[[[coder_so.sympy.Symbol(\"m_\"+\"_\".join(str(a) for a in (i,j,k,l))) for l in range(G.array.shape[3]+1)]\n",
    "      for k in range(G.array.shape[2]+1)]\n",
    "     for j in range(G.array.shape[1])]\n",
    "    for i in range(G.array.shape[0])]\n",
    "))\n",
    "             )"
   ]
  },
  {
   "cell_type": "markdown",
   "metadata": {},
   "source": [
    "todo: write down equations for \"Yang-Baxter is obeyed\""
   ]
  },
  {
   "cell_type": "code",
   "execution_count": null,
   "metadata": {},
   "outputs": [],
   "source": [
    "#T=coder_so.SymT(N=2,s=3)\n",
    "#Tc=coder_so.formal.P*T.copy().replace(coder_so.u,lambda i:coder_so.u(3-i))*coder_so.formal.P#\n",
    "#\n",
    "#r=coder_so.sympy.Function(\"trace\")(1)/2\n",
    "#ThisR=next( U*(U+r-1)*coder_so.formal(1)+(U+r-1)*coder_so.formal.P-U*coder_so.formal.Q\n",
    "#    for U in [coder_so.u(1)-coder_so.u(2)])\n",
    "#\n",
    "#Delta=(T*ThisR-ThisR*Tc)"
   ]
  },
  {
   "cell_type": "code",
   "execution_count": 10,
   "metadata": {},
   "outputs": [],
   "source": [
    "T=Lax_Matrix.replace(u,coder_so.u(1)).tensordot(Lax_Matrix.replace(u,coder_so.u(2)),\n",
    "                                               ([3],[2])).transpose([0,1,3,4,2,5])\n",
    "# Rq: above is more an L than a T in the sense that it is before the trace"
   ]
  },
  {
   "cell_type": "code",
   "execution_count": 11,
   "metadata": {},
   "outputs": [],
   "source": [
    "ThisR=next( U*(U+r-1)*coder_so.formal(1)+(U+r-1)*coder_so.formal.P-U*coder_so.formal.Q\n",
    "    for U in [coder_so.u(1)-coder_so.u(2)])"
   ]
  },
  {
   "cell_type": "code",
   "execution_count": 12,
   "metadata": {},
   "outputs": [],
   "source": [
    "ThisR=coder_so.tensor(ThisR,r=r)\n",
    "ThisR=coder_so.tensor(numpy.array(ThisR.array)).tensordot(numpy.eye(T.array.shape[-1]),0)"
   ]
  },
  {
   "cell_type": "code",
   "execution_count": 13,
   "metadata": {},
   "outputs": [],
   "source": [
    "Tc=T.replace(coder_so.u,lambda i:coder_so.u(3-i)).transpose([2,3,0,1,4,5])"
   ]
  },
  {
   "cell_type": "code",
   "execution_count": 15,
   "metadata": {},
   "outputs": [],
   "source": [
    "T,Tc,ThisR=(coder_so.tensor(coder_so.sympy.SparseNDimArray(X)) for X in [T,Tc,ThisR])"
   ]
  },
  {
   "cell_type": "code",
   "execution_count": 16,
   "metadata": {},
   "outputs": [
    {
     "ename": "ValueError",
     "evalue": "arrays without shape need one scalar value",
     "output_type": "error",
     "traceback": [
      "\u001b[0;31m---------------------------------------------------------------------------\u001b[0m",
      "\u001b[0;31mValueError\u001b[0m                                Traceback (most recent call last)",
      "\u001b[0;32m/tmp/ipykernel_17516/114009395.py\u001b[0m in \u001b[0;36m<module>\u001b[0;34m\u001b[0m\n\u001b[0;32m----> 1\u001b[0;31m \u001b[0mDelta\u001b[0m\u001b[0;34m=\u001b[0m\u001b[0;34m(\u001b[0m\u001b[0mT\u001b[0m\u001b[0;34m*\u001b[0m\u001b[0mThisR\u001b[0m\u001b[0;34m-\u001b[0m\u001b[0mThisR\u001b[0m\u001b[0;34m*\u001b[0m\u001b[0mTc\u001b[0m\u001b[0;34m)\u001b[0m\u001b[0;34m\u001b[0m\u001b[0;34m\u001b[0m\u001b[0m\n\u001b[0m",
      "\u001b[0;32m~/git/aldarak_leurent/leurent/coder_so.py\u001b[0m in \u001b[0;36m__mul__\u001b[0;34m(self, B)\u001b[0m\n\u001b[1;32m   1109\u001b[0m                 ,[k+nbi*i for k in range(nbi) for i in range(2)]))\n\u001b[1;32m   1110\u001b[0m         \u001b[0;32melse\u001b[0m\u001b[0;34m:\u001b[0m \u001b[0;31m# sympy functions\u001b[0m\u001b[0;34m\u001b[0m\u001b[0;34m\u001b[0m\u001b[0m\n\u001b[0;32m-> 1111\u001b[0;31m             \u001b[0mA\u001b[0m\u001b[0;34m=\u001b[0m\u001b[0msympy\u001b[0m\u001b[0;34m.\u001b[0m\u001b[0mtensorproduct\u001b[0m\u001b[0;34m(\u001b[0m\u001b[0mC\u001b[0m\u001b[0;34m.\u001b[0m\u001b[0marray\u001b[0m\u001b[0;34m,\u001b[0m\u001b[0mD\u001b[0m\u001b[0;34m.\u001b[0m\u001b[0marray\u001b[0m\u001b[0;34m)\u001b[0m\u001b[0;34m\u001b[0m\u001b[0;34m\u001b[0m\u001b[0m\n\u001b[0m\u001b[1;32m   1112\u001b[0m             \u001b[0;32mfor\u001b[0m \u001b[0mi\u001b[0m \u001b[0;32min\u001b[0m \u001b[0mrange\u001b[0m\u001b[0;34m(\u001b[0m\u001b[0mnbi\u001b[0m\u001b[0;34m)\u001b[0m\u001b[0;34m:\u001b[0m\u001b[0;34m\u001b[0m\u001b[0;34m\u001b[0m\u001b[0m\n\u001b[1;32m   1113\u001b[0m                 \u001b[0mA\u001b[0m\u001b[0;34m=\u001b[0m\u001b[0msympy\u001b[0m\u001b[0;34m.\u001b[0m\u001b[0mtensorcontraction\u001b[0m\u001b[0;34m(\u001b[0m\u001b[0mA\u001b[0m\u001b[0;34m,\u001b[0m\u001b[0;34m(\u001b[0m\u001b[0mi\u001b[0m\u001b[0;34m+\u001b[0m\u001b[0;36m1\u001b[0m\u001b[0;34m,\u001b[0m\u001b[0;36m2\u001b[0m\u001b[0;34m*\u001b[0m\u001b[0mnbi\u001b[0m\u001b[0;34m)\u001b[0m\u001b[0;34m)\u001b[0m\u001b[0;34m\u001b[0m\u001b[0;34m\u001b[0m\u001b[0m\n",
      "\u001b[0;32m/usr/lib/python3/dist-packages/sympy/tensor/array/arrayop.py\u001b[0m in \u001b[0;36mtensorproduct\u001b[0;34m(*args)\u001b[0m\n\u001b[1;32m     70\u001b[0m         \u001b[0mlp\u001b[0m \u001b[0;34m=\u001b[0m \u001b[0mlen\u001b[0m\u001b[0;34m(\u001b[0m\u001b[0mb\u001b[0m\u001b[0;34m)\u001b[0m\u001b[0;34m\u001b[0m\u001b[0;34m\u001b[0m\u001b[0m\n\u001b[1;32m     71\u001b[0m         \u001b[0mnew_array\u001b[0m \u001b[0;34m=\u001b[0m \u001b[0;34m{\u001b[0m\u001b[0mk1\u001b[0m\u001b[0;34m*\u001b[0m\u001b[0mlp\u001b[0m \u001b[0;34m+\u001b[0m \u001b[0mk2\u001b[0m\u001b[0;34m:\u001b[0m \u001b[0mv1\u001b[0m\u001b[0;34m*\u001b[0m\u001b[0mv2\u001b[0m \u001b[0;32mfor\u001b[0m \u001b[0mk1\u001b[0m\u001b[0;34m,\u001b[0m \u001b[0mv1\u001b[0m \u001b[0;32min\u001b[0m \u001b[0ma\u001b[0m\u001b[0;34m.\u001b[0m\u001b[0m_sparse_array\u001b[0m\u001b[0;34m.\u001b[0m\u001b[0mitems\u001b[0m\u001b[0;34m(\u001b[0m\u001b[0;34m)\u001b[0m \u001b[0;32mfor\u001b[0m \u001b[0mk2\u001b[0m\u001b[0;34m,\u001b[0m \u001b[0mv2\u001b[0m \u001b[0;32min\u001b[0m \u001b[0mb\u001b[0m\u001b[0;34m.\u001b[0m\u001b[0m_sparse_array\u001b[0m\u001b[0;34m.\u001b[0m\u001b[0mitems\u001b[0m\u001b[0;34m(\u001b[0m\u001b[0;34m)\u001b[0m\u001b[0;34m}\u001b[0m\u001b[0;34m\u001b[0m\u001b[0;34m\u001b[0m\u001b[0m\n\u001b[0;32m---> 72\u001b[0;31m         \u001b[0;32mreturn\u001b[0m \u001b[0mImmutableSparseNDimArray\u001b[0m\u001b[0;34m(\u001b[0m\u001b[0mnew_array\u001b[0m\u001b[0;34m,\u001b[0m \u001b[0ma\u001b[0m\u001b[0;34m.\u001b[0m\u001b[0mshape\u001b[0m \u001b[0;34m+\u001b[0m \u001b[0mb\u001b[0m\u001b[0;34m.\u001b[0m\u001b[0mshape\u001b[0m\u001b[0;34m)\u001b[0m\u001b[0;34m\u001b[0m\u001b[0;34m\u001b[0m\u001b[0m\n\u001b[0m\u001b[1;32m     73\u001b[0m \u001b[0;34m\u001b[0m\u001b[0m\n\u001b[1;32m     74\u001b[0m     \u001b[0mproduct_list\u001b[0m \u001b[0;34m=\u001b[0m \u001b[0;34m[\u001b[0m\u001b[0mi\u001b[0m\u001b[0;34m*\u001b[0m\u001b[0mj\u001b[0m \u001b[0;32mfor\u001b[0m \u001b[0mi\u001b[0m \u001b[0;32min\u001b[0m \u001b[0mFlatten\u001b[0m\u001b[0;34m(\u001b[0m\u001b[0ma\u001b[0m\u001b[0;34m)\u001b[0m \u001b[0;32mfor\u001b[0m \u001b[0mj\u001b[0m \u001b[0;32min\u001b[0m \u001b[0mFlatten\u001b[0m\u001b[0;34m(\u001b[0m\u001b[0mb\u001b[0m\u001b[0;34m)\u001b[0m\u001b[0;34m]\u001b[0m\u001b[0;34m\u001b[0m\u001b[0;34m\u001b[0m\u001b[0m\n",
      "\u001b[0;32m/usr/lib/python3/dist-packages/sympy/tensor/array/sparse_ndim_array.py\u001b[0m in \u001b[0;36m__new__\u001b[0;34m(cls, iterable, shape, **kwargs)\u001b[0m\n\u001b[1;32m    106\u001b[0m         \u001b[0mshape\u001b[0m\u001b[0;34m,\u001b[0m \u001b[0mflat_list\u001b[0m \u001b[0;34m=\u001b[0m \u001b[0mcls\u001b[0m\u001b[0;34m.\u001b[0m\u001b[0m_handle_ndarray_creation_inputs\u001b[0m\u001b[0;34m(\u001b[0m\u001b[0miterable\u001b[0m\u001b[0;34m,\u001b[0m \u001b[0mshape\u001b[0m\u001b[0;34m,\u001b[0m \u001b[0;34m**\u001b[0m\u001b[0mkwargs\u001b[0m\u001b[0;34m)\u001b[0m\u001b[0;34m\u001b[0m\u001b[0;34m\u001b[0m\u001b[0m\n\u001b[1;32m    107\u001b[0m         \u001b[0mshape\u001b[0m \u001b[0;34m=\u001b[0m \u001b[0mTuple\u001b[0m\u001b[0;34m(\u001b[0m\u001b[0;34m*\u001b[0m\u001b[0mmap\u001b[0m\u001b[0;34m(\u001b[0m\u001b[0m_sympify\u001b[0m\u001b[0;34m,\u001b[0m \u001b[0mshape\u001b[0m\u001b[0;34m)\u001b[0m\u001b[0;34m)\u001b[0m\u001b[0;34m\u001b[0m\u001b[0;34m\u001b[0m\u001b[0m\n\u001b[0;32m--> 108\u001b[0;31m         \u001b[0mcls\u001b[0m\u001b[0;34m.\u001b[0m\u001b[0m_check_special_bounds\u001b[0m\u001b[0;34m(\u001b[0m\u001b[0mflat_list\u001b[0m\u001b[0;34m,\u001b[0m \u001b[0mshape\u001b[0m\u001b[0;34m)\u001b[0m\u001b[0;34m\u001b[0m\u001b[0;34m\u001b[0m\u001b[0m\n\u001b[0m\u001b[1;32m    109\u001b[0m         \u001b[0mloop_size\u001b[0m \u001b[0;34m=\u001b[0m \u001b[0mfunctools\u001b[0m\u001b[0;34m.\u001b[0m\u001b[0mreduce\u001b[0m\u001b[0;34m(\u001b[0m\u001b[0;32mlambda\u001b[0m \u001b[0mx\u001b[0m\u001b[0;34m,\u001b[0m\u001b[0my\u001b[0m\u001b[0;34m:\u001b[0m \u001b[0mx\u001b[0m\u001b[0;34m*\u001b[0m\u001b[0my\u001b[0m\u001b[0;34m,\u001b[0m \u001b[0mshape\u001b[0m\u001b[0;34m)\u001b[0m \u001b[0;32mif\u001b[0m \u001b[0mshape\u001b[0m \u001b[0;32melse\u001b[0m \u001b[0mlen\u001b[0m\u001b[0;34m(\u001b[0m\u001b[0mflat_list\u001b[0m\u001b[0;34m)\u001b[0m\u001b[0;34m\u001b[0m\u001b[0;34m\u001b[0m\u001b[0m\n\u001b[1;32m    110\u001b[0m \u001b[0;34m\u001b[0m\u001b[0m\n",
      "\u001b[0;32m/usr/lib/python3/dist-packages/sympy/tensor/array/ndim_array.py\u001b[0m in \u001b[0;36m_check_special_bounds\u001b[0;34m(cls, flat_list, shape)\u001b[0m\n\u001b[1;32m    562\u001b[0m     \u001b[0;32mdef\u001b[0m \u001b[0m_check_special_bounds\u001b[0m\u001b[0;34m(\u001b[0m\u001b[0mcls\u001b[0m\u001b[0;34m,\u001b[0m \u001b[0mflat_list\u001b[0m\u001b[0;34m,\u001b[0m \u001b[0mshape\u001b[0m\u001b[0;34m)\u001b[0m\u001b[0;34m:\u001b[0m\u001b[0;34m\u001b[0m\u001b[0;34m\u001b[0m\u001b[0m\n\u001b[1;32m    563\u001b[0m         \u001b[0;32mif\u001b[0m \u001b[0mshape\u001b[0m \u001b[0;34m==\u001b[0m \u001b[0;34m(\u001b[0m\u001b[0;34m)\u001b[0m \u001b[0;32mand\u001b[0m \u001b[0mlen\u001b[0m\u001b[0;34m(\u001b[0m\u001b[0mflat_list\u001b[0m\u001b[0;34m)\u001b[0m \u001b[0;34m!=\u001b[0m \u001b[0;36m1\u001b[0m\u001b[0;34m:\u001b[0m\u001b[0;34m\u001b[0m\u001b[0;34m\u001b[0m\u001b[0m\n\u001b[0;32m--> 564\u001b[0;31m             \u001b[0;32mraise\u001b[0m \u001b[0mValueError\u001b[0m\u001b[0;34m(\u001b[0m\u001b[0;34m\"arrays without shape need one scalar value\"\u001b[0m\u001b[0;34m)\u001b[0m\u001b[0;34m\u001b[0m\u001b[0;34m\u001b[0m\u001b[0m\n\u001b[0m\u001b[1;32m    565\u001b[0m         \u001b[0;32mif\u001b[0m \u001b[0mshape\u001b[0m \u001b[0;34m==\u001b[0m \u001b[0;34m(\u001b[0m\u001b[0;36m0\u001b[0m\u001b[0;34m,\u001b[0m\u001b[0;34m)\u001b[0m \u001b[0;32mand\u001b[0m \u001b[0mlen\u001b[0m\u001b[0;34m(\u001b[0m\u001b[0mflat_list\u001b[0m\u001b[0;34m)\u001b[0m \u001b[0;34m>\u001b[0m \u001b[0;36m0\u001b[0m\u001b[0;34m:\u001b[0m\u001b[0;34m\u001b[0m\u001b[0;34m\u001b[0m\u001b[0m\n\u001b[1;32m    566\u001b[0m             \u001b[0;32mraise\u001b[0m \u001b[0mValueError\u001b[0m\u001b[0;34m(\u001b[0m\u001b[0;34m\"if array shape is (0,) there cannot be elements\"\u001b[0m\u001b[0;34m)\u001b[0m\u001b[0;34m\u001b[0m\u001b[0;34m\u001b[0m\u001b[0m\n",
      "\u001b[0;31mValueError\u001b[0m: arrays without shape need one scalar value"
     ]
    }
   ],
   "source": [
    "Delta=(T*ThisR-ThisR*Tc)"
   ]
  },
  {
   "cell_type": "code",
   "execution_count": null,
   "metadata": {},
   "outputs": [],
   "source": [
    "Eqns=[d.coeff(coder_so.u(1),k[0]).coeff(coder_so.u(2),k[1])\n",
    "    for II in coder_so.itertools.product(*[range(k) for k in Delta.array.shape])\n",
    "    for d in [Delta[II].expand()] for k in coder_so.itertools.product(*([range(3)]*2))\n",
    "     for t in [d.coeff(coder_so.u(1),k[0]).coeff(coder_so.u(2),k[1])] if not t==0]"
   ]
  },
  {
   "cell_type": "code",
   "execution_count": null,
   "metadata": {},
   "outputs": [],
   "source": [
    "len(Eqns)"
   ]
  },
  {
   "cell_type": "code",
   "execution_count": null,
   "metadata": {},
   "outputs": [],
   "source": [
    "notsum=[e for e in Eqs if not type(e)==coder_so.sympy.Add]"
   ]
  },
  {
   "cell_type": "code",
   "execution_count": null,
   "metadata": {},
   "outputs": [],
   "source": [
    "len(notsum)"
   ]
  },
  {
   "cell_type": "markdown",
   "metadata": {},
   "source": [
    "Well, one cannot go without sparse arrays (otherwise 300 000 entries)"
   ]
  },
  {
   "cell_type": "code",
   "execution_count": null,
   "metadata": {},
   "outputs": [],
   "source": []
  },
  {
   "cell_type": "code",
   "execution_count": null,
   "metadata": {},
   "outputs": [],
   "source": []
  },
  {
   "cell_type": "code",
   "execution_count": null,
   "metadata": {},
   "outputs": [],
   "source": [
    "x,={1}\n"
   ]
  },
  {
   "cell_type": "code",
   "execution_count": null,
   "metadata": {},
   "outputs": [],
   "source": []
  },
  {
   "cell_type": "code",
   "execution_count": null,
   "metadata": {},
   "outputs": [],
   "source": []
  },
  {
   "cell_type": "code",
   "execution_count": null,
   "metadata": {},
   "outputs": [],
   "source": []
  },
  {
   "cell_type": "code",
   "execution_count": null,
   "metadata": {},
   "outputs": [],
   "source": []
  },
  {
   "cell_type": "code",
   "execution_count": null,
   "metadata": {},
   "outputs": [],
   "source": []
  },
  {
   "cell_type": "code",
   "execution_count": 109,
   "metadata": {},
   "outputs": [],
   "source": [
    "#Lax_Matrix=((u**2-((r-2)**2+2*(r-1)*s+s**2)/coder_so.sympy.sympify(4))\n",
    "#              +u*g\n",
    "#              +(r-1)/coder_so.sympy.sympify(2)*g\n",
    "#             +1/coder_so.sympy.sympify(2)*(g*g)\n",
    "#             )\n",
    "# above was for sym irrep"
   ]
  },
  {
   "cell_type": "code",
   "execution_count": 110,
   "metadata": {},
   "outputs": [
    {
     "data": {
      "text/plain": [
       "(4, 4, 4, 4)"
      ]
     },
     "execution_count": 110,
     "metadata": {},
     "output_type": "execute_result"
    }
   ],
   "source": [
    "Lax_Matrix.array.shape"
   ]
  },
  {
   "cell_type": "code",
   "execution_count": 113,
   "metadata": {},
   "outputs": [
    {
     "data": {
      "text/plain": [
       "[{(-1, 2, 1, 2, 1): <COO: shape=(4, 4), dtype=int64, nnz=2, fill_value=0>,\n",
       "  (1, -2, 1, 2, 1): <COO: shape=(4, 4), dtype=int64, nnz=2, fill_value=0>,\n",
       "  (1, 1, 1, 2, 1): <COO: shape=(4, 4), dtype=int64, nnz=2, fill_value=0>,\n",
       "  (1, 2, 1, 2, 1): <COO: shape=(4, 4), dtype=int64, nnz=2, fill_value=0>,\n",
       "  (2, 1, 1, 2, 1): <COO: shape=(4, 4), dtype=int64, nnz=2, fill_value=0>,\n",
       "  (2, 2, 1, 2, 1): <COO: shape=(4, 4), dtype=int64, nnz=2, fill_value=0>},\n",
       " [|1>, -|-2>, |2>, |-1>]]"
      ]
     },
     "execution_count": 113,
     "metadata": {},
     "output_type": "execute_result"
    }
   ],
   "source": [
    "coder_so.sparse_J_matrix.J_matrix(r=r,s=s,a=1,allrepr=True)"
   ]
  },
  {
   "cell_type": "code",
   "execution_count": 133,
   "metadata": {},
   "outputs": [
    {
     "data": {
      "text/markdown": [
       "$\\left(\\begin{array}{cccc} 0 & - u - \\frac{1}{2} & 0 & 0\\\\0 & 0 & 0 & 0\\\\0 & 0 & 0 & \\frac{1}{2} - u\\\\0 & 0 & 0 & 0\\end{array}\\right)$"
      ],
      "text/plain": [
       "<IPython.core.display.Markdown object>"
      ]
     },
     "metadata": {},
     "output_type": "display_data"
    }
   ],
   "source": [
    "coder_so.tensor(Lax_Matrix[0,r]).print_nice() #L-21"
   ]
  },
  {
   "cell_type": "code",
   "execution_count": 131,
   "metadata": {},
   "outputs": [
    {
     "data": {
      "text/markdown": [
       "$\\left(\\begin{array}{cccc} 0 & u - \\frac{1}{2} & 0 & 0\\\\0 & 0 & 0 & 0\\\\0 & 0 & 0 & u + \\frac{1}{2}\\\\0 & 0 & 0 & 0\\end{array}\\right)$"
      ],
      "text/plain": [
       "<IPython.core.display.Markdown object>"
      ]
     },
     "metadata": {},
     "output_type": "display_data"
    }
   ],
   "source": [
    "coder_so.tensor(Lax_Matrix[1,r+1]).print_nice() #L-12"
   ]
  },
  {
   "cell_type": "code",
   "execution_count": 130,
   "metadata": {},
   "outputs": [
    {
     "data": {
      "text/markdown": [
       "$\\left(\\begin{array}{cccc} 0 & 0 & 0 & 0\\\\u - \\frac{1}{2} & 0 & 0 & 0\\\\0 & 0 & 0 & 0\\\\0 & 0 & u + \\frac{1}{2} & 0\\end{array}\\right)$"
      ],
      "text/plain": [
       "<IPython.core.display.Markdown object>"
      ]
     },
     "metadata": {},
     "output_type": "display_data"
    }
   ],
   "source": [
    "coder_so.tensor(Lax_Matrix[r+1,1]).print_nice() #L2-1"
   ]
  },
  {
   "cell_type": "code",
   "execution_count": 129,
   "metadata": {},
   "outputs": [
    {
     "data": {
      "text/markdown": [
       "$\\left(\\begin{array}{cccc} 0 & 0 & 0 & 0\\\\- u - \\frac{1}{2} & 0 & 0 & 0\\\\0 & 0 & 0 & 0\\\\0 & 0 & \\frac{1}{2} - u & 0\\end{array}\\right)$"
      ],
      "text/plain": [
       "<IPython.core.display.Markdown object>"
      ]
     },
     "metadata": {},
     "output_type": "display_data"
    }
   ],
   "source": [
    "coder_so.tensor(Lax_Matrix[r,0]).print_nice() #L1-2"
   ]
  },
  {
   "cell_type": "code",
   "execution_count": 127,
   "metadata": {},
   "outputs": [
    {
     "data": {
      "text/markdown": [
       "$\\left(\\begin{array}{cccc} 0 & 0 & 0 & 0\\\\0 & 0 & -1 & 0\\\\0 & 0 & 0 & 0\\\\0 & 0 & 0 & 0\\end{array}\\right)$"
      ],
      "text/plain": [
       "<IPython.core.display.Markdown object>"
      ]
     },
     "metadata": {},
     "output_type": "display_data"
    }
   ],
   "source": [
    "coder_so.tensor(Lax_Matrix[r+1,0]).print_nice() #L2-2"
   ]
  },
  {
   "cell_type": "code",
   "execution_count": 126,
   "metadata": {},
   "outputs": [
    {
     "data": {
      "text/markdown": [
       "$\\left(\\begin{array}{cccc} 0 & 0 & 0 & 0\\\\0 & 0 & 0 & 0\\\\0 & -1 & 0 & 0\\\\0 & 0 & 0 & 0\\end{array}\\right)$"
      ],
      "text/plain": [
       "<IPython.core.display.Markdown object>"
      ]
     },
     "metadata": {},
     "output_type": "display_data"
    }
   ],
   "source": [
    "coder_so.tensor(Lax_Matrix[0,r+1]).print_nice() #L-22"
   ]
  },
  {
   "cell_type": "code",
   "execution_count": 128,
   "metadata": {},
   "outputs": [
    {
     "data": {
      "text/markdown": [
       "$\\left(\\begin{array}{cccc} 0 & 0 & 0 & 0\\\\0 & 0 & 0 & 0\\\\0 & 0 & 0 & 0\\\\1 & 0 & 0 & 0\\end{array}\\right)$"
      ],
      "text/plain": [
       "<IPython.core.display.Markdown object>"
      ]
     },
     "metadata": {},
     "output_type": "display_data"
    }
   ],
   "source": [
    "coder_so.tensor(Lax_Matrix[r,1]).print_nice() #L1-1"
   ]
  },
  {
   "cell_type": "code",
   "execution_count": 125,
   "metadata": {},
   "outputs": [
    {
     "data": {
      "text/markdown": [
       "$\\left(\\begin{array}{cccc} 0 & 0 & 0 & 1\\\\0 & 0 & 0 & 0\\\\0 & 0 & 0 & 0\\\\0 & 0 & 0 & 0\\end{array}\\right)$"
      ],
      "text/plain": [
       "<IPython.core.display.Markdown object>"
      ]
     },
     "metadata": {},
     "output_type": "display_data"
    }
   ],
   "source": [
    "coder_so.tensor(Lax_Matrix[1,r]).print_nice() #L-11"
   ]
  },
  {
   "cell_type": "code",
   "execution_count": 123,
   "metadata": {},
   "outputs": [
    {
     "data": {
      "text/markdown": [
       "$\\left(\\begin{array}{cccc} u^{2} - \\frac{1}{4} & 0 & 0 & 0\\\\0 & u^{2} - u + \\frac{1}{4} & 0 & 0\\\\0 & 0 & u^{2} + u + \\frac{1}{4} & 0\\\\0 & 0 & 0 & u^{2} - \\frac{1}{4}\\end{array}\\right)$"
      ],
      "text/plain": [
       "<IPython.core.display.Markdown object>"
      ]
     },
     "metadata": {},
     "output_type": "display_data"
    }
   ],
   "source": [
    "coder_so.tensor(Lax_Matrix[r+1,r+1]).print_nice() #L22"
   ]
  },
  {
   "cell_type": "code",
   "execution_count": 124,
   "metadata": {},
   "outputs": [
    {
     "data": {
      "text/markdown": [
       "$\\left(\\begin{array}{cccc} u^{2} - \\frac{1}{4} & 0 & 0 & 0\\\\0 & u^{2} + u + \\frac{1}{4} & 0 & 0\\\\0 & 0 & u^{2} - u + \\frac{1}{4} & 0\\\\0 & 0 & 0 & u^{2} - \\frac{1}{4}\\end{array}\\right)$"
      ],
      "text/plain": [
       "<IPython.core.display.Markdown object>"
      ]
     },
     "metadata": {},
     "output_type": "display_data"
    }
   ],
   "source": [
    "coder_so.tensor(Lax_Matrix[0,0]).print_nice() #L-2-2"
   ]
  },
  {
   "cell_type": "code",
   "execution_count": 121,
   "metadata": {},
   "outputs": [
    {
     "data": {
      "text/markdown": [
       "$\\left(\\begin{array}{cccc} u^{2} + u + \\frac{1}{4} & 0 & 0 & 0\\\\0 & u^{2} - \\frac{1}{4} & 0 & 0\\\\0 & 0 & u^{2} - \\frac{1}{4} & 0\\\\0 & 0 & 0 & u^{2} - u + \\frac{1}{4}\\end{array}\\right)$"
      ],
      "text/plain": [
       "<IPython.core.display.Markdown object>"
      ]
     },
     "metadata": {},
     "output_type": "display_data"
    }
   ],
   "source": [
    "coder_so.tensor(Lax_Matrix[r,r]).print_nice() #L11"
   ]
  },
  {
   "cell_type": "code",
   "execution_count": 122,
   "metadata": {},
   "outputs": [
    {
     "data": {
      "text/markdown": [
       "$\\left(\\begin{array}{cccc} u^{2} - u + \\frac{1}{4} & 0 & 0 & 0\\\\0 & u^{2} - \\frac{1}{4} & 0 & 0\\\\0 & 0 & u^{2} - \\frac{1}{4} & 0\\\\0 & 0 & 0 & u^{2} + u + \\frac{1}{4}\\end{array}\\right)$"
      ],
      "text/plain": [
       "<IPython.core.display.Markdown object>"
      ]
     },
     "metadata": {},
     "output_type": "display_data"
    }
   ],
   "source": [
    "coder_so.tensor(Lax_Matrix[1,1]).print_nice() #L-1-1"
   ]
  },
  {
   "cell_type": "code",
   "execution_count": 119,
   "metadata": {},
   "outputs": [
    {
     "data": {
      "text/markdown": [
       "$\\left(\\begin{array}{cccc} 0 & 0 & 0 & 0\\\\0 & 0 & 0 & 0\\\\u + \\frac{1}{2} & 0 & 0 & 0\\\\0 & u - \\frac{1}{2} & 0 & 0\\end{array}\\right)$"
      ],
      "text/plain": [
       "<IPython.core.display.Markdown object>"
      ]
     },
     "metadata": {},
     "output_type": "display_data"
    }
   ],
   "source": [
    "coder_so.tensor(Lax_Matrix[r,r+1]).print_nice() #L12"
   ]
  },
  {
   "cell_type": "code",
   "execution_count": 120,
   "metadata": {},
   "outputs": [
    {
     "data": {
      "text/markdown": [
       "$\\left(\\begin{array}{cccc} 0 & 0 & 0 & 0\\\\0 & 0 & 0 & 0\\\\\\frac{1}{2} - u & 0 & 0 & 0\\\\0 & - u - \\frac{1}{2} & 0 & 0\\end{array}\\right)$"
      ],
      "text/plain": [
       "<IPython.core.display.Markdown object>"
      ]
     },
     "metadata": {},
     "output_type": "display_data"
    }
   ],
   "source": [
    "coder_so.tensor(Lax_Matrix[0,1]).print_nice() #L-2-1"
   ]
  },
  {
   "cell_type": "code",
   "execution_count": 114,
   "metadata": {},
   "outputs": [
    {
     "data": {
      "text/markdown": [
       "$\\left(\\begin{array}{cccc} 0 & 0 & u + \\frac{1}{2} & 0\\\\0 & 0 & 0 & u - \\frac{1}{2}\\\\0 & 0 & 0 & 0\\\\0 & 0 & 0 & 0\\end{array}\\right)$"
      ],
      "text/plain": [
       "<IPython.core.display.Markdown object>"
      ]
     },
     "metadata": {},
     "output_type": "display_data"
    }
   ],
   "source": [
    "coder_so.tensor(Lax_Matrix[r+1,r]).print_nice() #L21"
   ]
  },
  {
   "cell_type": "code",
   "execution_count": 117,
   "metadata": {},
   "outputs": [
    {
     "data": {
      "text/markdown": [
       "$\\left(\\begin{array}{cccc} 0 & 0 & \\frac{1}{2} - u & 0\\\\0 & 0 & 0 & - u - \\frac{1}{2}\\\\0 & 0 & 0 & 0\\\\0 & 0 & 0 & 0\\end{array}\\right)$"
      ],
      "text/plain": [
       "<IPython.core.display.Markdown object>"
      ]
     },
     "metadata": {},
     "output_type": "display_data"
    }
   ],
   "source": [
    "coder_so.tensor(Lax_Matrix[1,0]).print_nice() #L-1-2"
   ]
  },
  {
   "cell_type": "code",
   "execution_count": 94,
   "metadata": {},
   "outputs": [
    {
     "data": {
      "text/markdown": [
       "$\\left(\\begin{array}{cccccccccccccccccccc} 0 & 0 & 0 & 0 & 0 & 0 & 0 & 0 & 0 & 0 & 0 & - 2 u - 3 & 0 & 0 & 0 & 0 & 0 & 0 & 0 & 0\\\\0 & 0 & 0 & 0 & 0 & 0 & 0 & 0 & u - \\frac{3}{2} & 0 & 0 & 0 & - 2 u & 0 & 0 & 0 & 0 & 0 & 0 & 0\\\\0 & 0 & 0 & 0 & 0 & 0 & 0 & 0 & 0 & u - \\frac{3}{2} & 0 & 0 & 0 & 0 & 0 & 0 & 0 & 0 & 0 & 0\\\\0 & 0 & 0 & 0 & 0 & 0 & 0 & 0 & 0 & 0 & 0 & 0 & 0 & - u - \\frac{3}{2} & 0 & 0 & 0 & 0 & 0 & 0\\\\0 & 0 & 0 & 0 & 0 & 0 & 0 & 0 & 0 & 0 & 2 u - 3 & 0 & 0 & 0 & 0 & 0 & 0 & 0 & 0 & 0\\\\0 & 0 & 0 & 0 & 0 & 0 & 0 & 0 & 0 & 0 & 0 & 0 & 0 & 0 & 0 & 0 & 0 & 0 & 0 & 0\\\\0 & 0 & 0 & 0 & 0 & 0 & 0 & 0 & 0 & 0 & 0 & 0 & 0 & 0 & 0 & 0 & 0 & - 2 u - 3 & 0 & 0\\\\0 & 0 & 0 & 0 & 0 & 0 & 0 & 0 & 0 & 0 & 0 & 0 & 0 & 0 & 0 & 2 u - 3 & 0 & 0 & 0 & 0\\\\0 & 0 & 0 & 0 & 0 & 0 & 0 & 0 & 0 & 0 & 0 & 0 & 0 & 0 & 0 & 0 & 0 & 0 & -2 & 0\\\\0 & 0 & 0 & 0 & 0 & 0 & 0 & 0 & 0 & 0 & 0 & 0 & 0 & 0 & 0 & 0 & 4 u - 6 & 0 & 0 & 0\\\\0 & 0 & 0 & 0 & 0 & 0 & 0 & 0 & 0 & 0 & 0 & 0 & 0 & 0 & 0 & 0 & 0 & 0 & 0 & 0\\\\0 & 0 & 0 & 0 & 0 & 0 & 0 & 0 & 0 & 0 & 0 & 0 & 0 & 0 & 0 & 0 & 0 & 0 & 0 & - 4 u - 6\\\\0 & 0 & 0 & 0 & 0 & 0 & 0 & 0 & 0 & 0 & 0 & 0 & 0 & 0 & 0 & 0 & 0 & 0 & 2 u - 1 & 0\\\\0 & 0 & 0 & 0 & 0 & 0 & 0 & 0 & 0 & 0 & 0 & 0 & 0 & 0 & 0 & 0 & 0 & 0 & 0 & 0\\\\0 & 0 & 0 & 0 & 0 & 0 & 0 & 0 & 0 & 0 & 0 & 0 & 0 & 0 & 0 & 0 & 0 & 0 & 0 & 0\\\\0 & 0 & 0 & 0 & 0 & 0 & 0 & 0 & 0 & 0 & 0 & 0 & 0 & 0 & 0 & 0 & 0 & 0 & 0 & 0\\\\0 & 0 & 0 & 0 & 0 & 0 & 0 & 0 & 0 & 0 & 0 & 0 & 0 & 0 & 0 & 0 & 0 & 0 & 0 & 0\\\\0 & 0 & 0 & 0 & 0 & 0 & 0 & 0 & 0 & 0 & 0 & 0 & 0 & 0 & 0 & 0 & 0 & 0 & 0 & 0\\\\0 & 0 & 0 & 0 & 0 & 0 & 0 & 0 & 0 & 0 & 0 & 0 & 0 & 0 & 0 & 0 & 0 & 0 & 0 & 0\\\\0 & 0 & 0 & 0 & 0 & 0 & 0 & 0 & 0 & 0 & 0 & 0 & 0 & 0 & 0 & 0 & 0 & 0 & 0 & 0\\end{array}\\right)$"
      ],
      "text/plain": [
       "<IPython.core.display.Markdown object>"
      ]
     },
     "metadata": {},
     "output_type": "display_data"
    }
   ],
   "source": [
    "coder_so.tensor(Lax_Matrix[r+1,r]).print_nice() #L21"
   ]
  },
  {
   "cell_type": "code",
   "execution_count": 3,
   "metadata": {},
   "outputs": [],
   "source": [
    "u=coder_so.sympy.Symbol(\"u\")"
   ]
  },
  {
   "cell_type": "code",
   "execution_count": 26,
   "metadata": {},
   "outputs": [],
   "source": [
    "r,s,a=3,1,1\n",
    "G0=coder_so.G(r=r, a=a, s=s)\n",
    "Lax_Matrix0=((u**2-((r-2)**2+2*(r-1)*s+s**2)/coder_so.sympy.sympify(4))\n",
    "              +u*G0\n",
    "              +(r-1)/coder_so.sympy.sympify(2)*G0\n",
    "             +1/coder_so.sympy.sympify(2)*(G0*G0)\n",
    "             )"
   ]
  },
  {
   "cell_type": "code",
   "execution_count": null,
   "metadata": {},
   "outputs": [],
   "source": [
    "coder_so.functools.reduce"
   ]
  },
  {
   "cell_type": "code",
   "execution_count": 29,
   "metadata": {},
   "outputs": [
    {
     "data": {
      "text/latex": [
       "$\\displaystyle \\left( 6, \\  6, \\  6, \\  6\\right)$"
      ],
      "text/plain": [
       "(6, 6, 6, 6)"
      ]
     },
     "execution_count": 29,
     "metadata": {},
     "output_type": "execute_result"
    }
   ],
   "source": [
    "Lax_Matrix0.array.shape"
   ]
  },
  {
   "cell_type": "code",
   "execution_count": 32,
   "metadata": {},
   "outputs": [
    {
     "data": {
      "text/plain": [
       "[u**2 - 1, u**2 - 1, u**2 - u, u**2 + u, u**2 - 1, u**2 - 1]"
      ]
     },
     "execution_count": 32,
     "metadata": {},
     "output_type": "execute_result"
    }
   ],
   "source": [
    "AA0=[Lax_Matrix0[i,i][0,0] for i in range(Lax_Matrix.array.shape[0])]\n",
    "AA0"
   ]
  },
  {
   "cell_type": "code",
   "execution_count": 43,
   "metadata": {},
   "outputs": [
    {
     "data": {
      "text/plain": [
       "[1, (u + 1)/u, (u - 1)/(u + 1), u/(u - 1), 1]"
      ]
     },
     "execution_count": 43,
     "metadata": {},
     "output_type": "execute_result"
    }
   ],
   "source": [
    "[(AA0[k]/AA0[k+1]).factor() for k in range(len(AA0)-1)]"
   ]
  },
  {
   "cell_type": "code",
   "execution_count": null,
   "metadata": {},
   "outputs": [],
   "source": []
  },
  {
   "cell_type": "code",
   "execution_count": null,
   "metadata": {},
   "outputs": [],
   "source": []
  },
  {
   "cell_type": "code",
   "execution_count": 11,
   "metadata": {},
   "outputs": [],
   "source": [
    "r,s,a=3,2,1\n",
    "G=coder_so.G(r=r, a=a, s=s)\n",
    "Lax_Matrix=((u**2-((r-2)**2+2*(r-1)*s+s**2)/coder_so.sympy.sympify(4))\n",
    "              +u*G\n",
    "              +(r-1)/coder_so.sympy.sympify(2)*G\n",
    "             +1/coder_so.sympy.sympify(2)*(G*G)\n",
    "             )"
   ]
  },
  {
   "cell_type": "code",
   "execution_count": 12,
   "metadata": {},
   "outputs": [
    {
     "data": {
      "text/latex": [
       "$\\displaystyle \\left( 6, \\  6, \\  20, \\  20\\right)$"
      ],
      "text/plain": [
       "(6, 6, 20, 20)"
      ]
     },
     "execution_count": 12,
     "metadata": {},
     "output_type": "execute_result"
    }
   ],
   "source": [
    "Lax_Matrix.array.shape"
   ]
  },
  {
   "cell_type": "code",
   "execution_count": 13,
   "metadata": {
    "scrolled": true
   },
   "outputs": [
    {
     "data": {
      "text/plain": [
       "[u**2 - 9/4,\n",
       " u**2 - 9/4,\n",
       " u**2 - 2*u + 3/4,\n",
       " u**2 + 2*u + 3/4,\n",
       " u**2 - 9/4,\n",
       " u**2 - 9/4]"
      ]
     },
     "execution_count": 13,
     "metadata": {},
     "output_type": "execute_result"
    }
   ],
   "source": [
    "AA=[Lax_Matrix[i,i][0,0] for i in range(Lax_Matrix.array.shape[0])]\n",
    "AA"
   ]
  },
  {
   "cell_type": "code",
   "execution_count": 19,
   "metadata": {},
   "outputs": [
    {
     "data": {
      "text/plain": [
       "[1,\n",
       " (2*u + 3)/(2*u - 1),\n",
       " (2*u - 3)*(2*u - 1)/((2*u + 1)*(2*u + 3)),\n",
       " (2*u + 1)/(2*u - 3),\n",
       " 1]"
      ]
     },
     "execution_count": 19,
     "metadata": {},
     "output_type": "execute_result"
    }
   ],
   "source": [
    "[(AA[k]/AA[k+1]).factor() for k in range(len(AA)-1)]"
   ]
  },
  {
   "cell_type": "code",
   "execution_count": null,
   "metadata": {},
   "outputs": [],
   "source": []
  },
  {
   "cell_type": "code",
   "execution_count": null,
   "metadata": {},
   "outputs": [],
   "source": []
  },
  {
   "cell_type": "code",
   "execution_count": null,
   "metadata": {},
   "outputs": [],
   "source": []
  },
  {
   "cell_type": "code",
   "execution_count": null,
   "metadata": {},
   "outputs": [],
   "source": []
  }
 ],
 "metadata": {
  "kernelspec": {
   "display_name": "Python 3 (ipykernel)",
   "language": "python",
   "name": "python3"
  },
  "language_info": {
   "codemirror_mode": {
    "name": "ipython",
    "version": 3
   },
   "file_extension": ".py",
   "mimetype": "text/x-python",
   "name": "python",
   "nbconvert_exporter": "python",
   "pygments_lexer": "ipython3",
   "version": "3.10.6"
  }
 },
 "nbformat": 4,
 "nbformat_minor": 4
}
